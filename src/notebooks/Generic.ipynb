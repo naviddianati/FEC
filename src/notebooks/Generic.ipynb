{
 "cells": [
  {
   "cell_type": "code",
   "execution_count": 1,
   "metadata": {
    "collapsed": false
   },
   "outputs": [],
   "source": [
    "import cPickle\n",
    "from disambiguation import config"
   ]
  },
  {
   "cell_type": "code",
   "execution_count": 13,
   "metadata": {
    "collapsed": false
   },
   "outputs": [],
   "source": [
    "\n",
    "tokendata_file = config.tokendata_file_template % ('newyork', 'Tokenizer')\n",
    "normalized_attributes_file = config.normalized_attributes_file_template % ('newyork')\n",
    "\n",
    "# Attempt to load tokendata from file\n",
    "f = open(tokendata_file)\n",
    "tokendata = cPickle.load(f)\n",
    "tokens = tokendataip\n",
    "f.close()\n",
    "f = open(normalized_attributes_file)\n",
    "dict_normalized_attributes = cPickle.load(f)\n",
    "f.close()\n",
    "counter_error = 0\n",
    "\n",
    "# for record in self.list_of_records:\n",
    "#     record.tokendata = tokendata\n",
    "#     try:\n",
    "#         normalized_attributes = dict_normalized_attributes[record.id]\n",
    "#         # attach the normalized attributes to each record\n",
    "#         for attr in self.normalized_attrs:\n",
    "#             record[attr] = normalized_attributes[attr]\n",
    "#     except Exception as e:\n",
    "#         print  \"blah blah ---- \", e\n",
    "#         counter_error += 1\n"
   ]
  },
  {
   "cell_type": "code",
   "execution_count": 14,
   "metadata": {
    "collapsed": true
   },
   "outputs": [],
   "source": [
    "x =  dict_normalized_attributes\n",
    "y = tokens"
   ]
  },
  {
   "cell_type": "code",
   "execution_count": 15,
   "metadata": {
    "collapsed": false
   },
   "outputs": [
    {
     "name": "stdout",
     "output_type": "stream",
     "text": [
      "1186759\n"
     ]
    },
    {
     "ename": "AttributeError",
     "evalue": "TokenData instance has no attribute '__len__'",
     "output_type": "error",
     "traceback": [
      "\u001b[1;31m---------------------------------------------------------------------------\u001b[0m",
      "\u001b[1;31mAttributeError\u001b[0m                            Traceback (most recent call last)",
      "\u001b[1;32m<ipython-input-15-2e011c35999d>\u001b[0m in \u001b[0;36m<module>\u001b[1;34m()\u001b[0m\n\u001b[0;32m      1\u001b[0m \u001b[1;32mprint\u001b[0m \u001b[0mlen\u001b[0m\u001b[1;33m(\u001b[0m\u001b[0mx\u001b[0m\u001b[1;33m)\u001b[0m\u001b[1;33m\u001b[0m\u001b[0m\n\u001b[1;32m----> 2\u001b[1;33m \u001b[1;32mprint\u001b[0m \u001b[0mlen\u001b[0m\u001b[1;33m(\u001b[0m\u001b[0my\u001b[0m\u001b[1;33m)\u001b[0m\u001b[1;33m\u001b[0m\u001b[0m\n\u001b[0m",
      "\u001b[1;31mAttributeError\u001b[0m: TokenData instance has no attribute '__len__'"
     ]
    }
   ],
   "source": [
    "print len(x)\n",
    "print len(y)"
   ]
  },
  {
   "cell_type": "code",
   "execution_count": 2,
   "metadata": {
    "collapsed": true
   },
   "outputs": [],
   "source": [
    "from disambiguation.core import Database\n"
   ]
  },
  {
   "cell_type": "code",
   "execution_count": 3,
   "metadata": {
    "collapsed": false
   },
   "outputs": [
    {
     "name": "stdout",
     "output_type": "stream",
     "text": [
      "Table 'identities_old' exists.\n",
      "Table 'identities_adjacency' exists.\n",
      "select id,identity from identities_old WHERE identity like '%MI%' ;\n"
     ]
    },
    {
     "ename": "KeyboardInterrupt",
     "evalue": "",
     "output_type": "error",
     "traceback": [
      "\u001b[1;31m---------------------------------------------------------------------------\u001b[0m",
      "\u001b[1;31mKeyboardInterrupt\u001b[0m                         Traceback (most recent call last)",
      "\u001b[1;32m<ipython-input-3-3be5dec0c42a>\u001b[0m in \u001b[0;36m<module>\u001b[1;34m()\u001b[0m\n\u001b[0;32m      3\u001b[0m \u001b[1;33m\u001b[0m\u001b[0m\n\u001b[0;32m      4\u001b[0m \u001b[0midm\u001b[0m \u001b[1;33m=\u001b[0m \u001b[0mDatabase\u001b[0m\u001b[1;33m.\u001b[0m\u001b[0mIdentityManager\u001b[0m\u001b[1;33m(\u001b[0m\u001b[1;34m'michigan'\u001b[0m\u001b[1;33m)\u001b[0m\u001b[1;33m\u001b[0m\u001b[0m\n\u001b[1;32m----> 5\u001b[1;33m \u001b[0midm\u001b[0m\u001b[1;33m.\u001b[0m\u001b[0mfetch_dict_id_2_identity\u001b[0m\u001b[1;33m(\u001b[0m\u001b[1;33m)\u001b[0m\u001b[1;33m\u001b[0m\u001b[0m\n\u001b[0m\u001b[0;32m      6\u001b[0m \u001b[0midm\u001b[0m\u001b[1;33m.\u001b[0m\u001b[0mfetch_dict_identity_2_id\u001b[0m\u001b[1;33m(\u001b[0m\u001b[1;33m)\u001b[0m\u001b[1;33m\u001b[0m\u001b[0m\n",
      "\u001b[1;32m/nfs/home/navid/src/FEC-1/src/disambiguation/core/Database.pyc\u001b[0m in \u001b[0;36mfetch_dict_id_2_identity\u001b[1;34m(self)\u001b[0m\n\u001b[0;32m    909\u001b[0m         \u001b[1;32mprint\u001b[0m \u001b[0mquery\u001b[0m\u001b[1;33m\u001b[0m\u001b[0m\n\u001b[0;32m    910\u001b[0m         \u001b[0mself\u001b[0m\u001b[1;33m.\u001b[0m\u001b[0mquery\u001b[0m \u001b[1;33m=\u001b[0m \u001b[0mquery\u001b[0m\u001b[1;33m\u001b[0m\u001b[0m\n\u001b[1;32m--> 911\u001b[1;33m         \u001b[0mquery_result\u001b[0m \u001b[1;33m=\u001b[0m \u001b[0mself\u001b[0m\u001b[1;33m.\u001b[0m\u001b[0mrunQuery\u001b[0m\u001b[1;33m(\u001b[0m\u001b[0mquery\u001b[0m\u001b[1;33m)\u001b[0m\u001b[1;33m\u001b[0m\u001b[0m\n\u001b[0m\u001b[0;32m    912\u001b[0m         \u001b[1;31m# Populate self.dict_id_2_identity\u001b[0m\u001b[1;33m\u001b[0m\u001b[1;33m\u001b[0m\u001b[0m\n\u001b[0;32m    913\u001b[0m         \u001b[0mself\u001b[0m\u001b[1;33m.\u001b[0m\u001b[0mdict_id_2_identity\u001b[0m \u001b[1;33m=\u001b[0m \u001b[1;33m{\u001b[0m\u001b[0mint\u001b[0m\u001b[1;33m(\u001b[0m\u001b[0mr_id\u001b[0m\u001b[1;33m)\u001b[0m\u001b[1;33m:\u001b[0m\u001b[0midentity\u001b[0m \u001b[1;32mfor\u001b[0m \u001b[0mr_id\u001b[0m\u001b[1;33m,\u001b[0m \u001b[0midentity\u001b[0m \u001b[1;32min\u001b[0m \u001b[0mquery_result\u001b[0m\u001b[1;33m}\u001b[0m\u001b[1;33m\u001b[0m\u001b[0m\n",
      "\u001b[1;32m/nfs/home/navid/src/FEC-1/src/disambiguation/core/Database.pyc\u001b[0m in \u001b[0;36mrunQuery\u001b[1;34m(self, query)\u001b[0m\n\u001b[0;32m     49\u001b[0m             \u001b[1;32mreturn\u001b[0m\u001b[1;33m\u001b[0m\u001b[0m\n\u001b[0;32m     50\u001b[0m         \u001b[0mcur\u001b[0m \u001b[1;33m=\u001b[0m \u001b[0mself\u001b[0m\u001b[1;33m.\u001b[0m\u001b[0mconnection\u001b[0m\u001b[1;33m.\u001b[0m\u001b[0mcursor\u001b[0m\u001b[1;33m(\u001b[0m\u001b[1;33m)\u001b[0m\u001b[1;33m\u001b[0m\u001b[0m\n\u001b[1;32m---> 51\u001b[1;33m         \u001b[0mcur\u001b[0m\u001b[1;33m.\u001b[0m\u001b[0mexecute\u001b[0m\u001b[1;33m(\u001b[0m\u001b[0mquery\u001b[0m\u001b[1;33m)\u001b[0m\u001b[1;33m\u001b[0m\u001b[0m\n\u001b[0m\u001b[0;32m     52\u001b[0m         \u001b[1;32mreturn\u001b[0m  \u001b[0mcur\u001b[0m\u001b[1;33m.\u001b[0m\u001b[0mfetchall\u001b[0m\u001b[1;33m(\u001b[0m\u001b[1;33m)\u001b[0m\u001b[1;33m\u001b[0m\u001b[0m\n\u001b[0;32m     53\u001b[0m \u001b[1;33m\u001b[0m\u001b[0m\n",
      "\u001b[1;32m/usr/lib/python2.7/dist-packages/MySQLdb/cursors.pyc\u001b[0m in \u001b[0;36mexecute\u001b[1;34m(self, query, args)\u001b[0m\n\u001b[0;32m    172\u001b[0m             \u001b[1;32mdel\u001b[0m \u001b[0mtb\u001b[0m\u001b[1;33m\u001b[0m\u001b[0m\n\u001b[0;32m    173\u001b[0m             \u001b[0mself\u001b[0m\u001b[1;33m.\u001b[0m\u001b[0mmessages\u001b[0m\u001b[1;33m.\u001b[0m\u001b[0mappend\u001b[0m\u001b[1;33m(\u001b[0m\u001b[1;33m(\u001b[0m\u001b[0mexc\u001b[0m\u001b[1;33m,\u001b[0m \u001b[0mvalue\u001b[0m\u001b[1;33m)\u001b[0m\u001b[1;33m)\u001b[0m\u001b[1;33m\u001b[0m\u001b[0m\n\u001b[1;32m--> 174\u001b[1;33m             \u001b[0mself\u001b[0m\u001b[1;33m.\u001b[0m\u001b[0merrorhandler\u001b[0m\u001b[1;33m(\u001b[0m\u001b[0mself\u001b[0m\u001b[1;33m,\u001b[0m \u001b[0mexc\u001b[0m\u001b[1;33m,\u001b[0m \u001b[0mvalue\u001b[0m\u001b[1;33m)\u001b[0m\u001b[1;33m\u001b[0m\u001b[0m\n\u001b[0m\u001b[0;32m    175\u001b[0m         \u001b[0mself\u001b[0m\u001b[1;33m.\u001b[0m\u001b[0m_executed\u001b[0m \u001b[1;33m=\u001b[0m \u001b[0mquery\u001b[0m\u001b[1;33m\u001b[0m\u001b[0m\n\u001b[0;32m    176\u001b[0m         \u001b[1;32mif\u001b[0m \u001b[1;32mnot\u001b[0m \u001b[0mself\u001b[0m\u001b[1;33m.\u001b[0m\u001b[0m_defer_warnings\u001b[0m\u001b[1;33m:\u001b[0m \u001b[0mself\u001b[0m\u001b[1;33m.\u001b[0m\u001b[0m_warning_check\u001b[0m\u001b[1;33m(\u001b[0m\u001b[1;33m)\u001b[0m\u001b[1;33m\u001b[0m\u001b[0m\n",
      "\u001b[1;32m/usr/lib/python2.7/dist-packages/MySQLdb/connections.pyc\u001b[0m in \u001b[0;36mdefaulterrorhandler\u001b[1;34m(***failed resolving arguments***)\u001b[0m\n\u001b[0;32m     34\u001b[0m     \u001b[1;32mdel\u001b[0m \u001b[0mcursor\u001b[0m\u001b[1;33m\u001b[0m\u001b[0m\n\u001b[0;32m     35\u001b[0m     \u001b[1;32mdel\u001b[0m \u001b[0mconnection\u001b[0m\u001b[1;33m\u001b[0m\u001b[0m\n\u001b[1;32m---> 36\u001b[1;33m     \u001b[1;32mraise\u001b[0m \u001b[0merrorclass\u001b[0m\u001b[1;33m,\u001b[0m \u001b[0merrorvalue\u001b[0m\u001b[1;33m\u001b[0m\u001b[0m\n\u001b[0m\u001b[0;32m     37\u001b[0m \u001b[1;33m\u001b[0m\u001b[0m\n\u001b[0;32m     38\u001b[0m \u001b[0mre_numeric_part\u001b[0m \u001b[1;33m=\u001b[0m \u001b[0mre\u001b[0m\u001b[1;33m.\u001b[0m\u001b[0mcompile\u001b[0m\u001b[1;33m(\u001b[0m\u001b[1;34mr\"^(\\d+)\"\u001b[0m\u001b[1;33m)\u001b[0m\u001b[1;33m\u001b[0m\u001b[0m\n",
      "\u001b[1;31mKeyboardInterrupt\u001b[0m: "
     ]
    }
   ],
   "source": [
    "Database.IdentityManager.table_name_identities = 'identities_old'\n",
    "Database.IdentityManager.table_name_identity_adjacency = 'identities_adjacency_old'\n",
    "\n",
    "idm = Database.IdentityManager('michigan')\n",
    "idm.fetch_dict_id_2_identity()\n",
    "idm.fetch_dict_identity_2_id()"
   ]
  },
  {
   "cell_type": "code",
   "execution_count": 13,
   "metadata": {
    "collapsed": false
   },
   "outputs": [
    {
     "name": "stdout",
     "output_type": "stream",
     "text": [
      "individual_contributions_v2\n",
      "newyork_combined_v2\n",
      "usa_combined_v2\n",
      "identities_v2\n",
      "identities_adjacency_v2\n"
     ]
    }
   ],
   "source": [
    "from disambiguation.core import states"
   ]
  },
  {
   "cell_type": "code",
   "execution_count": 12,
   "metadata": {
    "collapsed": false
   },
   "outputs": [
    {
     "name": "stdout",
     "output_type": "stream",
     "text": [
      "['newyork', 'texas', 'florida', 'illinois', 'virginia', 'pennsylvania', 'massachusetts', 'newjersey', 'ohio', 'maryland', 'districtofcolumbia', 'michigan', 'washington', 'georgia', 'northcarolina', 'colorado', 'connecticut', 'arizona', 'minnesota', 'missouri', 'tennessee', 'wisconsin', 'indiana', 'louisiana', 'oregon', 'kentucky', 'southcarolina', 'alabama', 'oklahoma', 'newmexico', 'kansas', 'iowa', 'nevada', 'arkansas', 'nebraska', 'newhampshire', 'mississippi', 'utah', 'hawaii', 'maine', 'westvirginia', 'montana', 'alaska', 'rhodeisland', 'southdakota', 'delaware', 'idaho', 'northdakota', 'vermont', 'wyoming', 'puertorico', 'virginislands', 'guam', 'northernmarianaislands', 'americansamoa', 'federatedstatesofmicronesia', 'palau', 'marshallislands']\n"
     ]
    }
   ],
   "source": [
    "list_states = states.get_state_order().items()\n",
    "list_states = [x for x,y in sorted(list_states, key = lambda x:x[1])]\n",
    "list_states.remove('california')\n",
    "print list_states"
   ]
  },
  {
   "cell_type": "code",
   "execution_count": 19,
   "metadata": {
    "collapsed": false
   },
   "outputs": [
    {
     "name": "stdout",
     "output_type": "stream",
     "text": [
      "RENAME TABLE washington_combined TO washington_combined_v2;\n",
      "RENAME TABLE wisconsin_combined TO wisconsin_combined_v2;\n",
      "RENAME TABLE westvirginia_combined TO westvirginia_combined_v2;\n",
      "RENAME TABLE florida_combined TO florida_combined_v2;\n",
      "RENAME TABLE federatedstatesofmicronesia_combined TO federatedstatesofmicronesia_combined_v2;\n",
      "RENAME TABLE wyoming_combined TO wyoming_combined_v2;\n",
      "RENAME TABLE newhampshire_combined TO newhampshire_combined_v2;\n",
      "RENAME TABLE newjersey_combined TO newjersey_combined_v2;\n",
      "RENAME TABLE newmexico_combined TO newmexico_combined_v2;\n",
      "RENAME TABLE northcarolina_combined TO northcarolina_combined_v2;\n",
      "RENAME TABLE northdakota_combined TO northdakota_combined_v2;\n",
      "RENAME TABLE nebraska_combined TO nebraska_combined_v2;\n",
      "RENAME TABLE newyork_combined TO newyork_combined_v2;\n",
      "RENAME TABLE rhodeisland_combined TO rhodeisland_combined_v2;\n",
      "RENAME TABLE nevada_combined TO nevada_combined_v2;\n",
      "RENAME TABLE guam_combined TO guam_combined_v2;\n",
      "RENAME TABLE colorado_combined TO colorado_combined_v2;\n",
      "RENAME TABLE california_combined TO california_combined_v2;\n",
      "RENAME TABLE georgia_combined TO georgia_combined_v2;\n",
      "RENAME TABLE connecticut_combined TO connecticut_combined_v2;\n",
      "RENAME TABLE oklahoma_combined TO oklahoma_combined_v2;\n",
      "RENAME TABLE ohio_combined TO ohio_combined_v2;\n",
      "RENAME TABLE kansas_combined TO kansas_combined_v2;\n",
      "RENAME TABLE southcarolina_combined TO southcarolina_combined_v2;\n",
      "RENAME TABLE kentucky_combined TO kentucky_combined_v2;\n",
      "RENAME TABLE oregon_combined TO oregon_combined_v2;\n",
      "RENAME TABLE southdakota_combined TO southdakota_combined_v2;\n",
      "RENAME TABLE delaware_combined TO delaware_combined_v2;\n",
      "RENAME TABLE districtofcolumbia_combined TO districtofcolumbia_combined_v2;\n",
      "RENAME TABLE hawaii_combined TO hawaii_combined_v2;\n",
      "RENAME TABLE puertorico_combined TO puertorico_combined_v2;\n",
      "RENAME TABLE palau_combined TO palau_combined_v2;\n",
      "RENAME TABLE texas_combined TO texas_combined_v2;\n",
      "RENAME TABLE louisiana_combined TO louisiana_combined_v2;\n",
      "RENAME TABLE tennessee_combined TO tennessee_combined_v2;\n",
      "RENAME TABLE pennsylvania_combined TO pennsylvania_combined_v2;\n",
      "RENAME TABLE virginia_combined TO virginia_combined_v2;\n",
      "RENAME TABLE virginislands_combined TO virginislands_combined_v2;\n",
      "RENAME TABLE alaska_combined TO alaska_combined_v2;\n",
      "RENAME TABLE alabama_combined TO alabama_combined_v2;\n",
      "RENAME TABLE americansamoa_combined TO americansamoa_combined_v2;\n",
      "RENAME TABLE arkansas_combined TO arkansas_combined_v2;\n",
      "RENAME TABLE vermont_combined TO vermont_combined_v2;\n",
      "RENAME TABLE illinois_combined TO illinois_combined_v2;\n",
      "RENAME TABLE indiana_combined TO indiana_combined_v2;\n",
      "RENAME TABLE iowa_combined TO iowa_combined_v2;\n",
      "RENAME TABLE arizona_combined TO arizona_combined_v2;\n",
      "RENAME TABLE idaho_combined TO idaho_combined_v2;\n",
      "RENAME TABLE maine_combined TO maine_combined_v2;\n",
      "RENAME TABLE maryland_combined TO maryland_combined_v2;\n",
      "RENAME TABLE massachusetts_combined TO massachusetts_combined_v2;\n",
      "RENAME TABLE utah_combined TO utah_combined_v2;\n",
      "RENAME TABLE missouri_combined TO missouri_combined_v2;\n",
      "RENAME TABLE minnesota_combined TO minnesota_combined_v2;\n",
      "RENAME TABLE michigan_combined TO michigan_combined_v2;\n",
      "RENAME TABLE marshallislands_combined TO marshallislands_combined_v2;\n",
      "RENAME TABLE montana_combined TO montana_combined_v2;\n",
      "RENAME TABLE northernmarianaislands_combined TO northernmarianaislands_combined_v2;\n",
      "RENAME TABLE mississippi_combined TO mississippi_combined_v2;\n"
     ]
    }
   ],
   "source": [
    "with open('rename_tables.sql', 'w') as f:\n",
    "    for state in states.dict_state.values():\n",
    "        code = 'RENAME TABLE %s_combined TO %s_combined_v2;' % (state, state)\n",
    "        print code\n",
    "        f.write(code+\"\\n\")\n",
    "    \n",
    "    "
   ]
  }
 ],
 "metadata": {
  "kernelspec": {
   "display_name": "Python 2",
   "language": "python",
   "name": "python2"
  },
  "language_info": {
   "codemirror_mode": {
    "name": "ipython",
    "version": 2
   },
   "file_extension": ".py",
   "mimetype": "text/x-python",
   "name": "python",
   "nbconvert_exporter": "python",
   "pygments_lexer": "ipython2",
   "version": "2.7.3"
  }
 },
 "nbformat": 4,
 "nbformat_minor": 0
}

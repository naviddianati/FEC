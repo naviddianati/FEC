{
 "cells": [
  {
   "cell_type": "markdown",
   "metadata": {},
   "source": [
    "## Generate affiliation data from stage 1 identities"
   ]
  },
  {
   "cell_type": "markdown",
   "metadata": {},
   "source": [
    "## Used for development. Final code is intergrated with stage1.py and Affiliations.py "
   ]
  },
  {
   "cell_type": "raw",
   "metadata": {},
   "source": [
    "Here, we will use the stage1 identities to generate updated affiliation graphs. The key is to sublass AffiliationAnalyzerUndirected such that the record data is retrieved from the database of disambiguated records rather than the files generated in stage1.py using high-certainty matches."
   ]
  },
  {
   "cell_type": "code",
   "execution_count": 15,
   "metadata": {
    "collapsed": false
   },
   "outputs": [],
   "source": [
    "from disambiguation.core import Affiliations\n",
    "from disambiguation.core import Database\n",
    "import igraph as ig"
   ]
  },
  {
   "cell_type": "code",
   "execution_count": 17,
   "metadata": {
    "collapsed": false
   },
   "outputs": [],
   "source": [
    "class AffiliationAnalyzerUndirectedPostStage1(Affiliations.AffiliationAnalyzerUndirected):\n",
    "    '''\n",
    "    Subclass of AffiliationAnalyzerUndirected. Generates a similar affiliation graph,\n",
    "    but instead of the high-certainty matches found pre-stage1, it uses the stage1\n",
    "    identities to link affiliation identifiers. For this, we need to override the\n",
    "    L{load_data()} method so it loads the records using an FECretriever.\n",
    "    Must set L{self.G}, L{self.dict_record_nodes}.\n",
    "    '''\n",
    "    def get_records(self):\n",
    "        '''\n",
    "        Retrieve all records for given state.\n",
    "        '''\n",
    "        state = self.state\n",
    "        table_name = state + \"_combined\"\n",
    "        retriever = Database.FecRetriever(table_name = table_name)\n",
    "        retriever.retrieve()\n",
    "        self.list_of_records = retriever.getRecords()\n",
    "        \n",
    "    def load_data(self):\n",
    "        '''\n",
    "        For L{self.extract} to work, we need at the minimum two \n",
    "        pieces of data: L{self.dict_record_nodes} as a container for\n",
    "        all the relevant record data, and L{self.contributors_subgraphs}\n",
    "        which is a list of graphs each one a set of vertices representing\n",
    "        the records belonging to a stage1 identity.\n",
    "        '''\n",
    "        self.load_settings('')\n",
    "        self.get_records()\n",
    "        self.load_record_nodes()   \n",
    "        self.load_identities()\n",
    "#         self.record_edge_list = json.load(file_adjacency)\n",
    "#         self.dict_record_nodes = json.load(file_nodes)\n",
    "#         self.G = igraph.Graph.TupleList(edges=self.record_edge_list)\n",
    "\n",
    "    \n",
    "    def load_identities(self):\n",
    "        '''\n",
    "        Load L{self.contributors_subgraphs} from the calculated\n",
    "        stage1 identities. Then create L{self.contributors_subgraphs}\n",
    "        '''\n",
    "        try:\n",
    "            idm = self.idm\n",
    "        except:\n",
    "            raise Exception('You must set self.idm to an IdentityManager instance')\n",
    "        \n",
    "        self.contributors_subgraphs = []\n",
    "        # Iterate through all identities, for each one\n",
    "        # create a Graph with each vertex named after\n",
    "        # str(r_id).\n",
    "        for identity, list_ids in idm.dict_identity_2_list_ids.iteritems():\n",
    "            g = ig.Graph()\n",
    "            g.add_vertices([str(x) for x in list_ids])\n",
    "            self.contributors_subgraphs.append(g)\n",
    "            \n",
    "        \n",
    "    \n",
    "    def load_record_nodes(self):\n",
    "        '''\n",
    "        Populate L{self.dict_record_nodes} with important fields\n",
    "        from all retrieved records.\n",
    "        '''        \n",
    "        self.dict_record_nodes = {}\n",
    "        dict_index = self.settings['field_2_index']\n",
    "        for record in self.list_of_records:\n",
    "            record_data = {}\n",
    "            amount_index = dict_index['TRANSACTION_AMT']\n",
    "            record_data[amount_index] = record['TRANSACTION_AMT']\n",
    "\n",
    "            committee_index = dict_index['CMTE_ID']\n",
    "            record_data[committee_index] = record['CMTE_ID']\n",
    "            \n",
    "            employer_index = dict_index['EMPLOYER']\n",
    "            record_data[employer_index] = record['EMPLOYER']\n",
    "\n",
    "            occupation_index = dict_index['OCCUPATION']\n",
    "            record_data[occupation_index] = record['OCCUPATION']\n",
    "            \n",
    "            date_index = dict_index['TRANSACTION_DT']\n",
    "            record_data[date_index] = record['TRANSACTION_DT']\n",
    "\n",
    "            self.dict_record_nodes[str(record.id)] = {'data': record_data}\n",
    "\n",
    "            \n",
    "            \n",
    "    def set_idm(self,idm):\n",
    "        '''\n",
    "        Assign an IdentityManager to this instance.\n",
    "        '''\n",
    "        self.idm = idm\n",
    "        \n",
    "       \n",
    "   \n",
    "    \n",
    "    def load_settings(self, file_label):\n",
    "        '''\n",
    "        Define the L{self.settings} instance that defines the\n",
    "        schema of the nodes dictionary. This is completely arbitrary:\n",
    "        the same settings will be used to generate dict_records_nodes,\n",
    "        and to interpret it.\n",
    "        @param file_label: dummy. \n",
    "        '''\n",
    "        self.settings = {'field_2_index' : {'TRANSACTION_DT' : 0,\n",
    "                                            'TRANSACTION_AMT' : 1,\n",
    "                                            'CMTE_ID' : 2,\n",
    "                                            'EMPLOYER': 3,\n",
    "                                            'OCCUPATION': 4}\n",
    "                        }\n",
    "        \n",
    "state = 'massachusetts'\n",
    "affiliation = 'occupation'"
   ]
  },
  {
   "cell_type": "code",
   "execution_count": 20,
   "metadata": {
    "collapsed": false
   },
   "outputs": [
    {
     "name": "stdout",
     "output_type": "stream",
     "text": [
      "select id,CMTE_ID,CAND_ID,CMTE_PTY_AFFILIATION from committee_master WHERE CMTE_TP in ('H','S','P') and CMTE_DSGN='P'  limit 0,100000000 ;\n",
      "select NAME,CONTRIBUTOR_ZIP,ZIP_CODE,CONTRIBUTOR_STREET_1,CITY,STATE,EMPLOYER,OCCUPATION,TRANSACTION_DT,TRANSACTION_AMT,CMTE_ID,ENTITY_TP,id from massachusetts_combined;\n",
      "Number of node names not found in self.dict_record_nodes:  0\n",
      "number of links to save  64934\n",
      "16797 636431\n",
      "Saved affiliation graphs to file...\n"
     ]
    }
   ],
   "source": [
    "\n",
    "# affiliation = 'occupation'\n",
    "\n",
    "# counter = 0\n",
    "# for identity, list_ids in idm.dict_identity_2_list_ids.iteritems():\n",
    "#     counter += 1\n",
    "#     print identity, list_ids\n",
    "#     if counter == 10 : break\n",
    "\n",
    "a = AffiliationAnalyzerUndirectedPostStage1(state = state, affiliation = affiliation)\n",
    "a.set_idm(idm)\n",
    "\n",
    "a.load_data()\n",
    "\n",
    "a.extract()\n",
    "a.compute_affiliation_links()\n",
    "a.save_data(label = state)"
   ]
  },
  {
   "cell_type": "code",
   "execution_count": 45,
   "metadata": {
    "collapsed": false
   },
   "outputs": [
    {
     "name": "stdout",
     "output_type": "stream",
     "text": [
      "3723092\n",
      "388220\n"
     ]
    }
   ],
   "source": [
    "print len(idm.dict_identity_2_list_ids)\n",
    "print len(a.list_of_records)"
   ]
  },
  {
   "cell_type": "code",
   "execution_count": 7,
   "metadata": {
    "collapsed": false
   },
   "outputs": [
    {
     "data": {
      "text/plain": [
       "14004101"
      ]
     },
     "execution_count": 7,
     "metadata": {},
     "output_type": "execute_result"
    }
   ],
   "source": [
    "sum([g.vcount() for g in a.contributors_subgraphs])"
   ]
  },
  {
   "cell_type": "markdown",
   "metadata": {},
   "source": [
    "# Load IdentityManager "
   ]
  },
  {
   "cell_type": "code",
   "execution_count": 18,
   "metadata": {
    "collapsed": false
   },
   "outputs": [
    {
     "name": "stdout",
     "output_type": "stream",
     "text": [
      "Table 'identities' exists.\n",
      "Table 'identities_adjacency' exists.\n",
      "select id,identity from identities WHERE identity like '%MA%' ;\n",
      " fetched\n"
     ]
    }
   ],
   "source": [
    "idm = Database.IdentityManager(state)\n",
    "idm.fetch_dict_identity_2_id()  \n",
    "print \" fetched\"\n"
   ]
  },
  {
   "cell_type": "code",
   "execution_count": null,
   "metadata": {
    "collapsed": true
   },
   "outputs": [],
   "source": []
  }
 ],
 "metadata": {
  "kernelspec": {
   "display_name": "Python 2",
   "language": "python",
   "name": "python2"
  },
  "language_info": {
   "codemirror_mode": {
    "name": "ipython",
    "version": 2
   },
   "file_extension": ".py",
   "mimetype": "text/x-python",
   "name": "python",
   "nbconvert_exporter": "python",
   "pygments_lexer": "ipython2",
   "version": "2.7.3"
  }
 },
 "nbformat": 4,
 "nbformat_minor": 0
}

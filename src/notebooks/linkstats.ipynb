{
 "metadata": {
  "name": ""
 },
 "nbformat": 3,
 "nbformat_minor": 0,
 "worksheets": [
  {
   "cells": [
    {
     "cell_type": "code",
     "collapsed": false,
     "input": [
      "import pandas as pd\n",
      "import matplotlib.pyplot as plt\n"
     ],
     "language": "python",
     "metadata": {},
     "outputs": [],
     "prompt_number": 1
    },
    {
     "cell_type": "code",
     "collapsed": false,
     "input": [
      "data_full = pd.read_csv('stats.txt',na_values = ['None'],sep=' ')    \n"
     ],
     "language": "python",
     "metadata": {},
     "outputs": [],
     "prompt_number": 32
    },
    {
     "cell_type": "code",
     "collapsed": false,
     "input": [
      "# specify the subset of the full data to analyze\n",
      "data = data_full[(data_full['o'] >=2) & (data_full['e'] >= 2)]\n",
      "data = data_full\n",
      "\n",
      "# convert p value back from log\n",
      "# data['p-value'] = exp(data['p-value'])\n",
      "\n",
      "field = \"p-value-firstname\"\n",
      "# field = \"p-value-lastname\"\n",
      "\n",
      "\n",
      "pvalues = data[data[field] < 0 ][field].values\n",
      "freq, bins, patches = plt.hist(pvalues, bins = 20)\n",
      "\n",
      "percentages = []\n",
      "# compute the percentage of accepted matches in each bin\n",
      "for i,x in enumerate(bins[:-1]):\n",
      "    df = data[(data[field] > bins[i]) & (data[field] <= bins[i+1])]\n",
      "    print i \n",
      "   \n",
      "    \n",
      "    if len(df)!=0:\n",
      "        # percentage of records with related affiliations\n",
      "#         percent = float(len(df[(df['o'] >=2) & (df['e'] >=2)])) /  len(df) \n",
      "        \n",
      "        # percentage of accepted matches\n",
      "        percent = float(len(df[df['verdict'] == 1])) /  len(df)\n",
      "    else: \n",
      "        percent = 0\n",
      "    \n",
      "\n",
      "    percentages.append(percent)\n",
      "    \n",
      "    \n",
      "    \n",
      "plt.figure()\n",
      "# plt.bar(bins[:-1], percentages,width = 0.000001)\n",
      "plt.plot(bins[:-1], percentages,'o')\n"
     ],
     "language": "python",
     "metadata": {},
     "outputs": [
      {
       "output_type": "stream",
       "stream": "stdout",
       "text": [
        "0\n",
        "1\n",
        "2\n",
        "3"
       ]
      },
      {
       "output_type": "stream",
       "stream": "stdout",
       "text": [
        "\n",
        "4\n",
        "5\n",
        "6"
       ]
      },
      {
       "output_type": "stream",
       "stream": "stdout",
       "text": [
        "\n",
        "7\n",
        "8\n",
        "9"
       ]
      },
      {
       "output_type": "stream",
       "stream": "stdout",
       "text": [
        "\n",
        "10\n",
        "11\n",
        "12"
       ]
      },
      {
       "output_type": "stream",
       "stream": "stdout",
       "text": [
        "\n",
        "13\n",
        "14"
       ]
      },
      {
       "output_type": "stream",
       "stream": "stdout",
       "text": [
        "\n",
        "15\n",
        "16"
       ]
      },
      {
       "output_type": "stream",
       "stream": "stdout",
       "text": [
        "\n",
        "17\n",
        "18"
       ]
      },
      {
       "output_type": "stream",
       "stream": "stdout",
       "text": [
        "\n",
        "19\n"
       ]
      },
      {
       "metadata": {},
       "output_type": "pyout",
       "prompt_number": 36,
       "text": [
        "[<matplotlib.lines.Line2D at 0x7f48bec47e90>]"
       ]
      },
      {
       "metadata": {},
       "output_type": "display_data",
       "png": "[encoded data removed]",
       "text": [
        "<matplotlib.figure.Figure at 0x7f48bec1e750>"
       ]
      },
      {
       "metadata": {},
       "output_type": "display_data",
       "png": "[encoded data removed]",
       "text": [
        "<matplotlib.figure.Figure at 0x7f48bec1ee90>"
       ]
      }
     ],
     "prompt_number": 36
    },
    {
     "cell_type": "heading",
     "level": 1,
     "metadata": {},
     "source": [
      "Comparing different disambiguations"
     ]
    },
    {
     "cell_type": "code",
     "collapsed": false,
     "input": [
      "from igraph.clustering import *\n",
      "import pickle\n",
      "import numpy as np"
     ],
     "language": "python",
     "metadata": {},
     "outputs": [],
     "prompt_number": 1
    },
    {
     "cell_type": "code",
     "collapsed": false,
     "input": [
      "list_results = []\n",
      "\n",
      "# Process the outputs\n",
      "\n",
      "id = 0\n",
      "while 1:\n",
      "    \n",
      "    #(conn_parent, conn_child) = dict_conns[id] \n",
      "    #result = conn_parent.recv()\n",
      "    try:\n",
      "        f = open(\"tmp-compare-\"+str(id))\n",
      "        id += 1\n",
      "    except IOError:\n",
      "        break\n",
      "        \n",
      "    result =  pickle.load(f)\n",
      "    list_results += result\n",
      "    print \"Data from process %s loaded\"% id\n",
      "    f.close()\n",
      "\n",
      "\n",
      "# a list of lists where each list is a membership list\n",
      "list_of_membership_vectors = []\n",
      "\n",
      "\n",
      "# We assume that all runs have the same set of record ids.\n",
      "list_of_ids = sorted(list_results[0][1].keys())\n",
      "\n",
      "\n",
      "for id,dict_identities in  list_results:\n",
      "    membership_vector = [ dict_identities[record_id] for record_id in list_of_ids]\n",
      "    list_of_membership_vectors.append(membership_vector)\n",
      "    \n",
      "\n",
      "list1 = list_of_membership_vectors[1]\n",
      "list2 = list_of_membership_vectors[2]\n",
      "\n",
      "num_records = len(list1)\n",
      "\n",
      "N = len(list_results)\n",
      "distances = np.zeros((N,N))\n",
      "\n",
      "for i,list1 in enumerate(list_of_membership_vectors):\n",
      "    for j,list2 in enumerate(list_of_membership_vectors):\n",
      "        distances[i,j] = compare_communities(list1,list2,method='split-join')/float(num_records)\n",
      "        \n",
      "imshow(distances,interpolation='none')\n",
      "colorbar()\n",
      "\n",
      "print mean(distances)\n",
      "        \n",
      "# print [list1[i]-list3[i] for i in xrange(len(list1))]\n",
      "\n",
      "\n",
      "    \n"
     ],
     "language": "python",
     "metadata": {},
     "outputs": [
      {
       "output_type": "stream",
       "stream": "stdout",
       "text": [
        "Data from process 1 loaded\n",
        "Data from process 2 loaded"
       ]
      },
      {
       "output_type": "stream",
       "stream": "stdout",
       "text": [
        "\n",
        "Data from process 3 loaded"
       ]
      },
      {
       "output_type": "stream",
       "stream": "stdout",
       "text": [
        "\n",
        "0.0313625"
       ]
      },
      {
       "output_type": "stream",
       "stream": "stdout",
       "text": [
        "\n"
       ]
      },
      {
       "metadata": {},
       "output_type": "display_data",
       "png": "[encoded data removed]",
       "text": [
        "<matplotlib.figure.Figure at 0x7f8af42cf890>"
       ]
      }
     ],
     "prompt_number": 23
    },
    {
     "cell_type": "code",
     "collapsed": false,
     "input": [
      "np.sum(np.triu(distances))/(N*(N-1)/2)"
     ],
     "language": "python",
     "metadata": {},
     "outputs": [
      {
       "metadata": {},
       "output_type": "pyout",
       "prompt_number": 29,
       "text": [
        "0.035842857142857142"
       ]
      }
     ],
     "prompt_number": 29
    },
    {
     "cell_type": "heading",
     "level": 2,
     "metadata": {},
     "source": [
      "Test of different partition distances"
     ]
    },
    {
     "cell_type": "code",
     "collapsed": false,
     "input": [
      "a = [1,1,2,2,3,3,3]\n",
      "b = [1,1,1,2,3,3,2]\n",
      "b = [2,2,1,1,3,3,3]\n",
      "print split_join_distance(a,b)\n",
      "print compare_communities(a,b,method='split-join')"
     ],
     "language": "python",
     "metadata": {},
     "outputs": [
      {
       "output_type": "stream",
       "stream": "stdout",
       "text": [
        "(0, 0)\n",
        "0.0\n"
       ]
      }
     ],
     "prompt_number": 24
    },
    {
     "cell_type": "code",
     "collapsed": false,
     "input": [],
     "language": "python",
     "metadata": {},
     "outputs": []
    }
   ],
   "metadata": {}
  }
 ]
}
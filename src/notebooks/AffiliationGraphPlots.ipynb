{
 "cells": [
  {
   "cell_type": "code",
   "execution_count": 10,
   "metadata": {
    "collapsed": false
   },
   "outputs": [],
   "source": [
    "\n",
    "import pandas as pd\n",
    "import igraph as ig\n",
    "from scipy.stats import binom\n",
    "from statsmodels.stats.proportion import binom_test\n",
    "from networks.visualization import *\n",
    "from networks.pruning import *\n",
    "from networks.complexity import *\n",
    "from networks.examples import *\n",
    "from math import log\n",
    "import matplotlib.pyplot as plt\n",
    "import matplotlib as  mpl\n",
    "import numpy as np\n",
    "from random import randint\n",
    "\n",
    "from cPickle import dumps, loads\n",
    "from disambiguation import config\n",
    "from disambiguation.core import utils\n"
   ]
  },
  {
   "cell_type": "code",
   "execution_count": null,
   "metadata": {
    "collapsed": false
   },
   "outputs": [],
   "source": []
  },
  {
   "cell_type": "code",
   "execution_count": 23,
   "metadata": {
    "collapsed": false
   },
   "outputs": [
    {
     "name": "stdout",
     "output_type": "stream",
     "text": [
      "/nfs/home/navid/data/FEC-v3/affiliations/employer/newyork-employer_graph.gml\n"
     ]
    }
   ],
   "source": [
    "\n",
    "G_employer = utils.loadAffiliationNetwork(param_state , 'employer', percent=100)"
   ]
  },
  {
   "cell_type": "code",
   "execution_count": 55,
   "metadata": {
    "collapsed": false
   },
   "outputs": [],
   "source": [
    "param_state = 'newyork'\n",
    "\n",
    "percent_edges = 25\n",
    "settings4 = Settings(\n",
    "    data_path=os.path.expanduser('./'),\n",
    "    output_dim=(3200, 3200),\n",
    "    num_components=(0, 4),\n",
    "    verbose=False,\n",
    "    v_max=150, v_min=20,\n",
    "    e_max=20, e_min=5,\n",
    "    l_max=90, l_min=25,\n",
    "    e_percent= percent_edges,\n",
    "    l_percent=15,\n",
    "    e_field_plot='weight',\n",
    "    e_field_filter='significance',\n",
    "    e_color_mode='node', \n",
    "    filter_components=True,\n",
    "    background = \"white\", \n",
    "    v_palette = \"gist_yarg\",\n",
    "    v_palette_window = (0.8,1),\n",
    "#     layout_formatter = layout_formatter, \n",
    "    output_label=\"employers-%s-%dpct\" % (param_state, percent_edges) \n",
    "    )"
   ]
  },
  {
   "cell_type": "code",
   "execution_count": 56,
   "metadata": {
    "collapsed": false
   },
   "outputs": [
    {
     "name": "stdout",
     "output_type": "stream",
     "text": [
      "Number of vertices:  69680\n",
      "Number of edges:  67397\n",
      "['name', 'label', 'membership_vector', 'party', 'id', 'size']\n",
      "63.5295206971 1.0\n",
      "edgeWidth threshold:  23.8991106115\n",
      "size of edge death row: 43263\n",
      "Percentage of vertices reamaning after edge filtering: 53\n",
      "Percentage of edges reamaning after edge filtering: 35\n",
      "Threshold: 24\n",
      "component identified  227\n",
      "component identified  216\n",
      "component identified  112\n",
      "component identified  90\n",
      "number of components:  14326\n",
      "selecting edge color from node color\n",
      "== Graph summary =======================================\n",
      "           measure value\n",
      "0  Number of nodes   645\n",
      "1  Number of edges   769\n",
      "2   Total strength  1538\n",
      "========================================================\n",
      "Computing layout...\n",
      "Layout computed...\n",
      "number of edges in graph: 769\n",
      "number of vertices in graph: 645\n"
     ]
    },
    {
     "data": {
      "text/plain": [
       "<igraph.Graph at 0xb0c6810>"
      ]
     },
     "execution_count": 56,
     "metadata": {},
     "output_type": "execute_result"
    }
   ],
   "source": [
    "plot_network(G_employer,settings4)"
   ]
  },
  {
   "cell_type": "code",
   "execution_count": null,
   "metadata": {
    "collapsed": true
   },
   "outputs": [],
   "source": []
  }
 ],
 "metadata": {
  "kernelspec": {
   "display_name": "Python 2",
   "language": "python",
   "name": "python2"
  },
  "language_info": {
   "codemirror_mode": {
    "name": "ipython",
    "version": 2
   },
   "file_extension": ".py",
   "mimetype": "text/x-python",
   "name": "python",
   "nbconvert_exporter": "python",
   "pygments_lexer": "ipython2",
   "version": "2.7.3"
  }
 },
 "nbformat": 4,
 "nbformat_minor": 0
}

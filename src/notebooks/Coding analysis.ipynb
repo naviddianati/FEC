{
 "cells": [
  {
   "cell_type": "code",
   "execution_count": 16,
   "metadata": {
    "collapsed": false
   },
   "outputs": [],
   "source": [
    "import json\n",
    "import matplotlib.pyplot as plt\n",
    "from glob import glob\n",
    "import re\n",
    "from IPython.display import display_pretty, display_html\n",
    "from IPython.display import HTML\n",
    "import pandas as pd\n",
    "import numpy as np\n",
    "from pprint import pprint\n",
    "\n"
   ]
  },
  {
   "cell_type": "code",
   "execution_count": 4,
   "metadata": {
    "collapsed": false
   },
   "outputs": [
    {
     "data": {
      "application/javascript": [
       "IPython.OutputArea.auto_scroll_threshold = 9999;"
      ],
      "text/plain": [
       "<IPython.core.display.Javascript object>"
      ]
     },
     "metadata": {},
     "output_type": "display_data"
    }
   ],
   "source": [
    "%%javascript\n",
    "IPython.OutputArea.auto_scroll_threshold = 9999;"
   ]
  },
  {
   "cell_type": "code",
   "execution_count": 75,
   "metadata": {
    "collapsed": false
   },
   "outputs": [],
   "source": [
    "experiment = 'experiment4'\n",
    "coders = ['carolina','michael','devin']\n",
    "data = {coder:{} for coder in coders}\n",
    "for coder in coders:\n",
    "    files = '../validation/results/{}/{}*.json'.format(experiment, coder)\n",
    "    list_files = glob(files)\n",
    "#     print list_files\n",
    "    for filename in list_files:\n",
    "#         print filename\n",
    "        file_id = re.findall(r'-([0-9]+)\\.',filename)[0]\n",
    "        f = open(filename)\n",
    "        tmp = json.load(f) \n",
    "        data[coder][file_id] = tmp\n",
    "\n"
   ]
  },
  {
   "cell_type": "code",
   "execution_count": 9,
   "metadata": {
    "collapsed": false
   },
   "outputs": [
    {
     "data": {
      "text/plain": [
       "{u'comment': u'',\n",
       " u'data': {u'final': {u' 10230295 ': [u' SC-19340 ', 1],\n",
       "   u' 10314752 ': [u' SC-19340 ', 1],\n",
       "   u' 12616865 ': [u' SC-19340 ', 1],\n",
       "   u' 13674235 ': [u' SC-19340 ', 1],\n",
       "   u' 377534 ': [u' SC-19340 ', 1]},\n",
       "  u'initial': {u' 10230295 ': [u' SC-19340 ', 1],\n",
       "   u' 10314752 ': [u' SC-19340 ', 1],\n",
       "   u' 12616865 ': [u' SC-19340 ', 1],\n",
       "   u' 13674235 ': [u' SC-19340 ', 1],\n",
       "   u' 377534 ': [u' SC-19340 ', 1]}}}"
      ]
     },
     "execution_count": 9,
     "metadata": {},
     "output_type": "execute_result"
    }
   ],
   "source": [
    "data['carolina']['1']"
   ]
  },
  {
   "cell_type": "code",
   "execution_count": 64,
   "metadata": {
    "collapsed": false
   },
   "outputs": [],
   "source": [
    "def get_page(pageno):\n",
    "    '''\n",
    "    Return the html code of the page.\n",
    "    '''\n",
    "    s1 = open('../validation/data/experiment4/%s.html' % str(pageno)).read()\n",
    "    return s1\n",
    "\n",
    "def show_page(pageno):\n",
    "    \"\"\"\n",
    "    Display a given page for the data.\n",
    "    \"\"\"\n",
    "    s1 = open('../validation/data/experiment4/%s.html' % str(pageno)).read()\n",
    "    s2 ='<html>\\\n",
    "        <head>\\\n",
    "        <link rel=\"stylesheet\" type=\"text/css\" href=\"style.css\">\\\n",
    "        </head>\\\n",
    "        <body>\\\n",
    "        {0}\\\n",
    "        </body>\\\n",
    "        </html>'.format(s1)\n",
    "\n",
    "    h = HTML(s2)\n",
    "    return h\n",
    "\n",
    "def get_stats(state_initial, state_final):\n",
    "    \"\"\"\n",
    "    Receives to dicts like this:\n",
    "    {u' 10230295 ': [u' SC-19340 ', 1],\n",
    "    u' 10314752 ': [u' SC-19340 ', 1],\n",
    "    u' 12616865 ': [u' SC-19340 ', 1],\n",
    "    u' 13674235 ': [u' SC-19340 ', 1],\n",
    "    u' 377534 ': [u' SC-19340 ', 1]}\n",
    "    and computes the stats\n",
    "    \"\"\"\n",
    "#     print [(int(r_id), x[1], state_final[r_id][1]) for r_id,x in state_initial.iteritems()]\n",
    "    results = np.array([(x[1], state_final[r_id][1]) for r_id,x in state_initial.iteritems()])\n",
    "#     print results\n",
    "#     return\n",
    "    num_true_negative = sum((results[:,0] == 4 ) * (results[:,1] == 4))\n",
    "    num_true_positive = sum((results[:,0] == 1 ) * (results[:,1] == 1))\n",
    "\n",
    "    num_false_negative = sum((results[:,0] == 4 ) * (results[:,1] != 4))\n",
    "    num_false_positive = sum((results[:,0] < 3  ) * (results[:,1] == 4))\n",
    "\n",
    "    return num_true_negative ,num_true_positive ,num_false_negative, num_false_positive"
   ]
  },
  {
   "cell_type": "markdown",
   "metadata": {},
   "source": [
    "# Extract ids "
   ]
  },
  {
   "cell_type": "code",
   "execution_count": 73,
   "metadata": {
    "collapsed": false
   },
   "outputs": [],
   "source": [
    "dict_first_ids = {}\n",
    "for pageid in range(1,88):\n",
    "    s = get_page(pageid)\n",
    "    first_id = re.findall(r\"class='id'> ([0-9]+) <\",s)[0]\n",
    "    dict_first_ids[pageid] = first_id\n",
    "\n",
    "with open('dict_first_ids.json','w') as f:\n",
    "    json.dump(dict_first_ids, f)"
   ]
  },
  {
   "cell_type": "markdown",
   "metadata": {},
   "source": [
    "# Display the data from a given page as seen by coders. (Not interactive)"
   ]
  },
  {
   "cell_type": "code",
   "execution_count": 74,
   "metadata": {
    "collapsed": false
   },
   "outputs": [],
   "source": [
    "show_page(79)"
   ]
  },
  {
   "cell_type": "markdown",
   "metadata": {},
   "source": [
    "# Display the statistics for all 100 pages, for all 3 coders"
   ]
  },
  {
   "cell_type": "code",
   "execution_count": 13,
   "metadata": {
    "collapsed": false
   },
   "outputs": [
    {
     "name": "stdout",
     "output_type": "stream",
     "text": [
      "0.0493932584 0.0763717208322\n"
     ]
    }
   ],
   "source": [
    "\n",
    "list_columns = ['True negative','True positive','False negative','False positive', 'Type1 error','Type2 error']\n",
    "list_type1 = []\n",
    "list_type2 = []\n",
    "dict_type1 = {}\n",
    "dict_type2 = {}\n",
    "dict_comments = {}\n",
    "for pageno in range(1,89):\n",
    "    fileid = str(pageno)\n",
    "    list_stats = []\n",
    "\n",
    "#     for coder in coders:\n",
    "    for coder in ['carolina']:\n",
    "        dict_comments[coder] = {fileid:page_data['comment'] for  fileid,page_data in data[coder].iteritems()}\n",
    "#         dict_records = data[coder][fileid]['data']\n",
    "        state_initial = data[coder][fileid]['data']['initial']\n",
    "        state_final = data[coder][fileid]['data']['final']\n",
    "#         results = np.array([dict_records[record_id][1:] for record_id in sorted(dict_records.keys())])\n",
    "        # Size of the focal cluster\n",
    "#         size_focal = np.sum(results[:,0] == 1)\n",
    "        stats = get_stats(state_initial, state_final)\n",
    "        \n",
    "        \n",
    "        type1= 1.0 * stats[3] / (stats[1] + stats[3])\n",
    "        type2= 1.0 * stats[2] / (stats[1] + stats[2])\n",
    "        list_stats.append(get_stats(state_initial, state_final)+(type1, type2))\n",
    "#     continue\n",
    "    \n",
    "    summary =  pd.DataFrame(list_stats,columns=list_columns)\n",
    "    list_type1.append(summary['Type1 error'].mean())\n",
    "    list_type2.append(summary['Type2 error'].mean())\n",
    "    \n",
    "    dict_type1[fileid] = summary['Type1 error'].mean()\n",
    "    dict_type2[fileid] = summary['Type2 error'].mean()\n",
    "    \n",
    "#     print summary.to_string(header=True, index=False)\n",
    "#     print \"page %d\\n\" % pageno, \"=\"*90\n",
    "#     print \"\\n\\n\"\n",
    "\n",
    "type1 = np.array(list_type1)\n",
    "type2 = np.array(list_type2)\n",
    "\n",
    "print np.mean(list_type1), np.mean(list_type2)"
   ]
  },
  {
   "cell_type": "code",
   "execution_count": 39,
   "metadata": {
    "collapsed": false
   },
   "outputs": [
    {
     "data": {
      "text/html": [
       "<html><head><style>.comment{margin-left:2em;margin-bottom:3em;width:50em}</style></head><body><div class='fileid'>1</div><div class='comment'></div><div class='fileid'>10</div><div class='comment'>Our dude is a big deal in the business of owning movie theaters. \n",
       "http://www.bloomberg.com/research/stocks/private/person.asp?personId=27248280&privcapId=38884203\n",
       "\n",
       "I bet he has a house in Nevada just for fun.... </div><div class='fileid'>11</div><div class='comment'>This is our person:\n",
       "http://www.magerandassociates.com/mimi-mager/\n",
       "\n",
       "\n",
       "Hiedepriem & Mager was a predecessor company to the one she founded in 2009.\n",
       "http://www.bloomberg.com/profiles/companies/0369678D:US-heidepriem-&-mager-inc</div><div class='fileid'>12</div><div class='comment'></div><div class='fileid'>13</div><div class='comment'>Impossible to tell. Not enough info. \n",
       "\n",
       "Here's your Texas Attorney:\n",
       "http://www.irby-spencer.com/pages/3/index.htm\n",
       "But she's been in Garland, TX forever.\n",
       "</div><div class='fileid'>14</div><div class='comment'></div><div class='fileid'>15</div><div class='comment'>Roger H Cook\n",
       "\n",
       "Retired in New Canaan, CT \n",
       "2004-2008\n",
       "\n",
       "????\n",
       "2008-2012\n",
       "\n",
       "Retired in Marana, AZ\n",
       "2012-now\n",
       "\n",
       "White pages is convinced he moved from CT to AZ. I'll trust that.\n",
       "http://www.whitepages.com/name/Roger-Cook/Marana-AZ</div><div class='fileid'>16</div><div class='comment'>Found our guy on Linked-In\n",
       "https://www.linkedin.com/pub/michael-franks/9/a8/aab\n",
       "He's been in MO since at least 2006.  </div><div class='fileid'>17</div><div class='comment'>This guy:\n",
       "http://www.bloomberg.com/research/stocks/people/person.asp?personId=111849092&ticker=BWC&previousCapId=36096&previousTitle=USEC%2520INC\n",
       "\n",
       "He holds a Bachelors degree from University of Akron. That can't be a coincidence. \n",
       "\n",
       "Washington Group International became URS Corporation in 2007.\n",
       "http://en.wikipedia.org/wiki/Washington_Group_International\n",
       "\n",
       "From his Bloomberg profile, again:\n",
       "Mr. Dudich served as the Senior Vice President of Business Development for URS Corporation's Global Management & Operations Services group.</div><div class='fileid'>18</div><div class='comment'></div><div class='fileid'>19</div><div class='comment'>Dr. C Edwin Rowe \n",
       "http://www.rowespharmacy.com/about-us\n",
       "^^ This is his pharmacy, founded in 1999, which is still running. \n",
       "\n",
       "\n",
       "\n",
       "\n",
       "There are at least FOUR CE Rowes though. Wow. Here are the other two. \n",
       "\n",
       "This is our Pharma. D in CA\n",
       "http://mydcci.com/dr-carl-rowe/\n",
       "^^ Not the same guy. \n",
       "\n",
       "This is our lobbyist in VA\n",
       "https://www.linkedin.com/pub/c-e-%22tee%22-rowe/1/339/b68\n",
       "\n",
       "And our retired Urology Dr. from NC\n",
       "http://www.healthgrades.com/physician/dr-charles-rowe-gfqnm\n",
       "\n",
       "\n",
       "Plus some E C Rowe's for good measure. \n",
       "\n",
       "There's also an Edward C Rowe who's been retired in KS since 2005. \n",
       "\n",
       "And a lawyer Eric C Rowe in DC. </div><div class='fileid'>2</div><div class='comment'>It's this guy:\n",
       "http://www.amazon.com/Robert-L.-Beisner/e/B001IQXN36\n",
       "\n",
       "The DC and WV times overlap, though. And they're not in commuting range. \n",
       "\n",
       "Indeed, one of these people finder sites has found a Robert B or W Beisner in Charleston, WV\n",
       "http://radaris.com/p/Robert/Beisner/\n",
       "\n",
       "I found a patent that places a Robert W Beisner in Charleston, WV in the year 2000. He has patents from the 70s, too, so he might well have retired by 2008. \n",
       "http://patents.justia.com/patent/6066683\n",
       "\n",
       "\n",
       "\n",
       "The others out of the cluster are definitely not the same as our guy - but they do seem to be the SAME guy, across 4 clusters. This is verified by Linked-In.\n",
       "https://www.linkedin.com/profile/view?id=142273736&authType=NAME_SEARCH&authToken=Iv4f&locale=en_US&srchid=2148803691432841903115&srchindex=3&srchtotal=7&trk=vsrp_people_res_name&trkInfo=VSRPsearchId%3A2148803691432841903115%2CVSRPtargetId%3A142273736%2CVSRPcmpt%3Aprimary%2CVSRPnm%3Atrue</div><div class='fileid'>20</div><div class='comment'></div><div class='fileid'>21</div><div class='comment'>We have two people in this cluster:\n",
       "MAGOVERN, GEORGE J.\n",
       "MAGOVERN, GEORGE J. JR.\n",
       "\n",
       "Both are open-heart surgeons in the same region of PA in Allegheny. \n",
       "\n",
       "The elder George Macgovern died in 2013 and has a glowing obituary - up until two years before his death he still frequented his office at Allegheny General Hospital:\n",
       "http://triblive.com/news/allegheny/5017800-74/magovern-hospital-heart#axzz3c0j5EnnZ\n",
       "\n",
       "The younger George Macgovern is a successful member of the Allegheny Health Network. \n",
       "https://www.ahn.org/news/2-28-2015/ahns-george-j-magovern-jr-md-receives-aha-peter-j-safar-pulse\n",
       "\n",
       "So with that, let's tease them apart. \n",
       "Looks like Jr. lives in Sewickley and Sr. lived in Pittsburgh proper. \n",
       "\n",
       "There you have it!\n",
       "</div><div class='fileid'>22</div><div class='comment'>This is our guy:\n",
       "https://www.dom.com/corporate/about-us/leadership/executives/david-heacock\n",
       "\n",
       "He's conveniently worked at the same power company since 1979, and changed positions in 2009 or so. </div><div class='fileid'>23</div><div class='comment'>There's nothing I can do with this, looks good</div><div class='fileid'>24</div><div class='comment'>Ok, this guy is \n",
       "\n",
       "Daniel Kenneth Inouye Jr. \n",
       "Lobbyist for the Fritts Group since 2008\n",
       "http://www.frittsgroup.com/news_012208.html\n",
       "\n",
       "He's the son of Daniel Kenneth Inouye, a US Senator from HI who died in 2012.\n",
       "http://www.huffingtonpost.com/2012/12/17/daniel-inouye-dead-dies_n_2316242.html</div><div class='fileid'>25</div><div class='comment'>Generally one does not retire in three places simultaneously :P</div><div class='fileid'>26</div><div class='comment'>This is our guy:\n",
       "Richard A St. Jean, Jr. \n",
       "He lives in Concord. \n",
       "He started his career by running a successful practice - aka employed by SELF.\n",
       "He went to Fordham Univ so he most likely started irking in NY before moving to MA. \n",
       "http://www.commonwealthfinancialgroup.com/new/cfgcommonwealthfinancialgroup/content.asp?contentid=2017692945\n",
       "According to Linked-In he's licensed to sell insurance basically everywhere. </div><div class='fileid'>27</div><div class='comment'>Ok, there are indeed two different corporately powerful Sam Singers out there:\n",
       "\n",
       "A 70yr old Board Member of Bio-Reference:\n",
       "http://www.bloomberg.com/research/stocks/people/person.asp?personId=254837&ticker=BRLI\n",
       "\n",
       "And a younger communications strategist/campaign manager in the SF Bay area:\n",
       "http://singersf.com/team/sam-singer/\n",
       "\n",
       "NO IDEA how there's one record that seems to make them the same person. </div><div class='fileid'>28</div><div class='comment'>Several people in this cluster:\n",
       "\n",
       "Our guy - retired CEO of Fannie Mae who now goes around directing companies just for funsies. \n",
       "http://www.bloomberg.com/research/stocks/private/person.asp?personId=615381&privcapId=4274402&previousCapId=210269&previousTitle=The%20Rockefeller%20Foundation\n",
       "\n",
       "\n",
       "A former board member of United Corp in Adrian, MI:\n",
       "http://people.equilar.com/bio/david-maxwell-united-bancorp-/salary/349918#.VW8kFuuRZUQ\n",
       "\n",
       "Some internet-annonymous guy in Covelo, CA:\n",
       "http://www.plainsite.org/flashlight/index.html?id=320626\n",
       "\n",
       "The owner of this here company started in 1974:\n",
       "http://www.manta.com/c/mmdyk66/maxwell-tiling-inc\n",
       "\n",
       "</div><div class='fileid'>29</div><div class='comment'>This is our guy: \n",
       "http://medicine.hsc.wvu.edu/anesth/about-us/department-history/\n",
       "\n",
       "I'm like 98% sure the two anesthesiologists are the same person - the years Gary Loyd was chair of the dept at WVU are the same years missing from the excluded cluster. Visiting chairs are a thing. The universities are 6 hours apart. \n",
       "http://louisville.edu/medicine/departments/anesthesiology/faculty/loyd</div><div class='fileid'>3</div><div class='comment'>Yeah, that's a really clean clustering! </div><div class='fileid'>30</div><div class='comment'></div><div class='fileid'>31</div><div class='comment'>Here's our guy:\n",
       "https://www.linkedin.com/in/taylorharris\n",
       "\n",
       "Looks good</div><div class='fileid'>32</div><div class='comment'>Here's our guy:\n",
       "http://www.grossmanroth.com/our-team/neil-roth/\n",
       "\n",
       "Neal Hadi Roth does not seem to exist - the only search results for that name are derived from political contributions data. \n",
       "\n",
       "There is a Neal H Roth but he's a lawyer in Toronto and very unlikely to be involved in this situation whatsoever :P \n",
       "\n",
       "None of the other clusters look like they belong</div><div class='fileid'>33</div><div class='comment'>Here's our lady:\n",
       "Pamela P Flaherty\n",
       "http://blogs.wsj.com/moneybeat/2015/01/25/pam-flaherty-a-trailblazer-at-citi-to-retire/\n",
       "\n",
       "Pamela A Flaherty and Pamela C Flaherty, also executives at Citicorp, are quite definitely typos. Out of this many records there have to be a few :P I highlighted them anyways because I can. \n",
       "\n",
       "Here's the only other person on the page:\n",
       "Pamela E Flaherty\n",
       "https://www.blankrome.com/index.cfm?contentID=10&bioID=5974\n",
       "</div><div class='fileid'>34</div><div class='comment'>K</div><div class='fileid'>35</div><div class='comment'>This is tricky, not much to go off of - but people do move after they retire and the date ranges don't overlap so it's entirely plausible they're the same guy. \n",
       "Also, this one internet search thing puts the two cities together in the same person's file:\n",
       "http://www.intelius.com/results.php?ReportType=1&formname=name&qf=Donald&qmi=R&qn=Calvert&qcs=FL&focusfirst=1\n",
       "\n",
       "So, yes, this is about as confident as I'll ever be in saying that two retired off-the-internet personas are the same person.</div><div class='fileid'>36</div><div class='comment'>This guy:\n",
       "http://www.bloomberg.com/research/stocks/private/person.asp?personId=1235120&privcapId=4848612\n",
       "\n",
       "Not much to say. It's right otherwise. </div><div class='fileid'>37</div><div class='comment'>K</div><div class='fileid'>38</div><div class='comment'>Yeah, they're different people. Not much to say here :) </div><div class='fileid'>39</div><div class='comment'>K</div><div class='fileid'>4</div><div class='comment'>This is our guy. Much stuff. \n",
       "\n",
       "http://www.bloomberg.com/research/stocks/people/person.asp?personId=8840754&ticker=DBK:GR\n",
       "\n",
       "http://phosplatin.com/management/\n",
       "\n",
       "https://www0.gsb.columbia.edu/students/organizations/laba/conference2009/fallon.html\n",
       "\n",
       "Guess he didn't like being retired :P\n",
       "\n",
       "I found a Robert J Fallon who owns a house in Annandale, VA. Not the same guy I can't imagine.\n",
       "http://www.arivify.com/property/search/nTUIzsHD6\n",
       "\n",
       "The Robert Fallon inside the Allen cluster is not our guy. This one is Robert C Fallon, lawyer. \n",
       "http://www.legaldirectories.com/Fallon-Robert-C-129814-Atty.aspx\n",
       "\n",
       "\n",
       "\n",
       "\n",
       "\n",
       "\n",
       "On a bit of a side-note:\n",
       "There are three people at least in the Allen cluster, maybe four if the name of their law firm is any indication. That's mad confusing, though. \n",
       "Robert Clayton Allen\n",
       "Wilbur Coleman Allen \n",
       "George E Allen III</div><div class='fileid'>40</div><div class='comment'>Douglas Collins\n",
       "Providential Realtors\n",
       "Germantown, TN \n",
       "\"Providential Realtors\" is a firm in Texas with no doug collins related to it.... not sure what to make of that. \n",
       "BUT! There's some records later that tie them together!!\n",
       "Douglas A Collins Jr from providential. \n",
       "They're all the same guy! Whoooo!\n",
       "\n",
       "Doug A Collins \n",
       "Prudential Collins-Maury Inc\n",
       "Germantown, TN and Collierville, TN\n",
       "-- He's also the Sovereign Homes guy!\n",
       "http://www.collins-maury.com/pages/42270/New-Construction.aspx\n",
       "-- This guy\n",
       "http://www.collins-maury.com/Roster/12015/Doug-Collins.aspx\n",
       "-- His firm changed its name to Coldwell Banker Collins-Maury in 2014\n",
       "http://www.prnewswire.com/news-releases/coldwell-banker-brand-strengthens-presence-in-mid-south-with-addition-of-prudential-collins-maury-in-memphis-245362941.html\n",
       "\n",
       "\n",
       "Doug Collins Jr \n",
       "Sovereign Homes\n",
       "Germantown, TN\n",
       "</div><div class='fileid'>41</div><div class='comment'>Here's our man:\n",
       "http://www.bloomberg.com/research/stocks/people/person.asp?personId=329321&ticker=PPS\n",
       "\n",
       "His linked in puts him in texas in 2003\n",
       "\n",
       "Umm, yeah, good</div><div class='fileid'>42</div><div class='comment'>K</div><div class='fileid'>43</div><div class='comment'></div><div class='fileid'>44</div><div class='comment'>Yes, that's the same person. It has to be. \n",
       "</div><div class='fileid'>45</div><div class='comment'>Her husband is the head of cca industries\n",
       "http://www.washingtonpost.com/local/education/richmond-businessman-william-h-goodwin-jr-is-new-u-va-vice-rector/2013/05/20/47cf9c26-c199-11e2-8bd8-2788030e6b44_story.html\n",
       "\n",
       "Nothing to indicate she simultaneously lived in NV</div><div class='fileid'>46</div><div class='comment'>Here's his Linked-In\n",
       "https://www.linkedin.com/profile/view?id=181715932&authType=NAME_SEARCH&authToken=Whuf&locale=en_US&srchid=2148803691433363869633&srchindex=1&srchtotal=1&trk=vsrp_people_res_name&trkInfo=VSRPsearchId%3A2148803691433363869633%2CVSRPtargetId%3A181715932%2CVSRPcmpt%3Aprimary%2CVSRPnm%3Atrue\n",
       "\n",
       "Nothing to indicate he's now in NJ</div><div class='fileid'>47</div><div class='comment'>These two clusters (were?) married at one point, which explains the Linda Todd entry. \n",
       "They're clearly two separate people though.\n",
       "\n",
       "Employer: Mind Your Own Business\n",
       "^^ I love it</div><div class='fileid'>48</div><div class='comment'>The time lines overlap, and there's nothing to indicate they're the same person</div><div class='fileid'>49</div><div class='comment'>wow</div><div class='fileid'>5</div><div class='comment'>Nothing for me to do here...</div><div class='fileid'>50</div><div class='comment'>k</div><div class='fileid'>51</div><div class='comment'>Here's our guy's Linked-In\n",
       "https://www.linkedin.com/pub/michael-j-rinaldi/a6/301/629\n",
       "\n",
       "\n",
       "Here's the other lawyer:\n",
       "http://www.rinaldicpa.com/MichaelRinaldi.php\n",
       "\n",
       "Yep - the PA and DC people are different\n",
       "</div><div class='fileid'>52</div><div class='comment'>Here's our forest manager Scott R Jones:\n",
       "http://www.businesswire.com/news/home/20140530005085/en/Rayonier-Announces-Boards-Directors-Rayonier-Rayonier-Advanced#.VXBWnOuRZUQ\n",
       "^^ He's worked there since 2000\n",
       "http://www.forestcap.com\n",
       "\n",
       "Holy cow, lots of Scott Joneses\n",
       "\n",
       "The only somewhat similar one was a lawyer in Boston, MA. But this guy is far from being a lawyer.</div><div class='fileid'>53</div><div class='comment'></div><div class='fileid'>54</div><div class='comment'>Definitely the same person</div><div class='fileid'>55</div><div class='comment'>This guy:\n",
       "http://www.legacy.com/obituaries/tucson/obituary.aspx?pid=170630588\n",
       "\n",
       "He was in Tuscon forever</div><div class='fileid'>56</div><div class='comment'>CREE makes semiconductors and LEDs\n",
       "\n",
       "Our guy:\n",
       "https://www.linkedin.com/pub/david-grider/9/639/850\n",
       "\n",
       "Doesn't make for an easy transition into sales of life insurance :P different people\n",
       "http://www.hcc.com/Portals/0/SubSites/HCCLife/News/HTMLpages/Introducing_HCCL.html</div><div class='fileid'>57</div><div class='comment'></div><div class='fileid'>58</div><div class='comment'>http://coventry.com\n",
       "^^ Corporate headquarters:\n",
       "Fort Washington, PA 19034\n",
       "Founded in 1999\n",
       "\n",
       "Here's a description of the family:\n",
       "http://chopbuildinghope.org/stories-building-hope/buerger-family/\n",
       "^^ There's only one Alan in the family\n",
       "\n",
       "Alan has been the CEO of Coventry since before this sample starts and until after it ends - there is only one \n",
       "\n",
       "Looks like the record with a T middle name is a typo. \n",
       "\n",
       "Saying you're self-employed is common before your company gets huge. </div><div class='fileid'>59</div><div class='comment'>Hmm - doesn't seem like a Dr. would suddenly become an investor - but the investors cluster fills the time gap of the Dr. cluster so completely.... will investigate further. \n",
       "\n",
       "Here's our good sir:\n",
       "http://www.gidocs.com/physicians-staff/ira-flax/\n",
       "\n",
       "Yep, just a coincidence. There's an Ira M Flax in Birmingham who spoke at the RNC a while back\n",
       "http://www.gettyimages.com/detail/news-photo/rabbi-ira-m-flax-retired-lt-col-usaf-from-birmingham-news-photo/82638729</div><div class='fileid'>6</div><div class='comment'>Ooooh, ok, not much to work with here. Fun!\n",
       "\n",
       "First of all, why isn't it putting these Florida doctors together?? \n",
       "\n",
       "Ummm, yeah, there are way too many Joel Sterns in the US for me to be able to figure out if this guy is a doctor who moved to Florida in 2004 or a lawyer still in NY or a totally different Joel Stern who donated a while back. \n",
       "\n",
       "I don't know how to convey this uncertainty.....</div><div class='fileid'>60</div><div class='comment'>You'd think marketing people would be easier to find online.....\n",
       "\n",
       "It's entirely possible this person moved. It's entirely possible it's two different people. </div><div class='fileid'>61</div><div class='comment'>As a lobbyist he would definitely work for some random companies every once in a while. Makes too much sense to imagine a second persona here. \n",
       "\n",
       "http://www.bloomberg.com/research/stocks/people/person.asp?personId=9103848&ticker=IGEN&previousCapId=33593036&previousTitle=IGEN%20NETWORKS%20CORP\n",
       "^^ Super lobbyist in DC</div><div class='fileid'>62</div><div class='comment'></div><div class='fileid'>63</div><div class='comment'>good</div><div class='fileid'>64</div><div class='comment'>K we've got:\n",
       "James C Brown of ABQ \n",
       "Jim Brown of Rio Rancho\n",
       "\n",
       "Albuquerque and Rio Ranco are basically interchangeable. But they write their names a bit different and moving to the suburbs is not something retired people do all that often. And it's a madly common name. \n",
       "\n",
       "And there's a third and fourth retired James Brown in NM later. \n",
       "Jim F Brown\n",
       "James W Brown\n",
       "\n",
       "The Rio Rancho cluster is more likely i'd say to belong to Jim, although that is not likely either\n",
       "\n",
       "This is a funny coincidence of a cluster for me to get :P \n",
       "\n",
       "Holy Cow. So many people. </div><div class='fileid'>65</div><div class='comment'>Our guy:\n",
       "http://www.corporationwiki.com/California/San-Rafael/richard-k-robbins/40980043.aspx\n",
       "\n",
       "He's probably a lawyer, too? The main thing making me somewhat sure they're the same is the same *nine* digit zip code for the Attorney and the Real Estate Developer... together with middle name and no indication of Jr., it's telling me its all the same person. \n",
       "\n",
       "is there a lawyer lookup somewhere?</div><div class='fileid'>66</div><div class='comment'>Why to women do the thing where they identify themselves and Mrs. Her-Husbands-Name????\n",
       "^^ making me angry over here\n",
       "\n",
       "This is another one where the RETIRED occupation got more clout than may it should've.\n",
       "\n",
       "Ooooh! He lives in the US Virgin Islands! That's cool! And a nice place to retire/pretend to retire.</div><div class='fileid'>67</div><div class='comment'>Our guy works in staffing and payroll management. \n",
       "https://www.linkedin.com/in/adamsvet\n",
       "\n",
       "EPLICA provides support services to stating companies\n",
       "http://www.bloomberg.com/research/stocks/private/snapshot.asp?privcapId=49523476\n",
       "\n",
       "STI is Secure Talent Inc where this guy was president 2011-2014</div><div class='fileid'>68</div><div class='comment'>Another family business thing:\n",
       "*cracks knuckles*\n",
       "\n",
       "Norman E Pfau  -- not around anymore\n",
       "\n",
       "\n",
       "Norman E Pfau Jr\n",
       "http://www.bizjournals.com/louisville/print-edition/2011/10/28/ned-pfau-has-led-the-family-company.html\n",
       "\n",
       "\n",
       "Norman E Pfau III\n",
       "His son\n",
       "\n",
       "That's as good as I can break it down!</div><div class='fileid'>69</div><div class='comment'>I see no issues here</div><div class='fileid'>7</div><div class='comment'></div><div class='fileid'>70</div><div class='comment'>Did this guy also go retire from a finance career to the Virgin Islands? \n",
       "\n",
       "Indeed not:\n",
       "\n",
       "http://www.bloomberg.com/research/stocks/people/person.asp?personId=645661&ticker=ATNI&previousCapId=319384&previousTitle=ATLANTIC%2520TELE-NETWORK%2520INC</div><div class='fileid'>71</div><div class='comment'></div><div class='fileid'>72</div><div class='comment'>Robbie W Hughes owns an oil well, or something, in Byram:\n",
       "https://plus.google.com/112769827356890951265/about?gl=us&hl=en\n",
       "\n",
       "http://www.whitepages.com/name/Robbie-Hughes/Jackson-Ms\n",
       "\n",
       "Looks like her husband is Dudley Hughes which has a much bigger online presence. \n",
       "http://www.legacy.com/obituaries/clarionledger/obituary.aspx?pid=174688489\n",
       "http://petroleumhistory.org/awards/Drake.html\n",
       "\n",
       "There is some connection to Flowood.\n",
       "http://flowood.cylex-usa.com/company/hughes-dudley-j-geologist-9303513.html\n",
       "\n",
       "\n",
       "\n",
       "</div><div class='fileid'>73</div><div class='comment'>you're good</div><div class='fileid'>74</div><div class='comment'>umm, yeah</div><div class='fileid'>75</div><div class='comment'>https://www.linkedin.com/pub/douglas-steenblock/81/946/421\n",
       "\n",
       "Marshaltown is his work address</div><div class='fileid'>76</div><div class='comment'>She's cool enough to have a wikipedia page\n",
       "http://en.wikipedia.org/wiki/Judith_M._Gueron\n",
       "\n",
       "MDRC is a public policy think tank</div><div class='fileid'>77</div><div class='comment'>Loks legit - his company does heavy machinery. \n",
       "\n",
       "http://www.yellowpages.com/waynesburg-oh/mip/grodhaus-young-inc-1548534</div><div class='fileid'>78</div><div class='comment'>The MO and FL addresses are so neatly aligned time-wise. \n",
       "Confirmed!\n",
       "http://jljacksonville.blogspot.com/2014/01/meet-our-board-ellen-wiss.html\n",
       "\n",
       "Not at ALL a stretch that she's also the CO person. \n",
       "http://www.homkor.com/contact.html\n",
       "Her husband is the CEO of Homkor, she's the second in command, and the company has three offices - MO, CO, FL</div><div class='fileid'>79</div><div class='comment'>um, sure!</div><div class='fileid'>8</div><div class='comment'>Found our guy on Linked In. He's been working in MA since 2002.\n",
       "https://www.linkedin.com/profile/view?id=6719180&authType=NAME_SEARCH&authToken=X2Zz&locale=en_US&srchid=2148803691432845085642&srchindex=1&srchtotal=1&trk=vsrp_people_res_name&trkInfo=VSRPsearchId%3A2148803691432845085642%2CVSRPtargetId%3A6719180%2CVSRPcmpt%3Aprimary%2CVSRPnm%3Atrue\n",
       "\n",
       "\n",
       "This James Rice clustering is impressive, overall. </div><div class='fileid'>80</div><div class='comment'></div><div class='fileid'>81</div><div class='comment'>This one is hard. \n",
       "Old people aren't on the internet. \n",
       "Pentwater and Grand Rapids are 1hr 45min apart. \n",
       "Plausible that they are the same person.\n",
       "\n",
       "\n",
       "Umm, I found the obituary of the wife of our second  Walter J. Ligon. The service was at a retirement community in Grand Rapids at that zip code.\n",
       "http://www.shorelinemedia.net/ludington_daily_news/archives/article_4a915c87-c4b0-5b19-8bf4-dd272696af79.html\n",
       "Gravestone in Pentwater:\n",
       "http://www.findagrave.com/cgi-bin/fg.cgi?page=gr&GSln=ligon&GSfn=mary&GSiman=1&GScid=1360&GRid=117256973&\n",
       " \n",
       "This one website has an address for him in Pentwater:\n",
       "https://www.mylife.com/walter-ligon/e483319869678\n",
       "\n",
       "His daughter lives in Ludington which is 23 min from Pentwater to the other side of Grand Rapids. \n",
       "\n",
       "DONE - evidence points to yes. </div><div class='fileid'>82</div><div class='comment'>No issues here</div><div class='fileid'>83</div><div class='comment'></div><div class='fileid'>84</div><div class='comment'></div><div class='fileid'>85</div><div class='comment'>Our guy founded Hillmann consulting in 1985:\n",
       "http://hillmannconsulting.com/about/history/\n",
       "\n",
       "\n",
       "On linked in we have the other guy - chief of staff to a NJ assemblyman. \n",
       "https://www.linkedin.com/profile/view?id=13667377&authType=name&authToken=r_aj&locale=en_US&srchid=2148803691433451165919&srchindex=1&srchtotal=3&trk=vsrp_people_res_name&trkInfo=VSRPsearchId%3A2148803691433451165919%2CVSRPtargetId%3A13667377%2CVSRPcmpt%3Aprimary%2CVSRPnm%3A</div><div class='fileid'>86</div><div class='comment'></div><div class='fileid'>87</div><div class='comment'></div><div class='fileid'>88</div><div class='comment'>This guy:\n",
       "http://www.legacy.com/obituaries/nwfdailynews/obituary.aspx?pid=169688635\n",
       "\n",
       "Can't imagine there were two of them....</div><div class='fileid'>9</div><div class='comment'>kay</div></body></html>"
      ],
      "text/plain": [
       "<IPython.core.display.HTML object>"
      ]
     },
     "execution_count": 39,
     "metadata": {},
     "output_type": "execute_result"
    }
   ],
   "source": [
    "\n",
    "def print_comments(dict_comments):\n",
    "    style = '.comment{margin-left:2em;margin-bottom:3em;width:50em}'\n",
    "    html=\"<html><head><style>{0}</style></head><body>{1}</body></html>\"\n",
    "    s = ''\n",
    "    html_comment = \"<div class='fileid'>{0}</div><div class='comment'>{1}</div>\"\n",
    "    for coder, coder_comments in dict_comments.iteritems():\n",
    "        for fileid,comment in sorted(coder_comments.items()):\n",
    "            s += html_comment.format(fileid,comment)\n",
    "#             print\n",
    "#             print s\n",
    "    return HTML(html.format(style,s))\n",
    "print_comments(dict_comments)"
   ]
  },
  {
   "cell_type": "code",
   "execution_count": 77,
   "metadata": {
    "collapsed": false
   },
   "outputs": [
    {
     "data": {
      "text/plain": [
       "[<matplotlib.lines.Line2D at 0x7f25f2461350>]"
      ]
     },
     "execution_count": 77,
     "metadata": {},
     "output_type": "execute_result"
    },
    {
     "data": {
      "image/png": "[encoded data removed]",
      "text/plain": [
       "<matplotlib.figure.Figure at 0x7f2604467790>"
      ]
     },
     "metadata": {
      "image/png": {
       "height": 254,
       "width": 372
      }
     },
     "output_type": "display_data"
    }
   ],
   "source": [
    "import networks as nt\n",
    "dict_sizes =  {str(fileid):len([(x,y) for x,y in data['carolina'][str(fileid)]['data']['final'].items() if y[1] == 1]) for fileid in range(1,88)}\n",
    "\n",
    "sizes_sorted = [dict_sizes[fileid] for fileid in sorted(dict_sizes.keys())]\n",
    "type1_sorted = [dict_type1[fileid] for fileid in sorted(dict_sizes.keys())]\n",
    "type2_sorted = [dict_type2[fileid] for fileid in sorted(dict_sizes.keys())]\n",
    "\n",
    "plt.plot(sizes_sorted,type1_sorted,'+')\n",
    "plt.plot(sizes_sorted,type2_sorted,'o')"
   ]
  },
  {
   "cell_type": "code",
   "execution_count": 67,
   "metadata": {
    "collapsed": false
   },
   "outputs": [
    {
     "data": {
      "image/png": "[encoded data removed]",
      "text/plain": [
       "<matplotlib.figure.Figure at 0x7f2604783250>"
      ]
     },
     "metadata": {
      "image/png": {
       "height": 265,
       "width": 373
      }
     },
     "output_type": "display_data"
    }
   ],
   "source": [
    "num_yes = [len([(x,y) for x,y in data['carolina'][str(fileid)]['data']['final'].items() if y[1] == 1]) for fileid in range(1,88)]\n",
    "# [data['carolina'][str(fileid)]['data']['initial'] for fileid in range(1,88)]]\n",
    "plt.hist(num_yes,20 ,color='#587498')\n",
    "plt.grid()\n",
    "plt.title('Distribution of the \"true\" size of sampled identities', fontdict={'fontweight':'bold'})\n",
    "plt.savefig('cluster-size-dist.png',dpi=150)"
   ]
  },
  {
   "cell_type": "code",
   "execution_count": 68,
   "metadata": {
    "collapsed": false
   },
   "outputs": [
    {
     "name": "stdout",
     "output_type": "stream",
     "text": [
      "0.0261730414849 0.0247770817699\n"
     ]
    },
    {
     "data": {
      "image/png": "[encoded data removed]",
      "text/plain": [
       "<matplotlib.figure.Figure at 0x7f2604b488d0>"
      ]
     },
     "metadata": {
      "image/png": {
       "height": 265,
       "width": 372
      }
     },
     "output_type": "display_data"
    }
   ],
   "source": [
    "plt.hist(type1, color='#E86850',alpha=0.5, label = 'Type I')\n",
    "plt.hist(type2, color='#587498',alpha=0.5, label = 'Type II')\n",
    "print np.mean(type1[type1< 0.4]), np.mean(type2[type2< 0.4])\n",
    "plt.legend()\n",
    "plt.grid()\n",
    "plt.title('Distribution of error rates.', fontdict={'fontweight':'bold'})\n",
    "plt.savefig('dist-errors.png', dpi=150)"
   ]
  },
  {
   "cell_type": "code",
   "execution_count": 53,
   "metadata": {
    "collapsed": false
   },
   "outputs": [
    {
     "data": {
      "text/plain": [
       "{u'comment': u'',\n",
       " u'data': {u'final': {u' 10230295 ': [u' SC-19340 ', 1],\n",
       "   u' 10314752 ': [u' SC-19340 ', 1],\n",
       "   u' 12616865 ': [u' SC-19340 ', 1],\n",
       "   u' 13674235 ': [u' SC-19340 ', 1],\n",
       "   u' 377534 ': [u' SC-19340 ', 1]},\n",
       "  u'initial': {u' 10230295 ': [u' SC-19340 ', 1],\n",
       "   u' 10314752 ': [u' SC-19340 ', 1],\n",
       "   u' 12616865 ': [u' SC-19340 ', 1],\n",
       "   u' 13674235 ': [u' SC-19340 ', 1],\n",
       "   u' 377534 ': [u' SC-19340 ', 1]}}}"
      ]
     },
     "execution_count": 53,
     "metadata": {},
     "output_type": "execute_result"
    }
   ],
   "source": [
    "\n",
    "data['carolina']['1']"
   ]
  },
  {
   "cell_type": "markdown",
   "metadata": {},
   "source": [
    "# Export cluster data to file"
   ]
  },
  {
   "cell_type": "code",
   "execution_count": 30,
   "metadata": {
    "collapsed": false
   },
   "outputs": [
    {
     "name": "stdout",
     "output_type": "stream",
     "text": [
      "1\n",
      "2\n",
      "3\n",
      "4\n",
      "5\n",
      "6\n",
      "7\n",
      "8\n",
      "9\n",
      "10\n",
      "11\n",
      "12\n",
      "13\n",
      "14\n",
      "15\n",
      "16\n",
      "17\n",
      "18\n",
      "19\n",
      "20\n",
      "21\n",
      "22\n",
      "23\n",
      "24\n",
      "25\n",
      "26\n",
      "27\n",
      "28\n",
      "29\n",
      "30\n",
      "31\n",
      "32\n",
      "33\n",
      "34\n",
      "35\n",
      "36\n",
      "37\n",
      "38\n",
      "39\n",
      "40\n",
      "41\n",
      "42\n",
      "43\n",
      "44\n",
      "45\n",
      "46\n",
      "47\n",
      "48\n",
      "49\n",
      "50\n",
      "51\n",
      "52\n",
      "53\n",
      "54\n",
      "55\n",
      "56\n",
      "57\n",
      "58\n",
      "59\n",
      "60\n",
      "61\n",
      "62\n",
      "63\n",
      "64\n",
      "65\n",
      "66\n",
      "67\n",
      "68\n",
      "69\n",
      "70\n",
      "71\n",
      "72\n",
      "73\n",
      "74\n",
      "75\n",
      "76\n",
      "77\n",
      "78\n",
      "79\n",
      "80\n",
      "81\n",
      "82\n",
      "83\n",
      "84\n",
      "85\n",
      "86\n",
      "87\n",
      "88\n",
      "89\n",
      "90\n",
      "91\n",
      "92\n",
      "93\n",
      "94\n",
      "95\n",
      "96\n",
      "97\n",
      "98\n",
      "99\n"
     ]
    }
   ],
   "source": [
    "fulldata = {}\n",
    "for pageno in range(1,100):\n",
    "    identities = [(int(r_id),int(result[0]),result[1],result[2]) \\\n",
    "                  for r_id, result in data['carolina'][str(pageno)]['data'].iteritems()]   \n",
    "    fulldata[int(pageno)] = identities\n",
    "    print pageno\n",
    "s = json.dumps(fulldata)\n",
    "# print s\n",
    "f = open('set1/resolved_clusters.json','w')\n",
    "f.write(s)\n",
    "f.close()"
   ]
  },
  {
   "cell_type": "code",
   "execution_count": 61,
   "metadata": {
    "collapsed": false
   },
   "outputs": [
    {
     "data": {
      "text/plain": [
       "'ASDFASDF.ASDF'"
      ]
     },
     "execution_count": 61,
     "metadata": {},
     "output_type": "execute_result"
    }
   ],
   "source": [
    "'asdfasdf.asdf'.upper()"
   ]
  }
 ],
 "metadata": {
  "kernelspec": {
   "display_name": "Python 2",
   "language": "python",
   "name": "python2"
  },
  "language_info": {
   "codemirror_mode": {
    "name": "ipython",
    "version": 2
   },
   "file_extension": ".py",
   "mimetype": "text/x-python",
   "name": "python",
   "nbconvert_exporter": "python",
   "pygments_lexer": "ipython2",
   "version": "2.7.6"
  }
 },
 "nbformat": 4,
 "nbformat_minor": 0
}

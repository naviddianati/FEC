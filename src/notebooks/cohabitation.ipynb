{
 "cells": [
  {
   "cell_type": "markdown",
   "metadata": {},
   "source": [
    "# Identifying cohabiting contributors "
   ]
  },
  {
   "cell_type": "markdown",
   "metadata": {},
   "source": [
    "In this exercise, we will look throughout the database and try to identify households where multiple individuals have made contributions while cohabiting.\n",
    "\n",
    "To do this, we will do the following:\n",
    "\n",
    "    1- Build a dictionary of all normalized addresses. Associate every address with the set of all its identities.\n",
    "    2- For those with multiple identities, do further processing.\n",
    "\n",
    "\n",
    "\n"
   ]
  },
  {
   "cell_type": "markdown",
   "metadata": {},
   "source": [
    "Problem: the normalized attributes file doesn't contain normalized addresses."
   ]
  },
  {
   "cell_type": "code",
   "execution_count": 92,
   "metadata": {
    "collapsed": false
   },
   "outputs": [],
   "source": [
    "import pandas as pd\n",
    "from disambiguation.core import Database\n",
    "from disambiguation.core import Person\n",
    "\n",
    "from disambiguation.core import utils\n",
    "from disambiguation import config"
   ]
  },
  {
   "cell_type": "code",
   "execution_count": 19,
   "metadata": {
    "collapsed": false
   },
   "outputs": [
    {
     "name": "stdout",
     "output_type": "stream",
     "text": [
      "Table 'identities_v5' exists.\n",
      "Table 'identities_adjacency_v5' exists.\n",
      "Table 'linked_identities_v5' exists.\n",
      "select id,identity from identities_v5;\n"
     ]
    }
   ],
   "source": [
    "idm = Database.IdentityManager('USA')\n",
    "idm.table_name_identities\n",
    "idm.fetch_dict_id_2_identity()"
   ]
  },
  {
   "cell_type": "code",
   "execution_count": 43,
   "metadata": {
    "collapsed": false
   },
   "outputs": [
    {
     "name": "stdout",
     "output_type": "stream",
     "text": [
      "select id,identity from identities_v5;\n"
     ]
    }
   ],
   "source": [
    "idm.fetch_dict_identity_2_id()"
   ]
  },
  {
   "cell_type": "code",
   "execution_count": 20,
   "metadata": {
    "collapsed": true
   },
   "outputs": [],
   "source": [
    "retriever = Database.FecRetriever('usa_combined_v2',\n",
    "                                  query_fields=['id', 'NAME','CONTRIBUTOR_STREET_1', 'ZIP_CODE', 'TRANSACTION_AMT']\n",
    "                                 , where_clause=' WHERE CONTRIBUTOR_STREET_1 IS NOT NULL ')"
   ]
  },
  {
   "cell_type": "code",
   "execution_count": 21,
   "metadata": {
    "collapsed": true
   },
   "outputs": [],
   "source": [
    "retriever.retrieve()"
   ]
  },
  {
   "cell_type": "code",
   "execution_count": 24,
   "metadata": {
    "collapsed": false
   },
   "outputs": [
    {
     "name": "stdout",
     "output_type": "stream",
     "text": [
      "11508004\n"
     ]
    }
   ],
   "source": [
    "list_records = retriever.getRecords()\n",
    "print len(list_records)"
   ]
  },
  {
   "cell_type": "code",
   "execution_count": 34,
   "metadata": {
    "collapsed": false
   },
   "outputs": [],
   "source": [
    "dict_addresses = {}\n",
    "\n",
    "\n",
    "for r in list_records:\n",
    "    address, zipcode = r['CONTRIBUTOR_STREET_1'], r['ZIP_CODE']\n",
    "    address_full = (zipcode[:5], address)\n",
    "    rid = r.id\n",
    "    try:\n",
    "        dict_addresses[address_full].append(rid)\n",
    "    except:\n",
    "        dict_addresses[address_full] = [rid]"
   ]
  },
  {
   "cell_type": "code",
   "execution_count": 35,
   "metadata": {
    "collapsed": false
   },
   "outputs": [
    {
     "data": {
      "text/plain": [
       "4025475"
      ]
     },
     "execution_count": 35,
     "metadata": {},
     "output_type": "execute_result"
    }
   ],
   "source": [
    "len(dict_addresses)"
   ]
  },
  {
   "cell_type": "code",
   "execution_count": 64,
   "metadata": {
    "collapsed": false
   },
   "outputs": [],
   "source": [
    "dict_identities = {}\n",
    "for address, list_rids in dict_addresses.iteritems():\n",
    "    set_identities = {idm.get_compound_identity(rid)[0] for rid in list_rids}\n",
    "    if len(set_identities) > 1:\n",
    "        dict_identities[address] = set_identities\n",
    "    \n",
    "    "
   ]
  },
  {
   "cell_type": "code",
   "execution_count": 93,
   "metadata": {
    "collapsed": false
   },
   "outputs": [
    {
     "name": "stdout",
     "output_type": "stream",
     "text": [
      "541894\n"
     ]
    }
   ],
   "source": [
    "print len(dict_identities)"
   ]
  },
  {
   "cell_type": "code",
   "execution_count": 94,
   "metadata": {
    "collapsed": false
   },
   "outputs": [
    {
     "name": "stdout",
     "output_type": "stream",
     "text": [
      "[10639568]\n",
      "[8305739, 8486565, 8839925, 8977749, 11969509, 13439119]\n"
     ]
    }
   ],
   "source": [
    "print idm.get_ids('OH-34442')\n",
    "print idm.get_ids('GA-36500')"
   ]
  },
  {
   "cell_type": "code",
   "execution_count": 95,
   "metadata": {
    "collapsed": false
   },
   "outputs": [
    {
     "name": "stdout",
     "output_type": "stream",
     "text": [
      "[4302189, 5809001, 6407902, 7695132]\n",
      "[4302191, 14867480]\n"
     ]
    }
   ],
   "source": [
    "print idm.get_ids('CA-459207')\n",
    "print idm.get_ids('CA-459208')"
   ]
  },
  {
   "cell_type": "code",
   "execution_count": 133,
   "metadata": {
    "collapsed": true
   },
   "outputs": [],
   "source": [
    "record_retriever = Database.FecRetrieverByID('usa_combined_v2')\n",
    "def load_compound_person(compound_identity):\n",
    "    '''\n",
    "    Given a compound identity, load all its records and\n",
    "    generate a Person object from them.\n",
    "    '''\n",
    "    s = compound_identity\n",
    "    list_rids = [rid for identity in s.split('|') for rid in idm.get_ids(identity)]\n",
    "#     f.write(\" \".join([str(rid) for rid in list_rids]) + \"\\n\")\n",
    "    record_retriever.retrieve(list_rids)\n",
    "    list_records = record_retriever.getRecords()\n",
    "    \n",
    "    p = Person.Person(list_records)\n",
    "    return p\n",
    "\n"
   ]
  },
  {
   "cell_type": "code",
   "execution_count": 135,
   "metadata": {
    "collapsed": false,
    "scrolled": false
   },
   "outputs": [
    {
     "name": "stdout",
     "output_type": "stream",
     "text": [
      "navid\n",
      "0\n",
      "inserting...\n",
      "done.\n",
      "1000\n",
      "2000\n",
      "3000\n",
      "4000\n",
      "5000\n",
      "6000"
     ]
    },
    {
     "name": "stderr",
     "output_type": "stream",
     "text": [
      "/nfs/home/navid/src/FEC-1/src/disambiguation/core/Database.py:62: Warning: Unknown table 'tmp_ccR0Rj4H5tNTTKFAUCaa'\n",
      "  cur.execute(query)\n",
      "/nfs/home/navid/src/FEC-1/src/disambiguation/core/Database.py:62: Warning: Unknown table 'tmp_0l0SGO6WGrvYk9nW2H90'\n",
      "  cur.execute(query)\n"
     ]
    },
    {
     "name": "stdout",
     "output_type": "stream",
     "text": [
      "\n",
      "inserting...\n",
      "done.\n",
      "7000\n",
      "8000\n",
      "inserting...\n",
      "done.\n",
      "9000"
     ]
    },
    {
     "name": "stderr",
     "output_type": "stream",
     "text": [
      "/nfs/home/navid/src/FEC-1/src/disambiguation/core/Database.py:62: Warning: Unknown table 'tmp_WY4HD5NoS4zDUDIvYr72'\n",
      "  cur.execute(query)\n",
      "/nfs/home/navid/src/FEC-1/src/disambiguation/core/Database.py:62: Warning: Unknown table 'tmp_F3z8fCqTa4AKPZj16Bbx'\n",
      "  cur.execute(query)\n"
     ]
    },
    {
     "name": "stdout",
     "output_type": "stream",
     "text": [
      "\n",
      "inserting...\n",
      "done.\n",
      "10000\n",
      "inserting...\n",
      "done.\n",
      "11000\n",
      "12000"
     ]
    },
    {
     "name": "stderr",
     "output_type": "stream",
     "text": [
      "/nfs/home/navid/src/FEC-1/src/disambiguation/core/Database.py:62: Warning: Unknown table 'tmp_mNCtr8VAJPDxDaNJLxk8'\n",
      "  cur.execute(query)\n",
      "/nfs/home/navid/src/FEC-1/src/disambiguation/core/Database.py:62: Warning: Unknown table 'tmp_Pn8gY0bewBkkXh1WKYmR'\n",
      "  cur.execute(query)\n"
     ]
    },
    {
     "name": "stdout",
     "output_type": "stream",
     "text": [
      "\n",
      "inserting...\n",
      "done.\n",
      "13000\n",
      "14000\n",
      "15000\n",
      "16000\n",
      "17000\n",
      "18000\n",
      "inserting...\n",
      "done.\n",
      "19000\n",
      "20000\n",
      "21000\n",
      "22000\n",
      "23000\n",
      "24000\n",
      "25000\n",
      "26000\n",
      "27000\n",
      "28000\n",
      "29000\n",
      "30000"
     ]
    },
    {
     "name": "stderr",
     "output_type": "stream",
     "text": [
      "/nfs/home/navid/src/FEC-1/src/disambiguation/core/Database.py:62: Warning: Unknown table 'tmp_OXB4F7f06XZWFUectdPX'\n",
      "  cur.execute(query)\n",
      "/nfs/home/navid/src/FEC-1/src/disambiguation/core/Database.py:62: Warning: Unknown table 'tmp_KMKex9sWvPzAtb3lamg6'\n",
      "  cur.execute(query)\n"
     ]
    },
    {
     "name": "stdout",
     "output_type": "stream",
     "text": [
      "\n",
      "inserting...\n",
      "done.\n",
      "31000\n",
      "32000\n",
      "33000\n",
      "inserting...\n",
      "done.\n",
      "34000\n",
      "35000\n",
      "36000\n",
      "37000\n",
      "38000\n",
      "39000\n",
      "40000"
     ]
    },
    {
     "name": "stderr",
     "output_type": "stream",
     "text": [
      "/nfs/home/navid/src/FEC-1/src/disambiguation/core/Database.py:62: Warning: Unknown table 'tmp_HhAkMClOZrs3hFijTNCS'\n",
      "  cur.execute(query)\n",
      "/nfs/home/navid/src/FEC-1/src/disambiguation/core/Database.py:62: Warning: Unknown table 'tmp_DW7sQCADzaG9OJEaKk14'\n",
      "  cur.execute(query)\n"
     ]
    },
    {
     "name": "stdout",
     "output_type": "stream",
     "text": [
      "\n",
      "inserting...\n",
      "done.\n",
      "41000\n",
      "42000\n",
      "43000\n",
      "44000\n",
      "inserting...\n",
      "done.\n",
      "45000"
     ]
    },
    {
     "name": "stderr",
     "output_type": "stream",
     "text": [
      "/nfs/home/navid/src/FEC-1/src/disambiguation/core/Database.py:62: Warning: Unknown table 'tmp_o2Vf0XRccqrTIMA55e7c'\n",
      "  cur.execute(query)\n",
      "/nfs/home/navid/src/FEC-1/src/disambiguation/core/Database.py:62: Warning: Unknown table 'tmp_J1cdcwfX3BPA2LtaI39d'\n",
      "  cur.execute(query)\n"
     ]
    },
    {
     "name": "stdout",
     "output_type": "stream",
     "text": [
      "\n",
      "inserting...\n",
      "done.\n",
      "46000\n",
      "47000\n",
      "inserting...\n",
      "done.\n",
      "48000\n",
      "49000\n",
      "50000\n",
      "51000\n",
      "52000\n",
      "53000\n",
      "54000"
     ]
    },
    {
     "name": "stderr",
     "output_type": "stream",
     "text": [
      "/nfs/home/navid/src/FEC-1/src/disambiguation/core/Database.py:62: Warning: Unknown table 'tmp_8uQp0ozSspSPcaD4a3H2'\n",
      "  cur.execute(query)\n",
      "/nfs/home/navid/src/FEC-1/src/disambiguation/core/Database.py:62: Warning: Unknown table 'tmp_K8IrnLPTwunTDZLAma7U'\n",
      "  cur.execute(query)\n"
     ]
    },
    {
     "name": "stdout",
     "output_type": "stream",
     "text": [
      "\n",
      "inserting...\n",
      "done.\n",
      "55000\n",
      "56000\n",
      "57000\n",
      "58000\n",
      "inserting..."
     ]
    },
    {
     "name": "stderr",
     "output_type": "stream",
     "text": [
      "/nfs/home/navid/src/FEC-1/src/disambiguation/core/Database.py:62: Warning: Unknown table 'tmp_prTFa28aTZamnSLTb19j'\n",
      "  cur.execute(query)\n",
      "/nfs/home/navid/src/FEC-1/src/disambiguation/core/Database.py:62: Warning: Unknown table 'tmp_Wwb0SYK0cS7mGbC2sgdg'\n",
      "  cur.execute(query)\n"
     ]
    },
    {
     "name": "stdout",
     "output_type": "stream",
     "text": [
      "\n",
      "done.\n",
      "inserting...\n",
      "done.\n",
      "59000\n",
      "60000\n",
      "61000\n",
      "62000\n",
      "inserting...\n",
      "done.\n",
      "63000\n",
      "64000\n",
      "65000\n",
      "66000\n",
      "67000"
     ]
    },
    {
     "name": "stderr",
     "output_type": "stream",
     "text": [
      "/nfs/home/navid/src/FEC-1/src/disambiguation/core/Database.py:62: Warning: Unknown table 'tmp_r8vxceEM0PoLlDsak6hN'\n",
      "  cur.execute(query)\n",
      "/nfs/home/navid/src/FEC-1/src/disambiguation/core/Database.py:62: Warning: Unknown table 'tmp_ZtzqfcGYg7wN38Fk5N78'\n",
      "  cur.execute(query)\n"
     ]
    },
    {
     "name": "stdout",
     "output_type": "stream",
     "text": [
      "\n",
      "inserting...\n",
      "done.\n",
      "68000\n",
      "69000\n",
      "70000\n",
      "71000\n",
      "72000\n",
      "73000\n",
      "74000\n",
      "75000\n",
      "inserting...\n",
      "done.\n",
      "76000\n",
      "77000\n",
      "78000\n",
      "79000\n",
      "80000\n",
      "81000\n",
      "82000\n",
      "83000"
     ]
    },
    {
     "name": "stderr",
     "output_type": "stream",
     "text": [
      "/nfs/home/navid/src/FEC-1/src/disambiguation/core/Database.py:62: Warning: Unknown table 'tmp_iFZrZmo5cIhiUMfwsVDL'\n",
      "  cur.execute(query)\n",
      "/nfs/home/navid/src/FEC-1/src/disambiguation/core/Database.py:62: Warning: Unknown table 'tmp_waPrrpCwPOF1BrkNj4cw'\n",
      "  cur.execute(query)\n"
     ]
    },
    {
     "name": "stdout",
     "output_type": "stream",
     "text": [
      "\n",
      "inserting...\n",
      "done.\n",
      "84000\n",
      "inserting...\n",
      "done.\n",
      "85000\n",
      "86000"
     ]
    },
    {
     "name": "stderr",
     "output_type": "stream",
     "text": [
      "/nfs/home/navid/src/FEC-1/src/disambiguation/core/Database.py:62: Warning: Unknown table 'tmp_Vg7HZMbsCIamewLMn4qu'\n",
      "  cur.execute(query)\n",
      "/nfs/home/navid/src/FEC-1/src/disambiguation/core/Database.py:62: Warning: Unknown table 'tmp_L1dZvd479ENVV6YQkgvF'\n",
      "  cur.execute(query)\n"
     ]
    },
    {
     "name": "stdout",
     "output_type": "stream",
     "text": [
      "\n",
      "inserting...\n",
      "done.\n",
      "87000\n",
      "inserting...\n",
      "done.\n",
      "88000\n",
      "89000"
     ]
    },
    {
     "name": "stderr",
     "output_type": "stream",
     "text": [
      "/nfs/home/navid/src/FEC-1/src/disambiguation/core/Database.py:62: Warning: Unknown table 'tmp_PJv8Qqv5ZV6aSvG4zsBn'\n",
      "  cur.execute(query)\n",
      "/nfs/home/navid/src/FEC-1/src/disambiguation/core/Database.py:62: Warning: Unknown table 'tmp_CBY2VDipmkojSVDifULd'\n",
      "  cur.execute(query)\n"
     ]
    },
    {
     "name": "stdout",
     "output_type": "stream",
     "text": [
      "\n",
      "inserting...\n",
      "done.\n",
      "90000\n",
      "inserting...\n",
      "done.\n",
      "91000\n",
      "92000\n",
      "93000\n",
      "94000"
     ]
    },
    {
     "name": "stderr",
     "output_type": "stream",
     "text": [
      "/nfs/home/navid/src/FEC-1/src/disambiguation/core/Database.py:62: Warning: Unknown table 'tmp_VqEGBmq6ARNeB87l1jBf'\n",
      "  cur.execute(query)\n",
      "/nfs/home/navid/src/FEC-1/src/disambiguation/core/Database.py:62: Warning: Unknown table 'tmp_LmDKESgVIbwHhDmZPZYJ'\n",
      "  cur.execute(query)\n"
     ]
    },
    {
     "name": "stdout",
     "output_type": "stream",
     "text": [
      "\n",
      "inserting...\n",
      "done.\n",
      "95000\n",
      "96000\n",
      "97000\n",
      "inserting...\n",
      "done.\n",
      "98000\n",
      "99000"
     ]
    },
    {
     "name": "stderr",
     "output_type": "stream",
     "text": [
      "/nfs/home/navid/src/FEC-1/src/disambiguation/core/Database.py:62: Warning: Unknown table 'tmp_8bE20fdKaESYmPstkhmN'\n",
      "  cur.execute(query)\n",
      "/nfs/home/navid/src/FEC-1/src/disambiguation/core/Database.py:62: Warning: Unknown table 'tmp_78znwKqh2XoAV00f0bkx'\n",
      "  cur.execute(query)\n"
     ]
    },
    {
     "name": "stdout",
     "output_type": "stream",
     "text": [
      "\n",
      "inserting...\n",
      "done.\n",
      "100000\n",
      "100001\n",
      "78638\n",
      "64719\n"
     ]
    }
   ],
   "source": [
    "counter = 0\n",
    "\n",
    "# Number of cases where there are at least two people \n",
    "# with the same last name in the same household.\n",
    "counter_2_people_same_last = 0\n",
    "\n",
    "counter_2_people = 0\n",
    "# with open('tmp.txt', 'w') as f:\n",
    "print \"navid\"\n",
    "for address, set_identities in dict_identities.iteritems():\n",
    "#     print address, set_identities\n",
    "    if len(set_identities) > 10: continue\n",
    "\n",
    "    list_names = []\n",
    "    for compound_identity in set_identities:\n",
    "        try:\n",
    "            p = load_compound_person(compound_identity)\n",
    "            name = p.get_dominant_attribute('NAME')\n",
    "#             name = 'ds'\n",
    "            if name: \n",
    "                list_names.append(name)\n",
    "        except Exception as e:\n",
    "            print \"ERROR OCCURRED\", e\n",
    "            \n",
    "    if counter % 1000 == 0:\n",
    "        print counter\n",
    "    \n",
    "    try:\n",
    "        lastnames = set([utils.splitname(name)[0] for name in list_names])\n",
    "    except: \n",
    "        print \"ERORORORORORORORORORRORORO\"\n",
    "        break\n",
    "    if len(list_names) == 2: \n",
    "        counter_2_people += 1\n",
    "\n",
    "    if len(lastnames) < len(list_names):\n",
    "        counter_2_people_same_last += 1\n",
    "\n",
    "#     print list_names\n",
    "\n",
    "    if counter > 10000000:\n",
    "        break\n",
    "    counter += 1\n",
    "\n",
    "print counter\n",
    "print counter_2_people\n",
    "print counter_2_people_same_last"
   ]
  },
  {
   "cell_type": "code",
   "execution_count": 89,
   "metadata": {
    "collapsed": false
   },
   "outputs": [
    {
     "data": {
      "text/plain": [
       "('CROCKETT', '', 'VICTORIA')"
      ]
     },
     "execution_count": 89,
     "metadata": {},
     "output_type": "execute_result"
    }
   ],
   "source": [
    "utils.splitname('CROCKETT, VICTORIA')"
   ]
  }
 ],
 "metadata": {
  "kernelspec": {
   "display_name": "Python 2",
   "language": "python",
   "name": "python2"
  },
  "language_info": {
   "codemirror_mode": {
    "name": "ipython",
    "version": 2
   },
   "file_extension": ".py",
   "mimetype": "text/x-python",
   "name": "python",
   "nbconvert_exporter": "python",
   "pygments_lexer": "ipython2",
   "version": "2.7.3"
  }
 },
 "nbformat": 4,
 "nbformat_minor": 0
}

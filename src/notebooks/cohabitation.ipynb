{
 "cells": [
  {
   "cell_type": "markdown",
   "metadata": {},
   "source": [
    "# Identifying cohabiting contributors "
   ]
  },
  {
   "cell_type": "markdown",
   "metadata": {},
   "source": [
    "In this exercise, we will look throughout the database and try to identify households where multiple individuals have made contributions while cohabiting.\n",
    "\n",
    "To do this, we will do the following:\n",
    "\n",
    "    1- Build a dictionary of all normalized addresses. Associate every address with the set of all its identities.\n",
    "    2- For those with multiple identities, do further processing.\n",
    "\n",
    "\n",
    "\n"
   ]
  },
  {
   "cell_type": "markdown",
   "metadata": {},
   "source": [
    "Problem: the normalized attributes file doesn't contain normalized addresses."
   ]
  },
  {
   "cell_type": "code",
   "execution_count": 21,
   "metadata": {
    "collapsed": false
   },
   "outputs": [],
   "source": [
    "import pandas as pd\n",
    "from disambiguation.core import Database\n",
    "from disambiguation.core import Person\n",
    "\n",
    "from disambiguation.core import utils\n",
    "from disambiguation import config\n",
    "import json\n",
    "from pprint import pprint"
   ]
  },
  {
   "cell_type": "code",
   "execution_count": 2,
   "metadata": {
    "collapsed": false
   },
   "outputs": [
    {
     "name": "stdout",
     "output_type": "stream",
     "text": [
      "Table 'identities_v5' exists.\n",
      "Table 'identities_adjacency_v5' exists.\n",
      "Table 'linked_identities_v5' exists.\n",
      "select id,identity from identities_v5;\n"
     ]
    }
   ],
   "source": [
    "idm = Database.IdentityManager('USA')\n",
    "idm.table_name_identities\n",
    "idm.fetch_dict_id_2_identity()"
   ]
  },
  {
   "cell_type": "code",
   "execution_count": 3,
   "metadata": {
    "collapsed": false
   },
   "outputs": [
    {
     "name": "stdout",
     "output_type": "stream",
     "text": [
      "select id,identity from identities_v5;\n"
     ]
    }
   ],
   "source": [
    "idm.fetch_dict_identity_2_id()"
   ]
  },
  {
   "cell_type": "code",
   "execution_count": 4,
   "metadata": {
    "collapsed": true
   },
   "outputs": [],
   "source": [
    "retriever = Database.FecRetriever('usa_combined_v2',\n",
    "                                  query_fields=['id', 'NAME','CONTRIBUTOR_STREET_1'\n",
    "                                                ,'ZIP_CODE', 'TRANSACTION_AMT', 'TRANSACTION_DT', 'CMTE_ID']\n",
    "                                 , where_clause=' WHERE CONTRIBUTOR_STREET_1 IS NOT NULL ')"
   ]
  },
  {
   "cell_type": "code",
   "execution_count": 5,
   "metadata": {
    "collapsed": true
   },
   "outputs": [],
   "source": [
    "retriever.retrieve()"
   ]
  },
  {
   "cell_type": "code",
   "execution_count": 6,
   "metadata": {
    "collapsed": false
   },
   "outputs": [
    {
     "name": "stdout",
     "output_type": "stream",
     "text": [
      "11508004\n"
     ]
    }
   ],
   "source": [
    "list_records = retriever.getRecords()\n",
    "print len(list_records)"
   ]
  },
  {
   "cell_type": "code",
   "execution_count": 7,
   "metadata": {
    "collapsed": false
   },
   "outputs": [],
   "source": [
    "dict_addresses = {}\n",
    "\n",
    "\n",
    "for r in list_records:\n",
    "    address, zipcode = r['CONTRIBUTOR_STREET_1'], r['ZIP_CODE']\n",
    "    address_full = (zipcode[:5], address)\n",
    "    rid = r.id\n",
    "    try:\n",
    "        dict_addresses[address_full].append(rid)\n",
    "    except:\n",
    "        dict_addresses[address_full] = [rid]"
   ]
  },
  {
   "cell_type": "code",
   "execution_count": 8,
   "metadata": {
    "collapsed": false
   },
   "outputs": [
    {
     "data": {
      "text/plain": [
       "4025475"
      ]
     },
     "execution_count": 8,
     "metadata": {},
     "output_type": "execute_result"
    }
   ],
   "source": [
    "len(dict_addresses)"
   ]
  },
  {
   "cell_type": "code",
   "execution_count": 9,
   "metadata": {
    "collapsed": false
   },
   "outputs": [
    {
     "name": "stdout",
     "output_type": "stream",
     "text": [
      "dict_linked_identities not loaded. Loading now...\n",
      "select identity1, identity2 from linked_identities_v5;\n"
     ]
    }
   ],
   "source": [
    "dict_identities = {}\n",
    "for address, list_rids in dict_addresses.iteritems():\n",
    "    set_identities = {idm.get_compound_identity(rid)[0] for rid in list_rids}\n",
    "    if len(set_identities) > 1:\n",
    "        dict_identities[address] = set_identities\n",
    "    \n",
    "    "
   ]
  },
  {
   "cell_type": "code",
   "execution_count": 10,
   "metadata": {
    "collapsed": false
   },
   "outputs": [
    {
     "name": "stdout",
     "output_type": "stream",
     "text": [
      "541894\n"
     ]
    }
   ],
   "source": [
    "print len(dict_identities)"
   ]
  },
  {
   "cell_type": "code",
   "execution_count": 11,
   "metadata": {
    "collapsed": false
   },
   "outputs": [
    {
     "name": "stdout",
     "output_type": "stream",
     "text": [
      "[10639568]\n",
      "[8305739, 8486565, 8839925, 8977749, 11969509, 13439119]\n"
     ]
    }
   ],
   "source": [
    "print idm.get_ids('OH-34442')\n",
    "print idm.get_ids('GA-36500')"
   ]
  },
  {
   "cell_type": "code",
   "execution_count": 12,
   "metadata": {
    "collapsed": false
   },
   "outputs": [
    {
     "name": "stdout",
     "output_type": "stream",
     "text": [
      "[4302189, 5809001, 6407902, 7695132]\n",
      "[4302191, 14867480]\n"
     ]
    }
   ],
   "source": [
    "print idm.get_ids('CA-459207')\n",
    "print idm.get_ids('CA-459208')"
   ]
  },
  {
   "cell_type": "code",
   "execution_count": 14,
   "metadata": {
    "collapsed": true
   },
   "outputs": [],
   "source": [
    "record_retriever = Database.FecRetrieverByID('usa_combined_v2')\n",
    "def load_compound_person(compound_identity):\n",
    "    '''\n",
    "    Given a compound identity, load all its records and\n",
    "    generate a Person object from them.\n",
    "    '''\n",
    "    s = compound_identity\n",
    "    list_rids = [rid for identity in s.split('|') for rid in idm.get_ids(identity)]\n",
    "#     f.write(\" \".join([str(rid) for rid in list_rids]) + \"\\n\")\n",
    "    record_retriever.retrieve(list_rids)\n",
    "    list_records = record_retriever.getRecords()\n",
    "    \n",
    "    p = Person.Person(list_records)\n",
    "    return p\n",
    "\n",
    "\n",
    "def get_date_range(p):\n",
    "    '''\n",
    "    Given a Person object, return a tuple consisting\n",
    "    of the first and last date of its contributions.\n",
    "    '''\n",
    "    list_dates = [r['TRANSACTION_DT'] for r in p.set_of_records]\n",
    "    list_dates.sort()\n",
    "    return (list_dates[0], list_dates[-1])\n",
    "\n",
    "def get_transactions(p):\n",
    "    '''\n",
    "    Extract and return the list of transactions of the\n",
    "    given Person object.\n",
    "    '''\n",
    "    return [(r.id, r['TRANSACTION_DT'], r['TRANSACTION_AMT'], r['CMTE_ID']) for r in p.set_of_records]\n"
   ]
  },
  {
   "cell_type": "code",
   "execution_count": 15,
   "metadata": {
    "collapsed": true
   },
   "outputs": [
    {
     "name": "stdout",
     "output_type": "stream",
     "text": [
      "0\n",
      "inserting...\n",
      "done.\n",
      "1000\n",
      "2000\n",
      "3000\n",
      "4000\n",
      "5000\n",
      "6000"
     ]
    },
    {
     "name": "stderr",
     "output_type": "stream",
     "text": [
      "/nfs/home/navid/src/FEC-1/src/disambiguation/core/Database.py:62: Warning: Unknown table 'tmp_LuSk23cENYkSNUUf42Ak'\n",
      "  cur.execute(query)\n",
      "/nfs/home/navid/src/FEC-1/src/disambiguation/core/Database.py:62: Warning: Unknown table 'tmp_ZBeeI5fw9G8JERl7MV1O'\n",
      "  cur.execute(query)\n"
     ]
    },
    {
     "name": "stdout",
     "output_type": "stream",
     "text": [
      "\n",
      "inserting...\n",
      "done.\n",
      "7000\n",
      "8000\n",
      "inserting...\n",
      "done.\n",
      "9000"
     ]
    },
    {
     "name": "stderr",
     "output_type": "stream",
     "text": [
      "/nfs/home/navid/src/FEC-1/src/disambiguation/core/Database.py:62: Warning: Unknown table 'tmp_jmJeG3kAfDfZcQ0RZdot'\n",
      "  cur.execute(query)\n",
      "/nfs/home/navid/src/FEC-1/src/disambiguation/core/Database.py:62: Warning: Unknown table 'tmp_zjoD29vfisQL29BdL13S'\n",
      "  cur.execute(query)\n"
     ]
    },
    {
     "name": "stdout",
     "output_type": "stream",
     "text": [
      "\n",
      "inserting...\n",
      "done.\n",
      "10000\n",
      "inserting...\n",
      "done.\n",
      "11000\n",
      "12000"
     ]
    },
    {
     "name": "stderr",
     "output_type": "stream",
     "text": [
      "/nfs/home/navid/src/FEC-1/src/disambiguation/core/Database.py:62: Warning: Unknown table 'tmp_hY9hbj2j0IKwh2JmJ7ES'\n",
      "  cur.execute(query)\n",
      "/nfs/home/navid/src/FEC-1/src/disambiguation/core/Database.py:62: Warning: Unknown table 'tmp_6qZ2DuhX3zFELYnwpbMh'\n",
      "  cur.execute(query)\n"
     ]
    },
    {
     "name": "stdout",
     "output_type": "stream",
     "text": [
      "\n",
      "inserting...\n",
      "done.\n",
      "13000\n",
      "14000\n",
      "15000\n",
      "16000\n",
      "17000\n",
      "18000\n",
      "inserting...\n",
      "done.\n",
      "19000\n",
      "20000\n",
      "21000\n",
      "22000\n",
      "23000\n",
      "24000\n",
      "25000\n",
      "26000\n",
      "27000\n",
      "28000\n",
      "29000\n",
      "30000"
     ]
    },
    {
     "name": "stderr",
     "output_type": "stream",
     "text": [
      "/nfs/home/navid/src/FEC-1/src/disambiguation/core/Database.py:62: Warning: Unknown table 'tmp_JjBWgoVeUG6Ins2fieqK'\n",
      "  cur.execute(query)\n",
      "/nfs/home/navid/src/FEC-1/src/disambiguation/core/Database.py:62: Warning: Unknown table 'tmp_cwP2s5acSHtoTSpVWR6g'\n",
      "  cur.execute(query)\n"
     ]
    },
    {
     "name": "stdout",
     "output_type": "stream",
     "text": [
      "\n",
      "inserting...\n",
      "done.\n",
      "31000\n",
      "32000\n",
      "33000\n",
      "inserting...\n",
      "done.\n",
      "34000\n",
      "35000\n",
      "36000\n",
      "37000\n",
      "38000\n",
      "39000\n",
      "40000"
     ]
    },
    {
     "name": "stderr",
     "output_type": "stream",
     "text": [
      "/nfs/home/navid/src/FEC-1/src/disambiguation/core/Database.py:62: Warning: Unknown table 'tmp_4d4NxhHsc92PltFC2kiQ'\n",
      "  cur.execute(query)\n",
      "/nfs/home/navid/src/FEC-1/src/disambiguation/core/Database.py:62: Warning: Unknown table 'tmp_JHuEMYQxcX204E7zXM0o'\n",
      "  cur.execute(query)\n"
     ]
    },
    {
     "name": "stdout",
     "output_type": "stream",
     "text": [
      "\n",
      "inserting...\n",
      "done.\n",
      "41000\n",
      "42000\n",
      "43000\n",
      "44000\n",
      "inserting...\n",
      "done.\n",
      "45000"
     ]
    },
    {
     "name": "stderr",
     "output_type": "stream",
     "text": [
      "/nfs/home/navid/src/FEC-1/src/disambiguation/core/Database.py:62: Warning: Unknown table 'tmp_j3jMbcUBLtrePQSOwBGF'\n",
      "  cur.execute(query)\n",
      "/nfs/home/navid/src/FEC-1/src/disambiguation/core/Database.py:62: Warning: Unknown table 'tmp_TO7dri3vjDBmB9kLO4gz'\n",
      "  cur.execute(query)\n"
     ]
    },
    {
     "name": "stdout",
     "output_type": "stream",
     "text": [
      "\n",
      "inserting...\n",
      "done.\n",
      "46000\n",
      "47000\n",
      "inserting...\n",
      "done.\n",
      "48000\n",
      "49000\n",
      "50000\n",
      "51000\n",
      "52000\n",
      "53000\n",
      "54000"
     ]
    },
    {
     "name": "stderr",
     "output_type": "stream",
     "text": [
      "/nfs/home/navid/src/FEC-1/src/disambiguation/core/Database.py:62: Warning: Unknown table 'tmp_LUjH7p66RG2O4rrPjPHQ'\n",
      "  cur.execute(query)\n",
      "/nfs/home/navid/src/FEC-1/src/disambiguation/core/Database.py:62: Warning: Unknown table 'tmp_5cUwAwMhzZI4L3tbqEJ4'\n",
      "  cur.execute(query)\n"
     ]
    },
    {
     "name": "stdout",
     "output_type": "stream",
     "text": [
      "\n",
      "inserting...\n",
      "done.\n",
      "55000\n",
      "56000\n",
      "57000\n",
      "58000\n",
      "inserting...\n",
      "done."
     ]
    },
    {
     "name": "stderr",
     "output_type": "stream",
     "text": [
      "/nfs/home/navid/src/FEC-1/src/disambiguation/core/Database.py:62: Warning: Unknown table 'tmp_VplaOCOMtGLu4zhH9VB9'\n",
      "  cur.execute(query)\n",
      "/nfs/home/navid/src/FEC-1/src/disambiguation/core/Database.py:62: Warning: Unknown table 'tmp_KUpU9Eed3cedet9xQFUi'\n",
      "  cur.execute(query)\n"
     ]
    },
    {
     "name": "stdout",
     "output_type": "stream",
     "text": [
      "\n",
      "inserting...\n",
      "done.\n",
      "59000\n",
      "60000\n",
      "61000\n",
      "62000\n",
      "inserting...\n",
      "done.\n",
      "63000\n",
      "64000\n",
      "65000\n",
      "66000\n",
      "67000"
     ]
    },
    {
     "name": "stderr",
     "output_type": "stream",
     "text": [
      "/nfs/home/navid/src/FEC-1/src/disambiguation/core/Database.py:62: Warning: Unknown table 'tmp_NGSFSQVuB8aMRhwXufQW'\n",
      "  cur.execute(query)\n",
      "/nfs/home/navid/src/FEC-1/src/disambiguation/core/Database.py:62: Warning: Unknown table 'tmp_6woIv3HrfXSeruuX0jSu'\n",
      "  cur.execute(query)\n"
     ]
    },
    {
     "name": "stdout",
     "output_type": "stream",
     "text": [
      "\n",
      "inserting...\n",
      "done.\n",
      "68000\n",
      "69000\n",
      "70000\n",
      "71000\n",
      "72000\n",
      "73000\n",
      "74000\n",
      "75000\n",
      "inserting...\n",
      "done.\n",
      "76000\n",
      "77000\n",
      "78000\n",
      "79000\n",
      "80000\n",
      "81000\n",
      "82000\n",
      "83000"
     ]
    },
    {
     "name": "stderr",
     "output_type": "stream",
     "text": [
      "/nfs/home/navid/src/FEC-1/src/disambiguation/core/Database.py:62: Warning: Unknown table 'tmp_ulnJdBt1rMWNJ785mEa3'\n",
      "  cur.execute(query)\n",
      "/nfs/home/navid/src/FEC-1/src/disambiguation/core/Database.py:62: Warning: Unknown table 'tmp_JfC76zVJRVTFDco6GpdA'\n",
      "  cur.execute(query)\n"
     ]
    },
    {
     "name": "stdout",
     "output_type": "stream",
     "text": [
      "\n",
      "inserting...\n",
      "done.\n",
      "84000\n",
      "inserting...\n",
      "done.\n",
      "85000\n",
      "86000"
     ]
    },
    {
     "name": "stderr",
     "output_type": "stream",
     "text": [
      "/nfs/home/navid/src/FEC-1/src/disambiguation/core/Database.py:62: Warning: Unknown table 'tmp_qkvoHopg6XPHGdi9xUGb'\n",
      "  cur.execute(query)\n",
      "/nfs/home/navid/src/FEC-1/src/disambiguation/core/Database.py:62: Warning: Unknown table 'tmp_cBLIba3Rv2GFQBjwjelc'\n",
      "  cur.execute(query)\n"
     ]
    },
    {
     "name": "stdout",
     "output_type": "stream",
     "text": [
      "\n",
      "inserting...\n",
      "done.\n",
      "87000\n",
      "inserting...\n",
      "done.\n",
      "88000\n",
      "89000"
     ]
    },
    {
     "name": "stderr",
     "output_type": "stream",
     "text": [
      "/nfs/home/navid/src/FEC-1/src/disambiguation/core/Database.py:62: Warning: Unknown table 'tmp_BWX8IpPs0hl5EuYB6v4n'\n",
      "  cur.execute(query)\n",
      "/nfs/home/navid/src/FEC-1/src/disambiguation/core/Database.py:62: Warning: Unknown table 'tmp_KLME4S1efwjmcGMRuOBE'\n",
      "  cur.execute(query)\n"
     ]
    },
    {
     "name": "stdout",
     "output_type": "stream",
     "text": [
      "\n",
      "inserting...\n",
      "done.\n",
      "90000\n",
      "inserting...\n",
      "done.\n",
      "91000\n",
      "92000\n",
      "93000\n",
      "94000"
     ]
    },
    {
     "name": "stderr",
     "output_type": "stream",
     "text": [
      "/nfs/home/navid/src/FEC-1/src/disambiguation/core/Database.py:62: Warning: Unknown table 'tmp_p5HdgbbBVhmc8JDg8uAU'\n",
      "  cur.execute(query)\n",
      "/nfs/home/navid/src/FEC-1/src/disambiguation/core/Database.py:62: Warning: Unknown table 'tmp_LX79TUOLI4N8qKDoN6ra'\n",
      "  cur.execute(query)\n"
     ]
    },
    {
     "name": "stdout",
     "output_type": "stream",
     "text": [
      "\n",
      "inserting...\n",
      "done.\n",
      "95000\n",
      "96000\n",
      "97000\n",
      "inserting...\n",
      "done.\n",
      "98000\n",
      "99000"
     ]
    },
    {
     "name": "stderr",
     "output_type": "stream",
     "text": [
      "/nfs/home/navid/src/FEC-1/src/disambiguation/core/Database.py:62: Warning: Unknown table 'tmp_enosKbda1Woq7mX5iEhJ'\n",
      "  cur.execute(query)\n",
      "/nfs/home/navid/src/FEC-1/src/disambiguation/core/Database.py:62: Warning: Unknown table 'tmp_Y8S31UwgOZCumNDouk29'\n",
      "  cur.execute(query)\n"
     ]
    },
    {
     "name": "stdout",
     "output_type": "stream",
     "text": [
      "\n",
      "inserting...\n",
      "done.\n",
      "100000\n",
      "inserting...\n",
      "done.\n",
      "101000\n",
      "102000\n",
      "103000\n",
      "104000\n",
      "105000\n",
      "106000\n",
      "107000\n",
      "108000"
     ]
    },
    {
     "name": "stderr",
     "output_type": "stream",
     "text": [
      "/nfs/home/navid/src/FEC-1/src/disambiguation/core/Database.py:62: Warning: Unknown table 'tmp_7OCWFpSGq7rQCedBFxdE'\n",
      "  cur.execute(query)\n",
      "/nfs/home/navid/src/FEC-1/src/disambiguation/core/Database.py:62: Warning: Unknown table 'tmp_kOm5bcIm5HmWYvAeCwiN'\n",
      "  cur.execute(query)\n"
     ]
    },
    {
     "name": "stdout",
     "output_type": "stream",
     "text": [
      "\n",
      "inserting...\n",
      "done.\n",
      "109000\n",
      "110000\n",
      "111000\n",
      "112000\n",
      "113000\n",
      "114000\n",
      "115000\n",
      "116000\n",
      "inserting...\n",
      "done.\n",
      "117000"
     ]
    },
    {
     "name": "stderr",
     "output_type": "stream",
     "text": [
      "/nfs/home/navid/src/FEC-1/src/disambiguation/core/Database.py:62: Warning: Unknown table 'tmp_51PWFPlUwSeYrtfhH2bA'\n",
      "  cur.execute(query)\n",
      "/nfs/home/navid/src/FEC-1/src/disambiguation/core/Database.py:62: Warning: Unknown table 'tmp_i3gawCpMJJbGfApceoMd'\n",
      "  cur.execute(query)\n"
     ]
    },
    {
     "name": "stdout",
     "output_type": "stream",
     "text": [
      "\n",
      "inserting...\n",
      "done.\n",
      "118000\n",
      "inserting...\n",
      "done.\n",
      "119000"
     ]
    },
    {
     "name": "stderr",
     "output_type": "stream",
     "text": [
      "/nfs/home/navid/src/FEC-1/src/disambiguation/core/Database.py:62: Warning: Unknown table 'tmp_4W6HYfMALFgWUigqttQV'\n",
      "  cur.execute(query)\n",
      "/nfs/home/navid/src/FEC-1/src/disambiguation/core/Database.py:62: Warning: Unknown table 'tmp_7F4MxUQfc7nO1V4M08QZ'\n",
      "  cur.execute(query)\n"
     ]
    },
    {
     "name": "stdout",
     "output_type": "stream",
     "text": [
      "\n",
      "inserting...\n",
      "done.\n",
      "120000\n",
      "121000\n",
      "122000\n",
      "123000\n",
      "inserting...\n",
      "done.\n",
      "124000\n",
      "125000\n",
      "126000\n",
      "127000"
     ]
    },
    {
     "name": "stderr",
     "output_type": "stream",
     "text": [
      "/nfs/home/navid/src/FEC-1/src/disambiguation/core/Database.py:62: Warning: Unknown table 'tmp_hLiPUW15N6WaMSixfehx'\n",
      "  cur.execute(query)\n",
      "/nfs/home/navid/src/FEC-1/src/disambiguation/core/Database.py:62: Warning: Unknown table 'tmp_nxXfzcEiHNpAZL3aTJbj'\n",
      "  cur.execute(query)\n"
     ]
    },
    {
     "name": "stdout",
     "output_type": "stream",
     "text": [
      "\n",
      "inserting...\n",
      "done.\n",
      "128000\n",
      "129000\n",
      "130000\n",
      "131000\n",
      "132000\n",
      "133000\n",
      "inserting...\n",
      "done.\n",
      "134000\n",
      "135000\n",
      "136000\n",
      "137000\n",
      "138000\n",
      "139000"
     ]
    },
    {
     "name": "stderr",
     "output_type": "stream",
     "text": [
      "/nfs/home/navid/src/FEC-1/src/disambiguation/core/Database.py:62: Warning: Unknown table 'tmp_Eqj0aglS5TP9OXKumHeq'\n",
      "  cur.execute(query)\n",
      "/nfs/home/navid/src/FEC-1/src/disambiguation/core/Database.py:62: Warning: Unknown table 'tmp_HSCZHVP6LL9da69HZqvU'\n",
      "  cur.execute(query)\n"
     ]
    },
    {
     "name": "stdout",
     "output_type": "stream",
     "text": [
      "\n",
      "inserting...\n",
      "done.\n",
      "140000\n",
      "141000\n",
      "142000\n",
      "143000\n",
      "144000\n",
      "145000\n",
      "146000\n",
      "147000\n",
      "148000\n",
      "149000\n",
      "150000\n",
      "151000\n",
      "152000\n",
      "153000\n",
      "inserting...\n",
      "done.\n",
      "154000\n",
      "155000\n",
      "156000"
     ]
    },
    {
     "name": "stderr",
     "output_type": "stream",
     "text": [
      "/nfs/home/navid/src/FEC-1/src/disambiguation/core/Database.py:62: Warning: Unknown table 'tmp_FqB931lmreJSNK7n81Ij'\n",
      "  cur.execute(query)\n",
      "/nfs/home/navid/src/FEC-1/src/disambiguation/core/Database.py:62: Warning: Unknown table 'tmp_WKkP9YB3jcb9Rjx2PVuj'\n",
      "  cur.execute(query)\n"
     ]
    },
    {
     "name": "stdout",
     "output_type": "stream",
     "text": [
      "\n",
      "inserting...\n",
      "done.\n",
      "157000\n",
      "158000\n",
      "159000\n",
      "160000\n",
      "161000\n",
      "162000\n",
      "163000\n",
      "inserting...\n",
      "done.\n",
      "164000\n",
      "165000\n",
      "166000\n",
      "167000\n",
      "168000\n",
      "169000\n",
      "170000\n",
      "171000\n",
      "172000\n",
      "173000\n",
      "174000"
     ]
    },
    {
     "name": "stderr",
     "output_type": "stream",
     "text": [
      "/nfs/home/navid/src/FEC-1/src/disambiguation/core/Database.py:62: Warning: Unknown table 'tmp_9CdGEJYXJiIukHqB0efh'\n",
      "  cur.execute(query)\n",
      "/nfs/home/navid/src/FEC-1/src/disambiguation/core/Database.py:62: Warning: Unknown table 'tmp_YEximDZZLSjDrZzxuI8V'\n",
      "  cur.execute(query)\n"
     ]
    },
    {
     "name": "stdout",
     "output_type": "stream",
     "text": [
      "\n",
      "inserting...\n",
      "done.\n",
      "175000\n",
      "176000\n",
      "177000\n",
      "178000\n",
      "179000\n",
      "180000\n",
      "inserting...\n",
      "done."
     ]
    },
    {
     "name": "stderr",
     "output_type": "stream",
     "text": [
      "/nfs/home/navid/src/FEC-1/src/disambiguation/core/Database.py:62: Warning: Unknown table 'tmp_o1P7STIzp92pT9AnswUp'\n",
      "  cur.execute(query)\n",
      "/nfs/home/navid/src/FEC-1/src/disambiguation/core/Database.py:62: Warning: Unknown table 'tmp_XJXs0Q91ao3EO8830Ol5'\n",
      "  cur.execute(query)\n"
     ]
    },
    {
     "name": "stdout",
     "output_type": "stream",
     "text": [
      "\n",
      "inserting...\n",
      "done.\n",
      "181000\n",
      "182000\n",
      "183000\n",
      "184000\n",
      "inserting...\n",
      "done.\n",
      "185000"
     ]
    },
    {
     "name": "stderr",
     "output_type": "stream",
     "text": [
      "/nfs/home/navid/src/FEC-1/src/disambiguation/core/Database.py:62: Warning: Unknown table 'tmp_q1Yfkr2RO37HmeDIRzoV'\n",
      "  cur.execute(query)\n",
      "/nfs/home/navid/src/FEC-1/src/disambiguation/core/Database.py:62: Warning: Unknown table 'tmp_sKNpEYKBY8pXooLqWBtF'\n",
      "  cur.execute(query)\n"
     ]
    },
    {
     "name": "stdout",
     "output_type": "stream",
     "text": [
      "\n",
      "inserting...\n",
      "done.\n",
      "186000\n",
      "inserting...\n",
      "done.\n",
      "187000\n",
      "188000\n",
      "189000\n",
      "190000\n",
      "191000\n",
      "192000\n",
      "193000"
     ]
    },
    {
     "name": "stderr",
     "output_type": "stream",
     "text": [
      "/nfs/home/navid/src/FEC-1/src/disambiguation/core/Database.py:62: Warning: Unknown table 'tmp_YYFcC0RSNO9tX2FjiBYU'\n",
      "  cur.execute(query)\n",
      "/nfs/home/navid/src/FEC-1/src/disambiguation/core/Database.py:62: Warning: Unknown table 'tmp_dG5SlkEqfKni9af4vNc8'\n",
      "  cur.execute(query)\n"
     ]
    },
    {
     "name": "stdout",
     "output_type": "stream",
     "text": [
      "\n",
      "inserting...\n",
      "done.\n",
      "194000\n",
      "195000\n",
      "196000\n",
      "197000\n",
      "inserting...\n",
      "done.\n",
      "198000\n",
      "199000\n",
      "200000\n",
      "201000\n",
      "202000"
     ]
    },
    {
     "name": "stderr",
     "output_type": "stream",
     "text": [
      "/nfs/home/navid/src/FEC-1/src/disambiguation/core/Database.py:62: Warning: Unknown table 'tmp_wxJG1zwwEBWrM5aJucAZ'\n",
      "  cur.execute(query)\n",
      "/nfs/home/navid/src/FEC-1/src/disambiguation/core/Database.py:62: Warning: Unknown table 'tmp_mXF70hXu8AEW4m96o6Tt'\n",
      "  cur.execute(query)\n"
     ]
    },
    {
     "name": "stdout",
     "output_type": "stream",
     "text": [
      "\n",
      "inserting...\n",
      "done.\n",
      "203000\n",
      "inserting...\n",
      "done.\n",
      "204000\n",
      "205000\n",
      "206000\n",
      "207000\n",
      "208000"
     ]
    },
    {
     "name": "stderr",
     "output_type": "stream",
     "text": [
      "/nfs/home/navid/src/FEC-1/src/disambiguation/core/Database.py:62: Warning: Unknown table 'tmp_ooCeXL8eZdZajoBOcqb5'\n",
      "  cur.execute(query)\n",
      "/nfs/home/navid/src/FEC-1/src/disambiguation/core/Database.py:62: Warning: Unknown table 'tmp_uHhYRdrmkmqK5COcIv4E'\n",
      "  cur.execute(query)\n"
     ]
    },
    {
     "name": "stdout",
     "output_type": "stream",
     "text": [
      "\n",
      "inserting...\n",
      "done.\n",
      "209000\n",
      "210000\n",
      "211000\n",
      "212000\n",
      "213000\n",
      "214000\n",
      "215000\n",
      "216000\n",
      "217000\n",
      "218000\n",
      "219000\n",
      "inserting...\n",
      "done.\n",
      "220000\n",
      "221000\n",
      "222000"
     ]
    },
    {
     "name": "stderr",
     "output_type": "stream",
     "text": [
      "/nfs/home/navid/src/FEC-1/src/disambiguation/core/Database.py:62: Warning: Unknown table 'tmp_F2FghoRYEuP5SQvQsO9J'\n",
      "  cur.execute(query)\n",
      "/nfs/home/navid/src/FEC-1/src/disambiguation/core/Database.py:62: Warning: Unknown table 'tmp_droeKddQb6XsfLDwCuqV'\n",
      "  cur.execute(query)\n"
     ]
    },
    {
     "name": "stdout",
     "output_type": "stream",
     "text": [
      "\n",
      "inserting...\n",
      "done.\n",
      "223000\n",
      "224000\n",
      "225000\n",
      "inserting...\n",
      "done.\n",
      "226000\n",
      "227000\n",
      "228000\n",
      "229000\n",
      "230000\n",
      "231000\n",
      "232000\n",
      "233000\n",
      "234000\n",
      "235000\n",
      "236000\n",
      "237000\n",
      "238000"
     ]
    },
    {
     "name": "stderr",
     "output_type": "stream",
     "text": [
      "/nfs/home/navid/src/FEC-1/src/disambiguation/core/Database.py:62: Warning: Unknown table 'tmp_EU5nFASE8iMXbzrxzKva'\n",
      "  cur.execute(query)\n",
      "/nfs/home/navid/src/FEC-1/src/disambiguation/core/Database.py:62: Warning: Unknown table 'tmp_LevrzMD8cZnHgUMlSZtE'\n",
      "  cur.execute(query)\n"
     ]
    },
    {
     "name": "stdout",
     "output_type": "stream",
     "text": [
      "\n",
      "inserting...\n",
      "done.\n",
      "239000\n",
      "240000\n",
      "241000\n",
      "242000\n",
      "243000\n",
      "244000\n",
      "245000\n",
      "246000\n",
      "247000\n",
      "248000\n",
      "249000\n",
      "250000\n",
      "251000\n",
      "252000\n",
      "253000\n",
      "254000\n",
      "inserting...\n",
      "done.\n",
      "255000\n",
      "256000\n",
      "257000\n",
      "258000"
     ]
    },
    {
     "name": "stderr",
     "output_type": "stream",
     "text": [
      "/nfs/home/navid/src/FEC-1/src/disambiguation/core/Database.py:62: Warning: Unknown table 'tmp_9LCzKK8n0wbqzYD8Cf8d'\n",
      "  cur.execute(query)\n",
      "/nfs/home/navid/src/FEC-1/src/disambiguation/core/Database.py:62: Warning: Unknown table 'tmp_PgHRpLg0Dx4QdtocUk1U'\n",
      "  cur.execute(query)\n"
     ]
    },
    {
     "name": "stdout",
     "output_type": "stream",
     "text": [
      "\n",
      "inserting...\n",
      "done.\n",
      "259000\n",
      "260000\n",
      "261000\n",
      "262000\n",
      "inserting...\n",
      "done.\n",
      "263000\n",
      "264000\n",
      "265000"
     ]
    },
    {
     "name": "stderr",
     "output_type": "stream",
     "text": [
      "/nfs/home/navid/src/FEC-1/src/disambiguation/core/Database.py:62: Warning: Unknown table 'tmp_Yjg7BH0H4FHa3IbxuNfW'\n",
      "  cur.execute(query)\n",
      "/nfs/home/navid/src/FEC-1/src/disambiguation/core/Database.py:62: Warning: Unknown table 'tmp_WWJZDdj0qhukotLR1T5X'\n",
      "  cur.execute(query)\n"
     ]
    },
    {
     "name": "stdout",
     "output_type": "stream",
     "text": [
      "\n",
      "inserting...\n",
      "done.\n",
      "266000\n",
      "267000\n",
      "268000\n",
      "269000\n",
      "270000\n",
      "inserting...\n",
      "done.\n",
      "271000"
     ]
    },
    {
     "name": "stderr",
     "output_type": "stream",
     "text": [
      "/nfs/home/navid/src/FEC-1/src/disambiguation/core/Database.py:62: Warning: Unknown table 'tmp_SdgGLnNAdxkLk5MbZhIa'\n",
      "  cur.execute(query)\n",
      "/nfs/home/navid/src/FEC-1/src/disambiguation/core/Database.py:62: Warning: Unknown table 'tmp_z0U4vKqKfrcIJucWljR5'\n",
      "  cur.execute(query)\n"
     ]
    },
    {
     "name": "stdout",
     "output_type": "stream",
     "text": [
      "\n",
      "inserting...\n",
      "done.\n",
      "272000\n",
      "273000\n",
      "274000\n",
      "275000\n",
      "276000\n",
      "277000\n",
      "278000\n",
      "inserting...\n",
      "done.\n",
      "279000\n",
      "280000\n",
      "281000"
     ]
    },
    {
     "name": "stderr",
     "output_type": "stream",
     "text": [
      "/nfs/home/navid/src/FEC-1/src/disambiguation/core/Database.py:62: Warning: Unknown table 'tmp_nU6ak1H47dBQKjf2nSjX'\n",
      "  cur.execute(query)\n",
      "/nfs/home/navid/src/FEC-1/src/disambiguation/core/Database.py:62: Warning: Unknown table 'tmp_Ae17ctnaIi5lOE9N613r'\n",
      "  cur.execute(query)\n"
     ]
    },
    {
     "name": "stdout",
     "output_type": "stream",
     "text": [
      "\n",
      "inserting...\n",
      "done.\n",
      "282000\n",
      "inserting..."
     ]
    },
    {
     "name": "stderr",
     "output_type": "stream",
     "text": [
      "/nfs/home/navid/src/FEC-1/src/disambiguation/core/Database.py:62: Warning: Unknown table 'tmp_9gjPMxNJHL9PYsfcjSw8'\n",
      "  cur.execute(query)\n",
      "/nfs/home/navid/src/FEC-1/src/disambiguation/core/Database.py:62: Warning: Unknown table 'tmp_dFxsD4TtjuDjveTBDaJq'\n",
      "  cur.execute(query)\n"
     ]
    },
    {
     "name": "stdout",
     "output_type": "stream",
     "text": [
      "\n",
      "done.\n",
      "inserting...\n",
      "done.\n",
      "283000\n",
      "inserting...\n",
      "done.\n",
      "284000\n",
      "285000\n",
      "286000\n",
      "287000\n",
      "288000"
     ]
    },
    {
     "name": "stderr",
     "output_type": "stream",
     "text": [
      "/nfs/home/navid/src/FEC-1/src/disambiguation/core/Database.py:62: Warning: Unknown table 'tmp_umUnooe9P5YpNSNtauuU'\n",
      "  cur.execute(query)\n",
      "/nfs/home/navid/src/FEC-1/src/disambiguation/core/Database.py:62: Warning: Unknown table 'tmp_U0RkPac1rxCk1DDzIawH'\n",
      "  cur.execute(query)\n"
     ]
    },
    {
     "name": "stdout",
     "output_type": "stream",
     "text": [
      "\n",
      "inserting...\n",
      "done.\n",
      "289000\n",
      "290000\n",
      "291000\n",
      "292000\n",
      "293000\n",
      "294000\n",
      "295000\n",
      "296000\n",
      "297000\n",
      "298000\n",
      "299000\n",
      "300000\n",
      "inserting...\n",
      "done.\n",
      "301000\n",
      "302000\n",
      "303000"
     ]
    },
    {
     "name": "stderr",
     "output_type": "stream",
     "text": [
      "/nfs/home/navid/src/FEC-1/src/disambiguation/core/Database.py:62: Warning: Unknown table 'tmp_pIgS2CMhDYAPZwoRGX0X'\n",
      "  cur.execute(query)\n",
      "/nfs/home/navid/src/FEC-1/src/disambiguation/core/Database.py:62: Warning: Unknown table 'tmp_fSgIpnvYZBU1cnSU4fio'\n",
      "  cur.execute(query)\n"
     ]
    },
    {
     "name": "stdout",
     "output_type": "stream",
     "text": [
      "\n",
      "inserting...\n",
      "done.\n",
      "304000\n",
      "305000\n",
      "306000\n",
      "inserting...\n",
      "done.\n",
      "307000\n",
      "308000\n",
      "309000\n",
      "310000\n",
      "311000\n",
      "312000"
     ]
    },
    {
     "name": "stderr",
     "output_type": "stream",
     "text": [
      "/nfs/home/navid/src/FEC-1/src/disambiguation/core/Database.py:62: Warning: Unknown table 'tmp_zlPrLR7wPWjaiSTQFR6L'\n",
      "  cur.execute(query)\n",
      "/nfs/home/navid/src/FEC-1/src/disambiguation/core/Database.py:62: Warning: Unknown table 'tmp_nq5ImeQtiA0x0WfGfjgB'\n",
      "  cur.execute(query)\n"
     ]
    },
    {
     "name": "stdout",
     "output_type": "stream",
     "text": [
      "\n",
      "inserting...\n",
      "done.\n",
      "313000\n",
      "314000\n",
      "315000\n",
      "inserting...\n",
      "done.\n",
      "316000"
     ]
    },
    {
     "name": "stderr",
     "output_type": "stream",
     "text": [
      "/nfs/home/navid/src/FEC-1/src/disambiguation/core/Database.py:62: Warning: Unknown table 'tmp_MMGMrtqkgvMeY4WUJOAX'\n",
      "  cur.execute(query)\n",
      "/nfs/home/navid/src/FEC-1/src/disambiguation/core/Database.py:62: Warning: Unknown table 'tmp_sfaHSXFTeXVbtbZGBWeH'\n",
      "  cur.execute(query)\n"
     ]
    },
    {
     "name": "stdout",
     "output_type": "stream",
     "text": [
      "\n",
      "inserting...\n",
      "done.\n",
      "317000\n",
      "318000\n",
      "319000\n",
      "320000\n",
      "321000\n",
      "322000\n",
      "inserting...\n",
      "done."
     ]
    },
    {
     "name": "stderr",
     "output_type": "stream",
     "text": [
      "/nfs/home/navid/src/FEC-1/src/disambiguation/core/Database.py:62: Warning: Unknown table 'tmp_MoqKvOH9kGjsXhXCtQsj'\n",
      "  cur.execute(query)\n",
      "/nfs/home/navid/src/FEC-1/src/disambiguation/core/Database.py:62: Warning: Unknown table 'tmp_2GxCtRSYsOjmCti711j6'\n",
      "  cur.execute(query)\n"
     ]
    },
    {
     "name": "stdout",
     "output_type": "stream",
     "text": [
      "\n",
      "inserting...\n",
      "done.\n",
      "323000\n",
      "324000\n",
      "325000\n",
      "326000\n",
      "327000\n",
      "328000\n",
      "inserting...\n",
      "done.\n",
      "329000\n",
      "330000\n",
      "331000\n",
      "332000\n",
      "333000\n",
      "334000\n",
      "335000\n",
      "336000"
     ]
    },
    {
     "name": "stderr",
     "output_type": "stream",
     "text": [
      "/nfs/home/navid/src/FEC-1/src/disambiguation/core/Database.py:62: Warning: Unknown table 'tmp_NGi69lHkmv3x37SuIqiJ'\n",
      "  cur.execute(query)\n",
      "/nfs/home/navid/src/FEC-1/src/disambiguation/core/Database.py:62: Warning: Unknown table 'tmp_kuqcpie5HMiZrRc0RM7L'\n",
      "  cur.execute(query)\n"
     ]
    },
    {
     "name": "stdout",
     "output_type": "stream",
     "text": [
      "\n",
      "inserting...\n",
      "done.\n",
      "337000\n",
      "338000\n",
      "339000\n",
      "340000\n",
      "341000\n",
      "inserting...\n",
      "done.\n",
      "342000\n",
      "343000\n",
      "344000\n",
      "345000"
     ]
    },
    {
     "name": "stderr",
     "output_type": "stream",
     "text": [
      "/nfs/home/navid/src/FEC-1/src/disambiguation/core/Database.py:62: Warning: Unknown table 'tmp_qjWeVMmzOsBqRTPeqWN9'\n",
      "  cur.execute(query)\n",
      "/nfs/home/navid/src/FEC-1/src/disambiguation/core/Database.py:62: Warning: Unknown table 'tmp_fqpXoGks20EbiRBqvnfF'\n",
      "  cur.execute(query)\n"
     ]
    },
    {
     "name": "stdout",
     "output_type": "stream",
     "text": [
      "\n",
      "inserting...\n",
      "done.\n",
      "346000\n",
      "347000\n",
      "348000\n",
      "349000\n",
      "350000\n",
      "351000\n",
      "352000\n",
      "353000\n",
      "inserting...\n",
      "done.\n",
      "354000\n",
      "355000\n",
      "356000\n",
      "357000\n",
      "358000\n",
      "359000\n",
      "360000\n",
      "361000\n",
      "362000\n",
      "363000\n",
      "364000\n",
      "365000\n",
      "366000\n",
      "367000"
     ]
    },
    {
     "name": "stderr",
     "output_type": "stream",
     "text": [
      "/nfs/home/navid/src/FEC-1/src/disambiguation/core/Database.py:62: Warning: Unknown table 'tmp_Mv5aOBbYN7dhDVg32SLd'\n",
      "  cur.execute(query)\n",
      "/nfs/home/navid/src/FEC-1/src/disambiguation/core/Database.py:62: Warning: Unknown table 'tmp_LemxAjOsaHSbCn2rVm3K'\n",
      "  cur.execute(query)\n"
     ]
    },
    {
     "name": "stdout",
     "output_type": "stream",
     "text": [
      "\n",
      "inserting...\n",
      "done.\n",
      "368000\n",
      "369000\n",
      "inserting...\n",
      "done.\n",
      "370000\n",
      "371000\n",
      "372000"
     ]
    },
    {
     "name": "stderr",
     "output_type": "stream",
     "text": [
      "/nfs/home/navid/src/FEC-1/src/disambiguation/core/Database.py:62: Warning: Unknown table 'tmp_3WqgKQYJVwhR4HwWz2BR'\n",
      "  cur.execute(query)\n",
      "/nfs/home/navid/src/FEC-1/src/disambiguation/core/Database.py:62: Warning: Unknown table 'tmp_hfg4596qggtXpShUmQco'\n",
      "  cur.execute(query)\n"
     ]
    },
    {
     "name": "stdout",
     "output_type": "stream",
     "text": [
      "\n",
      "inserting...\n",
      "done.\n",
      "373000\n",
      "374000\n",
      "375000\n",
      "376000\n",
      "inserting...\n",
      "done.\n",
      "377000\n",
      "378000\n",
      "379000\n",
      "380000\n",
      "381000\n",
      "382000\n",
      "383000"
     ]
    },
    {
     "name": "stderr",
     "output_type": "stream",
     "text": [
      "/nfs/home/navid/src/FEC-1/src/disambiguation/core/Database.py:62: Warning: Unknown table 'tmp_iWqelUblj6jh8Sbm0qUH'\n",
      "  cur.execute(query)\n",
      "/nfs/home/navid/src/FEC-1/src/disambiguation/core/Database.py:62: Warning: Unknown table 'tmp_SVzKUbZUu02n2u2JKLiG'\n",
      "  cur.execute(query)\n"
     ]
    },
    {
     "name": "stdout",
     "output_type": "stream",
     "text": [
      "\n",
      "inserting...\n",
      "done.\n",
      "384000\n",
      "385000\n",
      "386000\n",
      "387000\n",
      "388000\n",
      "inserting...\n",
      "done.\n",
      "389000\n",
      "390000\n",
      "391000\n",
      "392000\n",
      "393000\n",
      "394000\n",
      "395000"
     ]
    },
    {
     "name": "stderr",
     "output_type": "stream",
     "text": [
      "/nfs/home/navid/src/FEC-1/src/disambiguation/core/Database.py:62: Warning: Unknown table 'tmp_5Xwii2101nDeYYXrcglc'\n",
      "  cur.execute(query)\n",
      "/nfs/home/navid/src/FEC-1/src/disambiguation/core/Database.py:62: Warning: Unknown table 'tmp_jabnPi9OZcMb5H5YN3Jh'\n",
      "  cur.execute(query)\n"
     ]
    },
    {
     "name": "stdout",
     "output_type": "stream",
     "text": [
      "\n",
      "inserting...\n",
      "done.\n",
      "396000\n",
      "397000\n",
      "398000\n",
      "399000\n",
      "inserting...\n",
      "done.\n",
      "400000\n",
      "401000"
     ]
    },
    {
     "name": "stderr",
     "output_type": "stream",
     "text": [
      "/nfs/home/navid/src/FEC-1/src/disambiguation/core/Database.py:62: Warning: Unknown table 'tmp_rvGUYWXImVBbstKonJEB'\n",
      "  cur.execute(query)\n",
      "/nfs/home/navid/src/FEC-1/src/disambiguation/core/Database.py:62: Warning: Unknown table 'tmp_ZtXhafNnCps3xMFCJadD'\n",
      "  cur.execute(query)\n"
     ]
    },
    {
     "name": "stdout",
     "output_type": "stream",
     "text": [
      "\n",
      "inserting...\n",
      "done.\n",
      "402000\n",
      "inserting...\n",
      "done.\n",
      "403000"
     ]
    },
    {
     "name": "stderr",
     "output_type": "stream",
     "text": [
      "/nfs/home/navid/src/FEC-1/src/disambiguation/core/Database.py:62: Warning: Unknown table 'tmp_3TTKBlR51USjrcZCpY8K'\n",
      "  cur.execute(query)\n",
      "/nfs/home/navid/src/FEC-1/src/disambiguation/core/Database.py:62: Warning: Unknown table 'tmp_xFrJUz7VY7G96AvWfc3h'\n",
      "  cur.execute(query)\n"
     ]
    },
    {
     "name": "stdout",
     "output_type": "stream",
     "text": [
      "\n",
      "inserting...\n",
      "done.\n",
      "404000\n",
      "inserting...\n",
      "done.\n",
      "405000\n",
      "406000\n",
      "407000\n",
      "408000\n",
      "409000\n",
      "410000"
     ]
    },
    {
     "name": "stderr",
     "output_type": "stream",
     "text": [
      "/nfs/home/navid/src/FEC-1/src/disambiguation/core/Database.py:62: Warning: Unknown table 'tmp_xUEsWNi6bzDPtGNAqQbc'\n",
      "  cur.execute(query)\n",
      "/nfs/home/navid/src/FEC-1/src/disambiguation/core/Database.py:62: Warning: Unknown table 'tmp_BxK0PUh1guGZ4EjNW0EK'\n",
      "  cur.execute(query)\n"
     ]
    },
    {
     "name": "stdout",
     "output_type": "stream",
     "text": [
      "\n",
      "inserting...\n",
      "done.\n",
      "inserting...\n",
      "done.\n",
      "411000\n",
      "412000"
     ]
    },
    {
     "name": "stderr",
     "output_type": "stream",
     "text": [
      "/nfs/home/navid/src/FEC-1/src/disambiguation/core/Database.py:62: Warning: Unknown table 'tmp_MGqp3wxYv5SOUJGxrSo6'\n",
      "  cur.execute(query)\n",
      "/nfs/home/navid/src/FEC-1/src/disambiguation/core/Database.py:62: Warning: Unknown table 'tmp_NQ7VrriPBcwUGWt8VB2e'\n",
      "  cur.execute(query)\n"
     ]
    },
    {
     "name": "stdout",
     "output_type": "stream",
     "text": [
      "\n",
      "inserting...\n",
      "done.\n",
      "413000\n",
      "414000\n",
      "415000\n",
      "416000\n",
      "417000\n",
      "418000\n",
      "inserting..."
     ]
    },
    {
     "name": "stderr",
     "output_type": "stream",
     "text": [
      "/nfs/home/navid/src/FEC-1/src/disambiguation/core/Database.py:62: Warning: Unknown table 'tmp_IqShLu0fmtVfSuF2i9h2'\n",
      "  cur.execute(query)\n",
      "/nfs/home/navid/src/FEC-1/src/disambiguation/core/Database.py:62: Warning: Unknown table 'tmp_YHu9SF1ewcTf8wfGZOk1'\n",
      "  cur.execute(query)\n"
     ]
    },
    {
     "name": "stdout",
     "output_type": "stream",
     "text": [
      "\n",
      "done.\n",
      "inserting...\n",
      "done.\n",
      "419000\n",
      "inserting...\n",
      "done.\n",
      "420000\n",
      "421000\n",
      "422000\n",
      "423000"
     ]
    },
    {
     "name": "stderr",
     "output_type": "stream",
     "text": [
      "/nfs/home/navid/src/FEC-1/src/disambiguation/core/Database.py:62: Warning: Unknown table 'tmp_TQkYaFoQueVQDSWxI2W8'\n",
      "  cur.execute(query)\n",
      "/nfs/home/navid/src/FEC-1/src/disambiguation/core/Database.py:62: Warning: Unknown table 'tmp_kgEMNkV9AihgGoCN3iqq'\n",
      "  cur.execute(query)\n"
     ]
    },
    {
     "name": "stdout",
     "output_type": "stream",
     "text": [
      "\n",
      "inserting...\n",
      "done.\n",
      "inserting..."
     ]
    },
    {
     "name": "stderr",
     "output_type": "stream",
     "text": [
      "/nfs/home/navid/src/FEC-1/src/disambiguation/core/Database.py:62: Warning: Unknown table 'tmp_1r6uG8GsnvCpWPmGvTsf'\n",
      "  cur.execute(query)\n",
      "/nfs/home/navid/src/FEC-1/src/disambiguation/core/Database.py:62: Warning: Unknown table 'tmp_sdMWZFzrtitPk0fXfKXN'\n",
      "  cur.execute(query)\n"
     ]
    },
    {
     "name": "stdout",
     "output_type": "stream",
     "text": [
      "\n",
      "done.\n",
      "inserting...\n",
      "done.\n",
      "424000\n",
      "425000\n",
      "426000\n",
      "427000\n",
      "428000\n",
      "429000\n",
      "430000\n",
      "431000\n",
      "inserting...\n",
      "done.\n",
      "432000"
     ]
    },
    {
     "name": "stderr",
     "output_type": "stream",
     "text": [
      "/nfs/home/navid/src/FEC-1/src/disambiguation/core/Database.py:62: Warning: Unknown table 'tmp_HJ2s7QKT309HXDtcpegB'\n",
      "  cur.execute(query)\n",
      "/nfs/home/navid/src/FEC-1/src/disambiguation/core/Database.py:62: Warning: Unknown table 'tmp_8vgERlucA7OL6STua7GR'\n",
      "  cur.execute(query)\n"
     ]
    },
    {
     "name": "stdout",
     "output_type": "stream",
     "text": [
      "\n",
      "inserting...\n",
      "done.\n",
      "433000\n",
      "434000\n",
      "435000\n",
      "436000\n",
      "437000\n",
      "inserting...\n",
      "done.\n",
      "438000\n",
      "439000"
     ]
    },
    {
     "name": "stderr",
     "output_type": "stream",
     "text": [
      "/nfs/home/navid/src/FEC-1/src/disambiguation/core/Database.py:62: Warning: Unknown table 'tmp_xrf7Cf01TeSW4lTkYioT'\n",
      "  cur.execute(query)\n",
      "/nfs/home/navid/src/FEC-1/src/disambiguation/core/Database.py:62: Warning: Unknown table 'tmp_XzRYctl02aps5j1gnEVd'\n",
      "  cur.execute(query)\n"
     ]
    },
    {
     "name": "stdout",
     "output_type": "stream",
     "text": [
      "\n",
      "inserting...\n",
      "done.\n",
      "440000\n",
      "441000\n",
      "442000\n",
      "443000\n",
      "444000\n",
      "445000\n",
      "446000\n",
      "447000\n",
      "inserting...\n",
      "done.\n",
      "448000"
     ]
    },
    {
     "name": "stderr",
     "output_type": "stream",
     "text": [
      "/nfs/home/navid/src/FEC-1/src/disambiguation/core/Database.py:62: Warning: Unknown table 'tmp_6vzJwN16jQWnA8xcRoGz'\n",
      "  cur.execute(query)\n",
      "/nfs/home/navid/src/FEC-1/src/disambiguation/core/Database.py:62: Warning: Unknown table 'tmp_eGSpp1YoaMJHxdaoii95'\n",
      "  cur.execute(query)\n"
     ]
    },
    {
     "name": "stdout",
     "output_type": "stream",
     "text": [
      "\n",
      "inserting...\n",
      "done.\n",
      "449000\n",
      "450000\n",
      "451000\n",
      "inserting...\n",
      "done.\n",
      "452000\n",
      "453000\n",
      "454000\n",
      "455000"
     ]
    },
    {
     "name": "stderr",
     "output_type": "stream",
     "text": [
      "/nfs/home/navid/src/FEC-1/src/disambiguation/core/Database.py:62: Warning: Unknown table 'tmp_XjSAU3eHFl8v60U1TjqF'\n",
      "  cur.execute(query)\n",
      "/nfs/home/navid/src/FEC-1/src/disambiguation/core/Database.py:62: Warning: Unknown table 'tmp_zRebGbkWwlDoW2KdgNTL'\n",
      "  cur.execute(query)\n"
     ]
    },
    {
     "name": "stdout",
     "output_type": "stream",
     "text": [
      "\n",
      "inserting...\n",
      "done.\n",
      "456000\n",
      "457000\n",
      "458000\n",
      "459000\n",
      "inserting...\n",
      "done.\n",
      "460000"
     ]
    },
    {
     "name": "stderr",
     "output_type": "stream",
     "text": [
      "/nfs/home/navid/src/FEC-1/src/disambiguation/core/Database.py:62: Warning: Unknown table 'tmp_DeoLTTWtbsqJUoBGdArm'\n",
      "  cur.execute(query)\n",
      "/nfs/home/navid/src/FEC-1/src/disambiguation/core/Database.py:62: Warning: Unknown table 'tmp_F4Vpo6lDUqz3Gw0TcheW'\n",
      "  cur.execute(query)\n"
     ]
    },
    {
     "name": "stdout",
     "output_type": "stream",
     "text": [
      "\n",
      "inserting...\n",
      "done.\n",
      "461000\n",
      "462000\n",
      "inserting...\n",
      "done.\n",
      "463000\n",
      "464000"
     ]
    },
    {
     "name": "stderr",
     "output_type": "stream",
     "text": [
      "/nfs/home/navid/src/FEC-1/src/disambiguation/core/Database.py:62: Warning: Unknown table 'tmp_u9s79fB3T3IcMistxJDD'\n",
      "  cur.execute(query)\n",
      "/nfs/home/navid/src/FEC-1/src/disambiguation/core/Database.py:62: Warning: Unknown table 'tmp_vgCA4mKni47e77qxTulu'\n",
      "  cur.execute(query)\n"
     ]
    },
    {
     "name": "stdout",
     "output_type": "stream",
     "text": [
      "\n",
      "inserting...\n",
      "done.\n",
      "465000\n",
      "466000\n",
      "inserting..."
     ]
    },
    {
     "name": "stderr",
     "output_type": "stream",
     "text": [
      "/nfs/home/navid/src/FEC-1/src/disambiguation/core/Database.py:62: Warning: Unknown table 'tmp_O2liChBH4M8N56FarLiw'\n",
      "  cur.execute(query)\n",
      "/nfs/home/navid/src/FEC-1/src/disambiguation/core/Database.py:62: Warning: Unknown table 'tmp_j3lWxUmfjL57Ihv4HYl7'\n",
      "  cur.execute(query)\n"
     ]
    },
    {
     "name": "stdout",
     "output_type": "stream",
     "text": [
      "\n",
      "done.\n",
      "inserting...\n",
      "done.\n",
      "inserting...\n",
      "done.\n",
      "467000\n",
      "468000\n",
      "469000\n",
      "470000\n",
      "471000\n",
      "472000\n",
      "473000\n",
      "474000\n",
      "475000\n",
      "476000"
     ]
    },
    {
     "name": "stderr",
     "output_type": "stream",
     "text": [
      "/nfs/home/navid/src/FEC-1/src/disambiguation/core/Database.py:62: Warning: Unknown table 'tmp_bgqZWteH0QcrOPoKoXvn'\n",
      "  cur.execute(query)\n",
      "/nfs/home/navid/src/FEC-1/src/disambiguation/core/Database.py:62: Warning: Unknown table 'tmp_zhd2mFEJDD7UKSmuCJk0'\n",
      "  cur.execute(query)\n"
     ]
    },
    {
     "name": "stdout",
     "output_type": "stream",
     "text": [
      "\n",
      "inserting...\n",
      "done.\n",
      "477000\n",
      "inserting...\n",
      "done.\n",
      "478000\n",
      "479000\n",
      "480000\n",
      "481000\n",
      "482000\n",
      "483000\n",
      "484000\n",
      "485000"
     ]
    },
    {
     "name": "stderr",
     "output_type": "stream",
     "text": [
      "/nfs/home/navid/src/FEC-1/src/disambiguation/core/Database.py:62: Warning: Unknown table 'tmp_qU2DmM1fl34UcRVrgUID'\n",
      "  cur.execute(query)\n",
      "/nfs/home/navid/src/FEC-1/src/disambiguation/core/Database.py:62: Warning: Unknown table 'tmp_cH5PmVsAX5J9NqPVjVY3'\n",
      "  cur.execute(query)\n"
     ]
    },
    {
     "name": "stdout",
     "output_type": "stream",
     "text": [
      "\n",
      "inserting...\n",
      "done.\n",
      "486000\n",
      "487000\n",
      "inserting...\n",
      "done.\n",
      "488000\n",
      "489000\n",
      "490000\n",
      "491000\n",
      "492000"
     ]
    },
    {
     "name": "stderr",
     "output_type": "stream",
     "text": [
      "/nfs/home/navid/src/FEC-1/src/disambiguation/core/Database.py:62: Warning: Unknown table 'tmp_RO1z09LU7Yb79tuK3Ktr'\n",
      "  cur.execute(query)\n",
      "/nfs/home/navid/src/FEC-1/src/disambiguation/core/Database.py:62: Warning: Unknown table 'tmp_ENVQa6CErBRk2f5r9dda'\n",
      "  cur.execute(query)\n"
     ]
    },
    {
     "name": "stdout",
     "output_type": "stream",
     "text": [
      "\n",
      "inserting...\n",
      "done.\n",
      "493000\n",
      "inserting...\n",
      "done.\n",
      "494000\n",
      "495000\n",
      "496000\n",
      "497000\n",
      "498000\n",
      "499000\n",
      "500000\n",
      "501000\n",
      "502000\n",
      "503000"
     ]
    },
    {
     "name": "stderr",
     "output_type": "stream",
     "text": [
      "/nfs/home/navid/src/FEC-1/src/disambiguation/core/Database.py:62: Warning: Unknown table 'tmp_Vpp9Q78ksPY3oR59mhKn'\n",
      "  cur.execute(query)\n",
      "/nfs/home/navid/src/FEC-1/src/disambiguation/core/Database.py:62: Warning: Unknown table 'tmp_XF13GKMf8VZhNKjcVPhM'\n",
      "  cur.execute(query)\n"
     ]
    },
    {
     "name": "stdout",
     "output_type": "stream",
     "text": [
      "\n",
      "inserting...\n",
      "done.\n",
      "504000\n",
      "505000\n",
      "inserting..."
     ]
    },
    {
     "name": "stderr",
     "output_type": "stream",
     "text": [
      "/nfs/home/navid/src/FEC-1/src/disambiguation/core/Database.py:62: Warning: Unknown table 'tmp_qvwJQVZOMlUEqqYCb6rz'\n",
      "  cur.execute(query)\n",
      "/nfs/home/navid/src/FEC-1/src/disambiguation/core/Database.py:62: Warning: Unknown table 'tmp_RWhJVE7UO6LWL1rK9X05'\n",
      "  cur.execute(query)\n"
     ]
    },
    {
     "name": "stdout",
     "output_type": "stream",
     "text": [
      "\n",
      "done.\n",
      "inserting...\n",
      "done.\n",
      "506000\n",
      "507000\n",
      "508000\n",
      "inserting..."
     ]
    },
    {
     "name": "stderr",
     "output_type": "stream",
     "text": [
      "/nfs/home/navid/src/FEC-1/src/disambiguation/core/Database.py:62: Warning: Unknown table 'tmp_er9IImMmFPM8ftMZojRK'\n",
      "  cur.execute(query)\n",
      "/nfs/home/navid/src/FEC-1/src/disambiguation/core/Database.py:62: Warning: Unknown table 'tmp_eSBdEgpWvJQeBjU6pF9M'\n",
      "  cur.execute(query)\n"
     ]
    },
    {
     "name": "stdout",
     "output_type": "stream",
     "text": [
      "\n",
      "done.\n",
      "inserting...\n",
      "done.\n",
      "509000\n",
      "510000\n",
      "511000\n",
      "512000\n",
      "513000\n",
      "inserting...\n",
      "done."
     ]
    },
    {
     "name": "stderr",
     "output_type": "stream",
     "text": [
      "/nfs/home/navid/src/FEC-1/src/disambiguation/core/Database.py:62: Warning: Unknown table 'tmp_5FV4uYiX8IEbGdvFYgm1'\n",
      "  cur.execute(query)\n",
      "/nfs/home/navid/src/FEC-1/src/disambiguation/core/Database.py:62: Warning: Unknown table 'tmp_PrMUjTEXTPuvQsfp37N8'\n",
      "  cur.execute(query)\n"
     ]
    },
    {
     "name": "stdout",
     "output_type": "stream",
     "text": [
      "\n",
      "inserting...\n",
      "done.\n",
      "514000\n",
      "515000\n",
      "516000\n",
      "inserting...\n",
      "done.\n",
      "517000\n",
      "518000"
     ]
    },
    {
     "name": "stderr",
     "output_type": "stream",
     "text": [
      "/nfs/home/navid/src/FEC-1/src/disambiguation/core/Database.py:62: Warning: Unknown table 'tmp_mDYHObK1LOBAC4Yu11vu'\n",
      "  cur.execute(query)\n",
      "/nfs/home/navid/src/FEC-1/src/disambiguation/core/Database.py:62: Warning: Unknown table 'tmp_kEgKVHk47O08MhK1quzR'\n",
      "  cur.execute(query)\n"
     ]
    },
    {
     "name": "stdout",
     "output_type": "stream",
     "text": [
      "\n",
      "inserting...\n",
      "done.\n",
      "519000\n",
      "520000\n",
      "521000\n",
      "inserting...\n",
      "done.\n",
      "522000"
     ]
    },
    {
     "name": "stderr",
     "output_type": "stream",
     "text": [
      "/nfs/home/navid/src/FEC-1/src/disambiguation/core/Database.py:62: Warning: Unknown table 'tmp_1Ua6eOslI9CjzTz3GI1c'\n",
      "  cur.execute(query)\n",
      "/nfs/home/navid/src/FEC-1/src/disambiguation/core/Database.py:62: Warning: Unknown table 'tmp_aUuCMggZDOrouGZEpZ8j'\n",
      "  cur.execute(query)\n"
     ]
    },
    {
     "name": "stdout",
     "output_type": "stream",
     "text": [
      "\n",
      "inserting...\n",
      "done.\n",
      "523000\n",
      "524000\n",
      "525000\n",
      "526000\n",
      "527000\n",
      "528000\n",
      "529000\n",
      "530000\n",
      "531000\n",
      "532000\n",
      "532108\n",
      "418622\n",
      "344334\n"
     ]
    }
   ],
   "source": [
    "counter = 0\n",
    "\n",
    "# Number of cases where there are at least two people \n",
    "# with the same last name in the same household.\n",
    "counter_2_people_same_last = 0\n",
    "\n",
    "counter_2_people = 0\n",
    "\n",
    "\n",
    "with open('/nfs/home/navid/data/FEC/cohabitation/cohabitation_2.txt', 'w', buffering = 100) as outfile:\n",
    "    for address, set_identities in dict_identities.iteritems():\n",
    "    #     print address, set_identities\n",
    "        if len(set_identities) > 10: continue\n",
    "\n",
    "        dict_persons = {}\n",
    "\n",
    "        list_names = []\n",
    "        for compound_identity in set_identities:\n",
    "            try:\n",
    "                p = load_compound_person(compound_identity)\n",
    "                name = p.get_dominant_attribute('NAME')\n",
    "\n",
    "                if name: \n",
    "                    list_names.append(name)\n",
    "                    dict_persons[compound_identity] = {'name': name,\n",
    "                                                        'daterange': get_date_range(p),\n",
    "                                                       'transactions' : get_transactions(p)}\n",
    "\n",
    "            except Exception as e:\n",
    "                print \"ERROR OCCURRED\", e\n",
    "\n",
    "        if counter % 1000 == 0:\n",
    "            print counter\n",
    "\n",
    "        try:\n",
    "            lastnames = set([utils.splitname(name)[0] for name in list_names])\n",
    "        except: \n",
    "            print \"ERORORORORORORORORORRORORO\"\n",
    "            break\n",
    "            \n",
    "        if len(list_names) == 2: \n",
    "            counter_2_people += 1\n",
    "\n",
    "        if len(lastnames) < len(list_names):\n",
    "            counter_2_people_same_last += 1\n",
    "            outfile.write(json.dumps(dict_persons) + \"\\n\")\n",
    "\n",
    "        if counter > 1000000:\n",
    "            break\n",
    "        counter += 1\n",
    "\n",
    "print counter\n",
    "print counter_2_people\n",
    "print counter_2_people_same_last"
   ]
  },
  {
   "cell_type": "code",
   "execution_count": 89,
   "metadata": {
    "collapsed": false
   },
   "outputs": [
    {
     "data": {
      "text/plain": [
       "('CROCKETT', '', 'VICTORIA')"
      ]
     },
     "execution_count": 89,
     "metadata": {},
     "output_type": "execute_result"
    }
   ],
   "source": [
    "utils.splitname('CROCKETT, VICTORIA')"
   ]
  },
  {
   "cell_type": "markdown",
   "metadata": {},
   "source": [
    "## Read the results file "
   ]
  },
  {
   "cell_type": "code",
   "execution_count": 31,
   "metadata": {
    "collapsed": false
   },
   "outputs": [
    {
     "name": "stdout",
     "output_type": "stream",
     "text": [
      "2.45307167235\n",
      "6.32140850347\n",
      "10.4166666667\n",
      "250.0\n",
      "250.0\n",
      "1.40845070423\n",
      "4.52149470899\n",
      "1.79693637078\n",
      "2.30855855856\n",
      "250.0\n",
      "1.73333333333\n",
      "1.52801358234\n",
      "4.6357615894\n",
      "0.854664391354\n",
      "3.90011030764\n",
      "0.170043035583\n",
      "2.52808988764\n",
      "0.8\n",
      "1.04769351056\n",
      "3.20156555773\n",
      "17.8507194245\n",
      "400.0\n",
      "1.55294117647\n",
      "0.3885003885\n"
     ]
    }
   ],
   "source": [
    "def get_cohabitors(f):\n",
    "    '''\n",
    "    Generator that reads the json file containing the\n",
    "    information on cohabitors line by line and yields\n",
    "    one case at a time.\n",
    "    '''\n",
    "    for line in f:\n",
    "        yield json.loads(line)    \n",
    "    \n",
    "    \n",
    "    \n",
    "    \n",
    "def get_time_difference(daterange):\n",
    "    '''\n",
    "    Return the time interval between two dates\n",
    "    in days. If this is zero, return 1.\n",
    "    '''\n",
    "    s1, s2 = daterange\n",
    "    year1, month1, day1 = int(s1[:4]), int(s1[4:6]), int(s1[6:])\n",
    "    year2, month2, day2 = int(s2[:4]), int(s2[4:6]), int(s2[6:])\n",
    "    diff = (year2 - year1) * 365 + (month2 - month1) * 30 + (day2 - day1) or 1\n",
    "    return diff\n",
    "\n",
    "    \n",
    "    \n",
    "def get_indiv_total_contr(transactions):\n",
    "    '''\n",
    "    Return the total contributions from an individual.\n",
    "    Input is the 'transaction' value of a line of the\n",
    "    cohabitation_2.txt file.\n",
    "    '''\n",
    "    return sum([x[2] for x in transactions])\n",
    "\n",
    "\n",
    "\n",
    "def get_indiv_contr_density(transactions, daterange):\n",
    "    '''\n",
    "    Compute the time density of an individual's contributions.\n",
    "    '''\n",
    "    return get_indiv_total_contr(transactions) / float(get_time_difference(daterange))\n",
    "\n",
    "\n",
    "    \n",
    "with open('/nfs/home/navid/data/FEC/cohabitation/cohabitation_2.txt') as infile:\n",
    "    for counter, row in enumerate(get_cohabitors(infile)):\n",
    "        # Each \"data\" value corresponds to a single address\n",
    "        # From which 2 individuals with different surnames\n",
    "        # have made contributions.\n",
    "\n",
    "        totals = [get_indiv_total_contr(data['transactions']) for identity, data in row.iteritems()]\n",
    "        date_starts = [data['daterange'][0] for identity, data in row.iteritems()]\n",
    "        date_ends = [data['daterange'][1] for identity, data in row.iteritems()]\n",
    "        \n",
    "        # print get_indiv_contr_density(data['transactions'], data['daterange'])\n",
    "            \n",
    "        if counter > 10: break\n",
    "    \n",
    "    "
   ]
  },
  {
   "cell_type": "code",
   "execution_count": null,
   "metadata": {
    "collapsed": true
   },
   "outputs": [],
   "source": []
  },
  {
   "cell_type": "code",
   "execution_count": 26,
   "metadata": {
    "collapsed": false
   },
   "outputs": [
    {
     "name": "stdout",
     "output_type": "stream",
     "text": [
      "27\n"
     ]
    }
   ],
   "source": [
    "s2 = '20140322'\n",
    "s1 = '20111201'\n",
    "\n",
    "year1, month1 = int(s1[:4]), int(s1[4:6])\n",
    "year2, month2 = int(s2[:4]), int(s2[4:6])\n",
    "\n",
    "print (year2 - year1) * 12 + (month2 - month1)\n"
   ]
  },
  {
   "cell_type": "code",
   "execution_count": 22,
   "metadata": {
    "collapsed": false
   },
   "outputs": [
    {
     "name": "stdout",
     "output_type": "stream",
     "text": [
      "{u'VA-209602': {u'daterange': [u'20030127', u'20140922'],\n",
      "                u'name': u'WOJCIECH, JOHN MR.',\n",
      "                u'transactions': [[17961447,\n",
      "                                   u'20140903',\n",
      "                                   250.0,\n",
      "                                   u'C00555722'],\n",
      "                                  [12459345,\n",
      "                                   u'20101012',\n",
      "                                   250.0,\n",
      "                                   u'C00075820'],\n",
      "                                  [8942099,\n",
      "                                   u'20080402',\n",
      "                                   250.0,\n",
      "                                   u'C00003418'],\n",
      "                                  [17082452,\n",
      "                                   u'20140922',\n",
      "                                   250.0,\n",
      "                                   u'C00277335'],\n",
      "                                  [10518863,\n",
      "                                   u'20080707',\n",
      "                                   250.0,\n",
      "                                   u'C00027466'],\n",
      "                                  [12255351,\n",
      "                                   u'20101013',\n",
      "                                   250.0,\n",
      "                                   u'C00237198'],\n",
      "                                  [5998394,\n",
      "                                   u'20051003',\n",
      "                                   300.0,\n",
      "                                   u'C00003418'],\n",
      "                                  [11056392,\n",
      "                                   u'20090831',\n",
      "                                   250.0,\n",
      "                                   u'C00003418'],\n",
      "                                  [5160131,\n",
      "                                   u'20030127',\n",
      "                                   250.0,\n",
      "                                   u'C00075820'],\n",
      "                                  [18363269,\n",
      "                                   u'20140903',\n",
      "                                   200.0,\n",
      "                                   u'C00027466'],\n",
      "                                  [17588247,\n",
      "                                   u'20130918',\n",
      "                                   250.0,\n",
      "                                   u'C00003418'],\n",
      "                                  [16807485,\n",
      "                                   u'20140414',\n",
      "                                   200.0,\n",
      "                                   u'C00027466'],\n",
      "                                  [6665769,\n",
      "                                   u'20061006',\n",
      "                                   200.0,\n",
      "                                   u'C00003418'],\n",
      "                                  [12385093,\n",
      "                                   u'20100826',\n",
      "                                   250.0,\n",
      "                                   u'C00237198'],\n",
      "                                  [15962266,\n",
      "                                   u'20120425',\n",
      "                                   250.0,\n",
      "                                   u'C00075820'],\n",
      "                                  [12789271,\n",
      "                                   u'20101021',\n",
      "                                   275.0,\n",
      "                                   u'C00027466'],\n",
      "                                  [13174640,\n",
      "                                   u'20120430',\n",
      "                                   250.0,\n",
      "                                   u'C00295527'],\n",
      "                                  [8690685,\n",
      "                                   u'20070718',\n",
      "                                   250.0,\n",
      "                                   u'C00003418'],\n",
      "                                  [12553353,\n",
      "                                   u'20090527',\n",
      "                                   240.0,\n",
      "                                   u'C00027466'],\n",
      "                                  [8853725,\n",
      "                                   u'20081024',\n",
      "                                   500.0,\n",
      "                                   u'C00003418'],\n",
      "                                  [6694561,\n",
      "                                   u'20060908',\n",
      "                                   250.0,\n",
      "                                   u'C00003418'],\n",
      "                                  [14150080,\n",
      "                                   u'20111129',\n",
      "                                   210.0,\n",
      "                                   u'C00075820'],\n",
      "                                  [7284505,\n",
      "                                   u'20060424',\n",
      "                                   200.0,\n",
      "                                   u'C00003418'],\n",
      "                                  [12982669,\n",
      "                                   u'20111209',\n",
      "                                   250.0,\n",
      "                                   u'C00155184'],\n",
      "                                  [10157074,\n",
      "                                   u'20070406',\n",
      "                                   250.0,\n",
      "                                   u'C00003418'],\n",
      "                                  [15005132,\n",
      "                                   u'20120210',\n",
      "                                   275.0,\n",
      "                                   u'C00003418']]},\n",
      " u'VA-209603': {u'daterange': [u'20070406', u'20101018'],\n",
      "                u'name': u'WOJCIECH, JOEY MR.',\n",
      "                u'transactions': [[12655642,\n",
      "                                   u'20101018',\n",
      "                                   250.0,\n",
      "                                   u'C00467688'],\n",
      "                                  [9433731,\n",
      "                                   u'20070406',\n",
      "                                   250.0,\n",
      "                                   u'C00430470']]}}\n"
     ]
    }
   ],
   "source": [
    "pprint(data)"
   ]
  },
  {
   "cell_type": "code",
   "execution_count": 34,
   "metadata": {
    "collapsed": false
   },
   "outputs": [
    {
     "data": {
      "text/plain": [
       "[<matplotlib.lines.Line2D at 0x12ca8b850>]"
      ]
     },
     "execution_count": 34,
     "metadata": {},
     "output_type": "execute_result"
    },
    {
     "name": "stdout",
     "output_type": "stream",
     "text": [
      "ERROR! Session/line number was not unique in database. History logging moved to new session 195\n"
     ]
    },
    {
     "data": {
      "image/png": "[encoded data removed]",
      "text/plain": [
       "<matplotlib.figure.Figure at 0x11e61eb90>"
      ]
     },
     "metadata": {
      "image/png": {
       "height": 255,
       "width": 380
      }
     },
     "output_type": "display_data"
    }
   ],
   "source": [
    "import numpy as np\n",
    "import matplotlib.pyplot as plt\n",
    "%matplotlib inline\n",
    "\n",
    "x = np.linspace(0,1,100)\n",
    "k = 5\n",
    "plt.semilogy(x, (k-1)*(1-x)**(k-2),'-')"
   ]
  }
 ],
 "metadata": {
  "kernelspec": {
   "display_name": "Python 2",
   "language": "python",
   "name": "python2"
  }
 },
 "nbformat": 4,
 "nbformat_minor": 0
}

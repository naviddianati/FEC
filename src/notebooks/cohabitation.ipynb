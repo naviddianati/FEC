{
 "cells": [
  {
   "cell_type": "markdown",
   "metadata": {},
   "source": [
    "# Identifying cohabiting contributors "
   ]
  },
  {
   "cell_type": "markdown",
   "metadata": {},
   "source": [
    "In this exercise, we will look throughout the database and try to identify households where multiple individuals have made contributions while cohabiting.\n",
    "\n",
    "To do this, we will do the following:\n",
    "\n",
    "    1- Build a dictionary of all normalized addresses. Associate every address with the set of all its identities.\n",
    "    2- For those with multiple identities, do further processing.\n",
    "\n",
    "\n",
    "\n"
   ]
  },
  {
   "cell_type": "markdown",
   "metadata": {},
   "source": [
    "Problem: the normalized attributes file doesn't contain normalized addresses."
   ]
  },
  {
   "cell_type": "code",
   "execution_count": 73,
   "metadata": {
    "collapsed": false
   },
   "outputs": [],
   "source": [
    "import pandas as pd\n",
    "from disambiguation.core import Database\n",
    "from disambiguation.core import Person\n",
    "\n",
    "from disambiguation.core import utils\n",
    "from disambiguation import config"
   ]
  },
  {
   "cell_type": "code",
   "execution_count": 19,
   "metadata": {
    "collapsed": false
   },
   "outputs": [
    {
     "name": "stdout",
     "output_type": "stream",
     "text": [
      "Table 'identities_v5' exists.\n",
      "Table 'identities_adjacency_v5' exists.\n",
      "Table 'linked_identities_v5' exists.\n",
      "select id,identity from identities_v5;\n"
     ]
    }
   ],
   "source": [
    "idm = Database.IdentityManager('USA')\n",
    "idm.table_name_identities\n",
    "idm.fetch_dict_id_2_identity()"
   ]
  },
  {
   "cell_type": "code",
   "execution_count": 43,
   "metadata": {
    "collapsed": false
   },
   "outputs": [
    {
     "name": "stdout",
     "output_type": "stream",
     "text": [
      "select id,identity from identities_v5;\n"
     ]
    }
   ],
   "source": [
    "idm.fetch_dict_identity_2_id()"
   ]
  },
  {
   "cell_type": "code",
   "execution_count": 20,
   "metadata": {
    "collapsed": true
   },
   "outputs": [],
   "source": [
    "retriever = Database.FecRetriever('usa_combined_v2',\n",
    "                                  query_fields=['id', 'NAME','CONTRIBUTOR_STREET_1', 'ZIP_CODE', 'TRANSACTION_AMT']\n",
    "                                 , where_clause=' WHERE CONTRIBUTOR_STREET_1 IS NOT NULL ')"
   ]
  },
  {
   "cell_type": "code",
   "execution_count": 21,
   "metadata": {
    "collapsed": true
   },
   "outputs": [],
   "source": [
    "retriever.retrieve()"
   ]
  },
  {
   "cell_type": "code",
   "execution_count": 24,
   "metadata": {
    "collapsed": false
   },
   "outputs": [
    {
     "name": "stdout",
     "output_type": "stream",
     "text": [
      "11508004\n"
     ]
    }
   ],
   "source": [
    "list_records = retriever.getRecords()\n",
    "print len(list_records)"
   ]
  },
  {
   "cell_type": "code",
   "execution_count": 34,
   "metadata": {
    "collapsed": false
   },
   "outputs": [],
   "source": [
    "dict_addresses = {}\n",
    "\n",
    "\n",
    "for r in list_records:\n",
    "    address, zipcode = r['CONTRIBUTOR_STREET_1'], r['ZIP_CODE']\n",
    "    address_full = (zipcode[:5], address)\n",
    "    rid = r.id\n",
    "    try:\n",
    "        dict_addresses[address_full].append(rid)\n",
    "    except:\n",
    "        dict_addresses[address_full] = [rid]"
   ]
  },
  {
   "cell_type": "code",
   "execution_count": 35,
   "metadata": {
    "collapsed": false
   },
   "outputs": [
    {
     "data": {
      "text/plain": [
       "4025475"
      ]
     },
     "execution_count": 35,
     "metadata": {},
     "output_type": "execute_result"
    }
   ],
   "source": [
    "len(dict_addresses)"
   ]
  },
  {
   "cell_type": "code",
   "execution_count": 64,
   "metadata": {
    "collapsed": false
   },
   "outputs": [],
   "source": [
    "dict_identities = {}\n",
    "for address, list_rids in dict_addresses.iteritems():\n",
    "    set_identities = {idm.get_compound_identity(rid)[0] for rid in list_rids}\n",
    "    if len(set_identities) > 1:\n",
    "        dict_identities[address] = set_identities\n",
    "    \n",
    "    "
   ]
  },
  {
   "cell_type": "code",
   "execution_count": 66,
   "metadata": {
    "collapsed": false
   },
   "outputs": [
    {
     "name": "stdout",
     "output_type": "stream",
     "text": [
      "541894\n"
     ]
    }
   ],
   "source": [
    "print len(dict_identities)"
   ]
  },
  {
   "cell_type": "code",
   "execution_count": 61,
   "metadata": {
    "collapsed": false
   },
   "outputs": [
    {
     "name": "stdout",
     "output_type": "stream",
     "text": [
      "[10639568]\n",
      "[8305739, 8486565, 8839925, 8977749, 11969509, 13439119]\n"
     ]
    }
   ],
   "source": [
    "print idm.get_ids('OH-34442')\n",
    "print idm.get_ids('GA-36500')"
   ]
  },
  {
   "cell_type": "code",
   "execution_count": 60,
   "metadata": {
    "collapsed": false
   },
   "outputs": [
    {
     "name": "stdout",
     "output_type": "stream",
     "text": [
      "[4302189, 5809001, 6407902, 7695132]\n",
      "[4302191, 14867480]\n"
     ]
    }
   ],
   "source": [
    "print idm.get_ids('CA-459207')\n",
    "print idm.get_ids('CA-459208')"
   ]
  },
  {
   "cell_type": "code",
   "execution_count": 74,
   "metadata": {
    "collapsed": true
   },
   "outputs": [],
   "source": [
    "record_retriever = Database.FecRetrieverByID('usa_combined_v2')\n",
    "def load_compound_person(compound_identity):\n",
    "    '''\n",
    "    Given a compound identity, load all its records and\n",
    "    generate a Person object from them.\n",
    "    '''\n",
    "    s = compound_identity\n",
    "    list_rids = [rid for identity in s.split('|') for rid in idm.get_ids(identity)]\n",
    "    record_retriever.retrieve(list_rids)\n",
    "    list_records = record_retriever.getRecords()\n",
    "    \n",
    "    p = Person.Person(list_records)\n",
    "    return p\n",
    "\n"
   ]
  },
  {
   "cell_type": "code",
   "execution_count": 80,
   "metadata": {
    "collapsed": false
   },
   "outputs": [
    {
     "name": "stdout",
     "output_type": "stream",
     "text": [
      "[u'SEGAL, ADRIEN', u'SEGAL, RICHARD']\n",
      "[u'REYNOLDS, SHEILA', u'REYNOLDS, MATTHEW']\n",
      "[u'ANTONOPOULOS, ROSEMARY', u'JACKSON, SCOTT']\n",
      "[u'KRISHNAN, ATHY', u'KRISHNAN, SEETHA']\n",
      "[u'NELSON, ELLIOTT', u'OLSEN, JEREMY']\n",
      "[u'MCAMIS, JOHN', u'MCAMIS, RENEE']\n",
      "[u'MICHALSKI, BONETTE', u'MICHALSKI, ROBERT']\n",
      "[u'SEIDEL, SAM', u'SCHWESER, JAMIE']\n",
      "[u'MATINA, JOSEPH MR.', u'KURUCZ, JONNA S', u'ROBINSON, TRACY']\n",
      "[u'QUINN, JODY K.', u'QUINN, WILLIAM J.']\n",
      "[u'SAITO, REID SAITO K', u'SAITO, REID']\n",
      "[u'VALIOTIS, EFSTATHIOS', u'VALIOTIS, STAMATIKI']\n",
      "[u'MOTTO, DANIEL D', u'MOTTO, DIANNE']\n",
      "[u'SCHOTT, BARTON', u'SCHOTT, BART']\n",
      "[u'MALAKZAD, NOOSHIN', u'MALAKZAD, JOHN  ']\n",
      "[u'SLADE, DAVID MR.', u'STANTON, MARY BETH', u'CANNON, W STEPHEN']\n",
      "[u'HARDY, PETER', u'FRANKEL, FRED']\n",
      "[u'WOJCIECH, JOHN MR.', u'WOJCIECH, JOEY MR.']\n",
      "[u'RON, HOWSE', u'HOWSE, RONALD']\n",
      "[u'WESTBROOK, MARSTON DR.', u'FRITZ, RONALD M. D.O., F.A.']\n",
      "[u'PARDEE, VERA', u'PARDEE, JOHN', u'HARMON, AMY']\n",
      "[u'LONG, JIM', u'LONG, DEBORAH DEBERRY MS.']\n",
      "[u'ANGERMAN, DOROTHY', u'ANGERMAN, IRVING']\n",
      "[u'HAIGH, DOUGLAS', u'MORENO, SANDRA']\n",
      "[u'LAURENT, ALEXIS', u'FINKELSTEIN, ELIZA']\n",
      "[u'LIBIN, JEROME A MS.', u'LIBIN, JEROME B', u'LIBIN, JUNE A']\n",
      "[u'GRANT, BEVERLEY', u'GRANT, JOHN']\n",
      "[u'JONES, JODEAN MRS.', u'JONES, RICHARD E MR. JR.']\n",
      "[u'DELPUERTO, DANIEL', u'KURPIEL, KATHLEEN M.']\n",
      "[u'OZANNE, BEVERLY  MS.', u'OZANNE, STEPHEN DR.']\n",
      "[u'COHEN, KAREN', u'COHEN, LEON']\n",
      "[u'MCCANN, MICHAEL J. MR.', u'MCCANN, ANNETTE M. MRS.']\n",
      "[u'DANIELS, SANDRA', u'DANIELS, ROYDEN']\n",
      "[u'BICK, CARTER', u'BICK, AMY MRS.']\n",
      "[u'THOMPSON, SIOUX', u'GRESSLER, BETSY', u'GRESSLER, MARY']\n",
      "[u'KROLICK, MERRILL A.', u'HOBSON, JONATHAN D. MD']\n",
      "[u'TARABAY, GRACE R.', u'CARIDAD, KEVIN']\n",
      "[u'PIRNER, SUSAN MRS.', u'PIRNER, RICHARD D MR.']\n",
      "[u'GOODWYN, U V MR', u'GOODWIN, ULYSSES MR.', u'GOODWYN, ULYSSES V']\n",
      "[u'BRICKMAN, STEVEN A', u'RAMEY, SHAUN']\n",
      "[u'NATASH, L. P.', u'ADAMS, MIKE']\n",
      "[u'DON MICHAEL, T.', u'DON MICHAEL, T. ANTHONY M.D., F.A.']\n",
      "[u'WILLIAMS, GAIL', u'MCCALL, DAWN L']\n",
      "[u'HASTINGS, LISA', u'HASTINGS, MARK']\n",
      "[u'BURKE, RONALD', u'BURKE, LYDIA']\n",
      "[u'WILLIAMS, ROBERT', u'WILLIAMS, JACQUELINE']\n",
      "[u'EGLOFF, CINDY', u'EGLOFF, JOHN']\n",
      "[u'LALANI, SAL', u'LALANI, CAROL G', u'LALANI, SALIM M.']\n",
      "[u'CLAYCOMB, JAMES E', u'CLAYCOMB, BETTY']\n",
      "[u'CAFRITZ, BUFFY', u'CAFRITZ, WILLIAM N']\n",
      "[u'AKMAN-OZMAN, EREN', u'OZMEN, EREN']\n",
      "[u'PERRY, JOSEPH', u'LANGLOIS, RENDE O MR.', u'HARRIS, NANCY', u'AGOSTINO, EMIL', u'CLOONEN, KATHERINE', u'DANNA, JOSEPH R DR.', u'LEE, TIMOTHY A']\n",
      "[u'MOORE, WILLIAM', u'JUST, WILLIAM', u'MOORE, MARIE', u'MOORE, MARIA A']\n",
      "[u'LIEBMAN, DAVID B DR.', u'LIEBMAN, SUE']\n",
      "[u'DAMICO, EDWARD', u'SMITH, DAVID F.', u'NATIONAL FUEL GAS FEDERAL POLITICAL ACTION COMMITTEE', u'TANSKI, RONALD']\n",
      "[u'ELLIS, SUSAN A', u'ELLIS, BRIAN']\n",
      "[u'COHEN, PASCALE M', u'COHEN, PASCALE']\n",
      "[u'POWELL, ROBERT M JR', u'POWELL, ROBERT (RICE) M. MR.', u'POWELL, ROBERT']\n",
      "[u'DICKINSON, REMMEL T', u'MASON, FARREL E. MR.', u'CRAVENS, WILLIAM L']\n",
      "[u'DODGE, DONALD', u'DODGE, DONALD E']\n",
      "[u'FISHER, EDMUND &', u'FISHER, EDMUND A MR.']\n",
      "[u'CHANNING, JON', u'CHANNING, ELLEN']\n",
      "[u'LEVITT, CATHERINE B.', u'LEVITT, MARK L.']\n",
      "[u'HANSER, LOIS', u'HANSER, W. DENNIS MR.', u'HANSER, PAUL', u'HANSER, W. D MR.']\n",
      "[u'GLASGOW, GARY', u'GLASGLOW, MICHELLE']\n",
      "[u'DORROS, CHRISTOPHER MR.', u'DORROS, CAROLYN']\n",
      "[u'JOHNSON, TONYA', u'JOHNSON, CURTIS']\n",
      "[u'SKULNIK, STEVEN', u'DROEGE, MATTHEW']\n",
      "[u'TENNISON, HARRY L', u'MONCRIEF, KIT']\n",
      "[u'TAYLOR, NICOLE', u'BOLTUCH, BURT', u'LEE, RODDRICK', u'HOTTELET, RICHARD', u'APODACA, ROBERT', u'CONLEY, DENISE E', u'BOLEY, TODD']\n",
      "[u'MCCURRY, NEIL D JR.', u'MCCURRY, LIANE']\n",
      "[u'SULLIVAN, SCOTT', u'DELLACROCE, FRANK']\n",
      "[u'LICHTENBERGER, H W MR', u'LICHTENBERGER, PATRICIA A. MRS.', u'LICHTENBERGER, WILLIAM']\n",
      "[u'EDELSON, CAROL', u'EDELSON, ALAN']\n",
      "[u'MONTERO, MONICA MRS.', u'MONTERO, KYLE MR.']\n",
      "[u'MAYNOR, MARSON  MR. III', u'KATZ, GERRI']\n",
      "[u'LANZISERO, JOSEPH', u'LANZISERO, CORA L']\n",
      "[u'JOHNSON, SANDRA MRS.', u'JOHNSON, WILLIAM A. DR.']\n",
      "[u'VAN AMSTERDAM, KRISTINE', u'VAN AMSTERDAM, JOHN']\n",
      "[u'WINTERS, TERRI', u'PRELLI, LAWRENCE J']\n",
      "[u'WONG, AURORA', u'WONG, BUCK W']\n",
      "[u'JACK OWEN', u'OWEN, JACK B.']\n",
      "[u'BERRY, DAVID C', u'BERRY, LESLIE E MRS']\n",
      "[u'TURNER, JEFF', u'KENDRICK, MARTHA', u'BOGGS, THOMAS HALE JR', u'YAROWSKY, JONATHAN R', u'FARTHING, PENELOPE S', u'GREEN, MICAH', u'HARRIS, LAURENCE E']\n",
      "[u'KELLEY, CHRISTOPHER L', u'KELLEY, CHRISTOPHER L']\n",
      "[u'MARCHY, GARY', u'MARCHY, BOB']\n",
      "[u'WALTZER, GARRETT J.', u'WALTZER, ANN']\n",
      "[u'SAVOIE, LORI', u'SAVOIE, ROBERT A']\n",
      "[u'HANNA, MICHAEL', u'FRIEDMAN, WARREN']\n",
      "[u'JOHNSTON, PATRICK', u'ROSS, RICHARD']\n",
      "[u'CRANDALL, SHERLYN D. MS.', u'CRANDALL, JOHN MR.']\n",
      "[u'LEVY, JOEL', u'LEVY, PAULA']\n",
      "[u'ORR, KENNETH MR.', u'SEDERER, LLOYD I']\n",
      "[u'WILLIAMS, MARIE A MS.', u'WILLIAMS, HAROLD B. MR.']\n",
      "[u'MANNING, JACK', u'CARMANY III, GEORGE']\n",
      "[u'NOBLE, PATRICIA', u'BILLINGTON, JOSEPH A', u'KOMM, STEPHEN', u'TREMBLAY, JESSICA', u'FAIRCHILD, MARK J', u'MC VEY, DAVID']\n",
      "[u'CROCKETT, VICTORIA', u'CROCKETT, PATRICK']\n",
      "[u'WILLIAMSON, RANEE MRS.', u'WILLIAMSON, KEN MR.']\n",
      "[u'KITCHENS, DEAN J', u'BALL, BRAD A MR.', u'KITCHENS, KATHERINE']\n",
      "[u'SAINT SURIN, LOIS', u'BAISDEN, MICHAEL']\n",
      "[u'KIRKILES, CHARLES MR.', u'WAGNER, HARVEY']\n",
      "[u'VICK, MARGARET', u'ECKEL, RANDY']\n"
     ]
    }
   ],
   "source": [
    "counter = 0\n",
    "for address, set_identities in dict_identities.iteritems():\n",
    "#     print address, set_identities\n",
    "    if len(set_identities) > 10: continue\n",
    "    \n",
    "    list_names = []\n",
    "    for compound_identity in set_identities:\n",
    "        p = load_compound_person(compound_identity)\n",
    "        list_names.append(p.get_dominant_attribute('NAME'))\n",
    "    print list_names\n",
    "        \n",
    "    if counter > 100:\n",
    "        break\n",
    "    counter += 1\n",
    "    "
   ]
  },
  {
   "cell_type": "code",
   "execution_count": null,
   "metadata": {
    "collapsed": true
   },
   "outputs": [],
   "source": []
  }
 ],
 "metadata": {
  "kernelspec": {
   "display_name": "Python 2",
   "language": "python",
   "name": "python2"
  },
  "language_info": {
   "codemirror_mode": {
    "name": "ipython",
    "version": 2
   },
   "file_extension": ".py",
   "mimetype": "text/x-python",
   "name": "python",
   "nbconvert_exporter": "python",
   "pygments_lexer": "ipython2",
   "version": "2.7.3"
  }
 },
 "nbformat": 4,
 "nbformat_minor": 0
}

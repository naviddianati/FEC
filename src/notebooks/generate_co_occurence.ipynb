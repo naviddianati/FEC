{
 "cells": [
  {
   "cell_type": "code",
   "execution_count": 1,
   "metadata": {
    "collapsed": false
   },
   "outputs": [
    {
     "name": "stdout",
     "output_type": "stream",
     "text": [
      "individual_contributions_v2\n",
      "newyork_combined_v2\n",
      "usa_combined_v2\n",
      "identities_v5\n",
      "identities_adjacency_v5\n"
     ]
    },
    {
     "name": "stderr",
     "output_type": "stream",
     "text": [
      "/usr/local/lib/python2.7/dist-packages/scipy/__init__.py:111: UserWarning: Numpy 1.6.2 or above is recommended for this version of scipy (detected version 1.6.1)\n",
      "  UserWarning)\n"
     ]
    }
   ],
   "source": [
    "from disambiguation.core.Database import FecRetriever, IdentityManager\n",
    "from disambiguation.core.Affiliations import AffiliationAnalyzerUndirectedPostStage1_COOCCURRENCE"
   ]
  },
  {
   "cell_type": "code",
   "execution_count": 4,
   "metadata": {
    "collapsed": false
   },
   "outputs": [
    {
     "name": "stdout",
     "output_type": "stream",
     "text": [
      "Table 'identities_v5' exists.\n",
      "Table 'identities_adjacency_v5' exists.\n",
      "Table 'linked_identities_v5' exists.\n",
      "select id,identity from identities_v5 WHERE identity like '%DE%' ;\n",
      "Number of node names not found in self.dict_record_nodes:  0\n",
      "Saved affiliation cooccurrence data to file...\n"
     ]
    }
   ],
   "source": [
    "state = 'massachusetts'\n",
    "state = 'newyork'\n",
    "state = 'ohio' \n",
    "state = 'delaware'\n",
    "affiliation = 'occupation'\n",
    "\n",
    "idm = IdentityManager(state)\n",
    "idm.fetch_dict_identity_2_id()  \n",
    "\n",
    "\n",
    "\n",
    "a = AffiliationAnalyzerUndirectedPostStage1_COOCCURRENCE(state = state, affiliation = affiliation)\n",
    "a.set_idm(idm)\n",
    "a.load_data()\n",
    "a.extract()\n",
    "a.save_data(label = state)\n",
    "\n"
   ]
  },
  {
   "cell_type": "code",
   "execution_count": null,
   "metadata": {
    "collapsed": true
   },
   "outputs": [],
   "source": []
  },
  {
   "cell_type": "code",
   "execution_count": null,
   "metadata": {
    "collapsed": true
   },
   "outputs": [],
   "source": []
  }
 ],
 "metadata": {
  "kernelspec": {
   "display_name": "Python 2",
   "language": "python",
   "name": "python2"
  },
  "language_info": {
   "codemirror_mode": {
    "name": "ipython",
    "version": 2
   },
   "file_extension": ".py",
   "mimetype": "text/x-python",
   "name": "python",
   "nbconvert_exporter": "python",
   "pygments_lexer": "ipython2",
   "version": "2.7.3"
  }
 },
 "nbformat": 4,
 "nbformat_minor": 0
}

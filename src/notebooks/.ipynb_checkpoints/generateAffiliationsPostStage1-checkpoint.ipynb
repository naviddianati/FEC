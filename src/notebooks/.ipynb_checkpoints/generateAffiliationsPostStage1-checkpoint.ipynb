{
 "cells": [
  {
   "cell_type": "markdown",
   "metadata": {},
   "source": [
    "## Generate affiliation data from stage 1 identities"
   ]
  },
  {
   "cell_type": "raw",
   "metadata": {},
   "source": [
    "Here, we will use the stage1 identities to generate updated affiliation graphs. The key is to sublass AffiliationAnalyzerUndirected such that the record data is retrieved from the database of disambiguated records rather than the files generated in stage1.py using high-certainty matches."
   ]
  },
  {
   "cell_type": "code",
   "execution_count": 4,
   "metadata": {
    "collapsed": false
   },
   "outputs": [],
   "source": [
    "from disambiguation.core import Affiliations\n",
    "from disambiguation.core import Database"
   ]
  },
  {
   "cell_type": "code",
   "execution_count": null,
   "metadata": {
    "collapsed": true
   },
   "outputs": [],
   "source": [
    "state = 'districtofcolumbia'\n",
    "affiliation = 'employer'\n",
    "analyst = Affiliations.AffiliationAnalyzerUndirected(state, affiliation = affiliation)\n"
   ]
  },
  {
   "cell_type": "code",
   "execution_count": null,
   "metadata": {
    "collapsed": true
   },
   "outputs": [],
   "source": []
  },
  {
   "cell_type": "code",
   "execution_count": null,
   "metadata": {
    "collapsed": true
   },
   "outputs": [],
   "source": []
  },
  {
   "cell_type": "code",
   "execution_count": 7,
   "metadata": {
    "collapsed": false
   },
   "outputs": [
    {
     "ename": "IOError",
     "evalue": "[Errno 2] No such file or directory: '/nfs/home/navid/data/FEC/vermont-affiliations-None-settings.json'",
     "output_type": "error",
     "traceback": [
      "\u001b[1;31m---------------------------------------------------------------------------\u001b[0m",
      "\u001b[1;31mIOError\u001b[0m                                   Traceback (most recent call last)",
      "\u001b[1;32m<ipython-input-7-5e7e10965f28>\u001b[0m in \u001b[0;36m<module>\u001b[1;34m()\u001b[0m\n\u001b[0;32m     29\u001b[0m         \u001b[0mself\u001b[0m\u001b[1;33m.\u001b[0m\u001b[0midm\u001b[0m \u001b[1;33m=\u001b[0m \u001b[0midm\u001b[0m\u001b[1;33m\u001b[0m\u001b[0m\n\u001b[0;32m     30\u001b[0m \u001b[1;33m\u001b[0m\u001b[0m\n\u001b[1;32m---> 31\u001b[1;33m \u001b[0ma\u001b[0m \u001b[1;33m=\u001b[0m \u001b[0mAffiliationAnalyzerUndirectedPostStage1\u001b[0m\u001b[1;33m(\u001b[0m\u001b[0mstate\u001b[0m \u001b[1;33m=\u001b[0m \u001b[1;34m'vermont'\u001b[0m\u001b[1;33m,\u001b[0m \u001b[0maffiliation\u001b[0m \u001b[1;33m=\u001b[0m \u001b[1;34m'occupation'\u001b[0m\u001b[1;33m)\u001b[0m\u001b[1;33m\u001b[0m\u001b[0m\n\u001b[0m\u001b[0;32m     32\u001b[0m \u001b[1;33m\u001b[0m\u001b[0m\n",
      "\u001b[1;32m/nfs/home/navid/src/FEC-1/src/disambiguation/core/Affiliations.pyc\u001b[0m in \u001b[0;36m__init__\u001b[1;34m(self, state, batch_id, affiliation)\u001b[0m\n\u001b[0;32m     77\u001b[0m         \u001b[0mself\u001b[0m\u001b[1;33m.\u001b[0m\u001b[0mlist_sample_affiliation_groups\u001b[0m \u001b[1;33m=\u001b[0m \u001b[1;33m[\u001b[0m\u001b[1;33m]\u001b[0m\u001b[1;33m\u001b[0m\u001b[0m\n\u001b[0;32m     78\u001b[0m \u001b[1;33m\u001b[0m\u001b[0m\n\u001b[1;32m---> 79\u001b[1;33m         \u001b[0mself\u001b[0m\u001b[1;33m.\u001b[0m\u001b[0mcontributors_subgraphs\u001b[0m \u001b[1;33m=\u001b[0m \u001b[0mNone\u001b[0m\u001b[1;33m\u001b[0m\u001b[0m\n\u001b[0m\u001b[0;32m     80\u001b[0m         \u001b[0mself\u001b[0m\u001b[1;33m.\u001b[0m\u001b[0mload_settings\u001b[0m\u001b[1;33m(\u001b[0m\u001b[0mfile_label\u001b[0m\u001b[1;33m=\u001b[0m\u001b[0mstate\u001b[0m \u001b[1;33m+\u001b[0m \u001b[1;34m\"-\"\u001b[0m \u001b[1;33m+\u001b[0m \u001b[1;34m\"affiliations-\"\u001b[0m\u001b[1;33m)\u001b[0m\u001b[1;33m\u001b[0m\u001b[0m\n\u001b[0;32m     81\u001b[0m \u001b[1;33m\u001b[0m\u001b[0m\n",
      "\u001b[1;32m/nfs/home/navid/src/FEC-1/src/disambiguation/core/Affiliations.pyc\u001b[0m in \u001b[0;36mload_settings\u001b[1;34m(self, file_label)\u001b[0m\n\u001b[0;32m    275\u001b[0m \u001b[1;33m\u001b[0m\u001b[0m\n\u001b[0;32m    276\u001b[0m \u001b[1;33m\u001b[0m\u001b[0m\n\u001b[1;32m--> 277\u001b[1;33m     \u001b[1;32mdef\u001b[0m \u001b[0mload_settings\u001b[0m\u001b[1;33m(\u001b[0m\u001b[0mself\u001b[0m\u001b[1;33m,\u001b[0m \u001b[0mfile_label\u001b[0m\u001b[1;33m=\u001b[0m\u001b[1;34m\"\"\u001b[0m\u001b[1;33m)\u001b[0m\u001b[1;33m:\u001b[0m\u001b[1;33m\u001b[0m\u001b[0m\n\u001b[0m\u001b[0;32m    278\u001b[0m         \u001b[0mfile_settings\u001b[0m \u001b[1;33m=\u001b[0m \u001b[0mopen\u001b[0m\u001b[1;33m(\u001b[0m\u001b[0mself\u001b[0m\u001b[1;33m.\u001b[0m\u001b[0mdata_path\u001b[0m \u001b[1;33m+\u001b[0m \u001b[0mfile_label\u001b[0m \u001b[1;33m+\u001b[0m \u001b[0mstr\u001b[0m\u001b[1;33m(\u001b[0m\u001b[0mself\u001b[0m\u001b[1;33m.\u001b[0m\u001b[0mbatch_id\u001b[0m\u001b[1;33m)\u001b[0m \u001b[1;33m+\u001b[0m \u001b[1;34m'-settings.json'\u001b[0m\u001b[1;33m)\u001b[0m\u001b[1;33m\u001b[0m\u001b[0m\n\u001b[0;32m    279\u001b[0m         \u001b[0mself\u001b[0m\u001b[1;33m.\u001b[0m\u001b[0msettings\u001b[0m \u001b[1;33m=\u001b[0m \u001b[0mjson\u001b[0m\u001b[1;33m.\u001b[0m\u001b[0mload\u001b[0m\u001b[1;33m(\u001b[0m\u001b[0mfile_settings\u001b[0m\u001b[1;33m)\u001b[0m\u001b[1;33m\u001b[0m\u001b[0m\n",
      "\u001b[1;31mIOError\u001b[0m: [Errno 2] No such file or directory: '/nfs/home/navid/data/FEC/vermont-affiliations-None-settings.json'"
     ]
    }
   ],
   "source": [
    "class AffiliationAnalyzerUndirectedPostStage1(Affiliations.AffiliationAnalyzerUndirected):\n",
    "    '''\n",
    "    Subclass of AffiliationAnalyzerUndirected. Generates a similar affiliation graph,\n",
    "    but instead of the high-certainty matches found pre-stage1, it uses the stage1\n",
    "    identities to link affiliation identifiers. For this, we need to override the\n",
    "    L{load_data()} method so it loads the records using an FECretriever.\n",
    "    Must set L{self.G}, L{self.dict_record_nodes}.\n",
    "    '''\n",
    "    def get_records():\n",
    "        '''\n",
    "        Retrieve all records for given state.\n",
    "        '''\n",
    "        state = self.state\n",
    "        table_name = state + \"_combined\"\n",
    "        retriever = Database.FecRetriever(table_name = table_name)\n",
    "        self.list_of_records = retriever.getRecords()\n",
    "        \n",
    "    def load_data(self):\n",
    "        self.settings = self.load_settings()\n",
    "        self.load_record_nodes()            \n",
    "#         self.record_edge_list = json.load(file_adjacency)\n",
    "#         self.dict_record_nodes = json.load(file_nodes)\n",
    "#         self.G = igraph.Graph.TupleList(edges=self.record_edge_list)\n",
    "\n",
    "    \n",
    "    \n",
    "    def load_record_nodes(self):\n",
    "        self.dict_record_nodes = {}\n",
    "        dict_index = self.settings['field_2_index']\n",
    "        for record in self.list_of_records:\n",
    "            amount_index = dict_index['TRANSACTION_AMT']\n",
    "            record_data[amount_index] = record['TRANSACTION_AMT']\n",
    "\n",
    "            committee_index = dict_index['CMTE_ID']\n",
    "            record_data[committee_index] = record['CMTE_ID']\n",
    "\n",
    "            date_index = dict_index['TRANSACTION_DT']\n",
    "            record_data[date_index] = record['TRANSACTION_DT']\n",
    "\n",
    "            self.dict_record_nodes[record.id] = {'data': record_data}\n",
    "\n",
    "            \n",
    "    def set_idm(idm):\n",
    "        '''\n",
    "        Assign an IdentityManager to this instance.\n",
    "        '''\n",
    "        self.idm = idm\n",
    "    \n",
    "    def load_settings(self):\n",
    "        '''\n",
    "        Define the L{self.settings} instance that defines the\n",
    "        schema of the nodes dictionary.\n",
    "        '''\n",
    "        \n",
    "\n",
    "a = AffiliationAnalyzerUndirectedPostStage1(state = 'vermont', affiliation = 'occupation')\n",
    "        "
   ]
  },
  {
   "cell_type": "code",
   "execution_count": null,
   "metadata": {
    "collapsed": true
   },
   "outputs": [],
   "source": []
  }
 ],
 "metadata": {
  "kernelspec": {
   "display_name": "Python 2",
   "language": "python",
   "name": "python2"
  },
  "language_info": {
   "codemirror_mode": {
    "name": "ipython",
    "version": 2
   },
   "file_extension": ".py",
   "mimetype": "text/x-python",
   "name": "python",
   "nbconvert_exporter": "python",
   "pygments_lexer": "ipython2",
   "version": "2.7.3"
  }
 },
 "nbformat": 4,
 "nbformat_minor": 0
}

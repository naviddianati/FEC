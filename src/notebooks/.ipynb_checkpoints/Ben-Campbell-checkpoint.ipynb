{
 "cells": [
  {
   "cell_type": "markdown",
   "metadata": {},
   "source": [
    "# Extract a network of interconnections between a set of candidates"
   ]
  },
  {
   "cell_type": "markdown",
   "metadata": {},
   "source": [
    "### We have a list of candidates. Some may be associated with one or more committees. \n"
   ]
  },
  {
   "cell_type": "code",
   "execution_count": 1,
   "metadata": {
    "collapsed": false
   },
   "outputs": [
    {
     "name": "stdout",
     "output_type": "stream",
     "text": [
      "individual_contributions_v2\n",
      "newyork_combined_v2\n",
      "usa_combined_v2\n",
      "identities_v5\n",
      "identities_adjacency_v5\n"
     ]
    },
    {
     "name": "stderr",
     "output_type": "stream",
     "text": [
      "/usr/local/lib/python2.7/dist-packages/scipy/__init__.py:111: UserWarning: Numpy 1.6.2 or above is recommended for this version of scipy (detected version 1.6.1)\n",
      "  UserWarning)\n"
     ]
    }
   ],
   "source": [
    "from  disambiguation.core import Database\n",
    "import igraph as ig\n",
    "import numpy as np\n",
    "import pandas as pd"
   ]
  },
  {
   "cell_type": "code",
   "execution_count": 2,
   "metadata": {
    "collapsed": false
   },
   "outputs": [
    {
     "name": "stdout",
     "output_type": "stream",
     "text": [
      "Table 'identities_v5' exists.\n",
      "Table 'identities_adjacency_v5' exists.\n",
      "Table 'linked_identities_v5' exists.\n",
      "select id,identity from identities_v5;\n"
     ]
    }
   ],
   "source": [
    "idm = Database.IdentityManager('USA')\n",
    "idm.fetch_dict_id_2_identity()"
   ]
  },
  {
   "cell_type": "markdown",
   "metadata": {},
   "source": [
    "## 1- find the committees associated with each candidate"
   ]
  },
  {
   "cell_type": "code",
   "execution_count": 10,
   "metadata": {
    "collapsed": false
   },
   "outputs": [
    {
     "name": "stdout",
     "output_type": "stream",
     "text": [
      "/nfs/home/navid/data/FEC-prepare/data/ccl00.txt\n",
      "/nfs/home/navid/data/FEC-prepare/data/ccl02.txt\n",
      "/nfs/home/navid/data/FEC-prepare/data/ccl04.txt\n",
      "/nfs/home/navid/data/FEC-prepare/data/ccl06.txt\n",
      "/nfs/home/navid/data/FEC-prepare/data/ccl08.txt\n",
      "/nfs/home/navid/data/FEC-prepare/data/ccl10.txt\n",
      "/nfs/home/navid/data/FEC-prepare/data/ccl12.txt\n",
      "/nfs/home/navid/data/FEC-prepare/data/ccl14.txt\n",
      "/nfs/home/navid/data/FEC-prepare/data/ccl16.txt\n"
     ]
    }
   ],
   "source": [
    "datadir = '/nfs/home/navid/data/FEC-prepare/data/'\n",
    "columns = ['CAND_ID', 'CAND_ELECTION_YR','FEC_ELECTION_YR','CMTE_ID','CMTE_TP','CMTE_DSGN','LINKAGE_ID']\n",
    "\n",
    "dict_cand_comm_data = {}\n",
    "\n",
    "for year in range(0,18,2):\n",
    "    filename = '{}ccl{}.txt'.format(datadir,str(year).rjust(2,'0'))\n",
    "    print filename\n",
    "    data = pd.read_csv(filename,sep = '|',names = columns)\n",
    "    dict_cand_comm_data[year] = data\n"
   ]
  },
  {
   "cell_type": "markdown",
   "metadata": {},
   "source": [
    "## Set of committees we're interested in "
   ]
  },
  {
   "cell_type": "code",
   "execution_count": 156,
   "metadata": {
    "collapsed": false
   },
   "outputs": [],
   "source": [
    "# set of candidates we're interested in:\n",
    "filename =  '/nfs/home/navid/data/Oren/names_for_oren.txt'\n",
    "data_names = pd.read_csv(filename, sep='|', header=None)\n",
    "set_cands = set(data_names[0].values)\n",
    "\n",
    "\n",
    "set_cands\n",
    "data_names\n",
    "\n",
    "dict_parties = {row[0]:row[2] for i,row in data_names.iterrows()}"
   ]
  },
  {
   "cell_type": "code",
   "execution_count": 155,
   "metadata": {
    "collapsed": false
   },
   "outputs": [
    {
     "data": {
      "text/html": [
       "<div style=\"max-height:1000px;max-width:1500px;overflow:auto;\">\n",
       "<table border=\"1\" class=\"dataframe\">\n",
       "  <thead>\n",
       "    <tr style=\"text-align: right;\">\n",
       "      <th></th>\n",
       "      <th>0</th>\n",
       "      <th>1</th>\n",
       "      <th>2</th>\n",
       "      <th>3</th>\n",
       "      <th>4</th>\n",
       "      <th>5</th>\n",
       "      <th>6</th>\n",
       "      <th>7</th>\n",
       "      <th>8</th>\n",
       "      <th>9</th>\n",
       "      <th>10</th>\n",
       "      <th>11</th>\n",
       "      <th>12</th>\n",
       "      <th>13</th>\n",
       "      <th>14</th>\n",
       "    </tr>\n",
       "  </thead>\n",
       "  <tbody>\n",
       "    <tr>\n",
       "      <th>4</th>\n",
       "      <td> H0AR03055</td>\n",
       "      <td> WOMACK STEVE</td>\n",
       "      <td> REP</td>\n",
       "      <td> 2014</td>\n",
       "      <td> AR</td>\n",
       "      <td> H</td>\n",
       "      <td> 3</td>\n",
       "      <td> I</td>\n",
       "      <td> C</td>\n",
       "      <td> C00477745</td>\n",
       "      <td> 134 N PLEASANT RIDGE DRIVE</td>\n",
       "      <td> NaN</td>\n",
       "      <td> ROGERS</td>\n",
       "      <td> NaN</td>\n",
       "      <td> 727560701</td>\n",
       "    </tr>\n",
       "  </tbody>\n",
       "</table>\n",
       "</div>"
      ],
      "text/plain": [
       "          0             1    2     3   4  5   6  7  8          9   \\\n",
       "4  H0AR03055  WOMACK STEVE  REP  2014  AR  H   3  I  C  C00477745   \n",
       "\n",
       "                           10   11      12   13         14  \n",
       "4  134 N PLEASANT RIDGE DRIVE  NaN  ROGERS  NaN  727560701  "
      ]
     },
     "execution_count": 155,
     "metadata": {},
     "output_type": "execute_result"
    }
   ],
   "source": [
    "data_names[data_names[0] == 'H0AR03055']"
   ]
  },
  {
   "cell_type": "code",
   "execution_count": 32,
   "metadata": {
    "collapsed": false
   },
   "outputs": [
    {
     "name": "stdout",
     "output_type": "stream",
     "text": [
      "0\n",
      "2\n",
      "4\n",
      "6\n",
      "8\n",
      "10\n",
      "12\n",
      "14\n",
      "16\n"
     ]
    }
   ],
   "source": [
    "dict_cand_2_comm = {}\n",
    "dict_comm_2_cand = {}\n",
    "\n",
    "for year, df  in dict_cand_comm_data.iteritems():\n",
    "    print year\n",
    "    for i, row in df.iterrows():\n",
    "        cand = row['CAND_ID']\n",
    "        comm = row['CMTE_ID']\n",
    "        designation = row['CMTE_DSGN']\n",
    "        if designation not in ['P']: continue\n",
    "        try:\n",
    "            dict_cand_2_comm[cand].add(comm)\n",
    "        except:\n",
    "            dict_cand_2_comm[cand] = set([comm])\n",
    "        \n",
    "        try:\n",
    "            dict_comm_2_cand[comm].add(cand)\n",
    "        except:\n",
    "            dict_comm_2_cand[comm] = set([cand])\n",
    "\n",
    "            "
   ]
  },
  {
   "cell_type": "code",
   "execution_count": 45,
   "metadata": {
    "collapsed": false
   },
   "outputs": [
    {
     "name": "stdout",
     "output_type": "stream",
     "text": [
      "Number of candidates with at least one principal committee:  13048\n",
      "Number of candidates of interes:  464\n",
      "Number of candidates of interest with at least one principal committee:  459\n"
     ]
    }
   ],
   "source": [
    "print \"Number of candidates with at least one principal committee: \", len(dict_cand_2_comm)\n",
    "print \"Number of candidates of interes: \", len(set_cands)\n",
    "print \"Number of candidates of interest with at least one principal committee: \",\\\n",
    "    len(set(dict_cand_2_comm.keys()).intersection(set_cands))\n"
   ]
  },
  {
   "cell_type": "markdown",
   "metadata": {},
   "source": [
    "### Set of candidates that have at least one principal campaign PAC "
   ]
  },
  {
   "cell_type": "code",
   "execution_count": 48,
   "metadata": {
    "collapsed": false
   },
   "outputs": [],
   "source": [
    "set_cands_good = set(dict_cand_2_comm.keys()).intersection(set_cands)\n",
    "list_cands_good = sorted(set_cands_good)"
   ]
  },
  {
   "cell_type": "markdown",
   "metadata": {},
   "source": [
    "1- Load all records in the desired date range\n",
    "2- For each record, note the compound identity and the recipient candidate and the amount.\n",
    "3- Build a dict {(identity, candidate): amount} and update with each new record."
   ]
  },
  {
   "cell_type": "code",
   "execution_count": 55,
   "metadata": {
    "collapsed": false
   },
   "outputs": [
    {
     "name": "stdout",
     "output_type": "stream",
     "text": [
      "SELECT TRANSACTION_DT,TRANSACTION_AMT,CMTE_ID,id from usa_combined_v2 where TRANSACTION_DT BETWEEN \"2013-01-01\" AND \"2014-12-30\"\n"
     ]
    }
   ],
   "source": [
    "retriever = Database.FecRetriever(table_name = 'usa_combined_v2')\n",
    "\n",
    "date1 = '2013-01-01'\n",
    "date2 = '2014-12-30'\n",
    "\n",
    "list_fields = ['TRANSACTION_DT', 'TRANSACTION_AMT', 'CMTE_ID', 'id']\n",
    "list_fields_str = ','.join(list_fields)\n",
    "query = 'SELECT {fields} from usa_combined_v2 where TRANSACTION_DT BETWEEN \"{date1}\" AND \"{date2}\"'.format(date1 = date1,\n",
    "                                                                                                        date2 = date2,\n",
    "                                                                                                       fields=list_fields_str)\n",
    "print query\n",
    "retriever.query_fields = list_fields\n",
    "retriever.retrieve(query=query)\n",
    "list_records = retriever.getRecords()"
   ]
  },
  {
   "cell_type": "code",
   "execution_count": 56,
   "metadata": {
    "collapsed": false
   },
   "outputs": [
    {
     "data": {
      "text/plain": [
       "2135680"
      ]
     },
     "execution_count": 56,
     "metadata": {},
     "output_type": "execute_result"
    }
   ],
   "source": [
    "len(list_records)"
   ]
  },
  {
   "cell_type": "markdown",
   "metadata": {},
   "source": [
    "### Loop through the list of records "
   ]
  },
  {
   "cell_type": "code",
   "execution_count": 80,
   "metadata": {
    "collapsed": false
   },
   "outputs": [],
   "source": [
    "outdir = '/nfs/home/navid/data/Oren/'\n",
    "\n",
    "def get_compound_identity(identity, idm):\n",
    "    '''\n",
    "    Return the compound identity of identity by concatenating\n",
    "    the identities of all linked identities.\n",
    "    '''\n",
    "    if identity is None:\n",
    "        return ''\n",
    "    linked_identities = idm.get_linked_identities(identity)\n",
    "    \n",
    "    all_identities = linked_identities + [identity]\n",
    "    compound_identity = \"|\".join(sorted(all_identities)) \n",
    "    return compound_identity\n",
    "\n",
    "\n",
    "outfile = outdir + \"person_to_candidate_records.csv\"\n",
    "with open(outfile, 'w') as f:\n",
    "    for i, record in enumerate(list_records):\n",
    "        cmte = record['CMTE_ID']\n",
    "        try:\n",
    "            set_cand = dict_comm_2_cand[cmte]\n",
    "        except:\n",
    "    #         print \"error\"\n",
    "            continue\n",
    "        n = len(set_cand)\n",
    "        list_cands = list(set_cand)\n",
    "\n",
    "\n",
    "\n",
    "        date = record['TRANSACTION_DT']\n",
    "        amount = record['TRANSACTION_AMT']\n",
    "        identity = get_compound_identity(idm.get_identity(rid), idm)\n",
    "        rid = record.id\n",
    "        for cand in list_cands:\n",
    "            if cand not in set_cands_good: continue\n",
    "            f.write('{},{},{},{},{},{}\\n'.format(rid, date, amount/n, cmte, cand, identity))\n",
    "#         if i > 1000: break\n",
    "    "
   ]
  },
  {
   "cell_type": "code",
   "execution_count": 72,
   "metadata": {
    "collapsed": false
   },
   "outputs": [
    {
     "data": {
      "text/plain": [
       "{'H0AL02087'}"
      ]
     },
     "execution_count": 72,
     "metadata": {},
     "output_type": "execute_result"
    }
   ],
   "source": [
    "dict_comm_2_cand['C00462143']"
   ]
  },
  {
   "cell_type": "markdown",
   "metadata": {},
   "source": [
    "## Now, read the CSV file and use it to compute the similarity matrix "
   ]
  },
  {
   "cell_type": "code",
   "execution_count": 2,
   "metadata": {
    "collapsed": false
   },
   "outputs": [],
   "source": [
    "outdir = '/nfs/home/navid/data/Oren/'\n",
    "\n",
    "filename = outdir + \"perdon_to_candidate_records.csv\"\n",
    "columns = ['id', 'date', 'amount', 'cmte_id', 'cand_id', 'identity']\n",
    "df = pd.read_csv(filename, names = columns, sep=',')\n"
   ]
  },
  {
   "cell_type": "code",
   "execution_count": 3,
   "metadata": {
    "collapsed": false
   },
   "outputs": [],
   "source": [
    "# Set tof all (compound) identities found in the df\n",
    "set_identities = set(df['identity'])"
   ]
  },
  {
   "cell_type": "code",
   "execution_count": 4,
   "metadata": {
    "collapsed": false
   },
   "outputs": [],
   "source": [
    "# dict: {identity: set([cands])}\n",
    "dict_identity_2_candidates = {}\n",
    "for i, row in df.iterrows():\n",
    "    cand = row['cand_id']\n",
    "    identity = row['identity']\n",
    "    amount = row['amount']\n",
    "    try:\n",
    "        dict_identity_2_candidates[identity].add(cand)\n",
    "    except:\n",
    "        dict_identity_2_candidates[identity] = set([cand])\n",
    "        \n",
    "    \n",
    "    "
   ]
  },
  {
   "cell_type": "code",
   "execution_count": 5,
   "metadata": {
    "collapsed": false
   },
   "outputs": [],
   "source": [
    "edgelist = {}\n",
    "for identity, set_cands in dict_identity_2_candidates.iteritems():\n",
    "    for cand1 in set_cands:\n",
    "        for cand2 in set_cands:\n",
    "            if cand1 >= cand2: continue\n",
    "            edge = tuple(sorted([cand1, cand2]))\n",
    "            try:\n",
    "                edgelist[edge] += 1\n",
    "            except:\n",
    "                edgelist[edge] = 1\n",
    "                \n",
    "            \n",
    "            \n",
    "                "
   ]
  },
  {
   "cell_type": "code",
   "execution_count": 95,
   "metadata": {
    "collapsed": false
   },
   "outputs": [
    {
     "name": "stdout",
     "output_type": "stream",
     "text": [
      "56457\n"
     ]
    }
   ],
   "source": [
    "edgelist\n",
    "print len(edgelist)"
   ]
  },
  {
   "cell_type": "code",
   "execution_count": 6,
   "metadata": {
    "collapsed": false
   },
   "outputs": [],
   "source": [
    "edgelist_flat = [(key[0], key[1], value) for key, value in edgelist.iteritems() ]\n",
    "g = ig.Graph.TupleList(edgelist_flat, weights = True)\n"
   ]
  },
  {
   "cell_type": "code",
   "execution_count": 105,
   "metadata": {
    "collapsed": false
   },
   "outputs": [],
   "source": [
    "g.write_ncol(outdir + 'similarity_1.edges',)"
   ]
  },
  {
   "cell_type": "markdown",
   "metadata": {},
   "source": [
    "## Prune the graph "
   ]
  },
  {
   "cell_type": "code",
   "execution_count": 125,
   "metadata": {
    "collapsed": false
   },
   "outputs": [
    {
     "name": "stdout",
     "output_type": "stream",
     "text": [
      "56457\n",
      "443\n",
      "0.00784667977399\n"
     ]
    }
   ],
   "source": [
    "import networks as nt\n",
    "import matplotlib.pyplot as plt\n",
    "from cPickle import dumps, loads\n",
    "print g.ecount()\n",
    "print g.vcount()\n",
    "print float(g.vcount())/g.ecount()"
   ]
  },
  {
   "cell_type": "code",
   "execution_count": 127,
   "metadata": {
    "collapsed": false
   },
   "outputs": [
    {
     "name": "stdout",
     "output_type": "stream",
     "text": [
      "Hello\n"
     ]
    }
   ],
   "source": [
    "nt.compute_significance(g)\n",
    "g_dump = dumps(g)"
   ]
  },
  {
   "cell_type": "code",
   "execution_count": 181,
   "metadata": {
    "collapsed": false
   },
   "outputs": [
    {
     "data": {
      "text/plain": [
       "<igraph.Graph at 0x110f82af8>"
      ]
     },
     "execution_count": 181,
     "metadata": {},
     "output_type": "execute_result"
    }
   ],
   "source": [
    "G = loads(g_dump)\n",
    "percent = 5\n",
    "# field = 'significance'\n",
    "field = 'weight'\n",
    "nt.prune(G, percent=percent, field=field)\n"
   ]
  },
  {
   "cell_type": "code",
   "execution_count": 182,
   "metadata": {
    "collapsed": false
   },
   "outputs": [
    {
     "data": {
      "text/plain": [
       "<igraph.drawing.Plot at 0x117f6f7d0>"
      ]
     },
     "execution_count": 182,
     "metadata": {},
     "output_type": "execute_result"
    }
   ],
   "source": [
    "dict_colors = {'REP':'red', \"DEM\":'blue', 'IND':'gray'}\n",
    "def get_color(party):\n",
    "    try:\n",
    "        return dict_colors[party]\n",
    "    except:\n",
    "        return 'gray'\n",
    "    \n",
    "colors = [get_color(dict_parties[v['name']]) for v in G.vs]\n",
    "\n",
    "ig.plot(G, \n",
    "        outdir+\"plot-{}-{}pct.png\".format(field, percent),\n",
    "        vertex_size = 10,\n",
    "        edge_color = '#cccccc',\n",
    "        vertex_color = colors\n",
    "       )"
   ]
  },
  {
   "cell_type": "code",
   "execution_count": 162,
   "metadata": {
    "collapsed": false
   },
   "outputs": [
    {
     "data": {
      "text/plain": [
       "['red',\n",
       " 'red',\n",
       " 'red',\n",
       " 'blue',\n",
       " 'red',\n",
       " 'blue',\n",
       " 'red',\n",
       " 'red',\n",
       " 'red',\n",
       " 'red',\n",
       " 'red',\n",
       " 'red',\n",
       " 'blue',\n",
       " 'blue',\n",
       " 'red',\n",
       " 'red',\n",
       " 'blue',\n",
       " 'blue',\n",
       " 'red',\n",
       " 'blue',\n",
       " 'red',\n",
       " 'red',\n",
       " 'blue',\n",
       " 'blue',\n",
       " 'blue',\n",
       " 'red',\n",
       " 'red',\n",
       " 'red',\n",
       " 'red',\n",
       " 'red',\n",
       " 'blue',\n",
       " 'blue',\n",
       " 'red',\n",
       " 'red',\n",
       " 'red',\n",
       " 'blue',\n",
       " 'red',\n",
       " 'red',\n",
       " 'red',\n",
       " 'blue',\n",
       " 'red',\n",
       " 'red',\n",
       " 'blue',\n",
       " 'red',\n",
       " 'blue',\n",
       " 'red',\n",
       " 'red',\n",
       " 'red',\n",
       " 'blue',\n",
       " 'blue',\n",
       " 'blue',\n",
       " 'blue',\n",
       " 'red',\n",
       " 'red',\n",
       " 'blue',\n",
       " 'blue',\n",
       " 'blue',\n",
       " 'blue',\n",
       " 'red',\n",
       " 'blue',\n",
       " 'red',\n",
       " 'blue',\n",
       " 'red',\n",
       " 'blue',\n",
       " 'red',\n",
       " 'red',\n",
       " 'blue',\n",
       " 'red',\n",
       " 'red',\n",
       " 'blue',\n",
       " 'blue',\n",
       " 'red',\n",
       " 'red',\n",
       " 'red',\n",
       " 'red',\n",
       " 'blue',\n",
       " 'blue',\n",
       " 'red',\n",
       " 'blue',\n",
       " 'blue',\n",
       " 'blue',\n",
       " 'red',\n",
       " 'red',\n",
       " 'red',\n",
       " 'blue',\n",
       " 'red',\n",
       " 'red',\n",
       " 'red',\n",
       " 'blue',\n",
       " 'blue',\n",
       " 'red',\n",
       " 'red',\n",
       " 'red',\n",
       " 'red',\n",
       " 'blue',\n",
       " 'blue',\n",
       " 'red',\n",
       " 'red',\n",
       " 'blue',\n",
       " 'blue',\n",
       " 'red',\n",
       " 'red',\n",
       " 'blue',\n",
       " 'red',\n",
       " 'red',\n",
       " 'blue',\n",
       " 'red',\n",
       " 'red',\n",
       " 'blue',\n",
       " 'blue',\n",
       " 'blue',\n",
       " 'red',\n",
       " 'blue',\n",
       " 'red',\n",
       " 'blue',\n",
       " 'blue',\n",
       " 'blue',\n",
       " 'blue',\n",
       " 'blue',\n",
       " 'red',\n",
       " 'blue',\n",
       " 'blue',\n",
       " 'red',\n",
       " 'red',\n",
       " 'blue',\n",
       " 'red',\n",
       " 'red',\n",
       " 'red',\n",
       " 'blue',\n",
       " 'red',\n",
       " 'blue',\n",
       " 'blue',\n",
       " 'blue',\n",
       " 'blue',\n",
       " 'blue',\n",
       " 'red',\n",
       " 'red',\n",
       " 'blue',\n",
       " 'red',\n",
       " 'red',\n",
       " 'red',\n",
       " 'red',\n",
       " 'blue',\n",
       " 'blue',\n",
       " 'blue',\n",
       " 'red',\n",
       " 'red',\n",
       " 'blue',\n",
       " 'blue',\n",
       " 'red',\n",
       " 'blue',\n",
       " 'blue',\n",
       " 'red',\n",
       " 'red',\n",
       " 'red',\n",
       " 'blue',\n",
       " 'red',\n",
       " 'red',\n",
       " 'red',\n",
       " 'blue',\n",
       " 'red',\n",
       " 'red',\n",
       " 'red',\n",
       " 'blue',\n",
       " 'red',\n",
       " 'blue',\n",
       " 'red',\n",
       " 'red',\n",
       " 'blue',\n",
       " 'red',\n",
       " 'blue',\n",
       " 'red',\n",
       " 'blue',\n",
       " 'blue',\n",
       " 'red',\n",
       " 'red',\n",
       " 'red',\n",
       " 'red',\n",
       " 'blue',\n",
       " 'blue',\n",
       " 'red',\n",
       " 'red',\n",
       " 'red',\n",
       " 'blue',\n",
       " 'red',\n",
       " 'blue',\n",
       " 'blue',\n",
       " 'blue',\n",
       " 'red',\n",
       " 'red',\n",
       " 'gray',\n",
       " 'blue',\n",
       " 'blue',\n",
       " 'red',\n",
       " 'red',\n",
       " 'red',\n",
       " 'blue',\n",
       " 'red',\n",
       " 'red',\n",
       " 'red',\n",
       " 'blue',\n",
       " 'red',\n",
       " 'red',\n",
       " 'blue',\n",
       " 'red',\n",
       " 'blue',\n",
       " 'red',\n",
       " 'red',\n",
       " 'red',\n",
       " 'blue',\n",
       " 'blue',\n",
       " 'red',\n",
       " 'blue',\n",
       " 'red',\n",
       " 'red',\n",
       " 'blue',\n",
       " 'red',\n",
       " 'blue',\n",
       " 'blue',\n",
       " 'blue',\n",
       " 'red',\n",
       " 'red',\n",
       " 'blue',\n",
       " 'blue',\n",
       " 'blue',\n",
       " 'blue',\n",
       " 'blue',\n",
       " 'red',\n",
       " 'red',\n",
       " 'blue',\n",
       " 'blue',\n",
       " 'blue',\n",
       " 'red',\n",
       " 'blue',\n",
       " 'red',\n",
       " 'red',\n",
       " 'red',\n",
       " 'blue',\n",
       " 'blue',\n",
       " 'blue',\n",
       " 'blue',\n",
       " 'red',\n",
       " 'red',\n",
       " 'red',\n",
       " 'red',\n",
       " 'blue',\n",
       " 'red',\n",
       " 'blue',\n",
       " 'red',\n",
       " 'red',\n",
       " 'blue',\n",
       " 'red',\n",
       " 'red',\n",
       " 'red',\n",
       " 'blue',\n",
       " 'blue',\n",
       " 'red',\n",
       " 'red',\n",
       " 'red',\n",
       " 'red',\n",
       " 'blue',\n",
       " 'red',\n",
       " 'blue',\n",
       " 'blue',\n",
       " 'red',\n",
       " 'red',\n",
       " 'blue',\n",
       " 'blue',\n",
       " 'blue',\n",
       " 'blue',\n",
       " 'red',\n",
       " 'red',\n",
       " 'red',\n",
       " 'blue',\n",
       " 'red',\n",
       " 'red',\n",
       " 'blue',\n",
       " 'blue',\n",
       " 'red',\n",
       " 'red',\n",
       " 'blue',\n",
       " 'red',\n",
       " 'red',\n",
       " 'red',\n",
       " 'blue',\n",
       " 'gray',\n",
       " 'red',\n",
       " 'red',\n",
       " 'red',\n",
       " 'blue',\n",
       " 'red',\n",
       " 'blue',\n",
       " 'blue',\n",
       " 'blue',\n",
       " 'blue',\n",
       " 'red',\n",
       " 'blue',\n",
       " 'blue',\n",
       " 'red',\n",
       " 'red',\n",
       " 'blue',\n",
       " 'blue',\n",
       " 'blue',\n",
       " 'blue',\n",
       " 'red',\n",
       " 'blue',\n",
       " 'blue',\n",
       " 'blue',\n",
       " 'red',\n",
       " 'red',\n",
       " 'blue',\n",
       " 'blue',\n",
       " 'blue',\n",
       " 'red',\n",
       " 'red',\n",
       " 'blue',\n",
       " 'blue',\n",
       " 'red',\n",
       " 'red',\n",
       " 'red',\n",
       " 'red',\n",
       " 'blue',\n",
       " 'red',\n",
       " 'blue',\n",
       " 'red',\n",
       " 'blue',\n",
       " 'blue',\n",
       " 'blue',\n",
       " 'blue',\n",
       " 'blue',\n",
       " 'red',\n",
       " 'red',\n",
       " 'blue',\n",
       " 'blue',\n",
       " 'blue',\n",
       " 'blue',\n",
       " 'blue',\n",
       " 'blue',\n",
       " 'red',\n",
       " 'blue',\n",
       " 'blue',\n",
       " 'blue',\n",
       " 'blue',\n",
       " 'red',\n",
       " 'red',\n",
       " 'red',\n",
       " 'red',\n",
       " 'red',\n",
       " 'blue',\n",
       " 'blue',\n",
       " 'blue',\n",
       " 'blue',\n",
       " 'blue',\n",
       " 'red',\n",
       " 'blue',\n",
       " 'red',\n",
       " 'blue',\n",
       " 'red',\n",
       " 'red',\n",
       " 'red',\n",
       " 'blue',\n",
       " 'blue',\n",
       " 'red',\n",
       " 'blue',\n",
       " 'red',\n",
       " 'gray',\n",
       " 'blue',\n",
       " 'red',\n",
       " 'red',\n",
       " 'blue',\n",
       " 'blue',\n",
       " 'blue',\n",
       " 'red',\n",
       " 'red',\n",
       " 'red',\n",
       " 'blue',\n",
       " 'blue',\n",
       " 'red',\n",
       " 'blue',\n",
       " 'red',\n",
       " 'red',\n",
       " 'red',\n",
       " 'red',\n",
       " 'red',\n",
       " 'blue',\n",
       " 'red',\n",
       " 'blue',\n",
       " 'red',\n",
       " 'red',\n",
       " 'red',\n",
       " 'blue',\n",
       " 'blue',\n",
       " 'blue',\n",
       " 'blue',\n",
       " 'red',\n",
       " 'red',\n",
       " 'red',\n",
       " 'red',\n",
       " 'blue',\n",
       " 'blue',\n",
       " 'red',\n",
       " 'blue',\n",
       " 'red',\n",
       " 'blue',\n",
       " 'red',\n",
       " 'blue',\n",
       " 'blue',\n",
       " 'blue',\n",
       " 'red',\n",
       " 'blue',\n",
       " 'red',\n",
       " 'red',\n",
       " 'blue',\n",
       " 'blue',\n",
       " 'red',\n",
       " 'red',\n",
       " 'blue',\n",
       " 'blue',\n",
       " 'blue',\n",
       " 'red',\n",
       " 'red',\n",
       " 'blue',\n",
       " 'red',\n",
       " 'red',\n",
       " 'blue',\n",
       " 'red',\n",
       " 'blue',\n",
       " 'red',\n",
       " 'blue',\n",
       " 'red',\n",
       " 'red',\n",
       " 'blue',\n",
       " 'red',\n",
       " 'red',\n",
       " 'red',\n",
       " 'red',\n",
       " 'red',\n",
       " 'blue',\n",
       " 'blue',\n",
       " 'red',\n",
       " 'red',\n",
       " 'red',\n",
       " 'red']"
      ]
     },
     "execution_count": 162,
     "metadata": {},
     "output_type": "execute_result"
    }
   ],
   "source": [
    "colors"
   ]
  },
  {
   "cell_type": "code",
   "execution_count": 9,
   "metadata": {
    "collapsed": false
   },
   "outputs": [
    {
     "data": {
      "text/plain": [
       "(array([18587,  9850,  6034,  3904,  2881,  2126,  1624,  1322,  1116]),\n",
       " array([ 0.5,  1.5,  2.5,  3.5,  4.5,  5.5,  6.5,  7.5,  8.5,  9.5]),\n",
       " <a list of 9 Patch objects>)"
      ]
     },
     "execution_count": 9,
     "metadata": {},
     "output_type": "execute_result"
    },
    {
     "data": {
      "image/png": "[encoded data removed]",
      "text/plain": [
       "<matplotlib.figure.Figure at 0xdf77fd0>"
      ]
     },
     "metadata": {
      "image/png": {
       "height": 252,
       "width": 389
      }
     },
     "output_type": "display_data"
    }
   ],
   "source": [
    "import matplotlib.pyplot as plt\n",
    "plt.hist([x[2] for x in edgelist_flat], bins = np.arange(0,10)+0.5)"
   ]
  },
  {
   "cell_type": "code",
   "execution_count": null,
   "metadata": {
    "collapsed": true
   },
   "outputs": [],
   "source": []
  }
 ],
 "metadata": {
  "kernelspec": {
   "display_name": "Python 2",
   "language": "python",
   "name": "python2"
  },
  "language_info": {
   "codemirror_mode": {
    "name": "ipython",
    "version": 2
   },
   "file_extension": ".py",
   "mimetype": "text/x-python",
   "name": "python",
   "nbconvert_exporter": "python",
   "pygments_lexer": "ipython2",
   "version": "2.7.3"
  }
 },
 "nbformat": 4,
 "nbformat_minor": 0
}

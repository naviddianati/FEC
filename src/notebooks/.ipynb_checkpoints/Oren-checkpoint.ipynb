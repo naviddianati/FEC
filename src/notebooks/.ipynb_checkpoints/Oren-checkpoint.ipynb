{
 "cells": [
  {
   "cell_type": "markdown",
   "metadata": {},
   "source": [
    "# Extract a network of interconnections between a set of candidates"
   ]
  },
  {
   "cell_type": "markdown",
   "metadata": {},
   "source": [
    "### We have a list of candidates. Some may be associated with one or more committees. \n"
   ]
  },
  {
   "cell_type": "code",
   "execution_count": 6,
   "metadata": {
    "collapsed": false
   },
   "outputs": [],
   "source": [
    "from  disambiguation.core import Database\n",
    "import igraph as ig\n",
    "import numpy as np\n",
    "import pandas as pd"
   ]
  },
  {
   "cell_type": "code",
   "execution_count": 50,
   "metadata": {
    "collapsed": false
   },
   "outputs": [
    {
     "name": "stdout",
     "output_type": "stream",
     "text": [
      "Table 'identities_v5' exists.\n",
      "Table 'identities_adjacency_v5' exists.\n",
      "Table 'linked_identities_v5' exists.\n",
      "select id,identity from identities_v5;\n"
     ]
    }
   ],
   "source": [
    "idm = Database.IdentityManager('USA')\n",
    "idm.fetch_dict_id_2_identity()"
   ]
  },
  {
   "cell_type": "markdown",
   "metadata": {},
   "source": [
    "## 1- find the committees associated with each candidate"
   ]
  },
  {
   "cell_type": "code",
   "execution_count": 10,
   "metadata": {
    "collapsed": false
   },
   "outputs": [
    {
     "name": "stdout",
     "output_type": "stream",
     "text": [
      "/nfs/home/navid/data/FEC-prepare/data/ccl00.txt\n",
      "/nfs/home/navid/data/FEC-prepare/data/ccl02.txt\n",
      "/nfs/home/navid/data/FEC-prepare/data/ccl04.txt\n",
      "/nfs/home/navid/data/FEC-prepare/data/ccl06.txt\n",
      "/nfs/home/navid/data/FEC-prepare/data/ccl08.txt\n",
      "/nfs/home/navid/data/FEC-prepare/data/ccl10.txt\n",
      "/nfs/home/navid/data/FEC-prepare/data/ccl12.txt\n",
      "/nfs/home/navid/data/FEC-prepare/data/ccl14.txt\n",
      "/nfs/home/navid/data/FEC-prepare/data/ccl16.txt\n"
     ]
    }
   ],
   "source": [
    "datadir = '/nfs/home/navid/data/FEC-prepare/data/'\n",
    "columns = ['CAND_ID', 'CAND_ELECTION_YR','FEC_ELECTION_YR','CMTE_ID','CMTE_TP','CMTE_DSGN','LINKAGE_ID']\n",
    "\n",
    "dict_cand_comm_data = {}\n",
    "\n",
    "for year in range(0,18,2):\n",
    "    filename = '{}ccl{}.txt'.format(datadir,str(year).rjust(2,'0'))\n",
    "    print filename\n",
    "    data = pd.read_csv(filename,sep = '|',names = columns)\n",
    "    dict_cand_comm_data[year] = data\n"
   ]
  },
  {
   "cell_type": "code",
   "execution_count": 22,
   "metadata": {
    "collapsed": false
   },
   "outputs": [
    {
     "data": {
      "text/plain": [
       "{'H0AL02087',\n",
       " 'H0AL05163',\n",
       " 'H0AL07086',\n",
       " 'H0AR01083',\n",
       " 'H0AR03055',\n",
       " 'H0AZ01184',\n",
       " 'H0AZ01259',\n",
       " 'H0CA10073',\n",
       " 'H0CA10149',\n",
       " 'H0CA19173',\n",
       " 'H0CA27085',\n",
       " 'H0CA32101',\n",
       " 'H0CA33117',\n",
       " 'H0CA48024',\n",
       " 'H0CA49055',\n",
       " 'H0CO04122',\n",
       " 'H0CT03072',\n",
       " 'H0DC00058',\n",
       " 'H0DE01017',\n",
       " 'H0FL04066',\n",
       " 'H0FL05139',\n",
       " 'H0FL08208',\n",
       " 'H0FL12101',\n",
       " 'H0FL17068',\n",
       " 'H0FL18025',\n",
       " 'H0FL19080',\n",
       " 'H0GA07125',\n",
       " 'H0GA07133',\n",
       " 'H0GA08099',\n",
       " 'H0IL05096',\n",
       " 'H0IL10120',\n",
       " 'H0IL10302',\n",
       " 'H0IL11052',\n",
       " 'H0IL14080',\n",
       " 'H0IN02190',\n",
       " 'H0IN03198',\n",
       " 'H0IN08114',\n",
       " 'H0IN09070',\n",
       " 'H0KS03137',\n",
       " 'H0KY05015',\n",
       " 'H0KY06104',\n",
       " 'H0LA01087',\n",
       " 'H0MA10082',\n",
       " 'H0MI07093',\n",
       " 'H0MN04049',\n",
       " 'H0MO04086',\n",
       " 'H0MO06073',\n",
       " 'H0MO07113',\n",
       " 'H0MS04120',\n",
       " 'H0NC02059',\n",
       " 'H0ND01026',\n",
       " 'H0NH01217',\n",
       " 'H0NH02181',\n",
       " 'H0NY02085',\n",
       " 'H0NY20095',\n",
       " 'H0OH06189',\n",
       " 'H0OH08029',\n",
       " 'H0OH12062',\n",
       " 'H0OH16097',\n",
       " 'H0OK05114',\n",
       " 'H0PA04220',\n",
       " 'H0PA06076',\n",
       " 'H0PA07082',\n",
       " 'H0RI01073',\n",
       " 'H0RI02139',\n",
       " 'H0SC04257',\n",
       " 'H0SC05031',\n",
       " 'H0SD00054',\n",
       " 'H0TN03254',\n",
       " 'H0TN04195',\n",
       " 'H0TN06257',\n",
       " 'H0TX07055',\n",
       " 'H0TX17104',\n",
       " 'H0TX27061',\n",
       " 'H0VA02084',\n",
       " 'H0VA05095',\n",
       " 'H0VA09055',\n",
       " 'H0WA02080',\n",
       " 'H0WA03187',\n",
       " 'H0WA08046',\n",
       " 'H0WI07051',\n",
       " 'H0WI08075',\n",
       " 'H0WV01072',\n",
       " 'H0WV02138',\n",
       " 'H2AK00143',\n",
       " 'H2AZ08102',\n",
       " 'H2AZ09019',\n",
       " 'H2CA00104',\n",
       " 'H2CA00120',\n",
       " 'H2CA02142',\n",
       " 'H2CA06259',\n",
       " 'H2CA08164',\n",
       " 'H2CA15094',\n",
       " 'H2CA20094',\n",
       " 'H2CA30143',\n",
       " 'H2CA31125',\n",
       " 'H2CA33048',\n",
       " 'H2CA36439',\n",
       " 'H2CA37023',\n",
       " 'H2CA43245',\n",
       " 'H2CA50026',\n",
       " 'H2CA52089',\n",
       " 'H2CO00019',\n",
       " 'H2CT05131',\n",
       " 'H2FL03056',\n",
       " 'H2FL14053',\n",
       " 'H2FL22072',\n",
       " 'H2FL23021',\n",
       " 'H2FL25018',\n",
       " 'H2GA02031',\n",
       " 'H2GA09200',\n",
       " 'H2GA13012',\n",
       " 'H2HI02508',\n",
       " 'H2IA05072',\n",
       " 'H2IL01042',\n",
       " 'H2IL02172',\n",
       " 'H2IL13120',\n",
       " 'H2IL17071',\n",
       " 'H2IL20042',\n",
       " 'H2IN05082',\n",
       " 'H2KY04121',\n",
       " 'H2MA04073',\n",
       " 'H2MA09072',\n",
       " 'H2MD02160',\n",
       " 'H2MD05155',\n",
       " 'H2MD06179',\n",
       " 'H2MD06195',\n",
       " 'H2MD08126',\n",
       " 'H2MI05119',\n",
       " 'H2MI14111',\n",
       " 'H2MI17023',\n",
       " 'H2MN08111',\n",
       " 'H2MO02102',\n",
       " 'H2NC01081',\n",
       " 'H2NC07096',\n",
       " 'H2NC08185',\n",
       " 'H2NC09134',\n",
       " 'H2NC11080',\n",
       " 'H2NC13110',\n",
       " 'H2NH01130',\n",
       " 'H2NJ02037',\n",
       " 'H2NJ05014',\n",
       " 'H2NJ10154',\n",
       " 'H2NM02126',\n",
       " 'H2NV02395',\n",
       " 'H2NY03089',\n",
       " 'H2NY06116',\n",
       " 'H2NY10092',\n",
       " 'H2NY14037',\n",
       " 'H2NY17071',\n",
       " 'H2NY22139',\n",
       " 'H2OH02085',\n",
       " 'H2OH03067',\n",
       " 'H2OH03125',\n",
       " 'H2OH09031',\n",
       " 'H2OH14064',\n",
       " 'H2OK02083',\n",
       " 'H2OK04055',\n",
       " 'H2OR01133',\n",
       " 'H2PA02055',\n",
       " 'H2PA04135',\n",
       " 'H2PA11098',\n",
       " 'H2PA17079',\n",
       " 'H2SC02042',\n",
       " 'H2SC02059',\n",
       " 'H2SC07066',\n",
       " 'H2TN06030',\n",
       " 'H2TX00015',\n",
       " 'H2TX03118',\n",
       " 'H2TX03126',\n",
       " 'H2TX05121',\n",
       " 'H2TX14149',\n",
       " 'H2TX16185',\n",
       " 'H2TX23082',\n",
       " 'H2TX26093',\n",
       " 'H2TX27190',\n",
       " 'H2TX29030',\n",
       " 'H2TX31044',\n",
       " 'H2TX33040',\n",
       " 'H2TX33073',\n",
       " 'H2TX35011',\n",
       " 'H2UT02324',\n",
       " 'H2UT04023',\n",
       " 'H2VA04052',\n",
       " 'H2VI00082',\n",
       " 'H2WA06129',\n",
       " 'H2WI02124',\n",
       " 'H4AL01123',\n",
       " 'H4AL06098',\n",
       " 'H4AR02141',\n",
       " 'H4AR04048',\n",
       " 'H4AS00036',\n",
       " 'H4AZ01038',\n",
       " 'H4AZ04024',\n",
       " 'H4AZ06045',\n",
       " 'H4AZ07043',\n",
       " 'H4CA11081',\n",
       " 'H4CA16049',\n",
       " 'H4CA17021',\n",
       " 'H4CA20082',\n",
       " 'H4CA23011',\n",
       " 'H4CA33119',\n",
       " 'H4CA35031',\n",
       " 'H4CA45097',\n",
       " 'H4FL02062',\n",
       " 'H4FL13101',\n",
       " 'H4FL20023',\n",
       " 'H4FL26038',\n",
       " 'H4GA01039',\n",
       " 'H4GA08067',\n",
       " 'H4GA11046',\n",
       " 'H4GA11061',\n",
       " 'H4HI01134',\n",
       " 'H4IA01069',\n",
       " 'H4IA03115',\n",
       " 'H4IL03077',\n",
       " 'H4IL07037',\n",
       " 'H4IN01012',\n",
       " 'H4LA05221',\n",
       " 'H4LA06153',\n",
       " 'H4LA07029',\n",
       " 'H4MA05084',\n",
       " 'H4MA06090',\n",
       " 'H4ME02234',\n",
       " 'H4MI04126',\n",
       " 'H4MI11097',\n",
       " 'H4MI12079',\n",
       " 'H4MI13218',\n",
       " 'H4MO05234',\n",
       " 'H4MO08162',\n",
       " 'H4MS02068',\n",
       " 'H4MT00068',\n",
       " 'H4MT01041',\n",
       " 'H4NC05146',\n",
       " 'H4NC06052',\n",
       " 'H4NC10047',\n",
       " 'H4NC12100',\n",
       " 'H4NE02054',\n",
       " 'H4NJ01084',\n",
       " 'H4NJ03130',\n",
       " 'H4NJ12149',\n",
       " 'H4NV03126',\n",
       " 'H4NV04017',\n",
       " 'H4NY04075',\n",
       " 'H4NY11138',\n",
       " 'H4NY21079',\n",
       " 'H4NY24073',\n",
       " 'H4NY27076',\n",
       " 'H4OK05140',\n",
       " 'H4OK06056',\n",
       " 'H4PA08074',\n",
       " 'H4PA13199',\n",
       " 'H4TN09097',\n",
       " 'H4TX02108',\n",
       " 'H4TX04039',\n",
       " 'H4TX04153',\n",
       " 'H4TX06117',\n",
       " 'H4TX10028',\n",
       " 'H4TX10093',\n",
       " 'H4TX13014',\n",
       " 'H4TX18054',\n",
       " 'H4TX19102',\n",
       " 'H4TX19136',\n",
       " 'H4TX24094',\n",
       " 'H4VA08224',\n",
       " 'H4VA10089',\n",
       " 'H4WA05077',\n",
       " 'H4WI04183',\n",
       " 'H4WI06048',\n",
       " 'H4WV02080',\n",
       " 'H4WV03070',\n",
       " 'H6AL04098',\n",
       " 'H6CA05195',\n",
       " 'H6CA22125',\n",
       " 'H6CA24113',\n",
       " 'H6CA46033',\n",
       " 'H6CO01141',\n",
       " 'H6CO03139',\n",
       " 'H6CT05124',\n",
       " 'H6FL09070',\n",
       " 'H6FL11126',\n",
       " 'H6GA04129',\n",
       " 'H6GA05217',\n",
       " 'H6HI02251',\n",
       " 'H6IA02146',\n",
       " 'H6IL06117',\n",
       " 'H6IL06141',\n",
       " 'H6KY03124',\n",
       " 'H6MA07101',\n",
       " 'H6MA08141',\n",
       " 'H6MD03292',\n",
       " 'H6MD04183',\n",
       " 'H6MD07160',\n",
       " 'H6MI01028',\n",
       " 'H6MI12181',\n",
       " 'H6MN01174',\n",
       " 'H6MN05183',\n",
       " 'H6MO07128',\n",
       " 'H6NC04037',\n",
       " 'H6NE03115',\n",
       " 'H6NJ12136',\n",
       " 'H6NJ13191',\n",
       " 'H6NV02164',\n",
       " 'H6NY03031',\n",
       " 'H6NY19029',\n",
       " 'H6OR03064',\n",
       " 'H6OR04047',\n",
       " 'H6PA16197',\n",
       " 'H6TN01388',\n",
       " 'H6TX02079',\n",
       " 'H6TX08100',\n",
       " 'H6TX12060',\n",
       " 'H6TX21012',\n",
       " 'H6VA01117',\n",
       " 'H6VT00160',\n",
       " 'H6WA09025',\n",
       " 'H8AZ01104',\n",
       " 'H8CA01109',\n",
       " 'H8CA05035',\n",
       " 'H8CA09060',\n",
       " 'H8CA12098',\n",
       " 'H8CA12171',\n",
       " 'H8CA20059',\n",
       " 'H8CA22089',\n",
       " 'H8CA34068',\n",
       " 'H8CA36097',\n",
       " 'H8CA52052',\n",
       " 'H8CO02137',\n",
       " 'H8CT01046',\n",
       " 'H8FL15107',\n",
       " 'H8ID02064',\n",
       " 'H8IL09067',\n",
       " 'H8IL14067',\n",
       " 'H8KS02090',\n",
       " 'H8KS03072',\n",
       " 'H8KY02031',\n",
       " 'H8LA02054',\n",
       " 'H8LA04225',\n",
       " 'H8MA02041',\n",
       " 'H8ME01120',\n",
       " 'H8MI09068',\n",
       " 'H8MN03077',\n",
       " 'H8MN06047',\n",
       " 'H8MO09153',\n",
       " 'H8MS03067',\n",
       " 'H8NJ03073',\n",
       " 'H8NJ04014',\n",
       " 'H8NJ05052',\n",
       " 'H8NM01224',\n",
       " 'H8NM01257',\n",
       " 'H8NV03036',\n",
       " 'H8NY01148',\n",
       " 'H8NY06048',\n",
       " 'H8NY07046',\n",
       " 'H8NY19058',\n",
       " 'H8NY20056',\n",
       " 'H8NY21203',\n",
       " 'H8NY24066',\n",
       " 'H8OH01043',\n",
       " 'H8OH05036',\n",
       " 'H8OH11141',\n",
       " 'H8OH15076',\n",
       " 'H8OR05107',\n",
       " 'H8PA01153',\n",
       " 'H8PA05071',\n",
       " 'H8PR00062',\n",
       " 'H8TN02028',\n",
       " 'H8TN02069',\n",
       " 'H8UT03089',\n",
       " 'H8VA01147',\n",
       " 'H8VA11062',\n",
       " 'H8WI00018',\n",
       " 'H8WI01024',\n",
       " 'H8WI09050',\n",
       " 'H8WY00148',\n",
       " 'P00003806',\n",
       " 'P20004628',\n",
       " 'P40003519',\n",
       " 'P80002801',\n",
       " 'P80003353',\n",
       " 'S0AR00150',\n",
       " 'S0CA00199',\n",
       " 'S0CO00211',\n",
       " 'S0CT00177',\n",
       " 'S0DE00092',\n",
       " 'S0FL00338',\n",
       " 'S0IL00261',\n",
       " 'S0IN00053',\n",
       " 'S0IN00095',\n",
       " 'S0KS00091',\n",
       " 'S0KS00133',\n",
       " 'S0MA00083',\n",
       " 'S0MA00141',\n",
       " 'S0MO00183',\n",
       " 'S0ND00093',\n",
       " 'S0NH00219',\n",
       " 'S0OH00133',\n",
       " 'S0SC00149',\n",
       " 'S0UT00165',\n",
       " 'S0WV00090',\n",
       " 'S2AZ00141',\n",
       " 'S2CA00286',\n",
       " 'S2CT00132',\n",
       " 'S2HI00106',\n",
       " 'S2KY00012',\n",
       " 'S2MA00170',\n",
       " 'S2ME00109',\n",
       " 'S2ME00158',\n",
       " 'S2ND00099',\n",
       " 'S2NM00088',\n",
       " 'S2NV00183',\n",
       " 'S2SD00068',\n",
       " 'S2TN00058',\n",
       " 'S2TX00106',\n",
       " 'S2TX00312',\n",
       " 'S2WA00189',\n",
       " 'S2WI00219',\n",
       " 'S4AK00099',\n",
       " 'S4CO00395',\n",
       " 'S4GA11285',\n",
       " 'S4HI00136',\n",
       " 'S4IA00103',\n",
       " 'S4IA00129',\n",
       " 'S4MA00028',\n",
       " 'S4MI00355',\n",
       " 'S4NC00089',\n",
       " 'S4NC00162',\n",
       " 'S4NJ00185',\n",
       " 'S4OK00083',\n",
       " 'S4OK00232',\n",
       " 'S4PA00121',\n",
       " 'S4VT00017',\n",
       " 'S4VT00033',\n",
       " 'S4WV00159',\n",
       " 'S6AL00013',\n",
       " 'S6AL00195',\n",
       " 'S6AZ00019',\n",
       " 'S6IL00151',\n",
       " 'S6KS00080',\n",
       " 'S6MD00140',\n",
       " 'S6MD03177',\n",
       " 'S6ME00159',\n",
       " 'S6MO00305',\n",
       " 'S6MT00162',\n",
       " 'S6NJ00263',\n",
       " 'S6NJ00289',\n",
       " 'S6NV00028',\n",
       " 'S6OH00163',\n",
       " 'S6PA00217',\n",
       " 'S6RI00163',\n",
       " 'S6RI00221',\n",
       " 'S6UT00063',\n",
       " 'S6VA00093',\n",
       " 'S6WY00068',\n",
       " 'S6WY00126',\n",
       " 'S8DE00079',\n",
       " 'S8FL00166',\n",
       " 'S8ID00092',\n",
       " 'S8MI00281',\n",
       " 'S8MS00055',\n",
       " 'S8MS00196',\n",
       " 'S8NM00184',\n",
       " 'S8NY00082',\n",
       " 'S8WA00194'}"
      ]
     },
     "execution_count": 22,
     "metadata": {},
     "output_type": "execute_result"
    }
   ],
   "source": [
    "# set of candidates we're interested in:\n",
    "filename =  '/nfs/home/navid/data/Oren/names_for_oren.txt'\n",
    "data_names = pd.read_csv(filename, sep='|', header=None)\n",
    "set_cands = set(data_names[0].values)\n",
    "\n",
    "\n",
    "set_cands"
   ]
  },
  {
   "cell_type": "code",
   "execution_count": 32,
   "metadata": {
    "collapsed": false
   },
   "outputs": [
    {
     "name": "stdout",
     "output_type": "stream",
     "text": [
      "0\n",
      "2\n",
      "4\n",
      "6\n",
      "8\n",
      "10\n",
      "12\n",
      "14\n",
      "16\n"
     ]
    }
   ],
   "source": [
    "dict_cand_2_comm = {}\n",
    "dict_comm_2_cand = {}\n",
    "\n",
    "for year, df  in dict_cand_comm_data.iteritems():\n",
    "    print year\n",
    "    for i, row in df.iterrows():\n",
    "        cand = row['CAND_ID']\n",
    "        comm = row['CMTE_ID']\n",
    "        designation = row['CMTE_DSGN']\n",
    "        if designation not in ['P']: continue\n",
    "        try:\n",
    "            dict_cand_2_comm[cand].add(comm)\n",
    "        except:\n",
    "            dict_cand_2_comm[cand] = set([comm])\n",
    "        \n",
    "        try:\n",
    "            dict_comm_2_cand[comm].add(cand)\n",
    "        except:\n",
    "            dict_comm_2_cand[comm] = set([cand])\n",
    "\n",
    "            "
   ]
  },
  {
   "cell_type": "code",
   "execution_count": 45,
   "metadata": {
    "collapsed": false
   },
   "outputs": [
    {
     "name": "stdout",
     "output_type": "stream",
     "text": [
      "Number of candidates with at least one principal committee:  13048\n",
      "Number of candidates of interes:  464\n",
      "Number of candidates of interest with at least one principal committee:  459\n"
     ]
    }
   ],
   "source": [
    "print \"Number of candidates with at least one principal committee: \", len(dict_cand_2_comm)\n",
    "print \"Number of candidates of interes: \", len(set_cands)\n",
    "print \"Number of candidates of interest with at least one principal committee: \",\\\n",
    "    len(set(dict_cand_2_comm.keys()).intersection(set_cands))\n"
   ]
  },
  {
   "cell_type": "markdown",
   "metadata": {},
   "source": [
    "### Set of candidates that have at least one principal campaign PAC "
   ]
  },
  {
   "cell_type": "code",
   "execution_count": 48,
   "metadata": {
    "collapsed": false
   },
   "outputs": [],
   "source": [
    "set_cands_good = set(dict_cand_2_comm.keys()).intersection(set_cands)\n",
    "list_cands_good = sorted(set_cands_good)"
   ]
  },
  {
   "cell_type": "markdown",
   "metadata": {},
   "source": [
    "1- Load all records in the desired date range\n",
    "2- For each record, note the compound identity and the recipient candidate and the amount.\n",
    "3- Build a dict {(identity, candidate): amount} and update with each new record."
   ]
  },
  {
   "cell_type": "code",
   "execution_count": 55,
   "metadata": {
    "collapsed": false
   },
   "outputs": [
    {
     "name": "stdout",
     "output_type": "stream",
     "text": [
      "SELECT TRANSACTION_DT,TRANSACTION_AMT,CMTE_ID,id from usa_combined_v2 where TRANSACTION_DT BETWEEN \"2013-01-01\" AND \"2014-12-30\"\n"
     ]
    }
   ],
   "source": [
    "retriever = Database.FecRetriever(table_name = 'usa_combined_v2')\n",
    "\n",
    "date1 = '2013-01-01'\n",
    "date2 = '2014-12-30'\n",
    "\n",
    "list_fields = ['TRANSACTION_DT', 'TRANSACTION_AMT', 'CMTE_ID', 'id']\n",
    "list_fields_str = ','.join(list_fields)\n",
    "query = 'SELECT {fields} from usa_combined_v2 where TRANSACTION_DT BETWEEN \"{date1}\" AND \"{date2}\"'.format(date1 = date1,\n",
    "                                                                                                        date2 = date2,\n",
    "                                                                                                       fields=list_fields_str)\n",
    "print query\n",
    "retriever.query_fields = list_fields\n",
    "retriever.retrieve(query=query)\n",
    "list_records = retriever.getRecords()"
   ]
  },
  {
   "cell_type": "code",
   "execution_count": 56,
   "metadata": {
    "collapsed": false
   },
   "outputs": [
    {
     "data": {
      "text/plain": [
       "2135680"
      ]
     },
     "execution_count": 56,
     "metadata": {},
     "output_type": "execute_result"
    }
   ],
   "source": [
    "len(list_records)"
   ]
  },
  {
   "cell_type": "markdown",
   "metadata": {},
   "source": [
    "### Loop through the list of records "
   ]
  },
  {
   "cell_type": "code",
   "execution_count": 80,
   "metadata": {
    "collapsed": false
   },
   "outputs": [],
   "source": [
    "outdir = '/nfs/home/navid/data/Oren/'\n",
    "\n",
    "def get_compound_identity(identity, idm):\n",
    "    '''\n",
    "    Return the compound identity of identity by concatenating\n",
    "    the identities of all linked identities.\n",
    "    '''\n",
    "    if identity is None:\n",
    "        return ''\n",
    "    linked_identities = idm.get_linked_identities(identity)\n",
    "    \n",
    "    all_identities = linked_identities + [identity]\n",
    "    compound_identity = \"|\".join(sorted(all_identities)) \n",
    "    return compound_identity\n",
    "\n",
    "\n",
    "outfile = outdir + \"perdon_to_candidate_records.csv\"\n",
    "with open(outfile, 'w') as f:\n",
    "    for i, record in enumerate(list_records):\n",
    "        cmte = record['CMTE_ID']\n",
    "        try:\n",
    "            set_cand = dict_comm_2_cand[cmte]\n",
    "        except:\n",
    "    #         print \"error\"\n",
    "            continue\n",
    "        n = len(set_cand)\n",
    "        list_cands = list(set_cand)\n",
    "\n",
    "\n",
    "\n",
    "        date = record['TRANSACTION_DT']\n",
    "        amount = record['TRANSACTION_AMT']\n",
    "        identity = get_compound_identity(idm.get_identity(rid), idm)\n",
    "        rid = record.id\n",
    "        for cand in list_cands:\n",
    "            if cand not in set_cands_good: continue\n",
    "            f.write('{},{},{},{},{},{}\\n'.format(rid, date, amount/n, cmte, cand, identity))\n",
    "#         if i > 1000: break\n",
    "    "
   ]
  },
  {
   "cell_type": "code",
   "execution_count": 72,
   "metadata": {
    "collapsed": false
   },
   "outputs": [
    {
     "data": {
      "text/plain": [
       "{'H0AL02087'}"
      ]
     },
     "execution_count": 72,
     "metadata": {},
     "output_type": "execute_result"
    }
   ],
   "source": [
    "dict_comm_2_cand['C00462143']"
   ]
  },
  {
   "cell_type": "markdown",
   "metadata": {},
   "source": [
    "## Now, read the CSV file and use it to compute the similarity matrix "
   ]
  },
  {
   "cell_type": "code",
   "execution_count": 84,
   "metadata": {
    "collapsed": false
   },
   "outputs": [],
   "source": [
    "outdir = '/nfs/home/navid/data/Oren/'\n",
    "\n",
    "filename = outdir + \"perdon_to_candidate_records.csv\"\n",
    "columns = ['id', 'date', 'amount', 'cmte_id', 'cand_id', 'identity']\n",
    "df = pd.read_csv(filename, names = columns, sep=',')\n"
   ]
  },
  {
   "cell_type": "code",
   "execution_count": 88,
   "metadata": {
    "collapsed": false
   },
   "outputs": [],
   "source": [
    "# Set tof all (compound) identities found in the df\n",
    "set_identities = set(df['identity'])"
   ]
  },
  {
   "cell_type": "code",
   "execution_count": 90,
   "metadata": {
    "collapsed": false
   },
   "outputs": [],
   "source": [
    "# dict: {identity: set([cands])}\n",
    "dict_identity_2_candidates = {}\n",
    "for i, row in df.iterrows():\n",
    "    cand = row['cand_id']\n",
    "    identity = row['identity']\n",
    "    amount = row['amount']\n",
    "    try:\n",
    "        dict_identity_2_candidates[identity].add(cand)\n",
    "    except:\n",
    "        dict_identity_2_candidates[identity] = set([cand])\n",
    "        \n",
    "    \n",
    "    "
   ]
  },
  {
   "cell_type": "code",
   "execution_count": 92,
   "metadata": {
    "collapsed": false
   },
   "outputs": [],
   "source": [
    "edgelist = {}\n",
    "for identity, set_cands in dict_identity_2_candidates.iteritems():\n",
    "    for cand1 in set_cands:\n",
    "        for cand2 in set_cands:\n",
    "            if cand1 >= cand2: continue\n",
    "            edge = tuple(sorted([cand1, cand2]))\n",
    "            try:\n",
    "                edgelist[edge] += 1\n",
    "            except:\n",
    "                edgelist[edge] = 1\n",
    "                \n",
    "            \n",
    "            \n",
    "                "
   ]
  },
  {
   "cell_type": "code",
   "execution_count": 95,
   "metadata": {
    "collapsed": false
   },
   "outputs": [
    {
     "name": "stdout",
     "output_type": "stream",
     "text": [
      "56457\n"
     ]
    }
   ],
   "source": [
    "edgelist\n",
    "print len(edgelist)"
   ]
  },
  {
   "cell_type": "code",
   "execution_count": 100,
   "metadata": {
    "collapsed": false
   },
   "outputs": [],
   "source": [
    "edgelist_flat = [(key[0], key[1], value) for key, value in edgelist.iteritems() ]\n",
    "g = ig.Graph.TupleList(edgelist_flat, weights = True)\n"
   ]
  },
  {
   "cell_type": "code",
   "execution_count": 103,
   "metadata": {
    "collapsed": false
   },
   "outputs": [
    {
     "data": {
      "text/plain": [
       "['weight']"
      ]
     },
     "execution_count": 103,
     "metadata": {},
     "output_type": "execute_result"
    }
   ],
   "source": [
    "g.es.attributes()"
   ]
  },
  {
   "cell_type": "code",
   "execution_count": 105,
   "metadata": {
    "collapsed": false
   },
   "outputs": [],
   "source": [
    "g.write_ncol(outdir + 'similarity_1.edges',)"
   ]
  },
  {
   "cell_type": "markdown",
   "metadata": {},
   "source": [
    "## Prune the graph "
   ]
  },
  {
   "cell_type": "code",
   "execution_count": 109,
   "metadata": {
    "collapsed": false
   },
   "outputs": [],
   "source": [
    "import networks as nt\n",
    "import matplotlib.pyplot as plt"
   ]
  },
  {
   "cell_type": "code",
   "execution_count": 107,
   "metadata": {
    "collapsed": false
   },
   "outputs": [
    {
     "name": "stdout",
     "output_type": "stream",
     "text": [
      "Hello\n"
     ]
    }
   ],
   "source": [
    "nt.compute_significance(g)"
   ]
  },
  {
   "cell_type": "code",
   "execution_count": null,
   "metadata": {
    "collapsed": false
   },
   "outputs": [],
   "source": [
    "plt.hist(g.es['significance'], 100)"
   ]
  }
 ],
 "metadata": {
  "kernelspec": {
   "display_name": "Python 2",
   "language": "python",
   "name": "python2"
  },
  "language_info": {
   "codemirror_mode": {
    "name": "ipython",
    "version": 2
   },
   "file_extension": ".py",
   "mimetype": "text/x-python",
   "name": "python",
   "nbconvert_exporter": "python",
   "pygments_lexer": "ipython2",
   "version": "2.7.3"
  }
 },
 "nbformat": 4,
 "nbformat_minor": 0
}

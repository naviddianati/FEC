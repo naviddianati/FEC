{
 "cells": [
  {
   "cell_type": "code",
   "execution_count": 2,
   "metadata": {
    "collapsed": false
   },
   "outputs": [],
   "source": [
    "from disambiguation.core import Database\n",
    "from disambiguation import config\n",
    "from cPickle import load\n",
    "%load_ext autoreload\n",
    "%autoreload 2"
   ]
  },
  {
   "cell_type": "markdown",
   "metadata": {},
   "source": [
    "# Identity Manager, initialize"
   ]
  },
  {
   "cell_type": "code",
   "execution_count": 3,
   "metadata": {
    "collapsed": false
   },
   "outputs": [
    {
     "name": "stdout",
     "output_type": "stream",
     "text": [
      "Table 'identities' exists.\n",
      "Table 'identities_adjacency' exists.\n",
      "select id,identity from identities;\n",
      "select id,identity from identities;\n",
      "SELECT identity1,identity2, no,maybe,yes from identities_adjacency;\n"
     ]
    }
   ],
   "source": [
    "idm = Database.IdentityManager(\"USA\")\n",
    "idm.fetch_dict_id_2_identity()\n",
    "idm.fetch_dict_identity_2_id()\n",
    "idm.fetch_dict_identity_adjacency()"
   ]
  },
  {
   "cell_type": "code",
   "execution_count": 4,
   "metadata": {
    "collapsed": false
   },
   "outputs": [
    {
     "name": "stdout",
     "output_type": "stream",
     "text": [
      "{u'AZ-12343': (0.0, 6.0, 0.0)}\n",
      "{u'OH-18141': (0.0, 1.0, 0.0), u'CT-11869': (0.0, 6.0, 0.0), u'CT-11902': (0.0, 2.0, 0.0)}\n",
      "{u'TN-11960': (0.0, 2.0, 0.0), u'OH-18141': (0.0, 2.0, 0.0), u'ME-3148': (0.0, 1.0, 0.0), u'AZ-12343': (0.0, 2.0, 0.0)}\n"
     ]
    }
   ],
   "source": [
    "print idm.get_related_identities('CT-11869')\n",
    "print idm.get_related_identities('AZ-12343')\n",
    "print idm.get_related_identities('CT-11902')\n"
   ]
  },
  {
   "cell_type": "code",
   "execution_count": 5,
   "metadata": {
    "collapsed": false
   },
   "outputs": [
    {
     "name": "stdout",
     "output_type": "stream",
     "text": [
      "{u'AZ-12343': (0.0, 6.0, 0.0)}\n",
      "{u'OH-18141': (0.0, 1.0, 0.0), u'CT-11869': (0.0, 6.0, 0.0), u'CT-11902': (0.0, 2.0, 0.0)}\n",
      "{u'TN-11960': (0.0, 2.0, 0.0), u'OH-18141': (0.0, 2.0, 0.0), u'ME-3148': (0.0, 1.0, 0.0), u'AZ-12343': (0.0, 2.0, 0.0)}\n"
     ]
    }
   ],
   "source": [
    "print idm.get_related_identities('CT-11869')\n",
    "print idm.get_related_identities('AZ-12343')\n",
    "print idm.get_related_identities('CT-11902')\n"
   ]
  },
  {
   "cell_type": "code",
   "execution_count": 10,
   "metadata": {
    "collapsed": false
   },
   "outputs": [
    {
     "name": "stdout",
     "output_type": "stream",
     "text": [
      "None\n",
      "None\n"
     ]
    }
   ],
   "source": [
    "print idm.get_related_identities('CA-305293')\n",
    "print idm.get_related_identities('KY-22089')"
   ]
  },
  {
   "cell_type": "code",
   "execution_count": 7,
   "metadata": {
    "collapsed": false
   },
   "outputs": [
    {
     "name": "stdout",
     "output_type": "stream",
     "text": [
      "{u'MO-59800': (0.0, 16.0, 63.5), u'CO-73327': (0.0, 0.0, 9.0)}\n",
      "{u'FL-234677': (0.0, 16.0, 63.5)}\n"
     ]
    }
   ],
   "source": [
    "print idm.get_related_identities('FL-234677')\n",
    "print idm.get_related_identities('MO-59800')\n"
   ]
  },
  {
   "cell_type": "code",
   "execution_count": 6,
   "metadata": {
    "collapsed": false
   },
   "outputs": [
    {
     "name": "stdout",
     "output_type": "stream",
     "text": [
      "set([u'CO-73327', u'MO-59800', 'FL-234677'])\n",
      "set([u'CO-73327', 'MO-59800', u'FL-234677'])\n"
     ]
    }
   ],
   "source": [
    "print idm.get_linked_identities('FL-234677')\n",
    "print idm.get_linked_identities('MO-59800')"
   ]
  },
  {
   "cell_type": "code",
   "execution_count": 12,
   "metadata": {
    "collapsed": false
   },
   "outputs": [
    {
     "name": "stdout",
     "output_type": "stream",
     "text": [
      "{u'CA-305283': (0.0, 1.0, 0.0), u'NY-171608': (5.0, 0.0, 0.0)}\n"
     ]
    }
   ],
   "source": [
    "print idm.get_related_identities('CA-305276')\n"
   ]
  },
  {
   "cell_type": "code",
   "execution_count": 19,
   "metadata": {
    "collapsed": false
   },
   "outputs": [
    {
     "ename": "KeyError",
     "evalue": "2604598L",
     "output_type": "error",
     "traceback": [
      "\u001b[1;31m---------------------------------------------------------------------------\u001b[0m",
      "\u001b[1;31mKeyError\u001b[0m                                  Traceback (most recent call last)",
      "\u001b[1;32m<ipython-input-19-dd11d6d09135>\u001b[0m in \u001b[0;36m<module>\u001b[1;34m()\u001b[0m\n\u001b[1;32m----> 1\u001b[1;33m \u001b[0midm\u001b[0m\u001b[1;33m.\u001b[0m\u001b[0mdict_id_2_identity\u001b[0m\u001b[1;33m[\u001b[0m\u001b[1;36m2604598L\u001b[0m\u001b[1;33m]\u001b[0m\u001b[1;33m\u001b[0m\u001b[0m\n\u001b[0m",
      "\u001b[1;31mKeyError\u001b[0m: 2604598L"
     ]
    }
   ],
   "source": [
    "idm.dict_id_2_identity[2604598L]"
   ]
  },
  {
   "cell_type": "code",
   "execution_count": 39,
   "metadata": {
    "collapsed": false
   },
   "outputs": [
    {
     "name": "stdout",
     "output_type": "stream",
     "text": [
      "set(['KY-22089'])\n"
     ]
    }
   ],
   "source": [
    "def get_neighborhood(identity, list_visited):\n",
    "    X = idm.get_related_identities(identity)\n",
    "    if not X: return \n",
    "    for neighbor,score in X.items():        \n",
    "        if neighbor not in list_visited:\n",
    "            list_visited.add(neighbor)\n",
    "            get_neighborhood(neighbor,list_visited)\n",
    "        \n",
    "identity = 'MO-59800'\n",
    "identity = 'WV-8214'\n",
    "identity = 'KY-22089'\n",
    "list_visited = set([identity])    \n",
    "get_neighborhood(identity,list_visited)\n",
    "print list_visited"
   ]
  },
  {
   "cell_type": "markdown",
   "metadata": {},
   "source": [
    "# Retrieve list of records "
   ]
  },
  {
   "cell_type": "code",
   "execution_count": 20,
   "metadata": {
    "collapsed": false
   },
   "outputs": [
    {
     "name": "stdout",
     "output_type": "stream",
     "text": [
      "select NAME,CONTRIBUTOR_ZIP,ZIP_CODE,CONTRIBUTOR_STREET_1,CITY,STATE,EMPLOYER,OCCUPATION,TRANSACTION_DT,TRANSACTION_AMT,CMTE_ID,ENTITY_TP,id from usa_combined;\n"
     ]
    }
   ],
   "source": [
    "retriever = Database.FecRetriever(\"usa_combined\")\n",
    "retriever.retrieve()"
   ]
  },
  {
   "cell_type": "code",
   "execution_count": 21,
   "metadata": {
    "collapsed": false
   },
   "outputs": [],
   "source": [
    "idm.dict_identity_adjacency.items()[:100]"
   ]
  },
  {
   "cell_type": "code",
   "execution_count": 18,
   "metadata": {
    "collapsed": false
   },
   "outputs": [],
   "source": [
    "idm.get_related_identities(\"IL-31398\")"
   ]
  },
  {
   "cell_type": "code",
   "execution_count": 23,
   "metadata": {
    "collapsed": false
   },
   "outputs": [
    {
     "data": {
      "text/plain": [
       "{u'WI-3596': (0.0, 1.0, 0.0)}"
      ]
     },
     "execution_count": 23,
     "metadata": {},
     "output_type": "execute_result"
    }
   ],
   "source": [
    "idm.dict_identity_2_identities['CA-37201']"
   ]
  },
  {
   "cell_type": "markdown",
   "metadata": {},
   "source": [
    "#Normalized USA Tokendata"
   ]
  },
  {
   "cell_type": "code",
   "execution_count": 10,
   "metadata": {
    "collapsed": false
   },
   "outputs": [],
   "source": [
    "filename = config.tokendata_file_template % ('USA', 'Normalized')\n",
    "with open(filename) as f:\n",
    "    tokendata = load(f)"
   ]
  },
  {
   "cell_type": "code",
   "execution_count": 6,
   "metadata": {
    "collapsed": false
   },
   "outputs": [],
   "source": [
    "tokendata.token_counts.items()[:1000]"
   ]
  },
  {
   "cell_type": "code",
   "execution_count": 2,
   "metadata": {
    "collapsed": false
   },
   "outputs": [
    {
     "name": "stdout",
     "output_type": "stream",
     "text": [
      "set([1, 2])\n"
     ]
    }
   ],
   "source": [
    "a = set([1,2,3,4,5])\n",
    "b = set([3,4,5])b\n",
    "\n",
    "a.difference_update(b)\n",
    "print a\n",
    "a.discard()"
   ]
  },
  {
   "cell_type": "markdown",
   "metadata": {},
   "source": [
    "#Normalized Tokens "
   ]
  },
  {
   "cell_type": "code",
   "execution_count": 17,
   "metadata": {
    "collapsed": false
   },
   "outputs": [],
   "source": [
    "with open(config.normalized_attributes_file_template % 'california') as f:\n",
    "    norm = load(f)"
   ]
  },
  {
   "cell_type": "code",
   "execution_count": 20,
   "metadata": {
    "collapsed": false
   },
   "outputs": [],
   "source": [
    "tmp = [x['N_middle_name'] for y,x in norm.iteritems()]\n",
    "# [x for x in tmp if x]\n"
   ]
  },
  {
   "cell_type": "code",
   "execution_count": 19,
   "metadata": {
    "collapsed": false
   },
   "outputs": [
    {
     "data": {
      "text/plain": [
       "{'N_address': [],\n",
       " 'N_employer': u'NONE',\n",
       " 'N_first_name': u'CHARLES',\n",
       " 'N_last_name': u'MUNGER',\n",
       " 'N_middle_name': u'T',\n",
       " 'N_occupation': u'PHYSICIST',\n",
       " 'N_zipcode': []}"
      ]
     },
     "execution_count": 19,
     "metadata": {},
     "output_type": "execute_result"
    }
   ],
   "source": [
    "norm[7787088]"
   ]
  },
  {
   "cell_type": "code",
   "execution_count": null,
   "metadata": {
    "collapsed": true
   },
   "outputs": [],
   "source": []
  }
 ],
 "metadata": {
  "kernelspec": {
   "display_name": "Python 2",
   "language": "python",
   "name": "python2"
  },
  "language_info": {
   "codemirror_mode": {
    "name": "ipython",
    "version": 2
   },
   "file_extension": ".py",
   "mimetype": "text/x-python",
   "name": "python",
   "nbconvert_exporter": "python",
   "pygments_lexer": "ipython2",
   "version": "2.7.3"
  }
 },
 "nbformat": 4,
 "nbformat_minor": 0
}

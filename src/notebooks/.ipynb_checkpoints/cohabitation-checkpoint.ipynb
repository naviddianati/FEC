{
 "cells": [
  {
   "cell_type": "markdown",
   "metadata": {},
   "source": [
    "# Identifying cohabiting contributors "
   ]
  },
  {
   "cell_type": "markdown",
   "metadata": {},
   "source": [
    "In this exercise, we will look throughout the database and try to identify households where multiple individuals have made contributions while cohabiting.\n",
    "\n",
    "To do this, we will do the following:\n",
    "\n",
    "    1- Build a dictionary of all normalized addresses. Associate every address with the set of all its identities.\n",
    "    2- For those with multiple identities, do further processing.\n",
    "\n",
    "\n",
    "\n"
   ]
  },
  {
   "cell_type": "markdown",
   "metadata": {},
   "source": [
    "Problem: the normalized attributes file doesn't contain normalized addresses."
   ]
  },
  {
   "cell_type": "code",
   "execution_count": 73,
   "metadata": {
    "collapsed": false
   },
   "outputs": [],
   "source": [
    "import pandas as pd\n",
    "from disambiguation.core import Database\n",
    "from disambiguation.core import Person\n",
    "\n",
    "from disambiguation.core import utils\n",
    "from disambiguation import config"
   ]
  },
  {
   "cell_type": "code",
   "execution_count": 19,
   "metadata": {
    "collapsed": false
   },
   "outputs": [
    {
     "name": "stdout",
     "output_type": "stream",
     "text": [
      "Table 'identities_v5' exists.\n",
      "Table 'identities_adjacency_v5' exists.\n",
      "Table 'linked_identities_v5' exists.\n",
      "select id,identity from identities_v5;\n"
     ]
    }
   ],
   "source": [
    "idm = Database.IdentityManager('USA')\n",
    "idm.table_name_identities\n",
    "idm.fetch_dict_id_2_identity()"
   ]
  },
  {
   "cell_type": "code",
   "execution_count": 43,
   "metadata": {
    "collapsed": false
   },
   "outputs": [
    {
     "name": "stdout",
     "output_type": "stream",
     "text": [
      "select id,identity from identities_v5;\n"
     ]
    }
   ],
   "source": [
    "idm.fetch_dict_identity_2_id()"
   ]
  },
  {
   "cell_type": "code",
   "execution_count": 20,
   "metadata": {
    "collapsed": true
   },
   "outputs": [],
   "source": [
    "retriever = Database.FecRetriever('usa_combined_v2',\n",
    "                                  query_fields=['id', 'NAME','CONTRIBUTOR_STREET_1', 'ZIP_CODE', 'TRANSACTION_AMT']\n",
    "                                 , where_clause=' WHERE CONTRIBUTOR_STREET_1 IS NOT NULL ')"
   ]
  },
  {
   "cell_type": "code",
   "execution_count": 21,
   "metadata": {
    "collapsed": true
   },
   "outputs": [],
   "source": [
    "retriever.retrieve()"
   ]
  },
  {
   "cell_type": "code",
   "execution_count": 24,
   "metadata": {
    "collapsed": false
   },
   "outputs": [
    {
     "name": "stdout",
     "output_type": "stream",
     "text": [
      "11508004\n"
     ]
    }
   ],
   "source": [
    "list_records = retriever.getRecords()\n",
    "print len(list_records)"
   ]
  },
  {
   "cell_type": "code",
   "execution_count": 34,
   "metadata": {
    "collapsed": false
   },
   "outputs": [],
   "source": [
    "dict_addresses = {}\n",
    "\n",
    "\n",
    "for r in list_records:\n",
    "    address, zipcode = r['CONTRIBUTOR_STREET_1'], r['ZIP_CODE']\n",
    "    address_full = (zipcode[:5], address)\n",
    "    rid = r.id\n",
    "    try:\n",
    "        dict_addresses[address_full].append(rid)\n",
    "    except:\n",
    "        dict_addresses[address_full] = [rid]"
   ]
  },
  {
   "cell_type": "code",
   "execution_count": 35,
   "metadata": {
    "collapsed": false
   },
   "outputs": [
    {
     "data": {
      "text/plain": [
       "4025475"
      ]
     },
     "execution_count": 35,
     "metadata": {},
     "output_type": "execute_result"
    }
   ],
   "source": [
    "len(dict_addresses)"
   ]
  },
  {
   "cell_type": "code",
   "execution_count": 64,
   "metadata": {
    "collapsed": false
   },
   "outputs": [],
   "source": [
    "dict_identities = {}\n",
    "for address, list_rids in dict_addresses.iteritems():\n",
    "    set_identities = {idm.get_compound_identity(rid)[0] for rid in list_rids}\n",
    "    if len(set_identities) > 1:\n",
    "        dict_identities[address] = set_identities\n",
    "    \n",
    "    "
   ]
  },
  {
   "cell_type": "code",
   "execution_count": 66,
   "metadata": {
    "collapsed": false
   },
   "outputs": [
    {
     "name": "stdout",
     "output_type": "stream",
     "text": [
      "541894\n"
     ]
    }
   ],
   "source": [
    "print len(dict_identities)"
   ]
  },
  {
   "cell_type": "code",
   "execution_count": 61,
   "metadata": {
    "collapsed": false
   },
   "outputs": [
    {
     "name": "stdout",
     "output_type": "stream",
     "text": [
      "[10639568]\n",
      "[8305739, 8486565, 8839925, 8977749, 11969509, 13439119]\n"
     ]
    }
   ],
   "source": [
    "print idm.get_ids('OH-34442')\n",
    "print idm.get_ids('GA-36500')"
   ]
  },
  {
   "cell_type": "code",
   "execution_count": 60,
   "metadata": {
    "collapsed": false
   },
   "outputs": [
    {
     "name": "stdout",
     "output_type": "stream",
     "text": [
      "[4302189, 5809001, 6407902, 7695132]\n",
      "[4302191, 14867480]\n"
     ]
    }
   ],
   "source": [
    "print idm.get_ids('CA-459207')\n",
    "print idm.get_ids('CA-459208')"
   ]
  },
  {
   "cell_type": "code",
   "execution_count": 74,
   "metadata": {
    "collapsed": true
   },
   "outputs": [],
   "source": [
    "record_retriever = Database.FecRetrieverByID('usa_combined_v2')\n",
    "def load_compound_person(compound_identity):\n",
    "    '''\n",
    "    Given a compound identity, load all its records and\n",
    "    generate a Person object from them.\n",
    "    '''\n",
    "    s = compound_identity\n",
    "    list_rids = [rid for identity in s.split('|') for rid in idm.get_ids(identity)]\n",
    "    record_retriever.retrieve(list_rids)\n",
    "    list_records = record_retriever.getRecords()\n",
    "    \n",
    "    p = Person.Person(list_records)\n",
    "    return p"
   ]
  },
  {
   "cell_type": "code",
   "execution_count": 78,
   "metadata": {
    "collapsed": false
   },
   "outputs": [
    {
     "ename": "SyntaxError",
     "evalue": "invalid syntax (<ipython-input-78-36141f69df98>, line 4)",
     "output_type": "error",
     "traceback": [
      "\u001b[1;36m  File \u001b[1;32m\"<ipython-input-78-36141f69df98>\"\u001b[1;36m, line \u001b[1;32m4\u001b[0m\n\u001b[1;33m    if len\u001b[0m\n\u001b[1;37m          ^\u001b[0m\n\u001b[1;31mSyntaxError\u001b[0m\u001b[1;31m:\u001b[0m invalid syntax\n"
     ]
    }
   ],
   "source": [
    "counter = 0\n",
    "for address, set_identities in dict_identities.iteritems():\n",
    "    print address, set_identities\n",
    "    if len\n",
    "    for compound_identity in set_identities:\n",
    "        load_compound_person(compound_identity)\n",
    "        \n",
    "    if counter > 100:\n",
    "        break\n",
    "    counter += 1\n",
    "    "
   ]
  },
  {
   "cell_type": "code",
   "execution_count": null,
   "metadata": {
    "collapsed": true
   },
   "outputs": [],
   "source": []
  }
 ],
 "metadata": {
  "kernelspec": {
   "display_name": "Python 2",
   "language": "python",
   "name": "python2"
  },
  "language_info": {
   "codemirror_mode": {
    "name": "ipython",
    "version": 2
   },
   "file_extension": ".py",
   "mimetype": "text/x-python",
   "name": "python",
   "nbconvert_exporter": "python",
   "pygments_lexer": "ipython2",
   "version": "2.7.3"
  }
 },
 "nbformat": 4,
 "nbformat_minor": 0
}

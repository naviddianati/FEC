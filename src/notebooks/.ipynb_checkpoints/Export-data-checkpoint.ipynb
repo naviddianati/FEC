{
 "cells": [
  {
   "cell_type": "code",
   "execution_count": 2,
   "metadata": {
    "collapsed": false
   },
   "outputs": [
    {
     "name": "stdout",
     "output_type": "stream",
     "text": [
      "individual_contributions_v2\n",
      "newyork_combined_v2\n",
      "usa_combined_v2\n",
      "identities_v3\n",
      "identities_adjacency_v3\n",
      "The autoreload extension is already loaded. To reload it, use:\n",
      "  %reload_ext autoreload\n"
     ]
    }
   ],
   "source": [
    "from disambiguation.core import Database\n",
    "from disambiguation import config\n",
    "from cPickle import load\n",
    "import pandas as pd\n",
    "from glob import glob\n",
    "%load_ext autoreload\n",
    "import re\n",
    "import json\n",
    "%autoreload 2"
   ]
  },
  {
   "cell_type": "markdown",
   "metadata": {},
   "source": [
    "# Export full tables, with additional identity column to file. "
   ]
  },
  {
   "cell_type": "code",
   "execution_count": 2,
   "metadata": {
    "collapsed": false
   },
   "outputs": [
    {
     "name": "stdout",
     "output_type": "stream",
     "text": [
      "Table 'identities_v3' exists.\n",
      "Table 'identities_adjacency_v3' exists.\n"
     ]
    }
   ],
   "source": [
    "idm = Database.IdentityManager('USA')"
   ]
  },
  {
   "cell_type": "code",
   "execution_count": 9,
   "metadata": {
    "collapsed": false
   },
   "outputs": [
    {
     "name": "stdout",
     "output_type": "stream",
     "text": [
      "districtofcolumbia\n",
      "select NAME,ZIP_CODE,CONTRIBUTOR_STREET_1,CITY,STATE,EMPLOYER,OCCUPATION,TRANSACTION_DT,TRANSACTION_AMT,CMTE_ID,ENTITY_TP,id from districtofcolumbia_combined;\n",
      "virginia\n",
      "select NAME,ZIP_CODE,CONTRIBUTOR_STREET_1,CITY,STATE,EMPLOYER,OCCUPATION,TRANSACTION_DT,TRANSACTION_AMT,CMTE_ID,ENTITY_TP,id from virginia_combined;\n",
      "maryland\n",
      "select NAME,ZIP_CODE,CONTRIBUTOR_STREET_1,CITY,STATE,EMPLOYER,OCCUPATION,TRANSACTION_DT,TRANSACTION_AMT,CMTE_ID,ENTITY_TP,id from maryland_combined;\n"
     ]
    }
   ],
   "source": [
    "for state in ['districtofcolumbia','virginia','maryland']:\n",
    "# for state in ['virginia']:\n",
    "    print state\n",
    "    exporter = Database.FecExporter(state)\n",
    "    exporter.retrieve()\n",
    "    exporter.set_idm(idm)\n",
    "    exporter.export_csv()"
   ]
  },
  {
   "cell_type": "code",
   "execution_count": 5,
   "metadata": {
    "collapsed": false
   },
   "outputs": [
    {
     "name": "stdout",
     "output_type": "stream",
     "text": [
      "Table 'identities' exists.\n",
      "Table 'identities_adjacency' exists.\n",
      "select id,identity from identities;\n"
     ]
    }
   ],
   "source": [
    "exporter.export_csv('delaware.csv')\n"
   ]
  },
  {
   "cell_type": "markdown",
   "metadata": {},
   "source": [
    "#Jierui "
   ]
  },
  {
   "cell_type": "code",
   "execution_count": 13,
   "metadata": {
    "collapsed": false
   },
   "outputs": [],
   "source": [
    "coders = ['guest1','guest2','guest3','guest4','guest5','guest6','guest7','guest8','guest9']\n",
    "data = {coder:{} for coder in coders}\n",
    "for coder in coders:\n",
    "    files = '/nfs/home/navid/data/Jierui/board-data-top500-400left/{}*.json'.format(coder)\n",
    "    list_files = glob(files)\n",
    "#     print list_files\n",
    "#     continue\n",
    "    for filename in list_files:\n",
    "#         print filename\n",
    "        file_id = re.findall(r'-([0-9]+)\\.',filename)[0]\n",
    "        f = open(filename)\n",
    "        tmp = json.load(f) \n",
    "        data[coder][file_id] = tmp\n"
   ]
  },
  {
   "cell_type": "code",
   "execution_count": 14,
   "metadata": {
    "collapsed": false
   },
   "outputs": [],
   "source": [
    "counter = 0\n",
    "# list_rids = []\n",
    "set_rids = set()\n",
    "for coder in coders:\n",
    "    with open('SP500_400left_{}_results.csv'.format(coder),'w') as f:\n",
    "        for pageid, pagedata in sorted(data[coder].items(), key = lambda x:int(x[0])):\n",
    "            list_yesses = [key for key,value in pagedata['data'].iteritems() if value[2] == 1]\n",
    "            set_rids.update( {int(x) for x in list_yesses})\n",
    "            f.write(pageid + \" \" + ' '.join(list_yesses) + \"\\n\")\n",
    "\n",
    "            counter += 1\n",
    "    #         if counter > 20: break\n",
    "    # print list_rids"
   ]
  },
  {
   "cell_type": "markdown",
   "metadata": {},
   "source": [
    "## Export all the \"yes\" records"
   ]
  },
  {
   "cell_type": "code",
   "execution_count": 16,
   "metadata": {
    "collapsed": false
   },
   "outputs": [
    {
     "name": "stdout",
     "output_type": "stream",
     "text": [
      "inserting...\n",
      "done.\n",
      "Done in 8.299324 seconds\n",
      "SELECT NAME,ZIP_CODE,CONTRIBUTOR_STREET_1,CITY,STATE,EMPLOYER,OCCUPATION,TRANSACTION_DT,TRANSACTION_AMT,CMTE_ID,ENTITY_TP,id FROM usa_combined_v1 JOIN tmp_QX9QCB0k00NjCchOht1i USING (id) ;\n",
      "Done in 31.283689 seconds\n",
      "dict_id_2_identity not loaded. Loading now...\n",
      "select id,identity from identities_v2;\n"
     ]
    },
    {
     "name": "stderr",
     "output_type": "stream",
     "text": [
      "/nfs/home/navid/src/FEC-1/src/disambiguation/core/Database.py:52: Warning: Unknown table 'tmp_QX9QCB0k00NjCchOht1i'\n",
      "  cur.execute(query)\n"
     ]
    }
   ],
   "source": [
    "exporter = Database.FecRetrieverByID('usa_combined_v1')\n",
    "exporter.retrieve(list(set_rids))\n",
    "exporter.set_idm(idm)\n",
    "exporter.export_csv('./all_records_sp500_400left')"
   ]
  },
  {
   "cell_type": "markdown",
   "metadata": {},
   "source": [
    "# Carolina"
   ]
  },
  {
   "cell_type": "code",
   "execution_count": 10,
   "metadata": {
    "collapsed": false
   },
   "outputs": [],
   "source": [
    "coders = ['carolina']\n",
    "data = {coder:{} for coder in coders}\n",
    "for coder in coders:\n",
    "    files = '/nfs/home/navid/data/FEC-validation/results/experiment4/{}*.json'.format(coder)\n",
    "    list_files = glob(files)\n",
    "#     print list_files\n",
    "    for filename in list_files:\n",
    "#         print filename\n",
    "        file_id = re.findall(r'-([0-9]+)\\.',filename)[0]\n",
    "        f = open(filename)\n",
    "        tmp = json.load(f) \n",
    "        data[coder][file_id] = tmp"
   ]
  },
  {
   "cell_type": "code",
   "execution_count": 11,
   "metadata": {
    "collapsed": false
   },
   "outputs": [],
   "source": [
    "counter = 0\n",
    "# list_rids = []\n",
    "set_rids = set()\n",
    "dict_rids = {}\n",
    "for coder in coders:\n",
    "    with open('carolina_{}_results.csv'.format(coder),'w') as f:\n",
    "        for pageid, pagedata in sorted(data[coder].items(), key = lambda x:int(x[0])):\n",
    "            list_yesses = [key for key,value in pagedata['data']['final'].iteritems() if value[1] == 1]\n",
    "#             print list_yesses\n",
    "            set_rids.update( {int(x) for x in list_yesses})\n",
    "            dict_rids[int(pageid)] = [int(x) for x in list_yesses]\n",
    "            f.write(pageid + \" \" + ' '.join(list_yesses) + \"\\n\")\n",
    "\n",
    "            counter += 1\n",
    "    #         if counter > 20: break\n",
    "    # print list_rids"
   ]
  },
  {
   "cell_type": "code",
   "execution_count": 5,
   "metadata": {
    "collapsed": false
   },
   "outputs": [
    {
     "name": "stdout",
     "output_type": "stream",
     "text": [
      "{}\n"
     ]
    }
   ],
   "source": [
    "print dict_rids"
   ]
  },
  {
   "cell_type": "markdown",
   "metadata": {},
   "source": [
    "## Export all \"yes\" records"
   ]
  },
  {
   "cell_type": "code",
   "execution_count": 1,
   "metadata": {
    "collapsed": false
   },
   "outputs": [],
   "source": [
    "exporter = Database.FecRetrieverByID('usa_combined')\n",
    "exporter.set_idm(idm)\n",
    "\n",
    "for pageid, list_yesses in dict_rids.items():\n",
    "    print pageid\n",
    "    exporter.retrieve(list_yesses)\n",
    "    filename = \"carolina_records_page_{}\".format(pageid)\n",
    "    exporter.export_csv(filename)"
   ]
  },
  {
   "cell_type": "code",
   "execution_count": 1,
   "metadata": {
    "collapsed": false
   },
   "outputs": [
    {
     "ename": "NameError",
     "evalue": "name 'idm' is not defined",
     "output_type": "error",
     "traceback": [
      "\u001b[1;31m---------------------------------------------------------------------------\u001b[0m",
      "\u001b[1;31mNameError\u001b[0m                                 Traceback (most recent call last)",
      "\u001b[1;32m<ipython-input-1-d18eac68689e>\u001b[0m in \u001b[0;36m<module>\u001b[1;34m()\u001b[0m\n\u001b[1;32m----> 1\u001b[1;33m \u001b[0midm\u001b[0m\u001b[1;33m\u001b[0m\u001b[0m\n\u001b[0m",
      "\u001b[1;31mNameError\u001b[0m: name 'idm' is not defined"
     ]
    }
   ],
   "source": [
    "idm"
   ]
  },
  {
   "cell_type": "markdown",
   "metadata": {},
   "source": [
    "# Test identity adjacency\n"
   ]
  },
  {
   "cell_type": "code",
   "execution_count": 26,
   "metadata": {
    "collapsed": false
   },
   "outputs": [],
   "source": [
    "# idm.fetch_dict_identity_2_id()\n",
    "# idm.fetch_dict_id_2_identity\n",
    "idm.load_dict_identity_2_identities()"
   ]
  },
  {
   "cell_type": "code",
   "execution_count": 16,
   "metadata": {
    "collapsed": false
   },
   "outputs": [
    {
     "name": "stdout",
     "output_type": "stream",
     "text": [
      "SELECT identity1,identity2, verdict from identities_adjacency_v3;\n"
     ]
    }
   ],
   "source": [
    "idm.fetch_dict_identity_adjacency()\n"
   ]
  },
  {
   "cell_type": "code",
   "execution_count": 18,
   "metadata": {
    "collapsed": false
   },
   "outputs": [
    {
     "ename": "KeyError",
     "evalue": "'OK-3394'",
     "output_type": "error",
     "traceback": [
      "\u001b[1;31m---------------------------------------------------------------------------\u001b[0m",
      "\u001b[1;31mKeyError\u001b[0m                                  Traceback (most recent call last)",
      "\u001b[1;32m<ipython-input-18-acfad2292e62>\u001b[0m in \u001b[0;36m<module>\u001b[1;34m()\u001b[0m\n\u001b[1;32m----> 1\u001b[1;33m \u001b[0midm\u001b[0m\u001b[1;33m.\u001b[0m\u001b[0mdict_identity_adjacency\u001b[0m\u001b[1;33m[\u001b[0m\u001b[1;34m'OK-3394'\u001b[0m\u001b[1;33m]\u001b[0m\u001b[1;33m\u001b[0m\u001b[0m\n\u001b[0m",
      "\u001b[1;31mKeyError\u001b[0m: 'OK-3394'"
     ]
    }
   ],
   "source": [
    "idm.dict_identity_adjacency['OK-3394']"
   ]
  },
  {
   "cell_type": "code",
   "execution_count": 29,
   "metadata": {
    "collapsed": false
   },
   "outputs": [
    {
     "ename": "KeyError",
     "evalue": "'OK-3399'",
     "output_type": "error",
     "traceback": [
      "\u001b[1;31m---------------------------------------------------------------------------\u001b[0m",
      "\u001b[1;31mKeyError\u001b[0m                                  Traceback (most recent call last)",
      "\u001b[1;32m<ipython-input-29-a587be014dd5>\u001b[0m in \u001b[0;36m<module>\u001b[1;34m()\u001b[0m\n\u001b[1;32m----> 1\u001b[1;33m \u001b[0midm\u001b[0m\u001b[1;33m.\u001b[0m\u001b[0mdict_identity_2_identities\u001b[0m\u001b[1;33m[\u001b[0m\u001b[1;34m'OK-3399'\u001b[0m\u001b[1;33m]\u001b[0m\u001b[1;33m\u001b[0m\u001b[0m\n\u001b[0m",
      "\u001b[1;31mKeyError\u001b[0m: 'OK-3399'"
     ]
    }
   ],
   "source": [
    "idm.dict_identity_2_identities['OK-3399']"
   ]
  },
  {
   "cell_type": "code",
   "execution_count": 25,
   "metadata": {
    "collapsed": false
   },
   "outputs": [
    {
     "data": {
      "text/plain": [
       "[u'OK-3394', 'OK-3323']"
      ]
     },
     "execution_count": 25,
     "metadata": {},
     "output_type": "execute_result"
    }
   ],
   "source": [
    "idm.get_linked_identities('OK-3323')"
   ]
  },
  {
   "cell_type": "code",
   "execution_count": 32,
   "metadata": {
    "collapsed": false
   },
   "outputs": [],
   "source": [
    "import cPickle\n",
    "with open(config.tokendata_file_template % ( 'newyork', 'Tokenizer')) as f:\n",
    "    a = cPickle.load(f)\n",
    "    "
   ]
  },
  {
   "cell_type": "code",
   "execution_count": 34,
   "metadata": {
    "collapsed": false
   },
   "outputs": [
    {
     "data": {
      "text/plain": [
       "{'CONTRIBUTOR_STREET_1': [5],\n",
       " 'CONTRIBUTOR_ZIP': [4],\n",
       " 'EMPLOYER': [67],\n",
       " 'FIRST_NAME': [2],\n",
       " 'LAST_NAME': [1],\n",
       " 'MIDDLE_NAME': [3],\n",
       " 'NAME': [1, 2, 3],\n",
       " 'N_employer': [67],\n",
       " 'N_first_name': [2],\n",
       " 'N_full_name': [123],\n",
       " 'N_last_name': [1],\n",
       " 'N_middle_name': [3],\n",
       " 'N_occupation': [67],\n",
       " 'OCCUPATION': [67],\n",
       " 'ZIP_CODE': [4]}"
      ]
     },
     "execution_count": 34,
     "metadata": {},
     "output_type": "execute_result"
    }
   ],
   "source": [
    "a.token_identifiers"
   ]
  }
 ],
 "metadata": {
  "kernelspec": {
   "display_name": "Python 2",
   "language": "python",
   "name": "python2"
  },
  "language_info": {
   "codemirror_mode": {
    "name": "ipython",
    "version": 2
   },
   "file_extension": ".py",
   "mimetype": "text/x-python",
   "name": "python",
   "nbconvert_exporter": "python",
   "pygments_lexer": "ipython2",
   "version": "2.7.3"
  }
 },
 "nbformat": 4,
 "nbformat_minor": 0
}

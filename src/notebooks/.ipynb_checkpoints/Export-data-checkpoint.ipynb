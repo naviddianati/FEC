{
 "cells": [
  {
   "cell_type": "code",
   "execution_count": 13,
   "metadata": {
    "collapsed": false
   },
   "outputs": [
    {
     "name": "stdout",
     "output_type": "stream",
     "text": [
      "The autoreload extension is already loaded. To reload it, use:\n",
      "  %reload_ext autoreload\n"
     ]
    }
   ],
   "source": [
    "from disambiguation.core import Database\n",
    "from disambiguation import config\n",
    "from cPickle import load\n",
    "import pandas as pd\n",
    "from glob import glob\n",
    "%load_ext autoreload\n",
    "import re\n",
    "import json\n",
    "%autoreload 2\n",
    "import numpy as np"
   ]
  },
  {
   "cell_type": "markdown",
   "metadata": {},
   "source": [
    "# Export full tables, with additional identity column to file. "
   ]
  },
  {
   "cell_type": "code",
   "execution_count": 7,
   "metadata": {
    "collapsed": false
   },
   "outputs": [
    {
     "name": "stdout",
     "output_type": "stream",
     "text": [
      "Table 'identities_v5' exists.\n",
      "Table 'identities_adjacency_v5' exists.\n",
      "Table 'linked_identities_v5' exists.\n"
     ]
    },
    {
     "data": {
      "text/plain": [
       "'identities_v5'"
      ]
     },
     "execution_count": 7,
     "metadata": {},
     "output_type": "execute_result"
    }
   ],
   "source": [
    "idm = Database.IdentityManager('USA')\n",
    "idm.table_name_identities"
   ]
  },
  {
   "cell_type": "code",
   "execution_count": 9,
   "metadata": {
    "collapsed": false
   },
   "outputs": [
    {
     "name": "stdout",
     "output_type": "stream",
     "text": [
      "districtofcolumbia\n",
      "select NAME,ZIP_CODE,CONTRIBUTOR_STREET_1,CITY,STATE,EMPLOYER,OCCUPATION,TRANSACTION_DT,TRANSACTION_AMT,CMTE_ID,ENTITY_TP,id from districtofcolumbia_combined;\n",
      "virginia\n",
      "select NAME,ZIP_CODE,CONTRIBUTOR_STREET_1,CITY,STATE,EMPLOYER,OCCUPATION,TRANSACTION_DT,TRANSACTION_AMT,CMTE_ID,ENTITY_TP,id from virginia_combined;\n",
      "maryland\n",
      "select NAME,ZIP_CODE,CONTRIBUTOR_STREET_1,CITY,STATE,EMPLOYER,OCCUPATION,TRANSACTION_DT,TRANSACTION_AMT,CMTE_ID,ENTITY_TP,id from maryland_combined;\n"
     ]
    }
   ],
   "source": [
    "for state in ['districtofcolumbia','virginia','maryland']:\n",
    "# for state in ['virginia']:\n",
    "    print state\n",
    "    exporter = Database.FecExporter(state)\n",
    "    exporter.retrieve()\n",
    "    exporter.set_idm(idm)\n",
    "    exporter.export_csv()"
   ]
  },
  {
   "cell_type": "code",
   "execution_count": 5,
   "metadata": {
    "collapsed": false
   },
   "outputs": [
    {
     "name": "stdout",
     "output_type": "stream",
     "text": [
      "Table 'identities' exists.\n",
      "Table 'identities_adjacency' exists.\n",
      "select id,identity from identities;\n"
     ]
    }
   ],
   "source": [
    "exporter.export_csv('delaware.csv')\n"
   ]
  },
  {
   "cell_type": "markdown",
   "metadata": {},
   "source": [
    "#Jierui "
   ]
  },
  {
   "cell_type": "code",
   "execution_count": 10,
   "metadata": {
    "collapsed": false
   },
   "outputs": [],
   "source": [
    "coders = ['guest1','guest2','guest3','guest4','guest5','guest6','guest7','guest8','guest9']\n",
    "data = {coder:{} for coder in coders}\n",
    "for coder in coders:\n",
    "    files = '/nfs/home/navid/data/Jierui/board-data-sp500_2003/{}*.json'.format(coder)\n",
    "    list_files = glob(files)\n",
    "#     print list_files\n",
    "#     continue\n",
    "    for filename in list_files:\n",
    "#         print filename\n",
    "        file_id = re.findall(r'-([0-9]+)\\.',filename)[0]\n",
    "        f = open(filename)\n",
    "        tmp = json.load(f) \n",
    "        data[coder][file_id] = tmp\n"
   ]
  },
  {
   "cell_type": "code",
   "execution_count": 11,
   "metadata": {
    "collapsed": false
   },
   "outputs": [
    {
     "data": {
      "text/plain": [
       "{'guest1': {},\n",
       " 'guest2': {},\n",
       " 'guest3': {},\n",
       " 'guest4': {},\n",
       " 'guest5': {},\n",
       " 'guest6': {},\n",
       " 'guest7': {},\n",
       " 'guest8': {},\n",
       " 'guest9': {}}"
      ]
     },
     "execution_count": 11,
     "metadata": {},
     "output_type": "execute_result"
    }
   ],
   "source": [
    "data"
   ]
  },
  {
   "cell_type": "code",
   "execution_count": 14,
   "metadata": {
    "collapsed": false
   },
   "outputs": [],
   "source": [
    "counter = 0\n",
    "# list_rids = []\n",
    "set_rids = set()\n",
    "for coder in coders:\n",
    "    with open('SP500_400left_{}_results.csv'.format(coder),'w') as f:\n",
    "        for pageid, pagedata in sorted(data[coder].items(), key = lambda x:int(x[0])):\n",
    "            list_yesses = [key for key,value in pagedata['data'].iteritems() if value[2] == 1]\n",
    "            set_rids.update( {int(x) for x in list_yesses})\n",
    "            f.write(pageid + \" \" + ' '.join(list_yesses) + \"\\n\")\n",
    "\n",
    "            counter += 1\n",
    "    #         if counter > 20: break\n",
    "    # print list_rids"
   ]
  },
  {
   "cell_type": "markdown",
   "metadata": {},
   "source": [
    "## Export all the \"yes\" records"
   ]
  },
  {
   "cell_type": "code",
   "execution_count": 16,
   "metadata": {
    "collapsed": false
   },
   "outputs": [
    {
     "name": "stdout",
     "output_type": "stream",
     "text": [
      "inserting...\n",
      "done.\n",
      "Done in 8.299324 seconds\n",
      "SELECT NAME,ZIP_CODE,CONTRIBUTOR_STREET_1,CITY,STATE,EMPLOYER,OCCUPATION,TRANSACTION_DT,TRANSACTION_AMT,CMTE_ID,ENTITY_TP,id FROM usa_combined_v1 JOIN tmp_QX9QCB0k00NjCchOht1i USING (id) ;\n",
      "Done in 31.283689 seconds\n",
      "dict_id_2_identity not loaded. Loading now...\n",
      "select id,identity from identities_v2;\n"
     ]
    },
    {
     "name": "stderr",
     "output_type": "stream",
     "text": [
      "/nfs/home/navid/src/FEC-1/src/disambiguation/core/Database.py:52: Warning: Unknown table 'tmp_QX9QCB0k00NjCchOht1i'\n",
      "  cur.execute(query)\n"
     ]
    }
   ],
   "source": [
    "exporter = Database.FecRetrieverByID('usa_combined_v1')\n",
    "exporter.retrieve(list(set_rids))\n",
    "exporter.set_idm(idm)\n",
    "exporter.export_csv('./all_records_sp500_400left')"
   ]
  },
  {
   "cell_type": "markdown",
   "metadata": {},
   "source": [
    "# Carolina"
   ]
  },
  {
   "cell_type": "code",
   "execution_count": 49,
   "metadata": {
    "collapsed": false
   },
   "outputs": [],
   "source": [
    "coders = ['carolina','matt']\n",
    "experiment = 'v5-3'\n",
    "data = {coder:{} for coder in coders}\n",
    "for coder in coders:\n",
    "    files = '/nfs/home/navid/data/FEC-validation/results/{}/{}*.json'.format(experiment, coder)\n",
    "    list_files = glob(files)\n",
    "#     print list_files\n",
    "    for filename in list_files:\n",
    "#         print filename\n",
    "        file_id = re.findall(r'-([0-9]+)\\.',filename)[0]\n",
    "        f = open(filename)\n",
    "        tmp = json.load(f) \n",
    "        data[coder][file_id] = tmp\n"
   ]
  },
  {
   "cell_type": "code",
   "execution_count": 91,
   "metadata": {
    "collapsed": true
   },
   "outputs": [],
   "source": [
    "# dict_rids: dict{pageid:set_rids} all rids that need to be retrieved.\n",
    "# dict_results: dict{pageid: {rid:{'navid': flag,'carolina': flag, 'matt': flag}}}\n",
    "\n",
    "\n",
    "counter = 0\n",
    "# list_rids = []\n",
    "set_rids = set()\n",
    "dict_rids = {}\n",
    "dict_results = {}\n",
    "coders = ['carolina','matt']\n",
    "for coder in coders:\n",
    "    with open('{}_{}_results_updated.csv'.format(experiment, coder),'w') as f:\n",
    "        for pageid, pagedata in sorted(data[coder].items(), key = lambda x:int(x[0])):\n",
    "            \n",
    "            # record all rids that exist in the page.\n",
    "            try:\n",
    "                dict_rids[pageid].update(set([int(key) for key,value in pagedata['data']['final'].iteritems()]))\n",
    "            except: \n",
    "                dict_rids[pageid] = set([int(key) for key,value in pagedata['data']['final'].iteritems()])\n",
    "                \n",
    "            if pageid not in dict_results: dict_results[pageid] = {rid:{'navid':0,'carolina':0, 'matt':0} for rid in pagedata['data']['final']}\n",
    "            \n",
    "            # set the flag for navid's result\n",
    "            for rid, result_navid in pagedata['data']['initial'].iteritems():\n",
    "                dict_results[pageid][rid]['navid'] = 1 if result_navid[1] == 1 else 0\n",
    "\n",
    "            # set the flag for coder's result\n",
    "            for rid, result_coder in pagedata['data']['final'].iteritems():\n",
    "                dict_results[pageid][rid][coder] = 1 if result_coder[1] == 1 else 0\n",
    "\n",
    "            \n",
    "#             dict_list_coder_yesses[coder] = [key for key,value in pagedata['data']['final'].iteritems() if value[1] == 1]\n",
    "#             list_navid_yesses = \n",
    "#             dict_list_navid_yesses[pageid] = [key for key,value in pagedata['data']['initial'].iteritems() if value[1] == 1]\n",
    "#             set_rids.update( {int(x) for x in list_yesses})\n",
    "#             dict_rids[int(pageid)] = [int(x) for x in list_yesses]\n",
    "#             f.write(pageid + \" \" + ' '.join(list_yesses) + \"\\n\")\n",
    "\n",
    "            counter += 1\n",
    "    #         if counter > 20: break\n",
    "    # print list_rids"
   ]
  },
  {
   "cell_type": "code",
   "execution_count": 97,
   "metadata": {
    "collapsed": false
   },
   "outputs": [
    {
     "data": {
      "text/plain": [
       "{7780305,\n",
       " 7780309,\n",
       " 7780312,\n",
       " 7780315,\n",
       " 8561805,\n",
       " 8561816,\n",
       " 8666777,\n",
       " 8700787,\n",
       " 8910440,\n",
       " 9224543,\n",
       " 9295637,\n",
       " 9295639,\n",
       " 9329315,\n",
       " 9505523,\n",
       " 9610560,\n",
       " 9854341,\n",
       " 9959338,\n",
       " 10168859,\n",
       " 10239648,\n",
       " 10344353,\n",
       " 10344354,\n",
       " 10448676,\n",
       " 10694010,\n",
       " 10765337,\n",
       " 10852513,\n",
       " 11124104,\n",
       " 11124109,\n",
       " 11124111,\n",
       " 11124113,\n",
       " 11124119,\n",
       " 11124122,\n",
       " 11124127,\n",
       " 11124135,\n",
       " 11124142,\n",
       " 11124145,\n",
       " 11124149,\n",
       " 11190956,\n",
       " 11813286,\n",
       " 11813292,\n",
       " 11813294,\n",
       " 11813296,\n",
       " 11813303,\n",
       " 11904868,\n",
       " 12011076,\n",
       " 12141895,\n",
       " 12273223,\n",
       " 12404896,\n",
       " 12470735,\n",
       " 12585417,\n",
       " 12719542,\n",
       " 12733888,\n",
       " 12908012,\n",
       " 13366423,\n",
       " 13978263,\n",
       " 14065760,\n",
       " 14448712,\n",
       " 14463754,\n",
       " 14863517,\n",
       " 14970305,\n",
       " 15065981,\n",
       " 15074900,\n",
       " 15185179,\n",
       " 15496162,\n",
       " 15864064,\n",
       " 16122396,\n",
       " 16289107,\n",
       " 16289109,\n",
       " 16398199,\n",
       " 16490177,\n",
       " 16599069,\n",
       " 17121931,\n",
       " 17179958,\n",
       " 17188322,\n",
       " 17188371,\n",
       " 17399313,\n",
       " 17548813,\n",
       " 17721752,\n",
       " 17786590,\n",
       " 17809540,\n",
       " 17926956,\n",
       " 18118138,\n",
       " 18289972,\n",
       " 18354294,\n",
       " 18431658,\n",
       " 18431665,\n",
       " 18442564,\n",
       " 18442571}"
      ]
     },
     "execution_count": 97,
     "metadata": {},
     "output_type": "execute_result"
    }
   ],
   "source": [
    "dict_rids['1']"
   ]
  },
  {
   "cell_type": "markdown",
   "metadata": {},
   "source": [
    "## Export all \"yes\" records"
   ]
  },
  {
   "cell_type": "code",
   "execution_count": 133,
   "metadata": {
    "collapsed": false
   },
   "outputs": [],
   "source": [
    "dict_df_navid_tmp = {pageno: pd.DataFrame([(int(rid), dict_decision['navid']) \\\n",
    "                                for rid,dict_decision in dict_results[pageno].iteritems()],\n",
    "                                     columns=['id','decision'])\\\n",
    "                     for pageno in dict_rids}\n",
    "\n",
    "dict_df_carolina_tmp = {pageno: pd.DataFrame([(int(rid), dict_decision['carolina']) \\\n",
    "                                for rid,dict_decision in dict_results[pageno].iteritems()],\n",
    "                                     columns=['id','decision'])\\\n",
    "                     for pageno in dict_rids}\n",
    "\n",
    "dict_df_matt_tmp = {pageno: pd.DataFrame([(int(rid), dict_decision['matt']) \\\n",
    "                                for rid,dict_decision in dict_results[pageno].iteritems()],\n",
    "                                     columns=['id','decision'])\\\n",
    "                     for pageno in dict_rids}\n",
    "dict_df_navid ={pageno : df.set_index('id') for pageno, df in dict_df_navid_tmp.iteritems()}\n",
    "dict_df_carolina ={pageno : df.set_index('id') for pageno, df in dict_df_carolina_tmp.iteritems()}\n",
    "dict_df_matt ={pageno : df.set_index('id') for pageno, df in dict_df_matt_tmp.iteritems()}\n"
   ]
  },
  {
   "cell_type": "code",
   "execution_count": 138,
   "metadata": {
    "collapsed": false
   },
   "outputs": [
    {
     "name": "stdout",
     "output_type": "stream",
     "text": [
      "24 33 33\n",
      "25 4 4\n",
      "26 39 39\n",
      "27 115 115\n",
      "20 56 56\n",
      "21 244 244\n",
      "22 8 8\n",
      "23 26 26\n",
      "28 8 8\n",
      "29 128 128\n",
      "4 34 34\n",
      "8 73 73\n",
      "59 24 24\n",
      "58 44 44\n",
      "55 4 4\n",
      "54 39 39\n",
      "57 2 2\n",
      "56 2 2\n",
      "51 1 1\n",
      "50 42 42\n",
      "53 13 13\n",
      "52 304 304\n",
      "88 110 110\n",
      "89 120 120\n",
      "82 73 73\n",
      "83 1003 1003\n",
      "inserting...\n",
      "done.\n",
      "80 12 12\n",
      "81 64 64\n",
      "86 1 1\n",
      "87 1 1\n",
      "84 35 35\n",
      "85 198 198\n",
      "3 32 32\n",
      "7 81 81\n",
      "39 6 6\n",
      "38 28 28\n",
      "33 29 29\n",
      "32 48 48\n",
      "31 4 4\n",
      "30 4 4\n",
      "37 11 11\n",
      "36 69 69\n",
      "35 27 27\n",
      "34 3 3\n",
      "60 13 13\n",
      "61 18 18\n",
      "62 60 60\n",
      "63 60 60\n",
      "64 7 7\n",
      "65 32 32\n",
      "66 4 4\n",
      "67 195 195\n",
      "68 11 11\n",
      "69 18 18\n",
      "2 34 34\n",
      "6 275 275\n",
      "91 23 23\n",
      "90 25 25\n",
      "93 205 205\n",
      "92 21 21\n",
      "95 107 107\n",
      "94 6 6\n",
      "11 1 1\n",
      "10 27 27\n",
      "13 15 15\n",
      "12 789 789\n",
      "15 27 27\n",
      "14 418 418\n",
      "17 38 38\n",
      "16 14 14\n",
      "19 819 819\n",
      "18 409 409\n",
      "48 190 190\n",
      "49 53 53\n",
      "46 14 14\n",
      "47 26 26\n",
      "44 17 17\n",
      "45 2 2\n",
      "42 3 3\n",
      "43 629 629\n",
      "40 22 22\n",
      "41 782 782\n",
      "1 87 87\n",
      "5 10 10\n",
      "9 28 28\n",
      "77 5 5\n",
      "76 5 5\n",
      "75 63 63\n",
      "74 33 33\n",
      "73 88 88\n",
      "72 546 546\n",
      "71 18 18\n",
      "70 61 61\n",
      "79 9 9\n",
      "78 81 81\n"
     ]
    },
    {
     "name": "stderr",
     "output_type": "stream",
     "text": [
      "/nfs/home/navid/src/FEC-1/src/disambiguation/core/Database.py:62: Warning: Unknown table 'tmp_ii5b7wP0KbMe1LuND8Re'\n",
      "  cur.execute(query)\n"
     ]
    }
   ],
   "source": [
    "exporter = Database.FecRetrieverByID('usa_combined_v2')\n",
    "exporter.set_idm(idm)\n",
    "\n",
    "# All records that the coder selected as yes,\n",
    "for pageid, set_rids in dict_rids.items():\n",
    "    print pageid, len(set_rids), len(dict_df_navid[pageid])\n",
    "#     continue\n",
    "\n",
    "    exporter.retrieve(list(set_rids))\n",
    "    # DataFrame with all the records present in\n",
    "    # a handcoding page. Will be augmented with \n",
    "    # coder result flags as new columns.\n",
    "    df = exporter.export_csv(filename = None)\n",
    "    df = df.set_index('id')\n",
    "    df['navid'] = dict_df_navid[pageid]\n",
    "    df['carolina'] = dict_df_carolina[pageid]\n",
    "    df['matt'] = dict_df_matt[pageid]\n",
    "    filename = '/nfs/home/navid/data/FEC-validation/{experiment}-allcoders-{pageno}.csv'.format(experiment = experiment,pageno = pageid)\n",
    "    df.sort(['navid','carolina','matt'],inplace = True, ascending = False)\n",
    "    df.to_csv(filename, sep = '|', index=True)\n"
   ]
  },
  {
   "cell_type": "code",
   "execution_count": 137,
   "metadata": {
    "collapsed": false
   },
   "outputs": [],
   "source": [
    "df.sort(['navid','carolina','matt'],inplace = True, ascending = False)\n"
   ]
  },
  {
   "cell_type": "code",
   "execution_count": 100,
   "metadata": {
    "collapsed": false
   },
   "outputs": [
    {
     "name": "stdout",
     "output_type": "stream",
     "text": [
      "33\n",
      "33\n",
      "128\n"
     ]
    }
   ],
   "source": [
    "print len(dict_df_navid['24'])\n",
    "print len(df)\n",
    "print len(set_rids)\n"
   ]
  },
  {
   "cell_type": "code",
   "execution_count": null,
   "metadata": {
    "collapsed": false
   },
   "outputs": [],
   "source": [
    "df"
   ]
  },
  {
   "cell_type": "markdown",
   "metadata": {},
   "source": [
    "#  Export a given set of records"
   ]
  },
  {
   "cell_type": "code",
   "execution_count": 5,
   "metadata": {
    "collapsed": false
   },
   "outputs": [],
   "source": [
    "data = pd.read_csv('/nfs/home/navid/data/Jierui/ids_2003_toNavid.csv')"
   ]
  },
  {
   "cell_type": "code",
   "execution_count": 6,
   "metadata": {
    "collapsed": false
   },
   "outputs": [
    {
     "data": {
      "text/html": [
       "<div style=\"max-height:1000px;max-width:1500px;overflow:auto;\">\n",
       "<table border=\"1\" class=\"dataframe\">\n",
       "  <thead>\n",
       "    <tr style=\"text-align: right;\">\n",
       "      <th></th>\n",
       "      <th>Date</th>\n",
       "      <th>id</th>\n",
       "      <th>identity</th>\n",
       "    </tr>\n",
       "  </thead>\n",
       "  <tbody>\n",
       "    <tr>\n",
       "      <th>0    </th>\n",
       "      <td>  3/31/2000</td>\n",
       "      <td>  1062844</td>\n",
       "      <td> NY-166683</td>\n",
       "    </tr>\n",
       "    <tr>\n",
       "      <th>1    </th>\n",
       "      <td>  2/16/1996</td>\n",
       "      <td> 23009379</td>\n",
       "      <td>  IA-15663</td>\n",
       "    </tr>\n",
       "    <tr>\n",
       "      <th>2    </th>\n",
       "      <td>  3/26/1996</td>\n",
       "      <td> 22958034</td>\n",
       "      <td>  IA-15663</td>\n",
       "    </tr>\n",
       "    <tr>\n",
       "      <th>3    </th>\n",
       "      <td>  11/3/2003</td>\n",
       "      <td>  5451566</td>\n",
       "      <td>  IA-15663</td>\n",
       "    </tr>\n",
       "    <tr>\n",
       "      <th>4    </th>\n",
       "      <td>  6/30/2004</td>\n",
       "      <td>  3949152</td>\n",
       "      <td>  MA-69773</td>\n",
       "    </tr>\n",
       "    <tr>\n",
       "      <th>5    </th>\n",
       "      <td>  10/4/2006</td>\n",
       "      <td>  6324480</td>\n",
       "      <td>  MA-69773</td>\n",
       "    </tr>\n",
       "    <tr>\n",
       "      <th>6    </th>\n",
       "      <td>  2/13/2007</td>\n",
       "      <td>  9957170</td>\n",
       "      <td>  MA-69773</td>\n",
       "    </tr>\n",
       "    <tr>\n",
       "      <th>7    </th>\n",
       "      <td>  6/30/2007</td>\n",
       "      <td>  8698515</td>\n",
       "      <td>  MA-69773</td>\n",
       "    </tr>\n",
       "    <tr>\n",
       "      <th>8    </th>\n",
       "      <td> 12/12/2007</td>\n",
       "      <td>  7598901</td>\n",
       "      <td>  MA-69773</td>\n",
       "    </tr>\n",
       "    <tr>\n",
       "      <th>9    </th>\n",
       "      <td>  3/13/2008</td>\n",
       "      <td>  8559765</td>\n",
       "      <td>  MA-69773</td>\n",
       "    </tr>\n",
       "    <tr>\n",
       "      <th>10   </th>\n",
       "      <td>  6/10/2008</td>\n",
       "      <td>  9400549</td>\n",
       "      <td>  MA-69773</td>\n",
       "    </tr>\n",
       "    <tr>\n",
       "      <th>11   </th>\n",
       "      <td>  6/30/2008</td>\n",
       "      <td> 10498833</td>\n",
       "      <td>  MA-69773</td>\n",
       "    </tr>\n",
       "    <tr>\n",
       "      <th>12   </th>\n",
       "      <td>   1/5/2006</td>\n",
       "      <td>  6768393</td>\n",
       "      <td> FL-130557</td>\n",
       "    </tr>\n",
       "    <tr>\n",
       "      <th>13   </th>\n",
       "      <td>  3/28/2006</td>\n",
       "      <td>  6582046</td>\n",
       "      <td> FL-130557</td>\n",
       "    </tr>\n",
       "    <tr>\n",
       "      <th>14   </th>\n",
       "      <td>  1/17/2007</td>\n",
       "      <td> 10054332</td>\n",
       "      <td> FL-130557</td>\n",
       "    </tr>\n",
       "    <tr>\n",
       "      <th>15   </th>\n",
       "      <td>   1/4/2010</td>\n",
       "      <td> 11397497</td>\n",
       "      <td> FL-130561</td>\n",
       "    </tr>\n",
       "    <tr>\n",
       "      <th>16   </th>\n",
       "      <td>  3/16/2014</td>\n",
       "      <td> 18333736</td>\n",
       "      <td> FL-130561</td>\n",
       "    </tr>\n",
       "    <tr>\n",
       "      <th>17   </th>\n",
       "      <td>  7/31/2007</td>\n",
       "      <td>  7562273</td>\n",
       "      <td> FL-130560</td>\n",
       "    </tr>\n",
       "    <tr>\n",
       "      <th>18   </th>\n",
       "      <td>  12/9/1997</td>\n",
       "      <td> 23896393</td>\n",
       "      <td>  CT-38981</td>\n",
       "    </tr>\n",
       "    <tr>\n",
       "      <th>19   </th>\n",
       "      <td> 12/31/2003</td>\n",
       "      <td>  3243469</td>\n",
       "      <td>  MA-69772</td>\n",
       "    </tr>\n",
       "    <tr>\n",
       "      <th>20   </th>\n",
       "      <td>   7/1/1987</td>\n",
       "      <td> 19949750</td>\n",
       "      <td>  MA-69763</td>\n",
       "    </tr>\n",
       "    <tr>\n",
       "      <th>21   </th>\n",
       "      <td> 12/13/1991</td>\n",
       "      <td> 20852476</td>\n",
       "      <td>  MA-69763</td>\n",
       "    </tr>\n",
       "    <tr>\n",
       "      <th>22   </th>\n",
       "      <td>  1/24/1992</td>\n",
       "      <td> 21453074</td>\n",
       "      <td>  MA-69763</td>\n",
       "    </tr>\n",
       "    <tr>\n",
       "      <th>23   </th>\n",
       "      <td>  3/27/1992</td>\n",
       "      <td> 21456419</td>\n",
       "      <td>  MA-69763</td>\n",
       "    </tr>\n",
       "    <tr>\n",
       "      <th>24   </th>\n",
       "      <td> 10/22/1992</td>\n",
       "      <td> 21344419</td>\n",
       "      <td>  MA-69763</td>\n",
       "    </tr>\n",
       "    <tr>\n",
       "      <th>25   </th>\n",
       "      <td> 10/27/1992</td>\n",
       "      <td> 21294194</td>\n",
       "      <td>  MA-69763</td>\n",
       "    </tr>\n",
       "    <tr>\n",
       "      <th>26   </th>\n",
       "      <td> 10/31/1992</td>\n",
       "      <td> 21308452</td>\n",
       "      <td>  MA-69763</td>\n",
       "    </tr>\n",
       "    <tr>\n",
       "      <th>27   </th>\n",
       "      <td>  6/24/1993</td>\n",
       "      <td> 21688829</td>\n",
       "      <td>  MA-69763</td>\n",
       "    </tr>\n",
       "    <tr>\n",
       "      <th>28   </th>\n",
       "      <td>   8/2/1993</td>\n",
       "      <td> 21756523</td>\n",
       "      <td>  MA-69763</td>\n",
       "    </tr>\n",
       "    <tr>\n",
       "      <th>29   </th>\n",
       "      <td> 11/18/1993</td>\n",
       "      <td> 21713498</td>\n",
       "      <td>  MA-69763</td>\n",
       "    </tr>\n",
       "    <tr>\n",
       "      <th>...</th>\n",
       "      <td>...</td>\n",
       "      <td>...</td>\n",
       "      <td>...</td>\n",
       "    </tr>\n",
       "    <tr>\n",
       "      <th>85642</th>\n",
       "      <td>  9/13/2009</td>\n",
       "      <td> 11139183</td>\n",
       "      <td> GA-178318</td>\n",
       "    </tr>\n",
       "    <tr>\n",
       "      <th>85643</th>\n",
       "      <td>  2/13/2012</td>\n",
       "      <td> 15629173</td>\n",
       "      <td> GA-178318</td>\n",
       "    </tr>\n",
       "    <tr>\n",
       "      <th>85644</th>\n",
       "      <td>  6/18/2014</td>\n",
       "      <td> 16731654</td>\n",
       "      <td> GA-178318</td>\n",
       "    </tr>\n",
       "    <tr>\n",
       "      <th>85645</th>\n",
       "      <td>  6/18/2014</td>\n",
       "      <td> 17662664</td>\n",
       "      <td> GA-178318</td>\n",
       "    </tr>\n",
       "    <tr>\n",
       "      <th>85646</th>\n",
       "      <td>   8/5/2014</td>\n",
       "      <td> 17242145</td>\n",
       "      <td> GA-178318</td>\n",
       "    </tr>\n",
       "    <tr>\n",
       "      <th>85647</th>\n",
       "      <td>  8/21/2014</td>\n",
       "      <td> 17242143</td>\n",
       "      <td> GA-178318</td>\n",
       "    </tr>\n",
       "    <tr>\n",
       "      <th>85648</th>\n",
       "      <td>  8/21/2014</td>\n",
       "      <td> 17242146</td>\n",
       "      <td> GA-178318</td>\n",
       "    </tr>\n",
       "    <tr>\n",
       "      <th>85649</th>\n",
       "      <td>  9/30/2014</td>\n",
       "      <td> 17241915</td>\n",
       "      <td> GA-178318</td>\n",
       "    </tr>\n",
       "    <tr>\n",
       "      <th>85650</th>\n",
       "      <td>  11/4/2014</td>\n",
       "      <td> 17960210</td>\n",
       "      <td> GA-178318</td>\n",
       "    </tr>\n",
       "    <tr>\n",
       "      <th>85651</th>\n",
       "      <td>  11/4/2014</td>\n",
       "      <td> 18027349</td>\n",
       "      <td> GA-178318</td>\n",
       "    </tr>\n",
       "    <tr>\n",
       "      <th>85652</th>\n",
       "      <td> 12/23/2014</td>\n",
       "      <td> 18235632</td>\n",
       "      <td> GA-178318</td>\n",
       "    </tr>\n",
       "    <tr>\n",
       "      <th>85653</th>\n",
       "      <td>  6/19/2006</td>\n",
       "      <td>  6893699</td>\n",
       "      <td> GA-178305</td>\n",
       "    </tr>\n",
       "    <tr>\n",
       "      <th>85654</th>\n",
       "      <td> 12/20/2002</td>\n",
       "      <td>  2594809</td>\n",
       "      <td>   GA-1045</td>\n",
       "    </tr>\n",
       "    <tr>\n",
       "      <th>85655</th>\n",
       "      <td>   6/1/1992</td>\n",
       "      <td> 21058819</td>\n",
       "      <td> GA-178335</td>\n",
       "    </tr>\n",
       "    <tr>\n",
       "      <th>85656</th>\n",
       "      <td>  7/19/1996</td>\n",
       "      <td> 23141571</td>\n",
       "      <td> GA-178335</td>\n",
       "    </tr>\n",
       "    <tr>\n",
       "      <th>85657</th>\n",
       "      <td> 12/18/1997</td>\n",
       "      <td> 23747269</td>\n",
       "      <td> GA-178335</td>\n",
       "    </tr>\n",
       "    <tr>\n",
       "      <th>85658</th>\n",
       "      <td>  8/28/1998</td>\n",
       "      <td> 24398142</td>\n",
       "      <td> GA-178335</td>\n",
       "    </tr>\n",
       "    <tr>\n",
       "      <th>85659</th>\n",
       "      <td>  5/10/2000</td>\n",
       "      <td>  1538952</td>\n",
       "      <td> GA-178335</td>\n",
       "    </tr>\n",
       "    <tr>\n",
       "      <th>85660</th>\n",
       "      <td>  6/21/2000</td>\n",
       "      <td>   838254</td>\n",
       "      <td> GA-178335</td>\n",
       "    </tr>\n",
       "    <tr>\n",
       "      <th>85661</th>\n",
       "      <td>   6/5/2001</td>\n",
       "      <td>  1708369</td>\n",
       "      <td> GA-178335</td>\n",
       "    </tr>\n",
       "    <tr>\n",
       "      <th>85662</th>\n",
       "      <td> 12/14/2001</td>\n",
       "      <td>  1875628</td>\n",
       "      <td> GA-178335</td>\n",
       "    </tr>\n",
       "    <tr>\n",
       "      <th>85663</th>\n",
       "      <td>   4/4/2002</td>\n",
       "      <td>  2235485</td>\n",
       "      <td> GA-178335</td>\n",
       "    </tr>\n",
       "    <tr>\n",
       "      <th>85664</th>\n",
       "      <td> 12/30/2002</td>\n",
       "      <td>  2594546</td>\n",
       "      <td> GA-178335</td>\n",
       "    </tr>\n",
       "    <tr>\n",
       "      <th>85665</th>\n",
       "      <td>  6/18/2003</td>\n",
       "      <td>  3224860</td>\n",
       "      <td> GA-178335</td>\n",
       "    </tr>\n",
       "    <tr>\n",
       "      <th>85666</th>\n",
       "      <td>  6/30/2003</td>\n",
       "      <td>  4359143</td>\n",
       "      <td> GA-178335</td>\n",
       "    </tr>\n",
       "    <tr>\n",
       "      <th>85667</th>\n",
       "      <td>  8/22/2005</td>\n",
       "      <td>  7183079</td>\n",
       "      <td> GA-178335</td>\n",
       "    </tr>\n",
       "    <tr>\n",
       "      <th>85668</th>\n",
       "      <td>  6/12/2006</td>\n",
       "      <td>  6190049</td>\n",
       "      <td> GA-178335</td>\n",
       "    </tr>\n",
       "    <tr>\n",
       "      <th>85669</th>\n",
       "      <td>  4/30/1984</td>\n",
       "      <td> 19378866</td>\n",
       "      <td> GA-178293</td>\n",
       "    </tr>\n",
       "    <tr>\n",
       "      <th>85670</th>\n",
       "      <td>  5/11/2012</td>\n",
       "      <td> 15250774</td>\n",
       "      <td> GA-178329</td>\n",
       "    </tr>\n",
       "    <tr>\n",
       "      <th>85671</th>\n",
       "      <td>  6/30/1989</td>\n",
       "      <td> 20363209</td>\n",
       "      <td> GA-178338</td>\n",
       "    </tr>\n",
       "  </tbody>\n",
       "</table>\n",
       "<p>85672 rows × 3 columns</p>\n",
       "</div>"
      ],
      "text/plain": [
       "             Date        id   identity\n",
       "0       3/31/2000   1062844  NY-166683\n",
       "1       2/16/1996  23009379   IA-15663\n",
       "2       3/26/1996  22958034   IA-15663\n",
       "3       11/3/2003   5451566   IA-15663\n",
       "4       6/30/2004   3949152   MA-69773\n",
       "5       10/4/2006   6324480   MA-69773\n",
       "6       2/13/2007   9957170   MA-69773\n",
       "7       6/30/2007   8698515   MA-69773\n",
       "8      12/12/2007   7598901   MA-69773\n",
       "9       3/13/2008   8559765   MA-69773\n",
       "10      6/10/2008   9400549   MA-69773\n",
       "11      6/30/2008  10498833   MA-69773\n",
       "12       1/5/2006   6768393  FL-130557\n",
       "13      3/28/2006   6582046  FL-130557\n",
       "14      1/17/2007  10054332  FL-130557\n",
       "15       1/4/2010  11397497  FL-130561\n",
       "16      3/16/2014  18333736  FL-130561\n",
       "17      7/31/2007   7562273  FL-130560\n",
       "18      12/9/1997  23896393   CT-38981\n",
       "19     12/31/2003   3243469   MA-69772\n",
       "20       7/1/1987  19949750   MA-69763\n",
       "21     12/13/1991  20852476   MA-69763\n",
       "22      1/24/1992  21453074   MA-69763\n",
       "23      3/27/1992  21456419   MA-69763\n",
       "24     10/22/1992  21344419   MA-69763\n",
       "25     10/27/1992  21294194   MA-69763\n",
       "26     10/31/1992  21308452   MA-69763\n",
       "27      6/24/1993  21688829   MA-69763\n",
       "28       8/2/1993  21756523   MA-69763\n",
       "29     11/18/1993  21713498   MA-69763\n",
       "...           ...       ...        ...\n",
       "85642   9/13/2009  11139183  GA-178318\n",
       "85643   2/13/2012  15629173  GA-178318\n",
       "85644   6/18/2014  16731654  GA-178318\n",
       "85645   6/18/2014  17662664  GA-178318\n",
       "85646    8/5/2014  17242145  GA-178318\n",
       "85647   8/21/2014  17242143  GA-178318\n",
       "85648   8/21/2014  17242146  GA-178318\n",
       "85649   9/30/2014  17241915  GA-178318\n",
       "85650   11/4/2014  17960210  GA-178318\n",
       "85651   11/4/2014  18027349  GA-178318\n",
       "85652  12/23/2014  18235632  GA-178318\n",
       "85653   6/19/2006   6893699  GA-178305\n",
       "85654  12/20/2002   2594809    GA-1045\n",
       "85655    6/1/1992  21058819  GA-178335\n",
       "85656   7/19/1996  23141571  GA-178335\n",
       "85657  12/18/1997  23747269  GA-178335\n",
       "85658   8/28/1998  24398142  GA-178335\n",
       "85659   5/10/2000   1538952  GA-178335\n",
       "85660   6/21/2000    838254  GA-178335\n",
       "85661    6/5/2001   1708369  GA-178335\n",
       "85662  12/14/2001   1875628  GA-178335\n",
       "85663    4/4/2002   2235485  GA-178335\n",
       "85664  12/30/2002   2594546  GA-178335\n",
       "85665   6/18/2003   3224860  GA-178335\n",
       "85666   6/30/2003   4359143  GA-178335\n",
       "85667   8/22/2005   7183079  GA-178335\n",
       "85668   6/12/2006   6190049  GA-178335\n",
       "85669   4/30/1984  19378866  GA-178293\n",
       "85670   5/11/2012  15250774  GA-178329\n",
       "85671   6/30/1989  20363209  GA-178338\n",
       "\n",
       "[85672 rows x 3 columns]"
      ]
     },
     "execution_count": 6,
     "metadata": {},
     "output_type": "execute_result"
    }
   ],
   "source": [
    "data\n"
   ]
  },
  {
   "cell_type": "code",
   "execution_count": 7,
   "metadata": {
    "collapsed": false
   },
   "outputs": [
    {
     "name": "stdout",
     "output_type": "stream",
     "text": [
      "85672 0\n",
      "85672\n"
     ]
    }
   ],
   "source": [
    "counter_error = 0\n",
    "counter_ok = 0\n",
    "list_rids = []\n",
    "for x in data['id']:\n",
    "    try:\n",
    "        list_rids.append(int(x))\n",
    "        counter_ok += 1\n",
    "    except:\n",
    "        counter_error += 1\n",
    "print counter_ok, counter_error\n",
    "print len(list_rids)"
   ]
  },
  {
   "cell_type": "code",
   "execution_count": 8,
   "metadata": {
    "collapsed": false
   },
   "outputs": [
    {
     "name": "stdout",
     "output_type": "stream",
     "text": [
      "85672 85387\n"
     ]
    }
   ],
   "source": [
    "print len(list_rids), len(set(list_rids))"
   ]
  },
  {
   "cell_type": "code",
   "execution_count": 9,
   "metadata": {
    "collapsed": false
   },
   "outputs": [
    {
     "name": "stdout",
     "output_type": "stream",
     "text": [
      "inserting...\n",
      "done.\n",
      "dict_id_2_identity not loaded. Loading now...\n",
      "select id,identity from identities_v5;\n"
     ]
    },
    {
     "name": "stderr",
     "output_type": "stream",
     "text": [
      "/nfs/home/navid/src/FEC-1/src/disambiguation/core/Database.py:62: Warning: Unknown table 'tmp_O3za1ZJUnABSWtzBJsYL'\n",
      "  cur.execute(query)\n"
     ]
    }
   ],
   "source": [
    "# exporter = Database.FecRetrieverByID('usa_combined_v1')\n",
    "exporter = Database.FecRetrieverByID('individual_contributions_v1')\n",
    "exporter.all_fields.remove('CONTRIBUTOR_STREET_1')\n",
    "exporter.retrieve(list(set(list_rids)))\n",
    "exporter.set_idm(idm)\n",
    "exporter.export_csv('./all_records_ids_2003_toNavid_round2')"
   ]
  },
  {
   "cell_type": "code",
   "execution_count": null,
   "metadata": {
    "collapsed": true
   },
   "outputs": [],
   "source": []
  }
 ],
 "metadata": {
  "kernelspec": {
   "display_name": "Python 2",
   "language": "python",
   "name": "python2"
  },
  "language_info": {
   "codemirror_mode": {
    "name": "ipython",
    "version": 2
   },
   "file_extension": ".py",
   "mimetype": "text/x-python",
   "name": "python",
   "nbconvert_exporter": "python",
   "pygments_lexer": "ipython2",
   "version": "2.7.3"
  }
 },
 "nbformat": 4,
 "nbformat_minor": 0
}

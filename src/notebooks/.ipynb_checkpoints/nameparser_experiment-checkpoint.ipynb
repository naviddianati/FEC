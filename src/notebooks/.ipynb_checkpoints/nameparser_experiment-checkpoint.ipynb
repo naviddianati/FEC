{
 "cells": [
  {
   "cell_type": "markdown",
   "metadata": {},
   "source": [
    "# Here we experiment with a new name parser "
   ]
  },
  {
   "cell_type": "code",
   "execution_count": null,
   "metadata": {
    "collapsed": false
   },
   "outputs": [
    {
     "name": "stdout",
     "output_type": "stream",
     "text": [
      "individual_contributions_v2\n",
      "newyork_combined_v2\n",
      "usa_combined_v2\n",
      "identities_v3\n",
      "identities_adjacency_v3\n"
     ]
    }
   ],
   "source": [
    "from disambiguation.core import Database, Tokenizer\n",
    "import pandas as pd"
   ]
  },
  {
   "cell_type": "markdown",
   "metadata": {},
   "source": [
    "## Retrieval 1"
   ]
  },
  {
   "cell_type": "code",
   "execution_count": null,
   "metadata": {
    "collapsed": false
   },
   "outputs": [],
   "source": [
    "retriever = Database.FecRetriever('usa_combined_v2',['NAME','id'],list_order_by = [], limit = (100000,10000,10))\n",
    "print retriever.getQuery()\n",
    "retriever.retrieve()"
   ]
  },
  {
   "cell_type": "markdown",
   "metadata": {},
   "source": [
    "## Retrieval 2 "
   ]
  },
  {
   "cell_type": "code",
   "execution_count": 31,
   "metadata": {
    "collapsed": false
   },
   "outputs": [],
   "source": [
    "retriever = Database.FecRetriever('individual_contributions_v1_MYISAM',['NAME','id'])\n",
    "retriever.retrieve('select NAME,id from\\\n",
    "    individual_contributions_v1_MYISAM where match(NAME) against (\"+SCOTT +ANDERSON\" in boolean mode);')"
   ]
  },
  {
   "cell_type": "code",
   "execution_count": null,
   "metadata": {
    "collapsed": false
   },
   "outputs": [],
   "source": [
    "list_of_records = retriever.getRecords()\n",
    "list_of_records"
   ]
  },
  {
   "cell_type": "code",
   "execution_count": 180,
   "metadata": {
    "collapsed": true
   },
   "outputs": [],
   "source": [
    "tokenizer = Tokenizer.Tokenizer()"
   ]
  },
  {
   "cell_type": "code",
   "execution_count": 181,
   "metadata": {
    "collapsed": true
   },
   "outputs": [],
   "source": [
    "tokenizer.setRecords(list_of_records)"
   ]
  },
  {
   "cell_type": "code",
   "execution_count": 182,
   "metadata": {
    "collapsed": false
   },
   "outputs": [],
   "source": [
    "for r in list_of_records:\n",
    "    tokenizer._normalize_NAME(r)"
   ]
  },
  {
   "cell_type": "code",
   "execution_count": 183,
   "metadata": {
    "collapsed": false
   },
   "outputs": [
    {
     "name": "stdout",
     "output_type": "stream",
     "text": [
      "10000\n",
      "10000\n"
     ]
    }
   ],
   "source": [
    "list_rows = []\n",
    "for r in list_of_records:\n",
    "    row = [r['NAME']] + list(splitname(r['NAME']))\n",
    "    row += [r['N_last_name'], r['N_middle_name'], r['N_first_name']]\n",
    "    list_rows.append(row)\n",
    "#     list_rows.append([r['NAME'], r['N_last_name'], r['N_middle_name'], r['N_first_name']])\n",
    "print len(list_rows)\n",
    "data = pd.DataFrame(list_rows, columns = ['NAME','last_name','middle_name','first_name', 'L', 'M', 'F'])\n",
    "print len(list_rows)"
   ]
  },
  {
   "cell_type": "code",
   "execution_count": 168,
   "metadata": {
    "collapsed": false
   },
   "outputs": [
    {
     "name": "stdout",
     "output_type": "stream",
     "text": [
      "10000\n",
      "10000\n"
     ]
    }
   ],
   "source": [
    "print len(list_of_records)\n",
    "print len(list_rows)"
   ]
  },
  {
   "cell_type": "code",
   "execution_count": 209,
   "metadata": {
    "collapsed": false
   },
   "outputs": [],
   "source": [
    "import re\n",
    "def mystrip(s):\n",
    "    '''\n",
    "    Collapse multiple whitespaces, and strip.\n",
    "    '''\n",
    "    return re.sub(r'\\s+',' ',s).strip()\n",
    "    \n",
    "def get_index(mylist, x):\n",
    "    '''\n",
    "    Find indices of all occurrences of C{x} in C{mylist}.\n",
    "    '''\n",
    "    return [i for i,y in enumerate(mylist) if y == x]\n",
    "    \n",
    "    \n",
    "junk =['ESQ','ENG','INC','LLC','LLP','MRS','PHD','SEN','DR','II','III','IV','JR'\\\n",
    "       ,'MD','MR','MS','MISS','SR','SGT','DC','REV','FR']\n",
    "    \n",
    "\n",
    "    \n",
    "            \n",
    "            \n"
   ]
  },
  {
   "cell_type": "code",
   "execution_count": 215,
   "metadata": {
    "collapsed": false
   },
   "outputs": [
    {
     "data": {
      "text/plain": [
       "('MYRLAND', 'S', 'JOHN')"
      ]
     },
     "execution_count": 215,
     "metadata": {},
     "output_type": "execute_result"
    }
   ],
   "source": [
    "splitname('MYRLAND, JOHN S COL')"
   ]
  },
  {
   "cell_type": "code",
   "execution_count": 3,
   "metadata": {
    "collapsed": false
   },
   "outputs": [],
   "source": [
    "for r in list_of_records:\n",
    "    name = r['NAME']\n",
    "    print name, splitname(name)\n",
    "    break\n",
    "    "
   ]
  },
  {
   "cell_type": "code",
   "execution_count": 117,
   "metadata": {
    "collapsed": false
   },
   "outputs": [
    {
     "data": {
      "text/plain": [
       "8"
      ]
     },
     "execution_count": 117,
     "metadata": {},
     "output_type": "execute_result"
    }
   ],
   "source": [
    "s = ' MYRLAND,    JOHN S '\n",
    "s.find(',')"
   ]
  },
  {
   "cell_type": "code",
   "execution_count": 118,
   "metadata": {
    "collapsed": false
   },
   "outputs": [
    {
     "data": {
      "text/plain": [
       "'MYRLAND,    JOHN S'"
      ]
     },
     "execution_count": 118,
     "metadata": {},
     "output_type": "execute_result"
    }
   ],
   "source": [
    "s.strip()"
   ]
  },
  {
   "cell_type": "code",
   "execution_count": 123,
   "metadata": {
    "collapsed": false
   },
   "outputs": [
    {
     "data": {
      "text/plain": [
       "'MYRLAND, JOHN S'"
      ]
     },
     "execution_count": 123,
     "metadata": {},
     "output_type": "execute_result"
    }
   ],
   "source": [
    "re.sub(r'\\s+',' ',s).strip()"
   ]
  },
  {
   "cell_type": "code",
   "execution_count": 136,
   "metadata": {
    "collapsed": false
   },
   "outputs": [
    {
     "name": "stdout",
     "output_type": "stream",
     "text": [
      "_GRIFFIN, J TIMOTHY_\n"
     ]
    },
    {
     "data": {
      "text/plain": [
       "('GRIFFIN', 'J', 'TIMOTHY')"
      ]
     },
     "execution_count": 136,
     "metadata": {},
     "output_type": "execute_result"
    }
   ],
   "source": [
    "splitname('GRIFFIN, J TIMOTHY')\n"
   ]
  },
  {
   "cell_type": "code",
   "execution_count": 201,
   "metadata": {
    "collapsed": false
   },
   "outputs": [
    {
     "data": {
      "text/plain": [
       "'asdfasd'"
      ]
     },
     "execution_count": 201,
     "metadata": {},
     "output_type": "execute_result"
    }
   ],
   "source": [
    "a='asdfasd'\n",
    "a.encode('ASCII')"
   ]
  },
  {
   "cell_type": "code",
   "execution_count": 217,
   "metadata": {
    "collapsed": false
   },
   "outputs": [],
   "source": [
    "name_junk= ['Ms','Miss','Mrs','Mr','Master','Rev' ,'Fr' ,'Dr' ,'Atty' ,'Prof' \\\n",
    "            ,'Hon' ,'Pres','Gov' ,'Coach','Ofc' ,'Msgr' ,'Sr' ,'Br' ,'Supt','Rep' \\\n",
    "            ,'Sen' ,'Amb' ,'Treas','Sec' ,'Pvt' ,'Cpl' ,'Sgt' ,'Adm' ,'Maj' ,'Capt' \\\n",
    "            ,'Cmdr' ,'Lt' ,'Col' ,'Gen','esq','esquire','jr','jnr','sr','snr',\\\n",
    "            'ii','iii','iv']\n",
    "\n",
    "regex = re.compile('|'.join([r'(\\b%s\\b)'.encode('ASCII') % s.upper() for s in name_junk]))"
   ]
  },
  {
   "cell_type": "code",
   "execution_count": 219,
   "metadata": {
    "collapsed": false
   },
   "outputs": [
    {
     "data": {
      "text/plain": [
       "'GRIFFIN, J TIMOTHY'"
      ]
     },
     "execution_count": 219,
     "metadata": {},
     "output_type": "execute_result"
    }
   ],
   "source": [
    "re.sub(regex,'','GRIFFIN, J TIMOTHY')"
   ]
  },
  {
   "cell_type": "code",
   "execution_count": 222,
   "metadata": {
    "collapsed": false
   },
   "outputs": [
    {
     "data": {
      "text/plain": [
       "'GRIFFIN, J TIMOTHY  '"
      ]
     },
     "execution_count": 222,
     "metadata": {},
     "output_type": "execute_result"
    }
   ],
   "source": [
    "regex.sub('','GRIFFIN, J TIMOTHY JR MR')"
   ]
  },
  {
   "cell_type": "code",
   "execution_count": 187,
   "metadata": {
    "collapsed": false
   },
   "outputs": [
    {
     "data": {
      "text/plain": [
       "\"\\nPieces that come at the end of the name but are not last names. These potentially\\nconflict with initials that might be at the end of the name.\\nThese may be updated in the future because some of them are actually titles that just\\ncome at the end of the name, so semantically this is wrong. Positionally, it's correct.\\n\""
      ]
     },
     "execution_count": 187,
     "metadata": {},
     "output_type": "execute_result"
    }
   ],
   "source": [
    "# From nameparser package\n",
    "SUFFIX_NOT_ACRONYMS = set([\n",
    "    'esq',\n",
    "    'esquire',\n",
    "    'jr',\n",
    "    'jnr',\n",
    "    'sr',\n",
    "    'snr',\n",
    "    '2',\n",
    "    'i',\n",
    "    'ii',\n",
    "    'iii',\n",
    "    'iv',\n",
    "    'v',\n",
    "])\n",
    "SUFFIX_ACRONYMS = set([\n",
    "    'ae',\n",
    "    'afc',\n",
    "    'afm',\n",
    "    'arrc',\n",
    "    'bart',\n",
    "    'bem',\n",
    "    'bt',\n",
    "    'cb',\n",
    "    'cbe',\n",
    "    'cfp',\n",
    "    'cgc',\n",
    "    'cgm',\n",
    "    'ch',\n",
    "    'chfc',\n",
    "    'cie',\n",
    "    'clu',\n",
    "    'cmg',\n",
    "    'cpa',\n",
    "    'cpm',\n",
    "    'csi',\n",
    "    'csm',\n",
    "    'cvo',\n",
    "    'dbe',\n",
    "    'dcb',\n",
    "    'dcm',\n",
    "    'dcmg',\n",
    "    'dcvo',\n",
    "    'dds',\n",
    "    'dfc',\n",
    "    'dfm',\n",
    "    'dmd',\n",
    "    'do',\n",
    "    'dpm',\n",
    "    'dsc',\n",
    "    'dsm',\n",
    "    'dso',\n",
    "    'dvm',\n",
    "    'ed',\n",
    "    'erd',\n",
    "    'gbe',\n",
    "    'gc',\n",
    "    'gcb',\n",
    "    'gcie',\n",
    "    'gcmg',\n",
    "    'gcsi',\n",
    "    'gcvo',\n",
    "    'gm',\n",
    "    'idsm',\n",
    "    'iom',\n",
    "    'iso',\n",
    "    'kbe',\n",
    "    'kcb',\n",
    "    'kcie',\n",
    "    'kcmg',\n",
    "    'kcsi',\n",
    "    'kcvo',\n",
    "    'kg',\n",
    "    'kp',\n",
    "    'kt',\n",
    "    'lg',\n",
    "    'lt',\n",
    "    'lvo',\n",
    "    'ma',\n",
    "    'mba',\n",
    "    'mbe',\n",
    "    'mc',\n",
    "    'md',\n",
    "    'mm',\n",
    "    'mp',\n",
    "    'msm',\n",
    "    'mvo',\n",
    "    'obe',\n",
    "    'obi',\n",
    "    'om',\n",
    "    'phd',\n",
    "    'phr',\n",
    "    'pmp',\n",
    "    'qam',\n",
    "    'qc',\n",
    "    'qfsm',\n",
    "    'qgm',\n",
    "    'qpm',\n",
    "    'rd',\n",
    "    'rrc',\n",
    "    'rvm',\n",
    "    'sgm',\n",
    "    'td',\n",
    "    'ud',\n",
    "    'vc',\n",
    "    'vd',\n",
    "    'vrd',\n",
    "])\n",
    "SUFFIXES = SUFFIX_ACRONYMS | SUFFIX_NOT_ACRONYMS\n",
    "\n",
    "'''\n",
    "Pieces that come at the end of the name but are not last names. These potentially\n",
    "conflict with initials that might be at the end of the name.\n",
    "These may be updated in the future because some of them are actually titles that just\n",
    "come at the end of the name, so semantically this is wrong. Positionally, it's correct.\n",
    "'''"
   ]
  },
  {
   "cell_type": "code",
   "execution_count": 188,
   "metadata": {
    "collapsed": false
   },
   "outputs": [
    {
     "data": {
      "text/plain": [
       "{'2',\n",
       " 'ae',\n",
       " 'afc',\n",
       " 'afm',\n",
       " 'arrc',\n",
       " 'bart',\n",
       " 'bem',\n",
       " 'bt',\n",
       " 'cb',\n",
       " 'cbe',\n",
       " 'cfp',\n",
       " 'cgc',\n",
       " 'cgm',\n",
       " 'ch',\n",
       " 'chfc',\n",
       " 'cie',\n",
       " 'clu',\n",
       " 'cmg',\n",
       " 'cpa',\n",
       " 'cpm',\n",
       " 'csi',\n",
       " 'csm',\n",
       " 'cvo',\n",
       " 'dbe',\n",
       " 'dcb',\n",
       " 'dcm',\n",
       " 'dcmg',\n",
       " 'dcvo',\n",
       " 'dds',\n",
       " 'dfc',\n",
       " 'dfm',\n",
       " 'dmd',\n",
       " 'do',\n",
       " 'dpm',\n",
       " 'dsc',\n",
       " 'dsm',\n",
       " 'dso',\n",
       " 'dvm',\n",
       " 'ed',\n",
       " 'erd',\n",
       " 'esq',\n",
       " 'esquire',\n",
       " 'gbe',\n",
       " 'gc',\n",
       " 'gcb',\n",
       " 'gcie',\n",
       " 'gcmg',\n",
       " 'gcsi',\n",
       " 'gcvo',\n",
       " 'gm',\n",
       " 'i',\n",
       " 'idsm',\n",
       " 'ii',\n",
       " 'iii',\n",
       " 'iom',\n",
       " 'iso',\n",
       " 'iv',\n",
       " 'jnr',\n",
       " 'jr',\n",
       " 'kbe',\n",
       " 'kcb',\n",
       " 'kcie',\n",
       " 'kcmg',\n",
       " 'kcsi',\n",
       " 'kcvo',\n",
       " 'kg',\n",
       " 'kp',\n",
       " 'kt',\n",
       " 'lg',\n",
       " 'lt',\n",
       " 'lvo',\n",
       " 'ma',\n",
       " 'mba',\n",
       " 'mbe',\n",
       " 'mc',\n",
       " 'md',\n",
       " 'mm',\n",
       " 'mp',\n",
       " 'msm',\n",
       " 'mvo',\n",
       " 'obe',\n",
       " 'obi',\n",
       " 'om',\n",
       " 'phd',\n",
       " 'phr',\n",
       " 'pmp',\n",
       " 'qam',\n",
       " 'qc',\n",
       " 'qfsm',\n",
       " 'qgm',\n",
       " 'qpm',\n",
       " 'rd',\n",
       " 'rrc',\n",
       " 'rvm',\n",
       " 'sgm',\n",
       " 'snr',\n",
       " 'sr',\n",
       " 'td',\n",
       " 'ud',\n",
       " 'v',\n",
       " 'vc',\n",
       " 'vd',\n",
       " 'vrd'}"
      ]
     },
     "execution_count": 188,
     "metadata": {},
     "output_type": "execute_result"
    }
   ],
   "source": [
    "SUFFIXES"
   ]
  }
 ],
 "metadata": {
  "kernelspec": {
   "display_name": "Python 2",
   "language": "python",
   "name": "python2"
  },
  "language_info": {
   "codemirror_mode": {
    "name": "ipython",
    "version": 2
   },
   "file_extension": ".py",
   "mimetype": "text/x-python",
   "name": "python",
   "nbconvert_exporter": "python",
   "pygments_lexer": "ipython2",
   "version": "2.7.3"
  }
 },
 "nbformat": 4,
 "nbformat_minor": 0
}

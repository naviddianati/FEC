{
 "cells": [
  {
   "cell_type": "code",
   "execution_count": null,
   "metadata": {
    "collapsed": false
   },
   "outputs": [],
   "source": [
    "import networks as nt\n",
    "import igraph as ig\n",
    "import matplotlib.pyplot as plt\n",
    "from disambiguation import config"
   ]
  },
  {
   "cell_type": "markdown",
   "metadata": {},
   "source": [
    "## How expensive is edge deletion? Answer: VERY EXPENSIVE"
   ]
  },
  {
   "cell_type": "code",
   "execution_count": 1005,
   "metadata": {
    "collapsed": false
   },
   "outputs": [],
   "source": [
    "n_v = int(1e6)\n",
    "n_e = int(1e6)\n",
    "g = ig.Graph.Erdos_Renyi(n_v, m = n_e)"
   ]
  },
  {
   "cell_type": "code",
   "execution_count": 1003,
   "metadata": {
    "collapsed": false
   },
   "outputs": [
    {
     "name": "stdout",
     "output_type": "stream",
     "text": [
      "elapsed time:  2.47419595718\n"
     ]
    },
    {
     "data": {
      "text/plain": [
       "2.474195957183838"
      ]
     },
     "execution_count": 1003,
     "metadata": {},
     "output_type": "execute_result"
    }
   ],
   "source": [
    "nt.tic()\n",
    "for i in range(10):\n",
    "    g.delete_edges([g.es[0]])\n",
    "nt.toc()"
   ]
  },
  {
   "cell_type": "code",
   "execution_count": null,
   "metadata": {
    "collapsed": true
   },
   "outputs": [],
   "source": []
  },
  {
   "cell_type": "code",
   "execution_count": null,
   "metadata": {
    "collapsed": true
   },
   "outputs": [],
   "source": []
  },
  {
   "cell_type": "markdown",
   "metadata": {},
   "source": [
    "# Load the S2 Idetnity pairs graph "
   ]
  },
  {
   "cell_type": "code",
   "execution_count": 1067,
   "metadata": {
    "collapsed": true
   },
   "outputs": [],
   "source": [
    "#### state = 'USA'\n",
    "\n",
    "# Desired number of partitions\n",
    "num_partitions = 200\n",
    "\n",
    "\n",
    "candidate_S1_identity_pairs_file = config.candidate_S1_identity_pairs_file_template % state\n",
    "with open(candidate_S1_identity_pairs_file) as f:\n",
    "    list_of_edges = [tuple(line.strip().split(' ')) for line in f]\n",
    "g_fec = ig.Graph.TupleList(list_of_edges)"
   ]
  },
  {
   "cell_type": "code",
   "execution_count": null,
   "metadata": {
    "collapsed": true
   },
   "outputs": [],
   "source": [
    "print asdfasdf"
   ]
  },
  {
   "cell_type": "code",
   "execution_count": null,
   "metadata": {
    "collapsed": true
   },
   "outputs": [],
   "source": [
    "\n",
    "# g_fec = ig.Graph.TupleList(list_of_edges, vertex_name_attr='name')\n",
    "g_fec = ig.Graph.TupleList(list_of_edges)\n",
    "# sorted(components.sizes(), reverse = True)\n",
    "print g_fec.vcount()\n",
    "print g_fec.ecount()\n",
    "# print g_fec.vs['name']\n",
    "print [type(x) for edge in list_of_edges for x in edge]\n",
    "print [type(v['name']) for v in g_fec.vs]"
   ]
  },
  {
   "cell_type": "code",
   "execution_count": 1019,
   "metadata": {
    "collapsed": false
   },
   "outputs": [
    {
     "data": {
      "text/plain": [
       "igraph.Vertex(<igraph.Graph object at 0x1df447ed8>,0,{'seed': True, 'name': 'MI-27900', 'degree': 0})"
      ]
     },
     "execution_count": 1019,
     "metadata": {},
     "output_type": "execute_result"
    }
   ],
   "source": []
  },
  {
   "cell_type": "markdown",
   "metadata": {},
   "source": [
    "#  New approach"
   ]
  },
  {
   "cell_type": "code",
   "execution_count": 1068,
   "metadata": {
    "collapsed": false,
    "scrolled": false
   },
   "outputs": [],
   "source": [
    "import Partitioner"
   ]
  },
  {
   "cell_type": "code",
   "execution_count": null,
   "metadata": {
    "collapsed": false,
    "scrolled": true
   },
   "outputs": [
    {
     "name": "stdout",
     "output_type": "stream",
     "text": [
      "4217522 11479039\n",
      "number of edges per partition:  57395\n",
      "iteration  0\n",
      "gg.ecount():  11421644\n",
      "iteration  1\n",
      "gg.ecount():  11364243\n",
      "iteration  2\n",
      "gg.ecount():  11306847\n",
      "iteration  3\n",
      "gg.ecount():  11249449\n",
      "iteration  4\n",
      "gg.ecount():  11192052\n",
      "iteration  5\n",
      "gg.ecount():  11134657\n",
      "iteration  6\n",
      "gg.ecount():  11077255\n",
      "iteration  7\n",
      "gg.ecount():  11019854\n",
      "iteration  8\n",
      "gg.ecount():  10962457\n",
      "iteration  9\n",
      "gg.ecount():  10905060\n",
      "iteration  10\n",
      "gg.ecount():  10847656\n",
      "iteration  11\n",
      "gg.ecount():  10790261\n",
      "iteration  12\n",
      "gg.ecount():  10732858\n",
      "iteration  13\n",
      "gg.ecount():  10675462\n",
      "iteration  14\n",
      "gg.ecount():  10618064\n",
      "iteration  15\n",
      "gg.ecount():  10560667\n",
      "iteration  16\n",
      "gg.ecount():  10503270\n",
      "iteration  17\n",
      "gg.ecount():  10445874\n",
      "iteration  18\n",
      "gg.ecount():  10388475\n",
      "iteration  19\n",
      "gg.ecount():  10331080\n",
      "iteration  20\n",
      "gg.ecount():  10273684\n",
      "iteration  21\n",
      "gg.ecount():  10216289\n",
      "iteration  22\n",
      "gg.ecount():  10158887\n",
      "iteration  23\n",
      "gg.ecount():  10101492\n",
      "iteration  24\n",
      "gg.ecount():  10044091\n",
      "iteration  25\n",
      "gg.ecount():  9986696\n",
      "iteration  26\n",
      "gg.ecount():  9929297\n",
      "iteration  27\n",
      "gg.ecount():  9871902\n",
      "iteration  28\n",
      "gg.ecount():  9814507\n",
      "iteration  29\n",
      "gg.ecount():  9757097\n",
      "iteration  30\n",
      "gg.ecount():  9699699\n",
      "iteration  31\n",
      "gg.ecount():  9642297\n",
      "iteration  32\n",
      "gg.ecount():  9584900\n",
      "iteration  33\n",
      "gg.ecount():  9527505\n",
      "iteration  34\n",
      "gg.ecount():  9470109\n",
      "iteration  35\n",
      "gg.ecount():  9412713\n",
      "iteration  36\n",
      "gg.ecount():  9355316\n",
      "iteration  37\n",
      "gg.ecount():  9297912\n",
      "iteration  38\n",
      "gg.ecount():  9240516\n",
      "iteration  39\n",
      "gg.ecount():  9183120\n",
      "iteration  40\n",
      "gg.ecount():  9125723\n",
      "iteration  41\n",
      "gg.ecount():  9068323\n",
      "iteration  42\n",
      "gg.ecount():  9010926\n",
      "iteration  43\n",
      "gg.ecount():  8953526\n",
      "iteration  44\n",
      "gg.ecount():  8896131\n",
      "iteration  45\n",
      "gg.ecount():  8838736\n",
      "iteration  46\n",
      "gg.ecount():  8781314\n",
      "iteration  47\n",
      "gg.ecount():  8723918\n",
      "iteration  48\n",
      "gg.ecount():  8666523\n",
      "iteration  49\n",
      "gg.ecount():  8609122\n",
      "iteration  50\n",
      "gg.ecount():  8551724\n",
      "iteration  51\n",
      "gg.ecount(): "
     ]
    }
   ],
   "source": [
    "# g = ig.Graph.Erdos_Renyi(4000,m = 10000)\n",
    "# g = nt.get_graph_with_community([400]*10, 0.003)\n",
    "# g = g.simplify()\n",
    "g = g_fec\n",
    "# print g.components().sizes()\n",
    "# g = nt.get_graph_with_community([100,100])\n",
    "print g.vcount(), g.ecount()\n",
    "# print len([v for v in g.vs if v.degree() > 0 ])\n",
    "\n",
    "nt.tic()\n",
    "partitioner = Partitioner.Partitioner(g, num_partitions = 200)\n",
    "# partitioner.backup_g()\n",
    "partitioner.partition()\n",
    "nt.toc()\n",
    "\n",
    "partitioner.print_stats()"
   ]
  },
  {
   "cell_type": "code",
   "execution_count": 1071,
   "metadata": {
    "collapsed": false
   },
   "outputs": [
    {
     "data": {
      "text/plain": [
       "285761"
      ]
     },
     "execution_count": 1071,
     "metadata": {},
     "output_type": "execute_result"
    }
   ],
   "source": [
    "partitioner.g.ecount()"
   ]
  },
  {
   "cell_type": "code",
   "execution_count": 1013,
   "metadata": {
    "collapsed": false
   },
   "outputs": [
    {
     "name": "stdout",
     "output_type": "stream",
     "text": [
      "list of all partition node counts:  [100302, 100005, 99624, 99476, 99329, 99002, 98938, 98406, 98009, 97262, 97539, 96983, 97149, 96674, 96790, 96556, 96542, 96144, 96025, 95531, 95463, 95243, 95192, 94027, 95034, 93984, 94195, 94597, 94089, 93381, 93262, 93147, 92714, 93090, 92678, 91925, 91802, 91550, 91997, 91056, 89671, 90434, 91044, 89544, 89960, 90251, 90214, 88676, 89553, 89312, 87843, 87606, 87852, 87694, 87354, 85964, 87144, 86886, 86972, 86506, 85599, 85883, 84942, 84999, 84069, 84764, 82133, 83327, 83079, 83045, 82541, 80294, 81266, 80760, 80465, 80246, 78851, 78798, 78191, 77510, 77401, 75509, 76298, 75195, 74829, 74119, 73219, 72868, 71735, 70940, 70542, 70391, 70176, 65616, 71613, 73883, 78419, 93446, 184261, 183311]\n",
      "Total number of nodes in all partitions:  8939725\n",
      "Total number of unique nodes in all partitions:  4217522\n",
      "list of all partition edge counts: [114791, 114791, 114790, 114795, 114790, 114790, 114791, 114793, 114793, 114794, 114791, 114791, 114790, 114790, 114792, 114792, 114792, 114795, 114791, 114790, 114795, 114795, 114790, 114793, 114792, 114790, 114795, 114790, 114802, 114821, 114791, 114791, 114791, 114791, 114790, 114803, 114797, 114793, 114797, 114791, 114792, 114799, 114795, 114803, 114790, 114792, 114798, 114792, 114790, 114798, 114792, 114790, 114793, 114791, 114792, 114795, 114799, 114803, 114790, 114792, 114790, 114790, 114794, 114794, 114790, 114796, 114790, 114793, 114802, 114792, 114792, 114791, 114794, 114791, 114790, 114791, 114792, 114812, 114790, 114792, 114813, 114798, 114793, 114791, 114790, 114790, 114795, 114839, 114791, 114811, 114806, 114792, 114907, 114821, 114790, 114796, 114790, 114791, 114526, 114527]\n",
      "Total number of edges in all partitions:  11479039\n",
      "Total number of unique edges in all partitions:  11479039\n"
     ]
    }
   ],
   "source": [
    "partitioner.print_stats()"
   ]
  },
  {
   "cell_type": "code",
   "execution_count": 1014,
   "metadata": {
    "collapsed": false
   },
   "outputs": [
    {
     "name": "stdout",
     "output_type": "stream",
     "text": [
      "4217522\n",
      "11479039\n"
     ]
    }
   ],
   "source": [
    "print partitioner.g_backup.vcount()\n",
    "print partitioner.g_backup.ecount()"
   ]
  },
  {
   "cell_type": "code",
   "execution_count": 995,
   "metadata": {
    "collapsed": false
   },
   "outputs": [],
   "source": [
    "partitioner.plot_g('test-original.png')\n",
    "partitioner.plot('test-partition.png')"
   ]
  },
  {
   "cell_type": "markdown",
   "metadata": {},
   "source": [
    "#Test an artificial network"
   ]
  },
  {
   "cell_type": "code",
   "execution_count": 528,
   "metadata": {
    "collapsed": false
   },
   "outputs": [],
   "source": [
    "g = nt.get_graph_with_community([400,500,500, 500])"
   ]
  },
  {
   "cell_type": "code",
   "execution_count": 10,
   "metadata": {
    "collapsed": false
   },
   "outputs": [],
   "source": [
    "g = ig.Graph.Erdos_Renyi(1000,m = 800)"
   ]
  },
  {
   "cell_type": "code",
   "execution_count": 11,
   "metadata": {
    "collapsed": false
   },
   "outputs": [
    {
     "name": "stdout",
     "output_type": "stream",
     "text": [
      "1000\n",
      "800\n"
     ]
    }
   ],
   "source": [
    "print g.vcount()\n",
    "print g.ecount()"
   ]
  },
  {
   "cell_type": "code",
   "execution_count": 12,
   "metadata": {
    "collapsed": false
   },
   "outputs": [],
   "source": [
    "dict_neighbors = {v.index:[u.index for u in v.neighbors()]for v in g.vs}"
   ]
  },
  {
   "cell_type": "code",
   "execution_count": 13,
   "metadata": {
    "collapsed": true
   },
   "outputs": [],
   "source": [
    "import random\n",
    "class Walker():\n",
    "    def __init__(self, start, dict_neighbors, wid):\n",
    "        pass\n",
    "        self.position = start\n",
    "        self.dict_neighbors = dict_neighbors\n",
    "        \n",
    "        # Last visited position where another walker\n",
    "        # had also visited at some point\n",
    "        self.last_meeting = start\n",
    "        \n",
    "        # Walker id\n",
    "        self.wid = wid\n",
    "        \n",
    "        self.wander_length = 0\n",
    "        \n",
    "        # list of nodes visited during the last wander\n",
    "        self.list_last_wander_nodes = []\n",
    "        \n",
    "        \n",
    "    def reset(self, dict_visited):\n",
    "        self.position = self.last_meeting\n",
    "        for node in self.list_last_wander_nodes:\n",
    "            try:\n",
    "                dict_visited[node].remove(self.wid)\n",
    "            except:\n",
    "                pass\n",
    "        self.list_last_wander_nodes = []\n",
    "    \n",
    "    def anchor(self):\n",
    "        ''' Record current position as lates meeting\n",
    "        point.'''\n",
    "        self.last_meeting = self.position\n",
    "        self.wander_lenght = 0\n",
    "        self.list_last_wander_nodes = []\n",
    "    \n",
    "    def wander(self):\n",
    "        '''One more step has been taken into uncharted\n",
    "        territory, i.e, to nodes not visited by anyone else'''\n",
    "        self.wander_length += 1\n",
    "        self.list_last_wander_nodes.append(self.position)\n",
    "        \n",
    "    \n",
    "    def step(self):\n",
    "        neighbors = self.dict_neighbors[self.position]\n",
    "        next_position = random.choice(neighbors)\n",
    "        self.position = next_position\n",
    "\n",
    "        \n",
    "        "
   ]
  },
  {
   "cell_type": "code",
   "execution_count": 14,
   "metadata": {
    "collapsed": false
   },
   "outputs": [],
   "source": [
    "num_walkers = 200\n",
    "max_wander_length = 10\n",
    "max_steps = 10000\n",
    "\n",
    "vcount = len(dict_neighbors)\n",
    "\n",
    "# maps node id to list of flags of which walker has visited\n",
    "dict_visited = {node_id: set() for node_id in dict_neighbors}\n",
    "\n",
    "# Initial position\n",
    "node_init = random.choice(dict_neighbors.keys())\n",
    "\n",
    "list_walkers = [Walker(node_init, dict_neighbors, wid = i) for i in xrange(num_walkers)]\n",
    "\n",
    "dict_visited[node_init] = set([w.wid for w in list_walkers])\n",
    "\n",
    "\n",
    "set_approved = set()\n",
    "\n",
    "list_sizes = []\n",
    "\n",
    "counter = 0\n",
    "while counter < max_steps:\n",
    "    counter += 1\n",
    "    for walker_id, walker in enumerate(list_walkers):\n",
    "        walker.step()\n",
    "        dict_visited[walker.position].add(walker.wid)\n",
    "        if len(dict_visited[walker.position]) > 2 : \n",
    "            set_approved.add(walker.position)\n",
    "            walker.anchor()\n",
    "        else:\n",
    "            walker.wander()\n",
    "    for walker_id, walker in enumerate(list_walkers):\n",
    "        if walker.wander_length > max_wander_length:\n",
    "            walker.reset(dict_visited)\n",
    "    \n",
    "    n = len(set_approved)\n",
    "    list_sizes.append(n)\n",
    "    if n > vcount / 2.:\n",
    "        break\n",
    "        \n",
    "        "
   ]
  },
  {
   "cell_type": "code",
   "execution_count": 207,
   "metadata": {
    "collapsed": false
   },
   "outputs": [],
   "source": []
  },
  {
   "cell_type": "code",
   "execution_count": 203,
   "metadata": {
    "collapsed": false
   },
   "outputs": [
    {
     "name": "stdout",
     "output_type": "stream",
     "text": [
      "1270\n",
      "1270\n"
     ]
    }
   ],
   "source": [
    "import networks as nt\n",
    "g = ig.Graph.Erdos_Renyi(2000,m = 1600)\n",
    "# g = nt.get_graph_with_community()\n",
    "components = g.components()\n",
    "gg = components.giant()\n",
    "\n",
    "print gg.vcount()\n",
    "degrees = gg.degree()\n",
    "print len(degrees)\n",
    "\n",
    "\n",
    "# graph_partition_connected(g, 20)\n",
    "mylayout = gg.layout_fruchterman_reingold()\n",
    "animator = nt.Animation2d(gg)\n",
    "animator.set_layout(mylayout)\n",
    "animator.palette = None\n",
    "# animator.set_palette()\n"
   ]
  },
  {
   "cell_type": "markdown",
   "metadata": {},
   "source": [
    "# Test the efficiency of the naive partitioning "
   ]
  },
  {
   "cell_type": "markdown",
   "metadata": {},
   "source": [
    "### count the number of unique identities found in each of the S1 candidate pair files and output the total number of all the partitions. "
   ]
  },
  {
   "cell_type": "code",
   "execution_count": 1018,
   "metadata": {
    "collapsed": false
   },
   "outputs": [
    {
     "name": "stdout",
     "output_type": "stream",
     "text": [
      "Number of identities that will have to be loaded:  22655055\n"
     ]
    }
   ],
   "source": [
    "\n",
    "counter = 0\n",
    "for i in range(2400):\n",
    "    filename = config.candidate_S1_identity_pairs_partitioned_file_template %( 'USA', i)\n",
    "    set_identities = set()\n",
    "    with open(filename) as f:\n",
    "#         print i\n",
    "        list_of_edges = [tuple(line.strip().split(' ')) for line in f]\n",
    "        list_identities = [x for pair in list_of_edges for x in pair]\n",
    "        set_identities.update(set(list_identities))\n",
    "        counter += len(set_identities)\n",
    "print 'Number of identities that will have to be loaded: ', counter\n",
    "        "
   ]
  },
  {
   "cell_type": "code",
   "execution_count": 1016,
   "metadata": {
    "collapsed": false
   },
   "outputs": [
    {
     "data": {
      "text/plain": [
       "'/nfs/home/navid/data/FEC-v5/candidate_pairs/%s-candidate_S1_identity_pairs_partition-%d.txt'"
      ]
     },
     "execution_count": 1016,
     "metadata": {},
     "output_type": "execute_result"
    }
   ],
   "source": [
    "config.candidate_S1_identity_pairs_partitioned_file_template"
   ]
  }
 ],
 "metadata": {
  "kernelspec": {
   "display_name": "Python 2",
   "language": "python",
   "name": "python2"
  },
  "language_info": {
   "codemirror_mode": {
    "name": "ipython",
    "version": 2
   },
   "file_extension": ".py",
   "mimetype": "text/x-python",
   "name": "python",
   "nbconvert_exporter": "python",
   "pygments_lexer": "ipython2",
   "version": "2.7.3"
  }
 },
 "nbformat": 4,
 "nbformat_minor": 0
}

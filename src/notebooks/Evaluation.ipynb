{
 "cells": [
  {
   "cell_type": "code",
   "execution_count": 4,
   "metadata": {
    "collapsed": false
   },
   "outputs": [],
   "source": [
    "from disambiguation.core import Database\n",
    "from cPickle import load"
   ]
  },
  {
   "cell_type": "markdown",
   "metadata": {},
   "source": [
    "# Identity Manager, initialize"
   ]
  },
  {
   "cell_type": "code",
   "execution_count": 5,
   "metadata": {
    "collapsed": false
   },
   "outputs": [
    {
     "name": "stdout",
     "output_type": "stream",
     "text": [
      "Table 'identities' exists.\n",
      "Table 'identities_adjacency' exists.\n",
      "select id,identity from identities;\n",
      "select id,identity from identities;\n",
      "SELECT identity1,identity2, no,maybe,yes from identities_adjacency;\n"
     ]
    }
   ],
   "source": [
    "idm = Database.IdentityManager(\"USA\")\n",
    "idm.fetch_dict_id_2_identity()\n",
    "idm.fetch_dict_identity_2_id()\n",
    "idm.fetch_dict_identity_adjacency()"
   ]
  },
  {
   "cell_type": "markdown",
   "metadata": {},
   "source": [
    "# Retrieve list of records "
   ]
  },
  {
   "cell_type": "code",
   "execution_count": 3,
   "metadata": {
    "collapsed": false
   },
   "outputs": [
    {
     "name": "stdout",
     "output_type": "stream",
     "text": [
      "select NAME,CONTRIBUTOR_ZIP,ZIP_CODE,CONTRIBUTOR_STREET_1,CITY,STATE,EMPLOYER,OCCUPATION,TRANSACTION_DT,TRANSACTION_AMT,CMTE_ID,ENTITY_TP,id from usa_combined;\n"
     ]
    }
   ],
   "source": [
    "retriever = Database.FecRetriever(\"usa_combined\")\n",
    "retriever.retrieve()"
   ]
  },
  {
   "cell_type": "code",
   "execution_count": 3,
   "metadata": {
    "collapsed": false
   },
   "outputs": [
    {
     "data": {
      "text/plain": [
       "[((u'CO-16379', u'NV-6962'), (0.0, 1.0, 0.0)),\n",
       " ((u'FL-235199', u'FL-235200'), (0.0, 8.0, 0.0)),\n",
       " ((u'PA-128637', u'PA-128644'), (0.0, 2.0, 0.0)),\n",
       " ((u'CA-98848', u'FL-49705'), (0.0, 8.0, 0.0)),\n",
       " ((u'CA-476300', u'CA-476560'), (0.0, 19.0, 0.0)),\n",
       " ((u'CA-277318', u'VT-5434'), (0.0, 16.0, 0.0)),\n",
       " ((u'PA-122859', u'TX-132598'), (6.0, 0.0, 0.0)),\n",
       " ((u'CA-299943', u'PA-86352'), (0.0, 1.0, 0.0)),\n",
       " ((u'CA-397255', u'CT-56209'), (0.0, 0.0, 0.777778)),\n",
       " ((u'IL-129398', u'IN-41519'), (0.0, 2.0, 0.0)),\n",
       " ((u'TN-58895', u'TN-63907'), (0.0, 1.0, 0.0)),\n",
       " ((u'CO-1245', u'IN-924'), (0.0, 2.0, 0.0)),\n",
       " ((u'CA-150428', u'ME-5609'), (0.0, 1.0, 0.0)),\n",
       " ((u'FL-114754', u'GA-50415'), (0.0, 8.0, 0.0)),\n",
       " ((u'MI-86528', u'NY-256654'), (0.0, 2.0, 0.0)),\n",
       " ((u'KY-16821', u'WA-85836'), (1.0, 0.0, 0.0)),\n",
       " ((u'TX-80036', u'TX-80123'), (0.0, 1.0, 0.0)),\n",
       " ((u'OK-16204', u'WA-41837'), (0.0, 21.0, 0.0)),\n",
       " ((u'IA-4511', u'PA-120904'), (1.0, 0.0, 0.0)),\n",
       " ((u'MA-84666', u'VA-93415'), (0.0, 1.0, 0.0)),\n",
       " ((u'AL-22600', u'CA-272985'), (0.0, 1.0, 0.0)),\n",
       " ((u'FL-24587', u'FL-24600'), (0.0, 0.0, 1.0)),\n",
       " ((u'MI-43386', u'MI-43431'), (0.0, 5.0, 0.0)),\n",
       " ((u'DC-45904', u'MD-76520'), (0.0, 0.0, 0.153846)),\n",
       " ((u'CA-310521', u'CA-310894'), (0.0, 2.0, 0.0)),\n",
       " ((u'FL-146501', u'NJ-74183'), (0.0, 2.0, 0.0)),\n",
       " ((u'NH-17747', u'TX-228092'), (0.0, 15.0, 0.0)),\n",
       " ((u'KY-592', u'KY-605'), (0.0, 1.0, 0.0)),\n",
       " ((u'KY-21556', u'OH-55431'), (0.0, 3.0, 0.0)),\n",
       " ((u'CA-463737', u'MO-59207'), (0.0, 3.0, 0.0)),\n",
       " ((u'AZ-68791', u'NJ-117146'), (0.0, 1.0, 0.0)),\n",
       " ((u'GA-49944', u'TX-123360'), (0.0, 3.0, 0.0)),\n",
       " ((u'FL-35080', u'FL-35086'), (0.0, 2.0, 0.0)),\n",
       " ((u'IL-23345', u'VA-21888'), (0.0, 3.0, 0.0)),\n",
       " ((u'CA-10528', u'OH-1918'), (0.0, 1.0, 0.0)),\n",
       " ((u'NH-16490', u'OH-88746'), (0.0, 2.0, 0.0)),\n",
       " ((u'CA-476342', u'FL-237612'), (0.0, 1.0, 0.0)),\n",
       " ((u'CA-106716', u'SC-9858'), (0.0, 4.0, 0.0)),\n",
       " ((u'MA-66166', u'MA-66168'), (0.0, 5.0, 1.0)),\n",
       " ((u'CO-62764', u'OH-88833'), (0.0, 19.0, 0.0)),\n",
       " ((u'OH-72502', u'PA-94970'), (0.0, 1.0, 0.0)),\n",
       " ((u'CO-64729', u'TX-220687'), (0.0, 2.0, 0.0)),\n",
       " ((u'FL-120070', u'MI-49610'), (0.0, 2.0, 0.0)),\n",
       " ((u'FL-42729', u'TX-46784'), (0.0, 1.0, 0.0)),\n",
       " ((u'AZ-60800', u'AZ-60806'), (0.0, 2.0, 0.0)),\n",
       " ((u'CA-161973', u'OK-11476'), (0.0, 2.0, 0.0)),\n",
       " ((u'MI-24523', u'MI-24524'), (0.0, 2.0, 0.0)),\n",
       " ((u'CA-345942', u'IL-110671'), (0.0, 5.0, 0.0)),\n",
       " ((u'CT-60128', u'FL-213778'), (0.0, 2.0, 0.0)),\n",
       " ((u'FL-24123', u'FL-24124'), (0.0, 0.0, 2.0)),\n",
       " ((u'CA-19559', u'TN-2294'), (0.0, 1.0, 0.0)),\n",
       " ((u'CA-211793', u'WA-39802'), (2.0, 3.0, 0.009852)),\n",
       " ((u'NC-19112', u'NC-19115'), (0.0, 13.0, 0.0)),\n",
       " ((u'NY-94921', u'OH-34035'), (0.0, 2.0, 0.0)),\n",
       " ((u'RI-5933', u'WA-40007'), (0.0, 1.0, 0.0)),\n",
       " ((u'CA-423068', u'CA-423069'), (0.0, 2.0, 0.0)),\n",
       " ((u'NH-2523', u'VA-6273'), (1.0, 0.0, 0.0)),\n",
       " ((u'GA-21896', u'MI-19617'), (0.0, 1.0, 0.0)),\n",
       " ((u'FL-16373', u'TX-17487'), (0.0, 1.0, 0.0)),\n",
       " ((u'FL-63204', u'MO-15630'), (0.0, 1.0, 0.0)),\n",
       " ((u'CA-66442', u'WA-12677'), (0.0, 2.0, 0.0)),\n",
       " ((u'DC-16543', u'VA-40689'), (0.0, 2.0, 0.0)),\n",
       " ((u'CA-439146', u'NC-81333'), (0.0, 2.0, 0.0)),\n",
       " ((u'CA-263768', u'VA-74776'), (0.0, 1.0, 0.0)),\n",
       " ((u'AZ-59233', u'CA-401967'), (0.0, 1.0, 0.0)),\n",
       " ((u'MA-66918', u'NY-157722'), (0.0, 0.0, 0.2)),\n",
       " ((u'CA-144353', u'CA-328268'), (0.0, 0.0, 0.666667)),\n",
       " ((u'FL-225844', u'LA-43926'), (0.0, 0.0, 0.029412)),\n",
       " ((u'CA-130819', u'CA-130822'), (0.0, 1.0, 0.0)),\n",
       " ((u'DC-54464', u'MA-116970'), (0.0, 6.0, 0.0)),\n",
       " ((u'CA-82512', u'MI-16449'), (0.0, 1.0, 0.0)),\n",
       " ((u'IL-116063', u'NY-216198'), (0.0, 4.0, 0.0)),\n",
       " ((u'NC-85430', u'SC-40362'), (0.0, 2.0, 0.0)),\n",
       " ((u'TX-46709', u'TX-46766'), (0.0, 8.0, 0.0)),\n",
       " ((u'AZ-39859', u'OH-59484'), (0.0, 0.0, 2.85714)),\n",
       " ((u'FL-166639', u'WI-31313'), (1.0, 0.0, 0.0)),\n",
       " ((u'AL-3110', u'CA-39398'), (0.0, 13.0, 0.0)),\n",
       " ((u'MT-6967', u'TX-126699'), (0.0, 25.0, 0.0)),\n",
       " ((u'CA-98212', u'FL-49512'), (0.0, 1.0, 0.0)),\n",
       " ((u'MN-39405', u'TX-158310'), (0.0, 2.0, 0.0)),\n",
       " ((u'KS-2442', u'OR-3311'), (0.0, 1.0, 0.0)),\n",
       " ((u'MA-109326', u'MA-109328'), (0.0, 1.0, 0.0)),\n",
       " ((u'NH-14379', u'TN-10952'), (1.0, 0.0, 0.0)),\n",
       " ((u'FL-64251', u'WI-11871'), (0.0, 8.0, 0.0)),\n",
       " ((u'CA-181674', u'MA-47970'), (0.0, 1.0, 0.0)),\n",
       " ((u'WV-648', u'WV-649'), (0.0, 1.0, 0.0)),\n",
       " ((u'PA-2291', u'TN-1225'), (0.0, 1.0, 0.0)),\n",
       " ((u'AZ-26100', u'CA-116326'), (1.0, 0.0, 0.0)),\n",
       " ((u'GA-90538', u'MO-34837'), (1.0, 0.0, 0.0)),\n",
       " ((u'CA-404010', u'TX-214106'), (0.0, 17.0, 0.0)),\n",
       " ((u'FL-98639', u'NJ-48911'), (0.0, 2.0, 0.0)),\n",
       " ((u'CA-294076', u'MD-57453'), (0.0, 1.0, 0.0)),\n",
       " ((u'GA-29126', u'NH-1846'), (1.0, 0.0, 0.0)),\n",
       " ((u'CA-37201', u'WI-3596'), (0.0, 1.0, 0.0)),\n",
       " ((u'CA-84293', u'OH-17922'), (0.0, 1.0, 0.0)),\n",
       " ((u'OH-69041', u'TN-42429'), (0.0, 1.0, 0.0)),\n",
       " ((u'CT-51952', u'NJ-93174'), (0.0, 1.0, 0.0)),\n",
       " ((u'MI-62838', u'MI-62841'), (0.0, 0.0, 62.3333)),\n",
       " ((u'NY-216375', u'WA-68571'), (0.0, 4.0, 0.0)),\n",
       " ((u'MN-30688', u'MN-30712'), (0.0, 35.0, 0.0))]"
      ]
     },
     "execution_count": 3,
     "metadata": {},
     "output_type": "execute_result"
    }
   ],
   "source": [
    "idm.dict_identity_adjacency.items()[:100]"
   ]
  },
  {
   "cell_type": "code",
   "execution_count": 18,
   "metadata": {
    "collapsed": false
   },
   "outputs": [],
   "source": [
    "idm.get_related_identities(\"IL-31398\")"
   ]
  },
  {
   "cell_type": "code",
   "execution_count": 23,
   "metadata": {
    "collapsed": false
   },
   "outputs": [
    {
     "data": {
      "text/plain": [
       "{u'WI-3596': (0.0, 1.0, 0.0)}"
      ]
     },
     "execution_count": 23,
     "metadata": {},
     "output_type": "execute_result"
    }
   ],
   "source": [
    "idm.dict_identity_2_identities['CA-37201']"
   ]
  },
  {
   "cell_type": "markdown",
   "metadata": {},
   "source": [
    "#Normalized USA Tokens "
   ]
  },
  {
   "cell_type": "code",
   "execution_count": 29,
   "metadata": {
    "collapsed": false
   },
   "outputs": [],
   "source": [
    "filename = config.tokendata_file_template % ('USA', 'Normalized')\n",
    "with open(filename) as f:\n",
    "    tokendata = load(f)"
   ]
  },
  {
   "cell_type": "code",
   "execution_count": 6,
   "metadata": {
    "collapsed": false
   },
   "outputs": [],
   "source": [
    "tokendata.token_counts.items()[:1000]"
   ]
  },
  {
   "cell_type": "code",
   "execution_count": 2,
   "metadata": {
    "collapsed": false
   },
   "outputs": [
    {
     "name": "stdout",
     "output_type": "stream",
     "text": [
      "set([1, 2])\n"
     ]
    }
   ],
   "source": [
    "a = set([1,2,3,4,5])\n",
    "b = set([3,4,5])\n",
    "a.difference_update(b)\n",
    "print a\n",
    "a.discard()"
   ]
  }
 ],
 "metadata": {
  "kernelspec": {
   "display_name": "Python 2",
   "language": "python",
   "name": "python2"
  },
  "language_info": {
   "codemirror_mode": {
    "name": "ipython",
    "version": 2
   },
   "file_extension": ".py",
   "mimetype": "text/x-python",
   "name": "python",
   "nbconvert_exporter": "python",
   "pygments_lexer": "ipython2",
   "version": "2.7.3"
  }
 },
 "nbformat": 4,
 "nbformat_minor": 0
}

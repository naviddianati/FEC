{
 "cells": [
  {
   "cell_type": "code",
   "execution_count": 1,
   "metadata": {
    "collapsed": false
   },
   "outputs": [],
   "source": [
    "from disambiguation.core import Database\n",
    "from cPickle import loadssh -N -f -L 9999:localhost:8888 navid@mobsremote"
   ]
  },
  {
   "cell_type": "markdown",
   "metadata": {},
   "source": [
    "# Identity Manager, initialize"
   ]
  },
  {
   "cell_type": "code",
   "execution_count": 2,
   "metadata": {
    "collapsed": false
   },
   "outputs": [
    {
     "name": "stdout",
     "output_type": "stream",
     "text": [
      "Table 'identities' exists.\n",
      "Table 'identities_adjacency' exists.\n",
      "select id,identity from identities;\n",
      "select id,identity from identities;\n",
      "SELECT identity1,identity2, no,maybe,yes from identities_adjacency;\n"
     ]
    }
   ],
   "source": [
    "idm = Database.IdentityManager(\"USA\")\n",
    "idm.fetch_dict_id_2_identity()\n",
    "idm.fetch_dict_identity_2_id()\n",
    "idm.fetch_dict_identity_adjacency()"
   ]
  },
  {
   "cell_type": "markdown",
   "metadata": {},
   "source": [
    "# Retrieve list of records "
   ]
  },
  {
   "cell_type": "code",
   "execution_count": 3,
   "metadata": {
    "collapsed": false
   },
   "outputs": [
    {
     "name": "stdout",
     "output_type": "stream",
     "text": [
      "select NAME,CONTRIBUTOR_ZIP,ZIP_CODE,CONTRIBUTOR_STREET_1,CITY,STATE,EMPLOYER,OCCUPATION,TRANSACTION_DT,TRANSACTION_AMT,CMTE_ID,ENTITY_TP,id from usa_combined;\n"
     ]
    }
   ],
   "source": [
    "retriever = Database.FecRetriever(\"usa_combined\")\n",
    "retriever.retrieve()"
   ]
  },
  {
   "cell_type": "code",
   "execution_count": 5,
   "metadata": {
    "collapsed": false
   },
   "outputs": [],
   "source": [
    "idm.dict_identity_adjacency.items()[:100]"
   ]
  },
  {
   "cell_type": "code",
   "execution_count": 25,
   "metadata": {
    "collapsed": false
   },
   "outputs": [],
   "source": [
    "idm.get_related_identities(\"GA-86427\")"
   ]
  },
  {
   "cell_type": "markdown",
   "metadata": {},
   "source": [
    "#Normalized USA Tokens "
   ]
  },
  {
   "cell_type": "code",
   "execution_count": 29,
   "metadata": {
    "collapsed": false
   },
   "outputs": [],
   "source": [
    "filename = config.tokendata_file_template % ('USA', 'Normalized')\n",
    "with open(filename) as f:\n",
    "    tokendata = load(f)"
   ]
  },
  {
   "cell_type": "code",
   "execution_count": 6,
   "metadata": {
    "collapsed": false
   },
   "outputs": [],
   "source": [
    "tokendata.token_counts.items()[:1000]"
   ]
  },
  {
   "cell_type": "code",
   "execution_count": 9,
   "metadata": {
    "collapsed": false
   },
   "outputs": [
    {
     "name": "stdout",
     "output_type": "stream",
     "text": [
      "1 1 [3, 4, 5, 6]\n",
      "2 1 [7, 5, 4, 9]\n"
     ]
    }
   ],
   "source": [
    "d = {1:(1,[3,4,5,6]), 2:(1,[7,5,4,9])}\n",
    "\n",
    "for x,(y,z) in d.iteritems():\n",
    "    print x,y,z"
   ]
  }
 ],
 "metadata": {
  "kernelspec": {
   "display_name": "Python 2",
   "language": "python",
   "name": "python2"
  },
  "language_info": {
   "codemirror_mode": {
    "name": "ipython",
    "version": 2
   },
   "file_extension": ".py",
   "mimetype": "text/x-python",
   "name": "python",
   "nbconvert_exporter": "python",
   "pygments_lexer": "ipython2",
   "version": "2.7.3"
  }
 },
 "nbformat": 4,
 "nbformat_minor": 0
}

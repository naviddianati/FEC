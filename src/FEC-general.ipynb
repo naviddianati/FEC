{
 "metadata": {
  "name": "",
  "signature": "sha256:fb6f2224d402d32a4e018f2d9e9a62aa90299b404da31210b6c497caba19f29c"
 },
 "nbformat": 3,
 "nbformat_minor": 0,
 "worksheets": [
  {
   "cells": [
    {
     "cell_type": "code",
     "collapsed": false,
     "input": [
      "from numpy import *\n",
      "import re\n",
      "from Database import DatabaseManager\n",
      "import pandas as pd\n",
      "\n",
      "# from pybrain.datasets import SupervisedDataSet\n",
      "# from pybrain.tools.shortcuts import buildNetwork\n",
      "# from pybrain.structure import TanhLayer,SoftmaxLayer\n",
      "# from pybrain.supervised.trainers import BackpropTrainer\n",
      "\n",
      "\n",
      "def get_likelihood(h):\n",
      "    N = len(h)\n",
      "    p = 1.0\n",
      "    for i in range(N-1):\n",
      "        p *= U[h[i],h[i+1]]\n",
      "    return p\n",
      "        \n",
      "\n",
      "def get_score(h):\n",
      "    N = float(len(h))\n",
      "    h = ''.join(h)\n",
      "    groups = re.findall(r'1+|0+',h)\n",
      "    score = prod([len(g)/N for g in groups])\n",
      "    return score\n",
      "\n",
      "\n",
      "def coinflip(p):\n",
      "    if random.random()<p:\n",
      "        return True\n",
      "    else:\n",
      "        return False\n",
      "\n",
      "    \n",
      "def flip_and_invert(s):\n",
      "    return ''.join([str(int(not(int(x)))) for x in s[::-1]])\n",
      " \n",
      "    \n",
      "def generate_sequence(N,output=True):\n",
      "    x = 0\n",
      "    s = str(x)\n",
      "    no_of_transitions = 0\n",
      "    no_trans = [0 for i in range(N)]\n",
      "    for i in range(N-1):\n",
      "        x_old = x\n",
      "        x = x if coinflip(T[x,x]) else int(not(x))\n",
      "        if x!=x_old: no_of_transitions += 1\n",
      "        s += str(x)\n",
      "    score1 = get_likelihood(s)\n",
      "    score2 = get_likelihood(flip_and_invert(s))\n",
      "    score = score1/get_likelihood(no_trans)\n",
      "    \n",
      "    #~ print s,'   ',flip_and_invert(s),'      ', no_of_transitions, \"  %f     %4.3f  %4.3f\" % (score,score1,score2)\n",
      "    if output: print s,'   ',flip_and_invert(s),'      ', no_of_transitions, \"  %f  %f\" % (score,get_score(s)*4.0) \n",
      "    return s,score\n",
      "\n",
      "\n",
      "def s_to_list(s):\n",
      "    return [int(x) for x in s]\n",
      "\n",
      "\n",
      "\n"
     ],
     "language": "python",
     "metadata": {},
     "outputs": [],
     "prompt_number": 1
    },
    {
     "cell_type": "code",
     "collapsed": false,
     "input": [
      "epsilon = 0.05\n",
      "p0 = 0.8\n",
      "p1 = 0.98\n",
      "T = array([[p0,1-p0],[1-p1,p1]])\n",
      "\n",
      "\n",
      "epsilon = 0.04\n",
      "p0 = 0.9\n",
      "p1 = 0.9\n",
      "U = array([[p0,1-p0],[epsilon,p1]])\n",
      "\n",
      "#~ print flip_and_invert([1,0,0,0,0,1,1])\n",
      "#~ quit()\n",
      "\n",
      "# Lenght of strings\n",
      "n = 20\n",
      "\n",
      "data = []\n",
      "\n",
      "for i in range(500):\n",
      "    s,score=generate_sequence(n,output=False)\n",
      "    score_vector = (1,0) if score>0.11 else (0,1)\n",
      "    data.append([s_to_list(s),score_vector])\n",
      "#     data.append([s_to_list(s),score])\n",
      "\n",
      "#     print s_to_list(s),(score > 0.11)\n",
      "\n",
      "   "
     ],
     "language": "python",
     "metadata": {},
     "outputs": [],
     "prompt_number": 177
    },
    {
     "cell_type": "code",
     "collapsed": false,
     "input": [
      "ds = SupervisedDataSet(n, 2)\n",
      "\n",
      "for d in data:\n",
      "    ds.addSample(d[0], d[1])\n",
      "\n",
      "net = buildNetwork(n, 30, 2)\n",
      "trainer = BackpropTrainer(net, ds)\n",
      "\n",
      "# trainer.trainUntilConvergence()\n",
      "trainer.trainEpochs(epochs=1000)\n",
      "# trainer.train()\n",
      "\n",
      "# net = buildNetwork(2, 3, 1, hiddenclass=TanhLayer)\n",
      "# net = buildNetwork(2, 3, 2, hiddenclass=TanhLayer, outclass=SoftmaxLayer)\n",
      "\n",
      "# net.activate((2, 3))\n",
      "\n"
     ],
     "language": "python",
     "metadata": {},
     "outputs": [],
     "prompt_number": 217
    },
    {
     "cell_type": "code",
     "collapsed": false,
     "input": [
      "scores = []\n",
      "scores_net = []\n",
      "colors = []\n",
      "\n",
      "scores_x = []\n",
      "scores_y = []\n",
      "\n",
      "for i in range(100):\n",
      "    s,score =generate_sequence(n,output=False)\n",
      "    a = net.activate(s_to_list(s))\n",
      "    color = 20 if score>0.11 else 1\n",
      "    colors.append(color)\n",
      "    scores.append(score)\n",
      "    scores_net.append(a)\n",
      "    scores_x.append(a[0])\n",
      "    scores_y.append(a[1])\n",
      "    \n",
      "#     print score\n",
      "    \n",
      "#     print s,score, a\n",
      "\n",
      "# plot(scores,scores_net,'o',alpha = 0.1)\n",
      "# plot(scores_net,'o',alpha = 0.5)\n",
      "\n",
      "scores_final = [random.random()/15.0+(1 if scores_x[i]>scores_y[i] else 0) for i in range(len(scores_x))]\n",
      "\n",
      "scatter(range(100),scores_final,s = 30,c = colors,alpha = 0.6)\n",
      "\n"
     ],
     "language": "python",
     "metadata": {},
     "outputs": [
      {
       "metadata": {},
       "output_type": "pyout",
       "prompt_number": 223,
       "text": [
        "<matplotlib.collections.PathCollection at 0x11aaf5d0>"
       ]
      },
      {
       "metadata": {},
       "output_type": "display_data",
       "png": "[encoded data removed]",
       "text": [
        "<matplotlib.figure.Figure at 0x114b9c90>"
       ]
      }
     ],
     "prompt_number": 223
    },
    {
     "cell_type": "code",
     "collapsed": false,
     "input": [
      "import json\n",
      "dnv =  json.load(open('../data/name-variants.json'))\n"
     ],
     "language": "python",
     "metadata": {},
     "outputs": [],
     "prompt_number": 3
    },
    {
     "cell_type": "code",
     "collapsed": false,
     "input": [
      "dnv['JEFF']\n"
     ],
     "language": "python",
     "metadata": {},
     "outputs": [
      {
       "metadata": {},
       "output_type": "pyout",
       "prompt_number": 4,
       "text": [
        "[u'GEOFFREY', u'GEOFF', u'JEFFREY', u'JEFF']"
       ]
      }
     ],
     "prompt_number": 4
    },
    {
     "cell_type": "code",
     "collapsed": false,
     "input": [
      "columns"
     ],
     "language": "python",
     "metadata": {},
     "outputs": [
      {
       "metadata": {},
       "output_type": "pyout",
       "prompt_number": 37,
       "text": [
        "[u'CMTE_ID',\n",
        " u'AMNDT_IND',\n",
        " u'RPT_TP',\n",
        " u'TRANSACTION_PGI',\n",
        " u'IMAGE_NUM',\n",
        " u'TRANSACTION_TP',\n",
        " u'ENTITY_TP',\n",
        " u'NAME',\n",
        " u'CITY',\n",
        " u'STATE',\n",
        " u'ZIP_CODE',\n",
        " u'EMPLOYER',\n",
        " u'OCCUPATION',\n",
        " u'TRANSACTION_DT',\n",
        " u'TRANSACTION_AMT',\n",
        " u'OTHER_ID',\n",
        " u'TRAN_ID',\n",
        " u'FILE_NUM',\n",
        " u'MEMO_CD',\n",
        " u'MEMO_TEXT',\n",
        " u'SUB_ID']"
       ]
      }
     ],
     "prompt_number": 37
    },
    {
     "cell_type": "code",
     "collapsed": false,
     "input": [
      "db = DatabaseManager()\n",
      "tmp = db.runQuery('describe ohio_combined')\n",
      "all_columns = [x[0] for x in tmp]\n",
      "\n",
      "columns = ['NAME','TRANSACTION_DT','TRANSACTION_AMT','STATE','CITY','ZIP_CODE','EMPLOYER','OCCUPATION']\n",
      "columns_alt = ['Name','Date','Amount','State','City','ZipCode','Employer','Occupation']\n",
      "\n",
      "query = 'select NAME n,CONTRIBUTOR_STREET_1 a,count(*) as c from newyork_combined where OCCUPATION like \"%BANKER%\" group by n,a order by c desc limit 100,100'# query = 'select * from ohio_combined where NAME=\"MITAKIDES, JANE\" and CONTRIBUTOR_STREET_1=\"5323 SPLIT RAIL\"'\n",
      "# query = \"select \" + \",\".join(columns) + \" from ohio order by NAME limit 3000,20\"\n",
      "result = db.runQuery(query)\n",
      "data = pd.DataFrame.from_records(list(result))\n",
      "data\n"
     ],
     "language": "python",
     "metadata": {},
     "outputs": [
      {
       "ename": "NameError",
       "evalue": "name 'DatabaseManager' is not defined",
       "output_type": "pyerr",
       "traceback": [
        "\u001b[1;31m---------------------------------------------------------------------------\u001b[0m\n\u001b[1;31mNameError\u001b[0m                                 Traceback (most recent call last)",
        "\u001b[1;32m<ipython-input-7-609a591a7876>\u001b[0m in \u001b[0;36m<module>\u001b[1;34m()\u001b[0m\n\u001b[1;32m----> 1\u001b[1;33m \u001b[0mdb\u001b[0m \u001b[1;33m=\u001b[0m \u001b[0mDatabaseManager\u001b[0m\u001b[1;33m(\u001b[0m\u001b[1;33m)\u001b[0m\u001b[1;33m\u001b[0m\u001b[0m\n\u001b[0m\u001b[0;32m      2\u001b[0m \u001b[0mtmp\u001b[0m \u001b[1;33m=\u001b[0m \u001b[0mdb\u001b[0m\u001b[1;33m.\u001b[0m\u001b[0mrunQuery\u001b[0m\u001b[1;33m(\u001b[0m\u001b[1;34m'describe ohio_combined'\u001b[0m\u001b[1;33m)\u001b[0m\u001b[1;33m\u001b[0m\u001b[0m\n\u001b[0;32m      3\u001b[0m \u001b[0mall_columns\u001b[0m \u001b[1;33m=\u001b[0m \u001b[1;33m[\u001b[0m\u001b[0mx\u001b[0m\u001b[1;33m[\u001b[0m\u001b[1;36m0\u001b[0m\u001b[1;33m]\u001b[0m \u001b[1;32mfor\u001b[0m \u001b[0mx\u001b[0m \u001b[1;32min\u001b[0m \u001b[0mtmp\u001b[0m\u001b[1;33m]\u001b[0m\u001b[1;33m\u001b[0m\u001b[0m\n\u001b[0;32m      4\u001b[0m \u001b[1;33m\u001b[0m\u001b[0m\n\u001b[0;32m      5\u001b[0m \u001b[0mcolumns\u001b[0m \u001b[1;33m=\u001b[0m \u001b[1;33m[\u001b[0m\u001b[1;34m'NAME'\u001b[0m\u001b[1;33m,\u001b[0m\u001b[1;34m'TRANSACTION_DT'\u001b[0m\u001b[1;33m,\u001b[0m\u001b[1;34m'TRANSACTION_AMT'\u001b[0m\u001b[1;33m,\u001b[0m\u001b[1;34m'STATE'\u001b[0m\u001b[1;33m,\u001b[0m\u001b[1;34m'CITY'\u001b[0m\u001b[1;33m,\u001b[0m\u001b[1;34m'ZIP_CODE'\u001b[0m\u001b[1;33m,\u001b[0m\u001b[1;34m'EMPLOYER'\u001b[0m\u001b[1;33m,\u001b[0m\u001b[1;34m'OCCUPATION'\u001b[0m\u001b[1;33m]\u001b[0m\u001b[1;33m\u001b[0m\u001b[0m\n",
        "\u001b[1;31mNameError\u001b[0m: name 'DatabaseManager' is not defined"
       ]
      }
     ],
     "prompt_number": 7
    },
    {
     "cell_type": "code",
     "collapsed": false,
     "input": [
      "list_n = [2,1,84]\n",
      "print (result[n][0],result[n][1])\n",
      "columns =['NAME','TRANSACTION_DT','STATE','CITY','EMPLOYER','OCCUPATION']\n",
      "columns_alt = ['Name','Date','State','City','Employer','Occupation']\n",
      "\n",
      "columns_str =   ','.join(columns)\n",
      "for n in list_n:\n",
      "    query = 'select '+ columns_str+' from newyork_combined where NAME=\"%s\" and CONTRIBUTOR_STREET_1=\"%s\"' %(result[n][0],result[n][1])\n",
      "    result_1 = db.runQuery(query,)\n",
      "    data = pd.DataFrame.from_records(list(result_1),columns = columns_alt )\n",
      "    f = open('/home/navid/Dropbox/workspace-1/presentation-reveal/files/APSA/timeline%d.tex' % n,'w')\n",
      "    f.write(data.to_latex())\n",
      "    f.close()\n",
      "    \n",
      "    print data\n"
     ],
     "language": "python",
     "metadata": {},
     "outputs": [
      {
       "ename": "NameError",
       "evalue": "name 'result' is not defined",
       "output_type": "pyerr",
       "traceback": [
        "\u001b[1;31m---------------------------------------------------------------------------\u001b[0m\n\u001b[1;31mNameError\u001b[0m                                 Traceback (most recent call last)",
        "\u001b[1;32m<ipython-input-6-ba6bd68fa843>\u001b[0m in \u001b[0;36m<module>\u001b[1;34m()\u001b[0m\n\u001b[0;32m      1\u001b[0m \u001b[0mlist_n\u001b[0m \u001b[1;33m=\u001b[0m \u001b[1;33m[\u001b[0m\u001b[1;36m2\u001b[0m\u001b[1;33m,\u001b[0m\u001b[1;36m1\u001b[0m\u001b[1;33m,\u001b[0m\u001b[1;36m84\u001b[0m\u001b[1;33m]\u001b[0m\u001b[1;33m\u001b[0m\u001b[0m\n\u001b[1;32m----> 2\u001b[1;33m \u001b[1;32mprint\u001b[0m \u001b[1;33m(\u001b[0m\u001b[0mresult\u001b[0m\u001b[1;33m[\u001b[0m\u001b[0mn\u001b[0m\u001b[1;33m]\u001b[0m\u001b[1;33m[\u001b[0m\u001b[1;36m0\u001b[0m\u001b[1;33m]\u001b[0m\u001b[1;33m,\u001b[0m\u001b[0mresult\u001b[0m\u001b[1;33m[\u001b[0m\u001b[0mn\u001b[0m\u001b[1;33m]\u001b[0m\u001b[1;33m[\u001b[0m\u001b[1;36m1\u001b[0m\u001b[1;33m]\u001b[0m\u001b[1;33m)\u001b[0m\u001b[1;33m\u001b[0m\u001b[0m\n\u001b[0m\u001b[0;32m      3\u001b[0m \u001b[0mcolumns\u001b[0m \u001b[1;33m=\u001b[0m\u001b[1;33m[\u001b[0m\u001b[1;34m'NAME'\u001b[0m\u001b[1;33m,\u001b[0m\u001b[1;34m'TRANSACTION_DT'\u001b[0m\u001b[1;33m,\u001b[0m\u001b[1;34m'STATE'\u001b[0m\u001b[1;33m,\u001b[0m\u001b[1;34m'CITY'\u001b[0m\u001b[1;33m,\u001b[0m\u001b[1;34m'EMPLOYER'\u001b[0m\u001b[1;33m,\u001b[0m\u001b[1;34m'OCCUPATION'\u001b[0m\u001b[1;33m]\u001b[0m\u001b[1;33m\u001b[0m\u001b[0m\n\u001b[0;32m      4\u001b[0m \u001b[0mcolumns_alt\u001b[0m \u001b[1;33m=\u001b[0m \u001b[1;33m[\u001b[0m\u001b[1;34m'Name'\u001b[0m\u001b[1;33m,\u001b[0m\u001b[1;34m'Date'\u001b[0m\u001b[1;33m,\u001b[0m\u001b[1;34m'State'\u001b[0m\u001b[1;33m,\u001b[0m\u001b[1;34m'City'\u001b[0m\u001b[1;33m,\u001b[0m\u001b[1;34m'Employer'\u001b[0m\u001b[1;33m,\u001b[0m\u001b[1;34m'Occupation'\u001b[0m\u001b[1;33m]\u001b[0m\u001b[1;33m\u001b[0m\u001b[0m\n\u001b[0;32m      5\u001b[0m \u001b[1;33m\u001b[0m\u001b[0m\n",
        "\u001b[1;31mNameError\u001b[0m: name 'result' is not defined"
       ]
      }
     ],
     "prompt_number": 6
    },
    {
     "cell_type": "heading",
     "level": 2,
     "metadata": {},
     "source": [
      "Random Sample"
     ]
    },
    {
     "cell_type": "code",
     "collapsed": false,
     "input": [
      "db = DatabaseManager()\n",
      "\n",
      "columns =['NAME','TRANSACTION_DT','STATE','CITY','EMPLOYER','OCCUPATION']\n",
      "columns_alt = ['Name','Date','State','City','Employer','Occupation']\n",
      "\n",
      "columns_str =   ','.join(columns)\n",
      "query = 'select '+ columns_str+' from newyork_combined order by NAME limit 310000,30'\n",
      "result_1 = db.runQuery(query,)\n",
      "\n",
      "data = pd.DataFrame.from_records(list(result_1),columns = columns_alt )\n",
      "# data = pd.DataFrame.from_records(list(result_1) )\n",
      "f = open('/home/navid/Dropbox/workspace-1/presentation-reveal/files/APSA/random-sample.tex','w')\n",
      "f.write(data.to_latex())\n",
      "f.close()\n",
      "    \n",
      "data"
     ],
     "language": "python",
     "metadata": {},
     "outputs": [
      {
       "ename": "NameError",
       "evalue": "name 'DatabaseManager' is not defined",
       "output_type": "pyerr",
       "traceback": [
        "\u001b[1;31m---------------------------------------------------------------------------\u001b[0m\n\u001b[1;31mNameError\u001b[0m                                 Traceback (most recent call last)",
        "\u001b[1;32m<ipython-input-5-85c60a673a61>\u001b[0m in \u001b[0;36m<module>\u001b[1;34m()\u001b[0m\n\u001b[1;32m----> 1\u001b[1;33m \u001b[0mdb\u001b[0m \u001b[1;33m=\u001b[0m \u001b[0mDatabaseManager\u001b[0m\u001b[1;33m(\u001b[0m\u001b[1;33m)\u001b[0m\u001b[1;33m\u001b[0m\u001b[0m\n\u001b[0m\u001b[0;32m      2\u001b[0m \u001b[1;33m\u001b[0m\u001b[0m\n\u001b[0;32m      3\u001b[0m \u001b[0mcolumns\u001b[0m \u001b[1;33m=\u001b[0m\u001b[1;33m[\u001b[0m\u001b[1;34m'NAME'\u001b[0m\u001b[1;33m,\u001b[0m\u001b[1;34m'TRANSACTION_DT'\u001b[0m\u001b[1;33m,\u001b[0m\u001b[1;34m'STATE'\u001b[0m\u001b[1;33m,\u001b[0m\u001b[1;34m'CITY'\u001b[0m\u001b[1;33m,\u001b[0m\u001b[1;34m'EMPLOYER'\u001b[0m\u001b[1;33m,\u001b[0m\u001b[1;34m'OCCUPATION'\u001b[0m\u001b[1;33m]\u001b[0m\u001b[1;33m\u001b[0m\u001b[0m\n\u001b[0;32m      4\u001b[0m \u001b[0mcolumns_alt\u001b[0m \u001b[1;33m=\u001b[0m \u001b[1;33m[\u001b[0m\u001b[1;34m'Name'\u001b[0m\u001b[1;33m,\u001b[0m\u001b[1;34m'Date'\u001b[0m\u001b[1;33m,\u001b[0m\u001b[1;34m'State'\u001b[0m\u001b[1;33m,\u001b[0m\u001b[1;34m'City'\u001b[0m\u001b[1;33m,\u001b[0m\u001b[1;34m'Employer'\u001b[0m\u001b[1;33m,\u001b[0m\u001b[1;34m'Occupation'\u001b[0m\u001b[1;33m]\u001b[0m\u001b[1;33m\u001b[0m\u001b[0m\n\u001b[0;32m      5\u001b[0m \u001b[1;33m\u001b[0m\u001b[0m\n",
        "\u001b[1;31mNameError\u001b[0m: name 'DatabaseManager' is not defined"
       ]
      }
     ],
     "prompt_number": 5
    },
    {
     "cell_type": "code",
     "collapsed": false,
     "input": [
      "# data = pd.DataFrame(result)\n",
      "data = pd.DataFrame.from_records(list(resul_t))\n",
      "print data\n",
      "f = open('sample_records1.tex','w')\n",
      "f.write(data.to_latex())\n",
      "f.close()"
     ],
     "language": "python",
     "metadata": {},
     "outputs": [
      {
       "output_type": "stream",
       "stream": "stdout",
       "text": [
        "         0          1  2   3  4            5    6    7                8   \\\n",
        "0   4374889  C00444182  N  Q2  G  28932182426  15C  CAN  MITAKIDES, JANE   \n",
        "1   4374890  C00444182  N  Q2  G  28932182426  15C  CAN  MITAKIDES, JANE   \n",
        "2   2522732  C00444182  N  Q2  G  28932182426  15C  CAN  MITAKIDES, JANE   \n",
        "3   2522733  C00444182  N  Q2  G  28932182427  15C  CAN  MITAKIDES, JANE   \n",
        "4   2522734  C00444182  N  Q2  G  28932182427  15C  CAN  MITAKIDES, JANE   \n",
        "5   3371715  C00444182  N  Q2  G  28932182428  15C  CAN  MITAKIDES, JANE   \n",
        "6   5076508  C00444182  N  Q2  G  28932182427  15C  CAN  MITAKIDES, JANE   \n",
        "7   4575740  C00444182  N  Q2  G  28932182429  15C  CAN  MITAKIDES, JANE   \n",
        "8   4976486  C00444182  N  Q2  G  28932182429  15C  CAN  MITAKIDES, JANE   \n",
        "9   4776227  C00444182  N  Q2  G  28932182429  15C  CAN  MITAKIDES, JANE   \n",
        "10  2522735  C00444182  N  Q2  G  28932182428  15C  CAN  MITAKIDES, JANE   \n",
        "11  2522736  C00444182  N  Q2  G  28932182428  15C  CAN  MITAKIDES, JANE   \n",
        "12  2522737  C00444182  N  Q2  G  28932182430  15C  CAN  MITAKIDES, JANE   \n",
        "13  2522738  C00444182  N  Q2  G  28932182430  15C  CAN  MITAKIDES, JANE   \n",
        "14  4374891  C00444182  N  Q2  G  28932182430  15C  CAN  MITAKIDES, JANE   \n",
        "15  3471659  C00444182  N  Q2  G  28932182431  15C  CAN  MITAKIDES, JANE   \n",
        "16  3972937  C00444182  N  Q2  G  28932182431  15C  CAN  MITAKIDES, JANE   \n",
        "17  2522739  C00444182  N  Q2  G  28932182431  15C  CAN  MITAKIDES, JANE   \n",
        "18  2522740  C00444182  N  Q2  G  28932182432  15C  CAN  MITAKIDES, JANE   \n",
        "19  5176623  C00444182  N  Q2  G  28932182432  15C  CAN  MITAKIDES, JANE   \n",
        "20  4675677  C00444182  N  Q2  G  28932182432  15C  CAN  MITAKIDES, JANE   \n",
        "21  2522751  C00444182  N  Q2  G  28932182433  15C  CAN  MITAKIDES, JANE   \n",
        "22  2522752  C00444182  N  Q2  G  28932182434  15C  CAN  MITAKIDES, JANE   \n",
        "23  4274362  C00444182  N  Q2  G  28932182433  15C  CAN  MITAKIDES, JANE   \n",
        "24  3271300  C00444182  N  Q2  G  28932182433  15C  CAN  MITAKIDES, JANE   \n",
        "25  3572068  C00444182  N  Q2  G  28932182434  15C  CAN  MITAKIDES, JANE   \n",
        "26  2522750  C00444182  N  Q2  G  28932182434  15C  CAN  MITAKIDES, JANE   \n",
        "27  4675682  C00444182  N  Q2  G  28932182435  15C  CAN  MITAKIDES, JANE   \n",
        "28  4675681  C00444182  N  Q2  G  28932182435  15C  CAN  MITAKIDES, JANE   \n",
        "29  2522713  C00444182  N  Q2  G  28932182435  15C  CAN  MITAKIDES, JANE   \n",
        "30  2522714  C00444182  N  Q2  G  28932182436  15C  CAN  MITAKIDES, JANE   \n",
        "31  3572066  C00444182  N  Q2  G  28932182436  15C  CAN  MITAKIDES, JANE   \n",
        "32  2522715  C00444182  N  Q2  G  28932182437  15C  CAN  MITAKIDES, JANE   \n",
        "33  2522717  C00444182  N  Q2  G  28932182438  15C  CAN  MITAKIDES, JANE   \n",
        "34  2522716  C00444182  N  Q2  G  28932182438  15C  CAN  MITAKIDES, JANE   \n",
        "35  4073591  C00444182  N  Q2  G  28932182437  15C  CAN  MITAKIDES, JANE   \n",
        "36  4575738  C00444182  N  Q2  G  28932182436  15C  CAN  MITAKIDES, JANE   \n",
        "37  5176621  C00444182  N  Q2  G  28932182437  15C  CAN  MITAKIDES, JANE   \n",
        "38  4575739  C00444182  N  Q2  G  28932182439  15C  CAN  MITAKIDES, JANE   \n",
        "39  4274360  C00444182  N  Q2  G  28932182439  15C  CAN  MITAKIDES, JANE   \n",
        "40  2522718  C00444182  N  Q2  G  28932182438  15C  CAN  MITAKIDES, JANE   \n",
        "41  4274363  C00444182  N  Q2  G  28932182440  15C  CAN  MITAKIDES, JANE   \n",
        "42  4475270  C00444182  N  Q2  G  28932182439  15C  CAN  MITAKIDES, JANE   \n",
        "43  4976487  C00444182  N  Q2  G  28932182440  15C  CAN  MITAKIDES, JANE   \n",
        "44  4976488  C00444182  N  Q2  G  28932182440  15C  CAN  MITAKIDES, JANE   \n",
        "45  4675678  C00444182  N  Q2  G  28932182441  15C  CAN  MITAKIDES, JANE   \n",
        "46  4173874  C00444182  N  Q2  G  28932182441  15C  CAN  MITAKIDES, JANE   \n",
        "47  2522741  C00444182  N  Q2  G  28932182441  15C  CAN  MITAKIDES, JANE   \n",
        "48  2522742  C00444182  N  Q2  G  28932182442  15C  CAN  MITAKIDES, JANE   \n",
        "49  4575741  C00444182  N  Q2  G  28932182442  15C  CAN  MITAKIDES, JANE   \n",
        "50  4675679  C00444182  N  Q2  G  28932182442  15C  CAN  MITAKIDES, JANE   \n",
        "51  3872785  C00444182  N  Q2  G  28932182443  15C  CAN  MITAKIDES, JANE   \n",
        "52  4876344  C00444182  N  Q2  G  28932182443  15C  CAN  MITAKIDES, JANE   \n",
        "53  4876345  C00444182  N  Q2  G  28932182445  15C  CAN  MITAKIDES, JANE   \n",
        "54  4876346  C00444182  N  Q2  G  28932182447  15C  CAN  MITAKIDES, JANE   \n",
        "55  4976489  C00444182  N  Q2  G  28932182446  15C  CAN  MITAKIDES, JANE   \n",
        "56  4976490  C00444182  N  Q2  G  28932182447  15C  CAN  MITAKIDES, JANE   \n",
        "57  4976491  C00444182  N  Q2  G  28932182449  15C  CAN  MITAKIDES, JANE   \n",
        "58  4776228  C00444182  N  Q2  G  28932182450  15C  CAN  MITAKIDES, JANE   \n",
        "59  4675680  C00444182  N  Q2  G  28932182447  15C  CAN  MITAKIDES, JANE   \n",
        "        ...        ... .. ... ..          ...  ...  ...              ...   \n",
        "\n",
        "        9   10     11                      12         13          14    15  \\\n",
        "0   DAYTON  OH  45429  MITAKIDES FOR CONGRESS  CANDIDATE  2008-04-04    30   \n",
        "1   DAYTON  OH  45429  MITAKIDES FOR CONGRESS  CANDIDATE  2008-04-11   134   \n",
        "2   DAYTON  OH  45429  MITAKIDES FOR CONGRESS  CANDIDATE  2008-04-11   196   \n",
        "3   DAYTON  OH  45429  MITAKIDES FOR CONGRESS  CANDIDATE  2008-04-13    26   \n",
        "4   DAYTON  OH  45429  MITAKIDES FOR CONGRESS  CANDIDATE  2008-04-14    36   \n",
        "5   DAYTON  OH  45429  MITAKIDES FOR CONGRESS  CANDIDATE  2008-04-15    48   \n",
        "6   DAYTON  OH  45429  MITAKIDES FOR CONGRESS  CANDIDATE  2008-04-15   325   \n",
        "7   DAYTON  OH  45429  MITAKIDES FOR CONGRESS  CANDIDATE  2008-04-17   170   \n",
        "8   DAYTON  OH  45429  MITAKIDES FOR CONGRESS  CANDIDATE  2008-04-17   100   \n",
        "9   DAYTON  OH  45429  MITAKIDES FOR CONGRESS  CANDIDATE  2008-04-17   110   \n",
        "10  DAYTON  OH  45429  MITAKIDES FOR CONGRESS  CANDIDATE  2008-04-17   389   \n",
        "11  DAYTON  OH  45429  MITAKIDES FOR CONGRESS  CANDIDATE  2008-04-17    70   \n",
        "12  DAYTON  OH  45429  MITAKIDES FOR CONGRESS  CANDIDATE  2008-04-18    42   \n",
        "13  DAYTON  OH  45429  MITAKIDES FOR CONGRESS  CANDIDATE  2008-04-18    53   \n",
        "14  DAYTON  OH  45429  MITAKIDES FOR CONGRESS  CANDIDATE  2008-04-18   425   \n",
        "15  DAYTON  OH  45429  MITAKIDES FOR CONGRESS  CANDIDATE  2008-04-19    30   \n",
        "16  DAYTON  OH  45429  MITAKIDES FOR CONGRESS  CANDIDATE  2008-04-20   156   \n",
        "17  DAYTON  OH  45429  MITAKIDES FOR CONGRESS  CANDIDATE  2008-04-20   385   \n",
        "18  DAYTON  OH  45429  MITAKIDES FOR CONGRESS  CANDIDATE  2008-04-22   175   \n",
        "19  DAYTON  OH  45429  MITAKIDES FOR CONGRESS  CANDIDATE  2008-04-22   360   \n",
        "20  DAYTON  OH  45429  MITAKIDES FOR CONGRESS  CANDIDATE  2008-04-22   111   \n",
        "21  DAYTON  OH  45429  MITAKIDES FOR CONGRESS  CANDIDATE  2008-04-23   122   \n",
        "22  DAYTON  OH  45429  MITAKIDES FOR CONGRESS  CANDIDATE  2008-04-23    49   \n",
        "23  DAYTON  OH  45429  MITAKIDES FOR CONGRESS  CANDIDATE  2008-04-23    93   \n",
        "24  DAYTON  OH  45429  MITAKIDES FOR CONGRESS  CANDIDATE  2008-04-23   117   \n",
        "25  DAYTON  OH  45429  MITAKIDES FOR CONGRESS  CANDIDATE  2008-04-24   153   \n",
        "26  DAYTON  OH  45429  MITAKIDES FOR CONGRESS  CANDIDATE  2008-04-25  1516   \n",
        "27  DAYTON  OH  45429  MITAKIDES FOR CONGRESS  CANDIDATE  2008-04-25    73   \n",
        "28  DAYTON  OH  45429  MITAKIDES FOR CONGRESS  CANDIDATE  2008-04-25    53   \n",
        "29  DAYTON  OH  45429  MITAKIDES FOR CONGRESS  CANDIDATE  2008-04-27   203   \n",
        "30  DAYTON  OH  45429  MITAKIDES FOR CONGRESS  CANDIDATE  2008-04-30   100   \n",
        "31  DAYTON  OH  45429  MITAKIDES FOR CONGRESS  CANDIDATE  2008-04-30    40   \n",
        "32  DAYTON  OH  45429  MITAKIDES FOR CONGRESS  CANDIDATE  2008-05-02    50   \n",
        "33  DAYTON  OH  45429  MITAKIDES FOR CONGRESS  CANDIDATE  2008-05-02   113   \n",
        "34  DAYTON  OH  45429  MITAKIDES FOR CONGRESS  CANDIDATE  2008-05-02   100   \n",
        "35  DAYTON  OH  45429  MITAKIDES FOR CONGRESS  CANDIDATE  2008-05-02     5   \n",
        "36  DAYTON  OH  45429  MITAKIDES FOR CONGRESS  CANDIDATE  2008-05-02   113   \n",
        "37  DAYTON  OH  45429  MITAKIDES FOR CONGRESS  CANDIDATE  2008-05-02   500   \n",
        "38  DAYTON  OH  45429  MITAKIDES FOR CONGRESS  CANDIDATE  2008-05-03   246   \n",
        "39  DAYTON  OH  45429  MITAKIDES FOR CONGRESS  CANDIDATE  2008-05-03   246   \n",
        "40  DAYTON  OH  45429  MITAKIDES FOR CONGRESS  CANDIDATE  2008-05-03   384   \n",
        "41  DAYTON  OH  45429  MITAKIDES FOR CONGRESS  CANDIDATE  2008-05-05   275   \n",
        "42  DAYTON  OH  45429  MITAKIDES FOR CONGRESS  CANDIDATE  2008-05-05   275   \n",
        "43  DAYTON  OH  45429  MITAKIDES FOR CONGRESS  CANDIDATE  2008-05-05   144   \n",
        "44  DAYTON  OH  45429  MITAKIDES FOR CONGRESS  CANDIDATE  2008-05-09   133   \n",
        "45  DAYTON  OH  45429  MITAKIDES FOR CONGRESS  CANDIDATE  2008-05-13    26   \n",
        "46  DAYTON  OH  45429  MITAKIDES FOR CONGRESS  CANDIDATE  2008-05-13    68   \n",
        "47  DAYTON  OH  45429  MITAKIDES FOR CONGRESS  CANDIDATE  2008-05-13   270   \n",
        "48  DAYTON  OH  45429  MITAKIDES FOR CONGRESS  CANDIDATE  2008-05-14    80   \n",
        "49  DAYTON  OH  45429  MITAKIDES FOR CONGRESS  CANDIDATE  2008-05-14   363   \n",
        "50  DAYTON  OH  45429  MITAKIDES FOR CONGRESS  CANDIDATE  2008-05-21  1500   \n",
        "51  DAYTON  OH  45429  MITAKIDES FOR CONGRESS  CANDIDATE  2008-05-26    77   \n",
        "52  DAYTON  OH  45429  MITAKIDES FOR CONGRESS  CANDIDATE  2008-05-28    60   \n",
        "53  DAYTON  OH  45429  MITAKIDES FOR CONGRESS  CANDIDATE  2008-05-30   146   \n",
        "54  DAYTON  OH  45429  MITAKIDES FOR CONGRESS  CANDIDATE  2008-05-30    42   \n",
        "55  DAYTON  OH  45429  MITAKIDES FOR CONGRESS  CANDIDATE  2008-05-30   117   \n",
        "56  DAYTON  OH  45429  MITAKIDES FOR CONGRESS  CANDIDATE  2008-05-30   153   \n",
        "57  DAYTON  OH  45429  MITAKIDES FOR CONGRESS  CANDIDATE  2008-05-30   153   \n",
        "58  DAYTON  OH  45429  MITAKIDES FOR CONGRESS  CANDIDATE  2008-05-30    68   \n",
        "59  DAYTON  OH  45429  MITAKIDES FOR CONGRESS  CANDIDATE  2008-05-30    93   \n",
        "       ... ...    ...                     ...        ...         ...   ...   \n",
        "\n",
        "           16        17      18 19      \n",
        "0   H4OH03055  C4942500  351175    ...  \n",
        "1   H4OH03055  C5070664  351175    ...  \n",
        "2   H4OH03055  C5043898  351175    ...  \n",
        "3   H4OH03055  C5043897  351175    ...  \n",
        "4   H4OH03055  C5043896  351175    ...  \n",
        "5   H4OH03055  C5070667  351175    ...  \n",
        "6   H4OH03055  C5043895  351175    ...  \n",
        "7   H4OH03055  C5070607  351175    ...  \n",
        "8   H4OH03055  C5043903  351175    ...  \n",
        "9   H4OH03055  C5070668  351175    ...  \n",
        "10  H4OH03055  C5043894  351175    ...  \n",
        "11  H4OH03055  C5043902  351175    ...  \n",
        "12  H4OH03055  C5043893  351175    ...  \n",
        "13  H4OH03055  C5070609  351175    ...  \n",
        "14  H4OH03055  C5070608  351175    ...  \n",
        "15  H4OH03055  C5043891  351175    ...  \n",
        "16  H4OH03055  C5043890  351175    ...  \n",
        "17  H4OH03055  C5043887  351175    ...  \n",
        "18  H4OH03055  C5012464  351175    ...  \n",
        "19  H4OH03055  C5043860  351175    ...  \n",
        "20  H4OH03055  C5070610  351175    ...  \n",
        "21  H4OH03055  C5070611  351175    ...  \n",
        "22  H4OH03055  C5070666  351175    ...  \n",
        "23  H4OH03055  C5043838  351175    ...  \n",
        "24  H4OH03055  C5043836  351175    ...  \n",
        "25  H4OH03055  C5043835  351175    ...  \n",
        "26  H4OH03055  C5043833  351175    ...  \n",
        "27  H4OH03055  C5043901  351175    ...  \n",
        "28  H4OH03055  C5043834  351175    ...  \n",
        "29  H4OH03055  C5070669  351175    ...  \n",
        "30  H4OH03055  C5012472  351175    ...  \n",
        "31  H4OH03055  C5043828  351175    ...  \n",
        "32  H4OH03055  C5070605  351175    ...  \n",
        "33  H4OH03055  C5070678  351175    ...  \n",
        "34  H4OH03055  C5070677  351175    ...  \n",
        "35  H4OH03055  C5070606  351175    ...  \n",
        "36  H4OH03055  C4989761  351175    ...  \n",
        "37  H4OH03055  C5070617  351175    ...  \n",
        "38  H4OH03055  C5070612  351175    ...  \n",
        "39  H4OH03055  C5043900  351175    ...  \n",
        "40  H4OH03055  C5012483  351175    ...  \n",
        "41  H4OH03055  C5070613  351175    ...  \n",
        "42  H4OH03055  C5043899  351175    ...  \n",
        "43  H4OH03055  C5070665  351175    ...  \n",
        "44  H4OH03055  C5043904  351175    ...  \n",
        "45  H4OH03055  C5043906  351175    ...  \n",
        "46  H4OH03055  C5070674  351175    ...  \n",
        "47  H4OH03055  C5043905  351175    ...  \n",
        "48  H4OH03055  C5070673  351175    ...  \n",
        "49  H4OH03055  C5070675  351175    ...  \n",
        "50  H4OH03055  C5070681  351175    ...  \n",
        "51  H4OH03055  C5070672  351175    ...  \n",
        "52  H4OH03055  C5070671  351175    ...  \n",
        "53  H4OH03055  C5012463  351175    ...  \n",
        "54  H4OH03055  C5012475  351175    ...  \n",
        "55  H4OH03055  C5012467  351175    ...  \n",
        "56  H4OH03055  C5012468  351175    ...  \n",
        "57  H4OH03055  C5012488  351175    ...  \n",
        "58  H4OH03055  C5012496  351175    ...  \n",
        "59  H4OH03055  C5012471  351175    ...  \n",
        "          ...       ...     ... ..      \n",
        "\n",
        "[229 rows x 30 columns]\n"
       ]
      }
     ],
     "prompt_number": 13
    },
    {
     "cell_type": "code",
     "collapsed": false,
     "input": [],
     "language": "python",
     "metadata": {},
     "outputs": [],
     "prompt_number": 65
    },
    {
     "cell_type": "heading",
     "level": 2,
     "metadata": {},
     "source": [
      "Import table from proposal"
     ]
    },
    {
     "cell_type": "code",
     "collapsed": false,
     "input": [
      "table1 = pd.read_csv('/home/navid/Dropbox/notes/mypapers/FEC/files/table1.csv',encoding='latin1')\n",
      "f = open('/home/navid/Dropbox/notes/mypapers/FEC/files/table1.tex','w')\n",
      "f.write(table1.to_latex())\n",
      "f.close()"
     ],
     "language": "python",
     "metadata": {},
     "outputs": [],
     "prompt_number": 5
    },
    {
     "cell_type": "heading",
     "level": 1,
     "metadata": {},
     "source": [
      "Import CSV table and export to latex"
     ]
    },
    {
     "cell_type": "code",
     "collapsed": false,
     "input": [
      "for i in range(10,11):\n",
      "    filename = 'sample-identities-'+str(i)\n",
      "    table_tmp = pd.read_csv('/home/navid/Dropbox/notes/mypapers/FEC/files/%s.csv' %filename,\n",
      "                         encoding='latin1',\n",
      "                         sep='|',\n",
      "                         na_values=[''],\n",
      "                         names=['Name','Date','Zipcode','Address','City','State','Employer','Occupation','N_address']\n",
      "                         )\n",
      "\n",
      "    table1 = table_tmp.fillna('') \n",
      "    dict_funcs = {}\n",
      "    for column in table1.columns:\n",
      "        dict_funcs[column] = (lambda s:s[:15] if isinstance(s,unicode) else s) if column != \"Name\" else lambda s:s\n",
      "    for column in table1.columns:\n",
      "        table1[column] = table1[column].apply(dict_funcs[column])\n",
      "\n",
      "    f = open('/home/navid/Dropbox/notes/mypapers/FEC/files/%s.tex' %filename,'w')\n",
      "    f.write(table1.to_latex())\n",
      "    f.close()"
     ],
     "language": "python",
     "metadata": {},
     "outputs": [],
     "prompt_number": 67
    },
    {
     "cell_type": "code",
     "collapsed": false,
     "input": [
      "trunc = lambda s:s[:15] if isinstance(s,unicode) else s\n",
      "for column in table1.columns:\n",
      "    table1[column] = table1[column].apply(trunc)\n",
      "table1"
     ],
     "language": "python",
     "metadata": {},
     "outputs": [
      {
       "ename": "NameError",
       "evalue": "name 'table1' is not defined",
       "output_type": "pyerr",
       "traceback": [
        "\u001b[1;31m---------------------------------------------------------------------------\u001b[0m\n\u001b[1;31mNameError\u001b[0m                                 Traceback (most recent call last)",
        "\u001b[1;32m<ipython-input-4-b2f8a9a6db80>\u001b[0m in \u001b[0;36m<module>\u001b[1;34m()\u001b[0m\n\u001b[0;32m      1\u001b[0m \u001b[0mtrunc\u001b[0m \u001b[1;33m=\u001b[0m \u001b[1;32mlambda\u001b[0m \u001b[0ms\u001b[0m\u001b[1;33m:\u001b[0m\u001b[0ms\u001b[0m\u001b[1;33m[\u001b[0m\u001b[1;33m:\u001b[0m\u001b[1;36m15\u001b[0m\u001b[1;33m]\u001b[0m \u001b[1;32mif\u001b[0m \u001b[0misinstance\u001b[0m\u001b[1;33m(\u001b[0m\u001b[0ms\u001b[0m\u001b[1;33m,\u001b[0m\u001b[0municode\u001b[0m\u001b[1;33m)\u001b[0m \u001b[1;32melse\u001b[0m \u001b[0ms\u001b[0m\u001b[1;33m\u001b[0m\u001b[0m\n\u001b[1;32m----> 2\u001b[1;33m \u001b[1;32mfor\u001b[0m \u001b[0mcolumn\u001b[0m \u001b[1;32min\u001b[0m \u001b[0mtable1\u001b[0m\u001b[1;33m.\u001b[0m\u001b[0mcolumns\u001b[0m\u001b[1;33m:\u001b[0m\u001b[1;33m\u001b[0m\u001b[0m\n\u001b[0m\u001b[0;32m      3\u001b[0m     \u001b[0mtable1\u001b[0m\u001b[1;33m[\u001b[0m\u001b[0mcolumn\u001b[0m\u001b[1;33m]\u001b[0m \u001b[1;33m=\u001b[0m \u001b[0mtable1\u001b[0m\u001b[1;33m[\u001b[0m\u001b[0mcolumn\u001b[0m\u001b[1;33m]\u001b[0m\u001b[1;33m.\u001b[0m\u001b[0mapply\u001b[0m\u001b[1;33m(\u001b[0m\u001b[0mtrunc\u001b[0m\u001b[1;33m)\u001b[0m\u001b[1;33m\u001b[0m\u001b[0m\n\u001b[0;32m      4\u001b[0m \u001b[0mtable1\u001b[0m\u001b[1;33m\u001b[0m\u001b[0m\n",
        "\u001b[1;31mNameError\u001b[0m: name 'table1' is not defined"
       ]
      }
     ],
     "prompt_number": 4
    },
    {
     "cell_type": "code",
     "collapsed": false,
     "input": [
      "isinstance(u'navid',unicode)"
     ],
     "language": "python",
     "metadata": {},
     "outputs": [
      {
       "metadata": {},
       "output_type": "pyout",
       "prompt_number": 53,
       "text": [
        "True"
       ]
      }
     ],
     "prompt_number": 53
    },
    {
     "cell_type": "code",
     "collapsed": false,
     "input": [
      "print a\n",
      "trunc = lambda s,field:s[:15] if isinstance(s,unicode) and field != \"Name\" else s\n",
      "trunc(table1['Name'],'Name')\n",
      "\n"
     ],
     "language": "python",
     "metadata": {},
     "outputs": [
      {
       "ename": "NameError",
       "evalue": "name 'a' is not defined",
       "output_type": "pyerr",
       "traceback": [
        "\u001b[1;31m---------------------------------------------------------------------------\u001b[0m\n\u001b[1;31mNameError\u001b[0m                                 Traceback (most recent call last)",
        "\u001b[1;32m<ipython-input-3-234f4419a9d1>\u001b[0m in \u001b[0;36m<module>\u001b[1;34m()\u001b[0m\n\u001b[1;32m----> 1\u001b[1;33m \u001b[1;32mprint\u001b[0m \u001b[0ma\u001b[0m\u001b[1;33m\u001b[0m\u001b[0m\n\u001b[0m\u001b[0;32m      2\u001b[0m \u001b[0mtrunc\u001b[0m \u001b[1;33m=\u001b[0m \u001b[1;32mlambda\u001b[0m \u001b[0ms\u001b[0m\u001b[1;33m,\u001b[0m\u001b[0mfield\u001b[0m\u001b[1;33m:\u001b[0m\u001b[0ms\u001b[0m\u001b[1;33m[\u001b[0m\u001b[1;33m:\u001b[0m\u001b[1;36m15\u001b[0m\u001b[1;33m]\u001b[0m \u001b[1;32mif\u001b[0m \u001b[0misinstance\u001b[0m\u001b[1;33m(\u001b[0m\u001b[0ms\u001b[0m\u001b[1;33m,\u001b[0m\u001b[0municode\u001b[0m\u001b[1;33m)\u001b[0m \u001b[1;32mand\u001b[0m \u001b[0mfield\u001b[0m \u001b[1;33m!=\u001b[0m \u001b[1;34m\"Name\"\u001b[0m \u001b[1;32melse\u001b[0m \u001b[0ms\u001b[0m\u001b[1;33m\u001b[0m\u001b[0m\n\u001b[0;32m      3\u001b[0m \u001b[0mtrunc\u001b[0m\u001b[1;33m(\u001b[0m\u001b[0mtable1\u001b[0m\u001b[1;33m[\u001b[0m\u001b[1;34m'Name'\u001b[0m\u001b[1;33m]\u001b[0m\u001b[1;33m,\u001b[0m\u001b[1;34m'Name'\u001b[0m\u001b[1;33m)\u001b[0m\u001b[1;33m\u001b[0m\u001b[0m\n\u001b[0;32m      4\u001b[0m \u001b[1;33m\u001b[0m\u001b[0m\n",
        "\u001b[1;31mNameError\u001b[0m: name 'a' is not defined"
       ]
      }
     ],
     "prompt_number": 3
    },
    {
     "cell_type": "code",
     "collapsed": false,
     "input": [
      "func(1,2)"
     ],
     "language": "python",
     "metadata": {},
     "outputs": [
      {
       "metadata": {},
       "output_type": "pyout",
       "prompt_number": 55,
       "text": [
        "3"
       ]
      }
     ],
     "prompt_number": 55
    },
    {
     "cell_type": "heading",
     "level": 1,
     "metadata": {},
     "source": [
      "Study handcoded data"
     ]
    },
    {
     "cell_type": "code",
     "collapsed": false,
     "input": [
      "file_handcode = open(\"handcode.txt\")\n",
      "data = pd.read_csv(file_handcode,sep=' ',names = [\"he\",'me'])\n",
      "data = data[data.me.notnull()]\n",
      "data.he = data.he.appl$y(lambda x: 1 if x==1 else 0)\n",
      "# print data\n",
      "# data.me = data.me.apply(lambda x: 1 if x=='a' else (np.nan if x =='NaN' else 0))\n",
      "A = data.as_matrix()\n",
      "print sum(A[:,0] * A[:,1]), sum(A[:,1]!=np.nan)\n",
      "file_handcode.close()\n"
     ],
     "language": "python",
     "metadata": {},
     "outputs": [
      {
       "ename": "SyntaxError",
       "evalue": "invalid syntax (<ipython-input-1-4ea9a4815bf2>, line 4)",
       "output_type": "pyerr",
       "traceback": [
        "\u001b[1;36m  File \u001b[1;32m\"<ipython-input-1-4ea9a4815bf2>\"\u001b[1;36m, line \u001b[1;32m4\u001b[0m\n\u001b[1;33m    data.he = data.he.appl$y(lambda x: 1 if x==1 else 0)\u001b[0m\n\u001b[1;37m                          ^\u001b[0m\n\u001b[1;31mSyntaxError\u001b[0m\u001b[1;31m:\u001b[0m invalid syntax\n"
       ]
      }
     ],
     "prompt_number": 1
    },
    {
     "cell_type": "code",
     "collapsed": false,
     "input": [
      "data[data.me.notnull()]"
     ],
     "language": "python",
     "metadata": {},
     "outputs": []
    }
   ],
   "metadata": {}
  }
 ]
}
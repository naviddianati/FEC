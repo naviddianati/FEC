{
 "metadata": {
  "name": ""
 },
 "nbformat": 3,
 "nbformat_minor": 0,
 "worksheets": [
  {
   "cells": [
    {
     "cell_type": "code",
     "collapsed": false,
     "input": [
      "import pandas as pd\n",
      "import matplotlib.pyplot as plt\n"
     ],
     "language": "python",
     "metadata": {},
     "outputs": [],
     "prompt_number": 1
    },
    {
     "cell_type": "code",
     "collapsed": false,
     "input": [
      "data_full = pd.read_csv('stats.txt',na_values = ['None'],sep=' ')    \n"
     ],
     "language": "python",
     "metadata": {},
     "outputs": [],
     "prompt_number": 17
    },
    {
     "cell_type": "code",
     "collapsed": false,
     "input": [
      "# specify the subset of the full data to analyze\n",
      "data = data_full[(data_full['o'] >=2) & (data_full['e'] >= 2)]\n",
      "data = data_full\n",
      "\n",
      "# convert p value back from log\n",
      "# data['p-value'] = exp(data['p-value'])\n",
      "\n",
      "pvalues = data[data['p-value'] < 0 ]['p-value'].values\n",
      "freq, bins, patches = plt.hist(pvalues, bins = 20)\n",
      "\n",
      "percentages = []\n",
      "# compute the percentage of accepted matches in each bin\n",
      "for i,x in enumerate(bins[:-1]):\n",
      "    df = data[(data['p-value'] > bins[i]) & (data['p-value'] <= bins[i+1])]\n",
      "    \n",
      "   \n",
      "    \n",
      "    if len(df)!=0:\n",
      "        # percentage of records with related affiliations\n",
      "        percent = float(len(df[(df['o'] >=2) & (df['e'] >=2)])) /  len(df) \n",
      "        \n",
      "        # percentage of accepted matches\n",
      "#         percent = float(len(df[df['verdict'] == 1])) /  len(df)\n",
      "    else: \n",
      "        percent = 0\n",
      "    \n",
      "\n",
      "    percentages.append(percent)\n",
      "    \n",
      "    \n",
      "    \n",
      "plt.figure()\n",
      "# plt.bar(bins[:-1], percentages,width = 0.000001)\n",
      "plt.plot(bins[:-1], percentages,'o')\n"
     ],
     "language": "python",
     "metadata": {},
     "outputs": [
      {
       "metadata": {},
       "output_type": "pyout",
       "prompt_number": 18,
       "text": [
        "[<matplotlib.lines.Line2D at 0x7f48bf51a710>]"
       ]
      },
      {
       "metadata": {},
       "output_type": "display_data",
       "png": "[encoded data removed]",
       "text": [
        "<matplotlib.figure.Figure at 0x7f48bf985450>"
       ]
      },
      {
       "metadata": {},
       "output_type": "display_data",
       "png": "[encoded data removed]",
       "text": [
        "<matplotlib.figure.Figure at 0x7f48bf5dac10>"
       ]
      }
     ],
     "prompt_number": 18
    },
    {
     "cell_type": "code",
     "collapsed": false,
     "input": [
      "pvalues\n"
     ],
     "language": "python",
     "metadata": {},
     "outputs": [
      {
       "metadata": {},
       "output_type": "pyout",
       "prompt_number": 4,
       "text": [
        "array([], dtype=float64)"
       ]
      }
     ],
     "prompt_number": 4
    },
    {
     "cell_type": "code",
     "collapsed": false,
     "input": [],
     "language": "python",
     "metadata": {},
     "outputs": []
    }
   ],
   "metadata": {}
  }
 ]
}
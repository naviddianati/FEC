{
 "metadata": {
  "name": "",
  "signature": "sha256:f9647357d6cb6b9405d122df48af234c1357663079c23372bb0bffc59d49acb0"
 },
 "nbformat": 3,
 "nbformat_minor": 0,
 "worksheets": [
  {
   "cells": [
    {
     "cell_type": "code",
     "collapsed": false,
     "input": [
      "import json"
     ],
     "language": "python",
     "metadata": {},
     "outputs": [],
     "prompt_number": 2
    },
    {
     "cell_type": "code",
     "collapsed": false,
     "input": [
      "\n",
      "result = json.load(open(\"results/david-15.json\"))"
     ],
     "language": "python",
     "metadata": {},
     "outputs": [],
     "prompt_number": 12
    },
    {
     "cell_type": "code",
     "collapsed": false,
     "input": [
      "result"
     ],
     "language": "python",
     "metadata": {},
     "outputs": [
      {
       "metadata": {},
       "output_type": "pyout",
       "prompt_number": 13,
       "text": [
        "{u'comment': u'',\n",
        " u'data': {u' 10467410 ': [u' 83522 ', 0, 4],\n",
        "  u' 1061322 ': [u' 83523 ', 1, 1],\n",
        "  u' 11271296 ': [u' 83525 ', 0, 4],\n",
        "  u' 11457577 ': [u' 83523 ', 1, 1],\n",
        "  u' 11516157 ': [u' 83522 ', 0, 4],\n",
        "  u' 11820926 ': [u' 83520 ', 1, 2],\n",
        "  u' 12121500 ': [u' 83522 ', 0, 4],\n",
        "  u' 12609547 ': [u' 83522 ', 0, 4],\n",
        "  u' 4144704 ': [u' 83521 ', 0, 4],\n",
        "  u' 5633166 ': [u' 83523 ', 1, 1],\n",
        "  u' 5648892 ': [u' 83520 ', 0, 4],\n",
        "  u' 6144642 ': [u' 83520 ', 0, 4],\n",
        "  u' 759958 ': [u' 83525 ', 0, 4],\n",
        "  u' 7627371 ': [u' 83524 ', 0, 4],\n",
        "  u' 766499 ': [u' 83524 ', 0, 4],\n",
        "  u' 9197603 ': [u' 83520 ', 0, 4],\n",
        "  u' 9418127 ': [u' 83521 ', 0, 4],\n",
        "  u' 9779846 ': [u' 83525 ', 0, 4]}}"
       ]
      }
     ],
     "prompt_number": 13
    },
    {
     "cell_type": "code",
     "collapsed": false,
     "input": [],
     "language": "python",
     "metadata": {},
     "outputs": []
    }
   ],
   "metadata": {}
  }
 ]
}
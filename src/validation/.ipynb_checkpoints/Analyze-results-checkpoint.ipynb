{
 "metadata": {
  "name": "",
  "signature": "sha256:303675aed35e86953d7ce4079e9c2d15ffbecab9c196106cbb3fc7cc861ade0d"
 },
 "nbformat": 3,
 "nbformat_minor": 0,
 "worksheets": []
}
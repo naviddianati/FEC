{
 "metadata": {
  "name": ""
 },
 "nbformat": 3,
 "nbformat_minor": 0,
 "worksheets": [
  {
   "cells": [
    {
     "cell_type": "code",
     "collapsed": false,
     "input": [
      "from main_general import *\n",
      "\n",
      "\n",
      "\n",
      "project1 = disambiguate_main('alaska', record_limit=(0, 100))\n",
      "project2 = disambiguate_main('alaska', record_limit=(100, 100))\n",
      "\n",
      "list_of_Ds = [project1.D, project2.D]\n",
      "\n",
      "D = Disambiguator.getCompoundDisambiguator(list_of_Ds)\n"
     ],
     "language": "python",
     "metadata": {},
     "outputs": [
      {
       "output_type": "stream",
       "stream": "stdout",
       "text": [
        "Analyzing data for state:  alaska\n",
        "select NAME,TRANSACTION_DT,ZIP_CODE,CONTRIBUTOR_STREET_1,CITY,STATE,EMPLOYER,OCCUPATION,TRANSACTION_DT,TRANSACTION_AMT,CMTE_ID,ENTITY_TP,id from alaska_combined  order by NAME,TRANSACTION_DT,ZIP_CODE  limit 0,100 ;\n",
        "Total number of tokens identified: "
       ]
      },
      {
       "output_type": "stream",
       "stream": "stdout",
       "text": [
        " 463\n",
        "463"
       ]
      },
      {
       "output_type": "stream",
       "stream": "stdout",
       "text": [
        "\n",
        "Analyze...\n",
        "Lsh_hash save to file ../results/763-LSH_hash.txt"
       ]
      },
      {
       "output_type": "stream",
       "stream": "stdout",
       "text": [
        "\n",
        "B= 20\n",
        "Computing index_adjacency matrix\n",
        "sigma =  None\n",
        "Initialize adjacency...\n",
        "Done..."
       ]
      },
      {
       "output_type": "stream",
       "stream": "stdout",
       "text": [
        "\n",
        "New matches found:  0\n",
        "Shuffling list of hashes and computing nearest neighbors0\n",
        "New matches found: "
       ]
      },
      {
       "output_type": "stream",
       "stream": "stdout",
       "text": [
        " 0\n",
        "Shuffling list of hashes and computing nearest neighbors1\n",
        "New matches found:  0\n",
        "Shuffling list of hashes and computing nearest neighbors2\n",
        "New matches found: "
       ]
      },
      {
       "output_type": "stream",
       "stream": "stdout",
       "text": [
        " 0\n",
        "Shuffling list of hashes and computing nearest neighbors3\n",
        "New matches found:  0\n",
        "Shuffling list of hashes and computing nearest neighbors4\n",
        "New matches found: "
       ]
      },
      {
       "output_type": "stream",
       "stream": "stdout",
       "text": [
        " 0\n",
        "Shuffling list of hashes and computing nearest neighbors5\n",
        "New matches found:  0\n",
        "Shuffling list of hashes and computing nearest neighbors6\n",
        "New matches found: "
       ]
      },
      {
       "output_type": "stream",
       "stream": "stdout",
       "text": [
        " 0\n",
        "Shuffling list of hashes and computing nearest neighbors7\n",
        "New matches found:  0\n",
        "Shuffling list of hashes and computing nearest neighbors8\n",
        "New matches found: "
       ]
      },
      {
       "output_type": "stream",
       "stream": "stdout",
       "text": [
        " 0\n",
        "Shuffling list of hashes and computing nearest neighbors9\n",
        "New matches found:  0\n",
        "Shuffling list of hashes and computing nearest neighbors10\n",
        "New matches found: "
       ]
      },
      {
       "output_type": "stream",
       "stream": "stdout",
       "text": [
        " 0\n",
        "Shuffling list of hashes and computing nearest neighbors11\n",
        "New matches found:  0\n",
        "Shuffling list of hashes and computing nearest neighbors12\n",
        "New matches found: "
       ]
      },
      {
       "output_type": "stream",
       "stream": "stdout",
       "text": [
        " 0\n",
        "Shuffling list of hashes and computing nearest neighbors13\n",
        "New matches found:  0\n",
        "Shuffling list of hashes and computing nearest neighbors14\n",
        "New matches found: "
       ]
      },
      {
       "output_type": "stream",
       "stream": "stdout",
       "text": [
        " 0\n",
        "Shuffling list of hashes and computing nearest neighbors15\n",
        "New matches found:  0\n",
        "Shuffling list of hashes and computing nearest neighbors16\n",
        "New matches found: "
       ]
      },
      {
       "output_type": "stream",
       "stream": "stdout",
       "text": [
        " 0\n",
        "Shuffling list of hashes and computing nearest neighbors17\n",
        "New matches found:  0\n",
        "Shuffling list of hashes and computing nearest neighbors18\n",
        "New matches found: "
       ]
      },
      {
       "output_type": "stream",
       "stream": "stdout",
       "text": [
        " 0\n",
        "Shuffling list of hashes and computing nearest neighbors19\n",
        "index_adjacency matrix computed!\n",
        "Merging similar persons...\n",
        "Shuffling list of hashes and computing nearest neighbors0\n",
        "New matches found:  0\n",
        "Shuffling list of hashes and computing nearest neighbors1\n",
        "New matches found: "
       ]
      },
      {
       "output_type": "stream",
       "stream": "stdout",
       "text": [
        " 0\n",
        "Shuffling list of hashes and computing nearest neighbors2\n",
        "New matches found:  0\n",
        "Shuffling list of hashes and computing nearest neighbors3\n",
        "New matches found: "
       ]
      },
      {
       "output_type": "stream",
       "stream": "stdout",
       "text": [
        " 0\n",
        "Shuffling list of hashes and computing nearest neighbors4\n",
        "New matches found:  0\n",
        "index_adjacency matrix computed!\n",
        "Done...\n",
        "1.06683397293\n",
        "Saving adjacency matrix to file...\n",
        "Printing list of identifiers and text of adjacency matrix to file...\n",
        "100"
       ]
      },
      {
       "output_type": "stream",
       "stream": "stdout",
       "text": [
        " 100\n",
        "Done..."
       ]
      },
      {
       "output_type": "stream",
       "stream": "stdout",
       "text": [
        "\n",
        "1.77159881592\n",
        "WWARNING:  logfile  not serializable. Skiping.\n",
        "writing full adjacency to file... \n",
        "Analyzing data for state:  alaska\n",
        "select NAME,TRANSACTION_DT,ZIP_CODE,CONTRIBUTOR_STREET_1,CITY,STATE,EMPLOYER,OCCUPATION,TRANSACTION_DT,TRANSACTION_AMT,CMTE_ID,ENTITY_TP,id from alaska_combined  order by NAME,TRANSACTION_DT,ZIP_CODE  limit 100,100 ;\n",
        "Total number of tokens identified: "
       ]
      },
      {
       "output_type": "stream",
       "stream": "stdout",
       "text": [
        " 511\n",
        "511"
       ]
      },
      {
       "output_type": "stream",
       "stream": "stdout",
       "text": [
        "\n",
        "Analyze...\n",
        "Lsh_hash save to file ../results/764-LSH_hash.txt"
       ]
      },
      {
       "output_type": "stream",
       "stream": "stdout",
       "text": [
        "\n",
        "B= 20\n",
        "Computing index_adjacency matrix\n",
        "sigma =  None\n",
        "Initialize adjacency...\n",
        "Done..."
       ]
      },
      {
       "output_type": "stream",
       "stream": "stdout",
       "text": [
        "\n",
        "New matches found:  0\n",
        "Shuffling list of hashes and computing nearest neighbors0\n",
        "New matches found: "
       ]
      },
      {
       "output_type": "stream",
       "stream": "stdout",
       "text": [
        " 0\n",
        "Shuffling list of hashes and computing nearest neighbors1\n",
        "New matches found:  0\n",
        "Shuffling list of hashes and computing nearest neighbors2\n",
        "New matches found: "
       ]
      },
      {
       "output_type": "stream",
       "stream": "stdout",
       "text": [
        " 0\n",
        "Shuffling list of hashes and computing nearest neighbors3\n",
        "New matches found:  0\n",
        "Shuffling list of hashes and computing nearest neighbors4\n",
        "New matches found: "
       ]
      },
      {
       "output_type": "stream",
       "stream": "stdout",
       "text": [
        " 0\n",
        "Shuffling list of hashes and computing nearest neighbors5\n",
        "New matches found:  0\n",
        "Shuffling list of hashes and computing nearest neighbors6\n",
        "New matches found: "
       ]
      },
      {
       "output_type": "stream",
       "stream": "stdout",
       "text": [
        " 0\n",
        "Shuffling list of hashes and computing nearest neighbors7\n",
        "New matches found:  0\n",
        "Shuffling list of hashes and computing nearest neighbors8\n",
        "New matches found: "
       ]
      },
      {
       "output_type": "stream",
       "stream": "stdout",
       "text": [
        " 0\n",
        "Shuffling list of hashes and computing nearest neighbors9\n",
        "New matches found:  0\n",
        "Shuffling list of hashes and computing nearest neighbors10\n",
        "New matches found: "
       ]
      },
      {
       "output_type": "stream",
       "stream": "stdout",
       "text": [
        " 0\n",
        "Shuffling list of hashes and computing nearest neighbors11\n",
        "New matches found:  0\n",
        "Shuffling list of hashes and computing nearest neighbors12\n",
        "New matches found: "
       ]
      },
      {
       "output_type": "stream",
       "stream": "stdout",
       "text": [
        " 0\n",
        "Shuffling list of hashes and computing nearest neighbors13\n",
        "New matches found:  0\n",
        "Shuffling list of hashes and computing nearest neighbors14\n",
        "New matches found: "
       ]
      },
      {
       "output_type": "stream",
       "stream": "stdout",
       "text": [
        " 0\n",
        "Shuffling list of hashes and computing nearest neighbors15\n",
        "New matches found:  0\n",
        "Shuffling list of hashes and computing nearest neighbors16\n",
        "New matches found: "
       ]
      },
      {
       "output_type": "stream",
       "stream": "stdout",
       "text": [
        " 0\n",
        "Shuffling list of hashes and computing nearest neighbors17\n",
        "New matches found:  0\n",
        "Shuffling list of hashes and computing nearest neighbors18\n",
        "New matches found: "
       ]
      },
      {
       "output_type": "stream",
       "stream": "stdout",
       "text": [
        " 0\n",
        "Shuffling list of hashes and computing nearest neighbors19\n",
        "index_adjacency matrix computed!\n",
        "Merging similar persons...\n",
        "Shuffling list of hashes and computing nearest neighbors0\n",
        "New matches found:  0\n",
        "Shuffling list of hashes and computing nearest neighbors1\n",
        "New matches found: "
       ]
      },
      {
       "output_type": "stream",
       "stream": "stdout",
       "text": [
        " 0\n",
        "Shuffling list of hashes and computing nearest neighbors2\n",
        "New matches found:  0\n",
        "Shuffling list of hashes and computing nearest neighbors3\n",
        "New matches found: "
       ]
      },
      {
       "output_type": "stream",
       "stream": "stdout",
       "text": [
        " 0\n",
        "Shuffling list of hashes and computing nearest neighbors4\n",
        "New matches found:  0\n",
        "index_adjacency matrix computed!\n",
        "Done...\n",
        "0.99826002121\n",
        "Saving adjacency matrix to file...\n",
        "Printing list of identifiers and text of adjacency matrix to file...\n",
        "100"
       ]
      },
      {
       "output_type": "stream",
       "stream": "stdout",
       "text": [
        " 100\n",
        "Done..."
       ]
      },
      {
       "ename": "AttributeError",
       "evalue": "'NoneType' object has no attribute 'union'",
       "output_type": "pyerr",
       "traceback": [
        "\u001b[0;31m---------------------------------------------------------------------------\u001b[0m\n\u001b[0;31mAttributeError\u001b[0m                            Traceback (most recent call last)",
        "\u001b[0;32m<ipython-input-22-28eb8b11c4c8>\u001b[0m in \u001b[0;36m<module>\u001b[0;34m()\u001b[0m\n\u001b[1;32m      8\u001b[0m \u001b[0mlist_of_Ds\u001b[0m \u001b[0;34m=\u001b[0m \u001b[0;34m[\u001b[0m\u001b[0mproject1\u001b[0m\u001b[0;34m.\u001b[0m\u001b[0mD\u001b[0m\u001b[0;34m,\u001b[0m \u001b[0mproject2\u001b[0m\u001b[0;34m.\u001b[0m\u001b[0mD\u001b[0m\u001b[0;34m]\u001b[0m\u001b[0;34m\u001b[0m\u001b[0m\n\u001b[1;32m      9\u001b[0m \u001b[0;34m\u001b[0m\u001b[0m\n\u001b[0;32m---> 10\u001b[0;31m \u001b[0mD\u001b[0m \u001b[0;34m=\u001b[0m \u001b[0mDisambiguator\u001b[0m\u001b[0;34m.\u001b[0m\u001b[0mgetCompoundDisambiguator\u001b[0m\u001b[0;34m(\u001b[0m\u001b[0mlist_of_Ds\u001b[0m\u001b[0;34m)\u001b[0m\u001b[0;34m\u001b[0m\u001b[0m\n\u001b[0m",
        "\u001b[0;32m/home/navid/Dropbox/workspace-1/FEC-1/src/Disambiguator.pyc\u001b[0m in \u001b[0;36mgetCompoundDisambiguator\u001b[0;34m(cls, list_of_Ds)\u001b[0m\n\u001b[1;32m     93\u001b[0m         \u001b[0;31m# Combine all set_of_persons objects\u001b[0m\u001b[0;34m\u001b[0m\u001b[0;34m\u001b[0m\u001b[0m\n\u001b[1;32m     94\u001b[0m         \u001b[0;32mfor\u001b[0m \u001b[0mD\u001b[0m \u001b[0;32min\u001b[0m \u001b[0mlist_of_Ds\u001b[0m\u001b[0;34m:\u001b[0m\u001b[0;34m\u001b[0m\u001b[0m\n\u001b[0;32m---> 95\u001b[0;31m             \u001b[0mD_new\u001b[0m\u001b[0;34m.\u001b[0m\u001b[0mset_of_persons\u001b[0m \u001b[0;34m=\u001b[0m \u001b[0mD_new\u001b[0m\u001b[0;34m.\u001b[0m\u001b[0mset_of_persons\u001b[0m\u001b[0;34m.\u001b[0m\u001b[0munion\u001b[0m\u001b[0;34m(\u001b[0m\u001b[0mD\u001b[0m\u001b[0;34m.\u001b[0m\u001b[0mset_of_persons\u001b[0m\u001b[0;34m)\u001b[0m\u001b[0;34m\u001b[0m\u001b[0m\n\u001b[0m\u001b[1;32m     96\u001b[0m \u001b[0;34m\u001b[0m\u001b[0m\n\u001b[1;32m     97\u001b[0m         \u001b[0;31m# TokenData classmethod that returns a compound TokenData object\u001b[0m\u001b[0;34m\u001b[0m\u001b[0;34m\u001b[0m\u001b[0m\n",
        "\u001b[0;31mAttributeError\u001b[0m: 'NoneType' object has no attribute 'union'"
       ]
      },
      {
       "output_type": "stream",
       "stream": "stdout",
       "text": [
        "\n",
        "3.65826487541\n",
        "WWARNING:  logfile  not serializable. Skiping.\n",
        "writing full adjacency to file... \n"
       ]
      }
     ],
     "prompt_number": 22
    },
    {
     "cell_type": "code",
     "collapsed": false,
     "input": [
      "a = set()\n",
      "b = set([1,2,3])\n",
      "a.union(b)"
     ],
     "language": "python",
     "metadata": {},
     "outputs": [
      {
       "metadata": {},
       "output_type": "pyout",
       "prompt_number": 21,
       "text": [
        "{1, 2, 3}"
       ]
      }
     ],
     "prompt_number": 21
    },
    {
     "cell_type": "code",
     "collapsed": false,
     "input": [
      "min(['asdfa','b','aa'])"
     ],
     "language": "python",
     "metadata": {},
     "outputs": [
      {
       "metadata": {},
       "output_type": "pyout",
       "prompt_number": 24,
       "text": [
        "'aa'"
       ]
      }
     ],
     "prompt_number": 24
    },
    {
     "cell_type": "code",
     "collapsed": false,
     "input": [
      "G1 = project1.D.list_of_records[0].G_employer\n",
      "G2 = project2.D.list_of_records[0].G_employer\n"
     ],
     "language": "python",
     "metadata": {},
     "outputs": [],
     "prompt_number": 3
    },
    {
     "cell_type": "code",
     "collapsed": false,
     "input": [
      "print len(G1.vs), len(G1.es)\n",
      "print len(G2.vs), len(G2.es)"
     ],
     "language": "python",
     "metadata": {},
     "outputs": [
      {
       "output_type": "stream",
       "stream": "stdout",
       "text": [
        "3646 11480\n",
        "874 1902\n"
       ]
      }
     ],
     "prompt_number": 9
    },
    {
     "cell_type": "code",
     "collapsed": false,
     "input": [
      "Gsum = G1.compose(G2)\n",
      "print len(Gsum.vs), len(Gsum.es)"
     ],
     "language": "python",
     "metadata": {},
     "outputs": [
      {
       "output_type": "stream",
       "stream": "stdout",
       "text": [
        "3646 41172\n"
       ]
      }
     ],
     "prompt_number": 12
    },
    {
     "cell_type": "code",
     "collapsed": false,
     "input": [
      "project1.D.list_of_records[0].tokendata.token_2_index"
     ],
     "language": "python",
     "metadata": {},
     "outputs": [
      {
       "metadata": {},
       "output_type": "pyout",
       "prompt_number": 18,
       "text": [
        "{(1, u''): 0,\n",
        " (1, u'-H'): 198,\n",
        " (1, u'AA'): 35,\n",
        " (1, u'AADNESEN'): 33,\n",
        " (1, u'AAMDOT'): 63,\n",
        " (1, u'AARON'): 76,\n",
        " (1, u'AARONS'): 95,\n",
        " (1, u'AASAND'): 109,\n",
        " (1, u'AB'): 126,\n",
        " (1, u'ABARRO'): 124,\n",
        " (1, u'ABBOTT'): 137,\n",
        " (1, u'ABDUL-HAQQ'): 192,\n",
        " (1, u'ABEL'): 209,\n",
        " (1, u'ABERNATHY'): 229,\n",
        " (1, u'ABLES'): 241,\n",
        " (1, u'ABNETT'): 251,\n",
        " (1, u'ABRAM'): 262,\n",
        " (1, u'ABRAMSON'): 274,\n",
        " (1, u'ABREU'): 287,\n",
        " (1, u'ABSHIRE'): 299,\n",
        " (1, u'AC'): 319,\n",
        " (1, u'ACARREGUI'): 317,\n",
        " (1, u'ACCINELLI'): 332,\n",
        " (1, u'ACHEE'): 345,\n",
        " (1, u'ACREE'): 357,\n",
        " (1, u'ACTIVE'): 364,\n",
        " (1, u'ACTON'): 381,\n",
        " (1, u'AD'): 36,\n",
        " (1, u'ADAMS'): 387,\n",
        " (1, u'AM'): 65,\n",
        " (1, u'AN'): 113,\n",
        " (1, u'AQ'): 200,\n",
        " (1, u'AR'): 79,\n",
        " (1, u'AS'): 111,\n",
        " (1, u'AT'): 234,\n",
        " (1, u'BA'): 127,\n",
        " (1, u'BB'): 139,\n",
        " (1, u'BD'): 194,\n",
        " (1, u'BE'): 211,\n",
        " (1, u'BL'): 243,\n",
        " (1, u'BN'): 254,\n",
        " (1, u'BO'): 140,\n",
        " (1, u'BR'): 264,\n",
        " (1, u'BS'): 300,\n",
        " (1, u'CA'): 320,\n",
        " (1, u'CC'): 334,\n",
        " (1, u'CH'): 347,\n",
        " (1, u'CI'): 335,\n",
        " (1, u'CR'): 359,\n",
        " (1, u'CT'): 366,\n",
        " (1, u'DA'): 389,\n",
        " (1, u'DN'): 37,\n",
        " (1, u'DO'): 67,\n",
        " (1, u'DU'): 195,\n",
        " (1, u'EE'): 349,\n",
        " (1, u'EG'): 321,\n",
        " (1, u'EL'): 212,\n",
        " (1, u'EN'): 41,\n",
        " (1, u'ER'): 231,\n",
        " (1, u'ES'): 39,\n",
        " (1, u'ET'): 255,\n",
        " (1, u'EU'): 290,\n",
        " (1, u'GU'): 322,\n",
        " (1, u'HA'): 199,\n",
        " (1, u'HE'): 348,\n",
        " (1, u'HI'): 302,\n",
        " (1, u'HY'): 236,\n",
        " (1, u'IN'): 336,\n",
        " (1, u'IR'): 303,\n",
        " (1, u'IV'): 368,\n",
        " (1, u'L-'): 197,\n",
        " (1, u'LE'): 244,\n",
        " (1, u'LI'): 338,\n",
        " (1, u'LL'): 337,\n",
        " (1, u'MD'): 66,\n",
        " (1, u'MS'): 276,\n",
        " (1, u'NA'): 233,\n",
        " (1, u'ND'): 114,\n",
        " (1, u'NE'): 38,\n",
        " (1, u'NS'): 97,\n",
        " (1, u'ON'): 81,\n",
        " (1, u'OT'): 68,\n",
        " (1, u'QQ'): 201,\n",
        " (1, u'RA'): 265,\n",
        " (1, u'RE'): 289,\n",
        " (1, u'RN'): 232,\n",
        " (1, u'RO'): 80,\n",
        " (1, u'RR'): 128,\n",
        " (1, u'SA'): 112,\n",
        " (1, u'SE'): 40,\n",
        " (1, u'SH'): 301,\n",
        " (1, u'SO'): 277,\n",
        " (1, u'TH'): 235,\n",
        " (1, u'TI'): 367,\n",
        " (1, u'TO'): 383,\n",
        " (1, u'TT'): 141,\n",
        " (1, u'UI'): 323,\n",
        " (1, u'UL'): 196,\n",
        " (1, u'VE'): 369,\n",
        " (2, u''): 1,\n",
        " (2, u'AA'): 205,\n",
        " (2, u'AB'): 373,\n",
        " (2, u'AC'): 430,\n",
        " (2, u'AE'): 154,\n",
        " (2, u'AH'): 87,\n",
        " (2, u'AL'): 226,\n",
        " (2, u'ALBERT'): 388,\n",
        " (2, u'ALLOO'): 397,\n",
        " (2, u'AM'): 453,\n",
        " (2, u'AN'): 117,\n",
        " (2, u'AR'): 99,\n",
        " (2, u'AS'): 202,\n",
        " (2, u'ASMAA'): 193,\n",
        " (2, u'AT'): 70,\n",
        " (2, u'AU'): 351,\n",
        " (2, u'AW'): 406,\n",
        " (2, u'AY'): 422,\n",
        " (2, u'BE'): 374,\n",
        " (2, u'BI'): 280,\n",
        " (2, u'BO'): 84,\n",
        " (2, u'BOB'): 358,\n",
        " (2, u'CH'): 42,\n",
        " (2, u'CHARLES'): 96,\n",
        " (2, u'CHRIS'): 34,\n",
        " (2, u'CHRISTOPHER'): 52,\n",
        " (2, u'CI'): 239,\n",
        " (2, u'CK'): 431,\n",
        " (2, u'CO'): 444,\n",
        " (2, u'DA'): 405,\n",
        " (2, u'DAWN'): 404,\n",
        " (2, u'DE'): 82,\n",
        " (2, u'DEBORAH'): 77,\n",
        " (2, u'DO'): 213,\n",
        " (2, u'DOLORES'): 414,\n",
        " (2, u'DON'): 210,\n",
        " (2, u'DONALD'): 224,\n",
        " (2, u'DW'): 420,\n",
        " (2, u'DWAYNE'): 419,\n",
        " (2, u'EB'): 83,\n",
        " (2, u'ED'): 189,\n",
        " (2, u'EL'): 155,\n",
        " (2, u'ELIZABETH'): 365,\n",
        " (2, u'EN'): 246,\n",
        " (2, u'EO'): 339,\n",
        " (2, u'ER'): 58,\n",
        " (2, u'ES'): 102,\n",
        " (2, u'ET'): 325,\n",
        " (2, u'EV'): 257,\n",
        " (2, u'FR'): 187,\n",
        " (2, u'HA'): 98,\n",
        " (2, u'HE'): 57,\n",
        " (2, u'HN'): 292,\n",
        " (2, u'HR'): 43,\n",
        " (2, u'IA'): 240,\n",
        " (2, u'IC'): 153,\n",
        " (2, u'IE'): 433,\n",
        " (2, u'IL'): 185,\n",
        " (2, u'IN'): 259,\n",
        " (2, u'IS'): 45,\n",
        " (2, u'IZ'): 371,\n",
        " (2, u'JA'): 324,\n",
        " (2, u'JACKIE'): 429,\n",
        " (2, u'JACOB'): 443,\n",
        " (2, u'JAMES'): 452,\n",
        " (2, u'JAMIE'): 461,\n",
        " (2, u'JANET'): 318,\n",
        " (2, u'JI'): 266,\n",
        " (2, u'JILL'): 263,\n",
        " (2, u'JO'): 115,\n",
        " (2, u'JOANN'): 110,\n",
        " (2, u'JOHN'): 288,\n",
        " (2, u'KA'): 245,\n",
        " (2, u'KAREN'): 242,\n",
        " (2, u'KE'): 256,\n",
        " (2, u'KENNETH'): 382,\n",
        " (2, u'KEVIN'): 252,\n",
        " (2, u'KI'): 432,\n",
        " (2, u'KR'): 313,\n",
        " (2, u'KRISTINE'): 312,\n",
        " (2, u'LA'): 350,\n",
        " (2, u'LAURA'): 346,\n",
        " (2, u'LB'): 390,\n",
        " (2, u'LD'): 227,\n",
        " (2, u'LE'): 101,\n",
        " (2, u'LF'): 186,\n",
        " (2, u'LI'): 370,\n",
        " (2, u'LL'): 267,\n",
        " (2, u'LO'): 399,\n",
        " (2, u'LU'): 237,\n",
        " (2, u'LUCIAN'): 230,\n",
        " (2, u'MA'): 204,\n",
        " (2, u'ME'): 454,\n",
        " (2, u'MI'): 152,\n",
        " (2, u'MICHAEL'): 150,\n",
        " (2, u'NA'): 225,\n",
        " (2, u'NE'): 315,\n",
        " (2, u'NN'): 118,\n",
        " (2, u'OA'): 116,\n",
        " (2, u'OB'): 279,\n",
        " (2, u'OD'): 340,\n",
        " (2, u'OH'): 291,\n",
        " (2, u'OL'): 415,\n",
        " (2, u'ON'): 214,\n",
        " (2, u'OO'): 400,\n",
        " (2, u'OP'): 55,\n",
        " (2, u'OR'): 85,\n",
        " (2, u'PA'): 69,\n",
        " (2, u'PATSY'): 64,\n",
        " (2, u'PH'): 56,\n",
        " (2, u'RA'): 86,\n",
        " (2, u'RD'): 163,\n",
        " (2, u'RE'): 188,\n",
        " (2, u'RI'): 44,\n",
        " (2, u'RICHARD'): 162,\n",
        " (2, u'RL'): 100,\n",
        " (2, u'RO'): 278,\n",
        " (2, u'ROBIN'): 275,\n",
        " (2, u'RR'): 130,\n",
        " (2, u'RT'): 391,\n",
        " (2, u'RU'): 173,\n",
        " (2, u'RUTH'): 172,\n",
        " (2, u'RY'): 131,\n",
        " (2, u'SM'): 203,\n",
        " (2, u'ST'): 53,\n",
        " (2, u'SY'): 72,\n",
        " (2, u'TE'): 129,\n",
        " (2, u'TERRY'): 125,\n",
        " (2, u'TH'): 175,\n",
        " (2, u'THEODORA'): 333,\n",
        " (2, u'TI'): 314,\n",
        " (2, u'TO'): 54,\n",
        " (2, u'TS'): 71,\n",
        " (2, u'UC'): 238,\n",
        " (2, u'UR'): 352,\n",
        " (2, u'UT'): 174,\n",
        " (2, u'VI'): 258,\n",
        " (2, u'WA'): 421,\n",
        " (2, u'WI'): 184,\n",
        " (2, u'WILFRED'): 183,\n",
        " (2, u'WN'): 407,\n",
        " (2, u'YN'): 423,\n",
        " (2, u'ZA'): 372,\n",
        " (3, u'A'): 179,\n",
        " (3, u'C'): 253,\n",
        " (3, u'D'): 398,\n",
        " (3, u'E'): 138,\n",
        " (3, u'K'): 151,\n",
        " (3, u'L'): 78,\n",
        " (3, u'P'): 396,\n",
        " (4, u'98516'): 2,\n",
        " (4, u'99501'): 156,\n",
        " (4, u'99502'): 190,\n",
        " (4, u'99504'): 9,\n",
        " (4, u'99507'): 15,\n",
        " (4, u'99510'): 416,\n",
        " (4, u'99511'): 21,\n",
        " (4, u'99515'): 103,\n",
        " (4, u'99516'): 25,\n",
        " (4, u'99517'): 384,\n",
        " (4, u'99518'): 392,\n",
        " (4, u'99524'): 360,\n",
        " (4, u'99545'): 378,\n",
        " (4, u'99559'): 375,\n",
        " (4, u'99615'): 27,\n",
        " (4, u'99654'): 304,\n",
        " (4, u'99686'): 247,\n",
        " (4, u'99687'): 293,\n",
        " (4, u'99692'): 132,\n",
        " (4, u'99703'): 206,\n",
        " (4, u'99708'): 260,\n",
        " (4, u'99723'): 73,\n",
        " (4, u'99737'): 142,\n",
        " (4, u'99755'): 413,\n",
        " (4, u'99801'): 215,\n",
        " (4, u'99802'): 353,\n",
        " (4, u'99840'): 408,\n",
        " (4, u'99901'): 88,\n",
        " (5, u'1144'): 341,\n",
        " (5, u'1602'): 305,\n",
        " (5, u'1680'): 401,\n",
        " (5, u'1730'): 104,\n",
        " (5, u'2057'): 455,\n",
        " (5, u'2528'): 385,\n",
        " (5, u'3031'): 268,\n",
        " (5, u'31'): 316,\n",
        " (5, u'3570'): 28,\n",
        " (5, u'60'): 176,\n",
        " (5, u'7201'): 16,\n",
        " (5, u'7420'): 434,\n",
        " (5, u'7900'): 281,\n",
        " (5, u'8221'): 393,\n",
        " (5, u'840'): 441,\n",
        " (5, u'861'): 10,\n",
        " (5, u'9631'): 326,\n",
        " (5, u'9999'): 216,\n",
        " (5, u'ARLENE'): 327,\n",
        " (5, u'AVE.'): 283,\n",
        " (5, u'BOX'): 22,\n",
        " (5, u'BRAYTON'): 3,\n",
        " (5, u'CHEYENNE'): 269,\n",
        " (5, u'CIR.'): 12,\n",
        " (5, u'CLIFFSIDE'): 456,\n",
        " (5, u'CLINIC'): 94,\n",
        " (5, u'DOUGLAS'): 386,\n",
        " (5, u'DR.'): 4,\n",
        " (5, u'F'): 342,\n",
        " (5, u'GLACIER'): 217,\n",
        " (5, u'HUNT'): 11,\n",
        " (5, u'HWY.'): 218,\n",
        " (5, u'JAIME'): 307,\n",
        " (5, u'JAMIE'): 282,\n",
        " (5, u'K'): 442,\n",
        " (5, u'LAKES'): 47,\n",
        " (5, u'LN.'): 436,\n",
        " (5, u'MARIE'): 308,\n",
        " (5, u'MONTAGNE'): 17,\n",
        " (5, u'N.'): 402,\n",
        " (5, u'PKY.'): 166,\n",
        " (5, u'RD.'): 30,\n",
        " (5, u'SCENIC'): 165,\n",
        " (5, u'SE.'): 93,\n",
        " (5, u'SHARATIN'): 29,\n",
        " (5, u'SHORE'): 105,\n",
        " (5, u'ST.'): 343,\n",
        " (5, u'STEAMBOAT'): 26,\n",
        " (5, u'SUMMERSET'): 394,\n",
        " (5, u'TANANA'): 403,\n",
        " (5, u'TANGLEWOOD'): 46,\n",
        " (5, u'TRENTON'): 435,\n",
        " (5, u'VILLAGES'): 164,\n",
        " (5, u'W.'): 306,\n",
        " (6, u'&'): 61,\n",
        " (6, u'-'): 32,\n",
        " (6, u'ADMINISTRATOR'): 161,\n",
        " (6, u'ADVERTISING'): 439,\n",
        " (6, u'ANESTHESIOLOGIST'): 331,\n",
        " (6, u'ARCHITECT'): 428,\n",
        " (6, u'ASSISTANT'): 440,\n",
        " (6, u'ATTORNEY'): 208,\n",
        " (6, u'BEST'): 122,\n",
        " (6, u'BIOLOGIST'): 412,\n",
        " (6, u'BUS'): 148,\n",
        " (6, u'CEO'): 62,\n",
        " (6, u'CFO'): 298,\n",
        " (6, u'CHAIRMAN'): 223,\n",
        " (6, u'CHIROPRACTOR'): 171,\n",
        " (6, u'COMMUNICATIONS'): 355,\n",
        " (6, u'CONSERVATIONIST'): 460,\n",
        " (6, u'CONSULTANT'): 395,\n",
        " (6, u'CONTRIBUTION'): 51,\n",
        " (6, u'COUNTRY'): 19,\n",
        " (6, u'DIRECTOR'): 356,\n",
        " (6, u'DIRECTOR,'): 7,\n",
        " (6, u'DRIVER'): 149,\n",
        " (6, u'EFFORTS'): 123,\n",
        " (6, u'ENGINEER'): 261,\n",
        " (6, u'EXECUTIVE'): 450,\n",
        " (6, u'HOMEMAKER'): 178,\n",
        " (6, u'HUMAN'): 135,\n",
        " (6, u'INDIVIDUAL'): 50,\n",
        " (6, u'INFORMATION'): 119,\n",
        " (6, u'LANDING'): 248,\n",
        " (6, u'LANDSCAPE'): 427,\n",
        " (6, u'LAWYER'): 459,\n",
        " (6, u'LIGHTS'): 249,\n",
        " (6, u'LLC'): 250,\n",
        " (6, u'M.D.'): 108,\n",
        " (6, u'MANAGEMENT'): 20,\n",
        " (6, u'MANAGER'): 31,\n",
        " (6, u'MANAGER,'): 23,\n",
        " (6, u'OPERATIONS'): 8,\n",
        " (6, u'OUTSIDE'): 13,\n",
        " (6, u'OWNER'): 363,\n",
        " (6, u'PASTOR'): 462,\n",
        " (6, u'PER'): 121,\n",
        " (6, u'PHYSCIAN'): 273,\n",
        " (6, u'PHYSICIAN'): 107,\n",
        " (6, u'PORT'): 24,\n",
        " (6, u'PRESIDENT'): 60,\n",
        " (6, u'REQUESTED'): 120,\n",
        " (6, u'RESOURCES'): 136,\n",
        " (6, u'RETIRED'): 75,\n",
        " (6, u'SALES'): 14,\n",
        " (6, u'SHUTTLE'): 147,\n",
        " (6, u'SURGEON'): 92,\n",
        " (6, u'TEACHER'): 418,\n",
        " (6, u'TUTOR'): 181,\n",
        " (6, u'VP'): 18,\n",
        " (7, u'/'): 310,\n",
        " (7, u'A'): 311,\n",
        " (7, u'ABBOTT,'): 168,\n",
        " (7, u'ABEL'): 220,\n",
        " (7, u'ALASKA'): 48,\n",
        " (7, u'ANCHORAGE'): 158,\n",
        " (7, u'ANESTH'): 330,\n",
        " (7, u'ARCTIC'): 445,\n",
        " (7, u'ARMY'): 146,\n",
        " (7, u'ASD'): 417,\n",
        " (7, u'ASRC'): 451,\n",
        " (7, u'BEHAVIORAL'): 271,\n",
        " (7, u'BREWHOUSE/ORSOS'): 362,\n",
        " (7, u'BUILDERS'): 438,\n",
        " (7, u'BUILDING'): 221,\n",
        " (7, u'CETANEK'): 380,\n",
        " (7, u'CORP'): 449,\n",
        " (7, u'CORP.'): 59,\n",
        " (7, u'COUNTY'): 329,\n",
        " (7, u'CTR'): 297,\n",
        " (7, u'D.C.,'): 169,\n",
        " (7, u\"DEP'T\"): 207,\n",
        " (7, u'DEPARTMENT'): 143,\n",
        " (7, u'DESIGN'): 425,\n",
        " (7, u'DISTRICT'): 160,\n",
        " (7, u'DON'): 219,\n",
        " (7, u'EMPLOYED'): 285,\n",
        " (7, u'FEDERATION'): 458,\n",
        " (7, u'GENERAL'): 90,\n",
        " (7, u'GLACIER'): 361,\n",
        " (7, u'HEALTH'): 272,\n",
        " (7, u'HOMEMAKER'): 182,\n",
        " (7, u'HORIZON'): 5,\n",
        " (7, u'HOSPITAL'): 91,\n",
        " (7, u'INC'): 134,\n",
        " (7, u'KETCHIKAN'): 89,\n",
        " (7, u'LAND'): 424,\n",
        " (7, u'LINES'): 6,\n",
        " (7, u'LINN'): 328,\n",
        " (7, u'MAT-SU'): 294,\n",
        " (7, u'MED'): 296,\n",
        " (7, u'MPFC'): 106,\n",
        " (7, u'MUNICIPALITY'): 157,\n",
        " (7, u'N'): 309,\n",
        " (7, u'N/A'): 74,\n",
        " (7, u'NA'): 191,\n",
        " (7, u'NATIONAL'): 409,\n",
        " (7, u'NAVRARVIK'): 377,\n",
        " (7, u'NORTH'): 426,\n",
        " (7, u'NORTHSTAR'): 270,\n",
        " (7, u'NOT'): 284,\n",
        " (7, u'OF'): 144,\n",
        " (7, u'P.C.'): 170,\n",
        " (7, u'PAC'): 446,\n",
        " (7, u'PARK'): 410,\n",
        " (7, u'RAILROAD'): 49,\n",
        " (7, u'REG.'): 448,\n",
        " (7, u'REGIONAL'): 295,\n",
        " (7, u'RETIRED'): 228,\n",
        " (7, u'RETIRED/RETIRED'): 286,\n",
        " (7, u'RICK'): 167,\n",
        " (7, u'SCHOOL'): 159,\n",
        " (7, u'SELF'): 180,\n",
        " (7, u'SELF-EMPLOYED'): 344,\n",
        " (7, u'SERVICE'): 411,\n",
        " (7, u'SLOPE'): 447,\n",
        " (7, u'SPENARD'): 437,\n",
        " (7, u'STATE'): 354,\n",
        " (7, u'SUPPLY'): 222,\n",
        " (7, u'TANGER'): 379,\n",
        " (7, u'TANGERCETANEK'): 376,\n",
        " (7, u'THE'): 145,\n",
        " (7, u'UNEMPLOYED'): 177,\n",
        " (7, u'UNISEA,'): 133,\n",
        " (7, u'WILDLIFE'): 457}"
       ]
      }
     ],
     "prompt_number": 18
    },
    {
     "cell_type": "code",
     "collapsed": false,
     "input": [
      "D.list_of_records[0].tokendata.token_2_index"
     ],
     "language": "python",
     "metadata": {},
     "outputs": [
      {
       "ename": "NameError",
       "evalue": "name 'D' is not defined",
       "output_type": "pyerr",
       "traceback": [
        "\u001b[0;31m---------------------------------------------------------------------------\u001b[0m\n\u001b[0;31mNameError\u001b[0m                                 Traceback (most recent call last)",
        "\u001b[0;32m<ipython-input-19-4468176510c6>\u001b[0m in \u001b[0;36m<module>\u001b[0;34m()\u001b[0m\n\u001b[0;32m----> 1\u001b[0;31m \u001b[0mD\u001b[0m\u001b[0;34m.\u001b[0m\u001b[0mlist_of_records\u001b[0m\u001b[0;34m[\u001b[0m\u001b[0;36m0\u001b[0m\u001b[0;34m]\u001b[0m\u001b[0;34m.\u001b[0m\u001b[0mtokendata\u001b[0m\u001b[0;34m.\u001b[0m\u001b[0mtoken_2_index\u001b[0m\u001b[0;34m\u001b[0m\u001b[0m\n\u001b[0m",
        "\u001b[0;31mNameError\u001b[0m: name 'D' is not defined"
       ]
      }
     ],
     "prompt_number": 19
    }
   ],
   "metadata": {}
  }
 ]
}